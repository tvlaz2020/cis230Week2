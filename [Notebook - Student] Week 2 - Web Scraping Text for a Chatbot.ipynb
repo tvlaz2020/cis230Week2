{
  "cells": [
    {
      "cell_type": "markdown",
      "metadata": {
        "id": "EhDBhKv305pr"
      },
      "source": [
        "# Week 5 - Data Collection"
      ]
    },
    {
      "cell_type": "markdown",
      "metadata": {
        "id": "dpGsIkiG05ps"
      },
      "source": [
        "![data_collection-2.png](attachment:data_collection-2.png)"
      ]
    },
    {
      "cell_type": "markdown",
      "metadata": {
        "id": "yhb2bxMQ05pt"
      },
      "source": [
        "##  Table of Contents\n",
        "\n",
        "- Theoretical Overview\n",
        "- Problem Statement\n",
        "- Code\n",
        "    1. Adding knowledge base to your chatbot\n",
        "        - Importing libraries\n",
        "        - Data collection\n",
        "        - Preprocessing data\n",
        "    2. Get your chatbot to say its first words\n",
        "    3. Test your clever chatbot!"
      ]
    },
    {
      "cell_type": "markdown",
      "metadata": {
        "id": "mORm-qRu05pt"
      },
      "source": [
        "## Theoretical Overview\n",
        "\n",
        "Data collection is the process of gathering information from various sources for analysis and storage. Web scraping is a specific form of data collection that involves extracting information from websites. The process involves sending HTTP requests to a website's server, downloading the HTML content, and parsing the data of interest. This is achieved with the help of web scraping softwares or with programming language libraries. The extracted information can be text data that can be used for natural language processing purposes, image data or tabular data that can be used for general machine learning purposes. It remains a valuable tool for data collection."
      ]
    },
    {
      "cell_type": "markdown",
      "metadata": {
        "id": "i00gPGk805pu"
      },
      "source": [
        "## Problem Statement"
      ]
    },
    {
      "cell_type": "markdown",
      "metadata": {
        "id": "b59Q6iAf05pu"
      },
      "source": [
        "This activity will include web scraping techniques for Data Collection. In this activity, you will have to scrape the text data from a Wikipedia page. Then, you are required to create a chatbot using the cosine similarity algorithm. You have to create a chatbot which will recognise certain input and reply it with a response that makes sense. <br> This exercise is inspired by the [great work](https://medium.com/analytics-vidhya/building-a-simple-chatbot-in-python-using-nltk-7c8c8215ac6e) by Parul Pandey."
      ]
    },
    {
      "cell_type": "markdown",
      "metadata": {
        "id": "kK3nexYw05pu"
      },
      "source": [
        "## Code"
      ]
    },
    {
      "cell_type": "markdown",
      "metadata": {
        "id": "ctDDyu9605pw"
      },
      "source": [
        "## 1. Adding knowledge base to your chatbot\n",
        "\n",
        "Your chatbot's ability to converse and interact depends on the data that you input to it. Therefore, the first step you want to do is to plan your chatbot. You will have to choose the right knowledge base for your particular task. For instance, you would not train your chatbot on movie reviews if you want it to answer questions about sports cars!\n",
        "\n",
        "In this exercise, you will decide what you want your chatbot to have knowledge on, and look for webpages required to build a dataset.\n",
        "\n",
        "To start off, we will collect the raw text data from Wikipedia on Chatbots. The processed data have been stored in a text document file called robots.txt.\n",
        "  \n",
        "What questions would you like your chatbot to answer? You could train your chatbot on endangered species, hunger, gender equality, clean energy, or any other topic you would like! Use the tools you have learned from the previous Experiences to collect information, and process it into a corpus of knowledge.  "
      ]
    },
    {
      "cell_type": "markdown",
      "metadata": {
        "id": "CdRbZMI_05pw"
      },
      "source": [
        "### Importing libraries\n",
        "\n",
        "In this exercise, we will be requiring the following libraries:"
      ]
    },
    {
      "cell_type": "code",
      "execution_count": 68,
      "metadata": {
        "id": "YI8u8U0S05px"
      },
      "outputs": [],
      "source": [
        "# Import packages\n",
        "from urllib.request import urlopen\n",
        "from bs4 import BeautifulSoup\n",
        "import re\n",
        "import numpy as np # to represent corpus as arrays\n",
        "import random\n",
        "import string # to process standard python strings\n",
        "from sklearn.metrics.pairwise import cosine_similarity # We will use this later to decide how similar two sentences are\n",
        "from sklearn.feature_extraction.text import TfidfVectorizer # Remember when you built a function to create a tfidf bag of words in Experience 2? This function does the same thing!\n",
        "import nltk # to process text data"
      ]
    },
    {
      "cell_type": "markdown",
      "metadata": {
        "id": "Tw24UKCQ05px"
      },
      "source": [
        "### Data Collection"
      ]
    },
    {
      "cell_type": "markdown",
      "metadata": {
        "id": "0-9kKfGi05py"
      },
      "source": [
        "### Specify url of the web page as the source\n",
        "We will specify the required webpage url, where we collect the data from"
      ]
    },
    {
      "cell_type": "code",
      "execution_count": 69,
      "metadata": {
        "id": "gzNQsilC05py"
      },
      "outputs": [],
      "source": [
        "source = urlopen('https://en.wikipedia.org/wiki/Chatbot').read()"
      ]
    },
    {
      "cell_type": "markdown",
      "metadata": {
        "id": "n31K0ZuJ05py"
      },
      "source": [
        "### Initiating BeautifulSoup\n",
        "We will initiate and create an instance of BeautifulSoup"
      ]
    },
    {
      "cell_type": "code",
      "execution_count": 70,
      "metadata": {
        "colab": {
          "base_uri": "https://localhost:8080/"
        },
        "id": "qJHi4-o805pz",
        "outputId": "eff7b6f6-8a8d-4bb9-a5b7-c99b1897f020"
      },
      "outputs": [
        {
          "output_type": "execute_result",
          "data": {
            "text/plain": [
              "<!DOCTYPE html>\n",
              "<html class=\"client-nojs vector-feature-language-in-header-enabled vector-feature-language-in-main-page-header-disabled vector-feature-sticky-header-disabled vector-feature-page-tools-pinned-disabled vector-feature-toc-pinned-clientpref-1 vector-feature-main-menu-pinned-disabled vector-feature-limited-width-clientpref-1 vector-feature-limited-width-content-enabled vector-feature-zebra-design-disabled vector-feature-custom-font-size-clientpref-disabled vector-feature-client-preferences-disabled vector-feature-typography-survey-disabled vector-toc-available\" dir=\"ltr\" lang=\"en\">\n",
              "<head>\n",
              "<meta charset=\"utf-8\"/>\n",
              "<title>Chatbot - Wikipedia</title>\n",
              "<script>(function(){var className=\"client-js vector-feature-language-in-header-enabled vector-feature-language-in-main-page-header-disabled vector-feature-sticky-header-disabled vector-feature-page-tools-pinned-disabled vector-feature-toc-pinned-clientpref-1 vector-feature-main-menu-pinned-disabled vector-feature-limited-width-clientpref-1 vector-feature-limited-width-content-enabled vector-feature-zebra-design-disabled vector-feature-custom-font-size-clientpref-disabled vector-feature-client-preferences-disabled vector-feature-typography-survey-disabled vector-toc-available\";var cookie=document.cookie.match(/(?:^|; )enwikimwclientpreferences=([^;]+)/);if(cookie){cookie[1].split('%2C').forEach(function(pref){className=className.replace(new RegExp('(^| )'+pref.replace(/-clientpref-\\w+$|[^\\w-]+/g,'')+'-clientpref-\\\\w+( |$)'),'$1'+pref+'$2');});}document.documentElement.className=className;}());RLCONF={\"wgBreakFrames\":false,\"wgSeparatorTransformTable\":[\"\",\"\"],\"wgDigitTransformTable\":[\"\",\"\"],\n",
              "\"wgDefaultDateFormat\":\"dmy\",\"wgMonthNames\":[\"\",\"January\",\"February\",\"March\",\"April\",\"May\",\"June\",\"July\",\"August\",\"September\",\"October\",\"November\",\"December\"],\"wgRequestId\":\"638bc232-b9c6-4270-88b5-65a4e09adec0\",\"wgCanonicalNamespace\":\"\",\"wgCanonicalSpecialPageName\":false,\"wgNamespaceNumber\":0,\"wgPageName\":\"Chatbot\",\"wgTitle\":\"Chatbot\",\"wgCurRevisionId\":1178442752,\"wgRevisionId\":1178442752,\"wgArticleId\":148349,\"wgIsArticle\":true,\"wgIsRedirect\":false,\"wgAction\":\"view\",\"wgUserName\":null,\"wgUserGroups\":[\"*\"],\"wgCategories\":[\"Webarchive template wayback links\",\"All articles with dead external links\",\"Articles with dead external links from April 2023\",\"Articles with permanently dead external links\",\"CS1 errors: periodical ignored\",\"Articles with short description\",\"Short description is different from Wikidata\",\"Wikipedia semi-protected pages\",\"Use dmy dates from February 2023\",\"Wikipedia articles in need of updating from February 2023\",\"All Wikipedia articles in need of updating\",\n",
              "\"Commons category link from Wikidata\",\"Articles with GND identifiers\",\"Articles with LNB identifiers\",\"Articles with NKC identifiers\",\"Chatbots\",\"Instant messaging\",\"Interactive narrative\",\"Natural language parsing\"],\"wgPageViewLanguage\":\"en\",\"wgPageContentLanguage\":\"en\",\"wgPageContentModel\":\"wikitext\",\"wgRelevantPageName\":\"Chatbot\",\"wgRelevantArticleId\":148349,\"wgIsProbablyEditable\":false,\"wgRelevantPageIsProbablyEditable\":false,\"wgRestrictionEdit\":[\"autoconfirmed\"],\"wgRestrictionMove\":[\"autoconfirmed\"],\"wgNoticeProject\":\"wikipedia\",\"wgFlaggedRevsParams\":{\"tags\":{\"status\":{\"levels\":1}}},\"wgMediaViewerOnClick\":true,\"wgMediaViewerEnabledByDefault\":true,\"wgPopupsFlags\":10,\"wgVisualEditor\":{\"pageLanguageCode\":\"en\",\"pageLanguageDir\":\"ltr\",\"pageVariantFallbacks\":\"en\"},\"wgMFDisplayWikibaseDescriptions\":{\"search\":true,\"watchlist\":true,\"tagline\":false,\"nearby\":true},\"wgWMESchemaEditAttemptStepOversample\":false,\"wgWMEPageLength\":60000,\"wgULSCurrentAutonym\":\"English\",\"wgCentralAuthMobileDomain\":\n",
              "false,\"wgEditSubmitButtonLabelPublish\":true,\"wgULSPosition\":\"interlanguage\",\"wgULSisCompactLinksEnabled\":true,\"wgULSisLanguageSelectorEmpty\":false,\"wgWikibaseItemId\":\"Q870780\",\"wgCheckUserClientHintsHeadersJsApi\":[\"architecture\",\"bitness\",\"brands\",\"fullVersionList\",\"mobile\",\"model\",\"platform\",\"platformVersion\"],\"GEHomepageSuggestedEditsEnableTopics\":true,\"wgGETopicsMatchModeEnabled\":false,\"wgGEStructuredTaskRejectionReasonTextInputEnabled\":false,\"wgGELevelingUpEnabledForUser\":false};RLSTATE={\"skins.vector.user.styles\":\"ready\",\"ext.gadget.WatchlistGreenIndicators\":\"ready\",\"ext.gadget.SubtleUpdatemarker\":\"ready\",\"ext.globalCssJs.user.styles\":\"ready\",\"site.styles\":\"ready\",\"user.styles\":\"ready\",\"skins.vector.user\":\"ready\",\"ext.globalCssJs.user\":\"ready\",\"user\":\"ready\",\"user.options\":\"loading\",\"ext.cite.styles\":\"ready\",\"codex-search-styles\":\"ready\",\"skins.vector.styles\":\"ready\",\"skins.vector.icons\":\"ready\",\"jquery.makeCollapsible.styles\":\"ready\",\n",
              "\"ext.visualEditor.desktopArticleTarget.noscript\":\"ready\",\"ext.uls.interlanguage\":\"ready\",\"wikibase.client.init\":\"ready\",\"ext.wikimediaBadges\":\"ready\"};RLPAGEMODULES=[\"ext.cite.ux-enhancements\",\"mediawiki.page.media\",\"site\",\"mediawiki.page.ready\",\"jquery.makeCollapsible\",\"mediawiki.toc\",\"skins.vector.js\",\"ext.centralNotice.geoIP\",\"ext.centralNotice.startUp\",\"ext.gadget.ReferenceTooltips\",\"ext.gadget.geonotice\",\"ext.gadget.switcher\",\"ext.urlShortener.toolbar\",\"ext.centralauth.centralautologin\",\"mmv.head\",\"mmv.bootstrap.autostart\",\"ext.popups\",\"ext.visualEditor.desktopArticleTarget.init\",\"ext.visualEditor.targetLoader\",\"ext.echo.centralauth\",\"ext.eventLogging\",\"ext.wikimediaEvents\",\"ext.navigationTiming\",\"ext.uls.compactlinks\",\"ext.uls.interface\",\"ext.cx.eventlogging.campaigns\",\"ext.cx.uls.quick.actions\",\"wikibase.client.vector-2022\",\"ext.checkUser.clientHints\",\"ext.growthExperiments.SuggestedEditSession\"];</script>\n",
              "<script>(RLQ=window.RLQ||[]).push(function(){mw.loader.impl(function(){return[\"user.options@12s5i\",function($,jQuery,require,module){mw.user.tokens.set({\"patrolToken\":\"+\\\\\",\"watchToken\":\"+\\\\\",\"csrfToken\":\"+\\\\\"});\n",
              "}];});});</script>\n",
              "<link href=\"/w/load.php?lang=en&amp;modules=codex-search-styles%7Cext.cite.styles%7Cext.uls.interlanguage%7Cext.visualEditor.desktopArticleTarget.noscript%7Cext.wikimediaBadges%7Cjquery.makeCollapsible.styles%7Cskins.vector.icons%2Cstyles%7Cwikibase.client.init&amp;only=styles&amp;skin=vector-2022\" rel=\"stylesheet\"/>\n",
              "<script async=\"\" src=\"/w/load.php?lang=en&amp;modules=startup&amp;only=scripts&amp;raw=1&amp;skin=vector-2022\"></script>\n",
              "<meta content=\"\" name=\"ResourceLoaderDynamicStyles\"/>\n",
              "<link href=\"/w/load.php?lang=en&amp;modules=ext.gadget.SubtleUpdatemarker%2CWatchlistGreenIndicators&amp;only=styles&amp;skin=vector-2022\" rel=\"stylesheet\"/>\n",
              "<link href=\"/w/load.php?lang=en&amp;modules=site.styles&amp;only=styles&amp;skin=vector-2022\" rel=\"stylesheet\"/>\n",
              "<meta content=\"MediaWiki 1.42.0-wmf.1\" name=\"generator\"/>\n",
              "<meta content=\"origin\" name=\"referrer\"/>\n",
              "<meta content=\"origin-when-cross-origin\" name=\"referrer\"/>\n",
              "<meta content=\"max-image-preview:standard\" name=\"robots\"/>\n",
              "<meta content=\"telephone=no\" name=\"format-detection\"/>\n",
              "<meta content=\"https://upload.wikimedia.org/wikipedia/commons/7/79/ELIZA_conversation.png\" property=\"og:image\"/>\n",
              "<meta content=\"1200\" property=\"og:image:width\"/>\n",
              "<meta content=\"778\" property=\"og:image:height\"/>\n",
              "<meta content=\"https://upload.wikimedia.org/wikipedia/commons/7/79/ELIZA_conversation.png\" property=\"og:image\"/>\n",
              "<meta content=\"800\" property=\"og:image:width\"/>\n",
              "<meta content=\"519\" property=\"og:image:height\"/>\n",
              "<meta content=\"https://upload.wikimedia.org/wikipedia/commons/thumb/7/79/ELIZA_conversation.png/640px-ELIZA_conversation.png\" property=\"og:image\"/>\n",
              "<meta content=\"640\" property=\"og:image:width\"/>\n",
              "<meta content=\"415\" property=\"og:image:height\"/>\n",
              "<meta content=\"width=1000\" name=\"viewport\"/>\n",
              "<meta content=\"Chatbot - Wikipedia\" property=\"og:title\"/>\n",
              "<meta content=\"website\" property=\"og:type\"/>\n",
              "<link href=\"//upload.wikimedia.org\" rel=\"preconnect\"/>\n",
              "<link href=\"//en.m.wikipedia.org/wiki/Chatbot\" media=\"only screen and (max-width: 720px)\" rel=\"alternate\"/>\n",
              "<link href=\"/static/apple-touch/wikipedia.png\" rel=\"apple-touch-icon\"/>\n",
              "<link href=\"/static/favicon/wikipedia.ico\" rel=\"icon\"/>\n",
              "<link href=\"/w/opensearch_desc.php\" rel=\"search\" title=\"Wikipedia (en)\" type=\"application/opensearchdescription+xml\"/>\n",
              "<link href=\"//en.wikipedia.org/w/api.php?action=rsd\" rel=\"EditURI\" type=\"application/rsd+xml\"/>\n",
              "<link href=\"https://en.wikipedia.org/wiki/Chatbot\" rel=\"canonical\"/>\n",
              "<link href=\"https://creativecommons.org/licenses/by-sa/4.0/deed.en\" rel=\"license\"/>\n",
              "<link href=\"/w/index.php?title=Special:RecentChanges&amp;feed=atom\" rel=\"alternate\" title=\"Wikipedia Atom feed\" type=\"application/atom+xml\"/>\n",
              "<link href=\"//meta.wikimedia.org\" rel=\"dns-prefetch\"/>\n",
              "<link href=\"//login.wikimedia.org\" rel=\"dns-prefetch\"/>\n",
              "</head>\n",
              "<body class=\"skin-vector skin-vector-search-vue mediawiki ltr sitedir-ltr mw-hide-empty-elt ns-0 ns-subject page-Chatbot rootpage-Chatbot skin-vector-2022 action-view\"><a class=\"mw-jump-link\" href=\"#bodyContent\">Jump to content</a>\n",
              "<div class=\"vector-header-container\">\n",
              "<header class=\"vector-header mw-header\">\n",
              "<div class=\"vector-header-start\">\n",
              "<nav aria-label=\"Site\" class=\"vector-main-menu-landmark\" role=\"navigation\">\n",
              "<div class=\"vector-dropdown vector-main-menu-dropdown vector-button-flush-left vector-button-flush-right\" id=\"vector-main-menu-dropdown\">\n",
              "<input aria-haspopup=\"true\" aria-label=\"Main menu\" class=\"vector-dropdown-checkbox\" data-event-name=\"ui.dropdown-vector-main-menu-dropdown\" id=\"vector-main-menu-dropdown-checkbox\" role=\"button\" type=\"checkbox\"/>\n",
              "<label aria-hidden=\"true\" class=\"vector-dropdown-label cdx-button cdx-button--fake-button cdx-button--fake-button--enabled cdx-button--weight-quiet cdx-button--icon-only\" for=\"vector-main-menu-dropdown-checkbox\" id=\"vector-main-menu-dropdown-label\"><span class=\"vector-icon mw-ui-icon-menu mw-ui-icon-wikimedia-menu\"></span>\n",
              "<span class=\"vector-dropdown-label-text\">Main menu</span>\n",
              "</label>\n",
              "<div class=\"vector-dropdown-content\">\n",
              "<div class=\"vector-unpinned-container\" id=\"vector-main-menu-unpinned-container\">\n",
              "<div class=\"vector-main-menu vector-pinnable-element\" id=\"vector-main-menu\">\n",
              "<div class=\"vector-pinnable-header vector-main-menu-pinnable-header vector-pinnable-header-unpinned\" data-feature-name=\"main-menu-pinned\" data-pinnable-element-id=\"vector-main-menu\" data-pinned-container-id=\"vector-main-menu-pinned-container\" data-unpinned-container-id=\"vector-main-menu-unpinned-container\">\n",
              "<div class=\"vector-pinnable-header-label\">Main menu</div>\n",
              "<button class=\"vector-pinnable-header-toggle-button vector-pinnable-header-pin-button\" data-event-name=\"pinnable-header.vector-main-menu.pin\">move to sidebar</button>\n",
              "<button class=\"vector-pinnable-header-toggle-button vector-pinnable-header-unpin-button\" data-event-name=\"pinnable-header.vector-main-menu.unpin\">hide</button>\n",
              "</div>\n",
              "<div class=\"vector-menu mw-portlet mw-portlet-navigation\" id=\"p-navigation\">\n",
              "<div class=\"vector-menu-heading\">\n",
              "\t\tNavigation\n",
              "\t</div>\n",
              "<div class=\"vector-menu-content\">\n",
              "<ul class=\"vector-menu-content-list\">\n",
              "<li class=\"mw-list-item\" id=\"n-mainpage-description\"><a accesskey=\"z\" href=\"/wiki/Main_Page\" title=\"Visit the main page [z]\"><span>Main page</span></a></li><li class=\"mw-list-item\" id=\"n-contents\"><a href=\"/wiki/Wikipedia:Contents\" title=\"Guides to browsing Wikipedia\"><span>Contents</span></a></li><li class=\"mw-list-item\" id=\"n-currentevents\"><a href=\"/wiki/Portal:Current_events\" title=\"Articles related to current events\"><span>Current events</span></a></li><li class=\"mw-list-item\" id=\"n-randompage\"><a accesskey=\"x\" href=\"/wiki/Special:Random\" title=\"Visit a randomly selected article [x]\"><span>Random article</span></a></li><li class=\"mw-list-item\" id=\"n-aboutsite\"><a href=\"/wiki/Wikipedia:About\" title=\"Learn about Wikipedia and how it works\"><span>About Wikipedia</span></a></li><li class=\"mw-list-item\" id=\"n-contactpage\"><a href=\"//en.wikipedia.org/wiki/Wikipedia:Contact_us\" title=\"How to contact Wikipedia\"><span>Contact us</span></a></li><li class=\"mw-list-item\" id=\"n-sitesupport\"><a href=\"https://donate.wikimedia.org/wiki/Special:FundraiserRedirector?utm_source=donate&amp;utm_medium=sidebar&amp;utm_campaign=C13_en.wikipedia.org&amp;uselang=en\" title=\"Support us by donating to the Wikimedia Foundation\"><span>Donate</span></a></li>\n",
              "</ul>\n",
              "</div>\n",
              "</div>\n",
              "<div class=\"vector-menu mw-portlet mw-portlet-interaction\" id=\"p-interaction\">\n",
              "<div class=\"vector-menu-heading\">\n",
              "\t\tContribute\n",
              "\t</div>\n",
              "<div class=\"vector-menu-content\">\n",
              "<ul class=\"vector-menu-content-list\">\n",
              "<li class=\"mw-list-item\" id=\"n-help\"><a href=\"/wiki/Help:Contents\" title=\"Guidance on how to use and edit Wikipedia\"><span>Help</span></a></li><li class=\"mw-list-item\" id=\"n-introduction\"><a href=\"/wiki/Help:Introduction\" title=\"Learn how to edit Wikipedia\"><span>Learn to edit</span></a></li><li class=\"mw-list-item\" id=\"n-portal\"><a href=\"/wiki/Wikipedia:Community_portal\" title=\"The hub for editors\"><span>Community portal</span></a></li><li class=\"mw-list-item\" id=\"n-recentchanges\"><a accesskey=\"r\" href=\"/wiki/Special:RecentChanges\" title=\"A list of recent changes to Wikipedia [r]\"><span>Recent changes</span></a></li><li class=\"mw-list-item\" id=\"n-upload\"><a href=\"/wiki/Wikipedia:File_upload_wizard\" title=\"Add images or other media for use on Wikipedia\"><span>Upload file</span></a></li>\n",
              "</ul>\n",
              "</div>\n",
              "</div>\n",
              "<div class=\"vector-main-menu-action vector-main-menu-action-lang-alert\">\n",
              "<div class=\"vector-main-menu-action-item\">\n",
              "<div class=\"vector-main-menu-action-heading vector-menu-heading\">Languages</div>\n",
              "<div class=\"vector-main-menu-action-content vector-menu-content\">\n",
              "<div class=\"mw-message-box cdx-message cdx-message--block mw-message-box-notice cdx-message--notice vector-language-sidebar-alert\"><span class=\"cdx-message__icon\"></span><div class=\"cdx-message__content\">Language links are at the top of the page across from the title.</div></div>\n",
              "</div>\n",
              "</div>\n",
              "</div>\n",
              "</div>\n",
              "</div>\n",
              "</div>\n",
              "</div>\n",
              "</nav>\n",
              "<a class=\"mw-logo\" href=\"/wiki/Main_Page\">\n",
              "<img alt=\"\" aria-hidden=\"true\" class=\"mw-logo-icon\" height=\"50\" src=\"/static/images/icons/wikipedia.png\" width=\"50\"/>\n",
              "<span class=\"mw-logo-container\">\n",
              "<img alt=\"Wikipedia\" class=\"mw-logo-wordmark\" src=\"/static/images/mobile/copyright/wikipedia-wordmark-en.svg\" style=\"width: 7.5em; height: 1.125em;\"/>\n",
              "<img alt=\"The Free Encyclopedia\" class=\"mw-logo-tagline\" height=\"13\" src=\"/static/images/mobile/copyright/wikipedia-tagline-en.svg\" style=\"width: 7.3125em; height: 0.8125em;\" width=\"117\"/>\n",
              "</span>\n",
              "</a>\n",
              "</div>\n",
              "<div class=\"vector-header-end\">\n",
              "<div class=\"vector-search-box-vue vector-search-box-collapses vector-search-box-show-thumbnail vector-search-box-auto-expand-width vector-search-box\" id=\"p-search\" role=\"search\">\n",
              "<a accesskey=\"f\" class=\"cdx-button cdx-button--fake-button cdx-button--fake-button--enabled cdx-button--weight-quiet cdx-button--icon-only search-toggle\" href=\"/wiki/Special:Search\" id=\"\" title=\"Search Wikipedia [f]\"><span class=\"vector-icon mw-ui-icon-search mw-ui-icon-wikimedia-search\"></span>\n",
              "<span>Search</span>\n",
              "</a>\n",
              "<div class=\"vector-typeahead-search-container\">\n",
              "<div class=\"cdx-typeahead-search cdx-typeahead-search--show-thumbnail cdx-typeahead-search--auto-expand-width\">\n",
              "<form action=\"/w/index.php\" class=\"cdx-search-input cdx-search-input--has-end-button\" id=\"searchform\">\n",
              "<div class=\"cdx-search-input__input-wrapper\" data-search-loc=\"header-moved\" id=\"simpleSearch\">\n",
              "<div class=\"cdx-text-input cdx-text-input--has-start-icon\">\n",
              "<input accesskey=\"f\" aria-label=\"Search Wikipedia\" autocapitalize=\"sentences\" class=\"cdx-text-input__input\" id=\"searchInput\" name=\"search\" placeholder=\"Search Wikipedia\" title=\"Search Wikipedia [f]\" type=\"search\"/>\n",
              "<span class=\"cdx-text-input__icon cdx-text-input__start-icon\"></span>\n",
              "</div>\n",
              "<input name=\"title\" type=\"hidden\" value=\"Special:Search\"/>\n",
              "</div>\n",
              "<button class=\"cdx-button cdx-search-input__end-button\">Search</button>\n",
              "</form>\n",
              "</div>\n",
              "</div>\n",
              "</div>\n",
              "<nav aria-label=\"Personal tools\" class=\"vector-user-links\" role=\"navigation\">\n",
              "<div class=\"vector-menu mw-portlet mw-portlet-vector-user-menu-overflow\" id=\"p-vector-user-menu-overflow\">\n",
              "<div class=\"vector-menu-content\">\n",
              "<ul class=\"vector-menu-content-list\">\n",
              "<li class=\"user-links-collapsible-item mw-list-item\" id=\"pt-createaccount-2\"><a href=\"/w/index.php?title=Special:CreateAccount&amp;returnto=Chatbot\" title=\"You are encouraged to create an account and log in; however, it is not mandatory\"><span>Create account</span></a></li><li class=\"user-links-collapsible-item mw-list-item\" id=\"pt-login-2\"><a accesskey=\"o\" href=\"/w/index.php?title=Special:UserLogin&amp;returnto=Chatbot\" title=\"You're encouraged to log in; however, it's not mandatory. [o]\"><span>Log in</span></a></li>\n",
              "</ul>\n",
              "</div>\n",
              "</div>\n",
              "<div class=\"vector-dropdown vector-user-menu vector-button-flush-right vector-user-menu-logged-out\" id=\"vector-user-links-dropdown\" title=\"Log in and more options\">\n",
              "<input aria-haspopup=\"true\" aria-label=\"Personal tools\" class=\"vector-dropdown-checkbox\" data-event-name=\"ui.dropdown-vector-user-links-dropdown\" id=\"vector-user-links-dropdown-checkbox\" role=\"button\" type=\"checkbox\"/>\n",
              "<label aria-hidden=\"true\" class=\"vector-dropdown-label cdx-button cdx-button--fake-button cdx-button--fake-button--enabled cdx-button--weight-quiet cdx-button--icon-only\" for=\"vector-user-links-dropdown-checkbox\" id=\"vector-user-links-dropdown-label\"><span class=\"vector-icon mw-ui-icon-ellipsis mw-ui-icon-wikimedia-ellipsis\"></span>\n",
              "<span class=\"vector-dropdown-label-text\">Personal tools</span>\n",
              "</label>\n",
              "<div class=\"vector-dropdown-content\">\n",
              "<div class=\"vector-menu mw-portlet mw-portlet-personal user-links-collapsible-item\" id=\"p-personal\" title=\"User menu\">\n",
              "<div class=\"vector-menu-content\">\n",
              "<ul class=\"vector-menu-content-list\">\n",
              "<li class=\"user-links-collapsible-item mw-list-item\" id=\"pt-createaccount\"><a href=\"/w/index.php?title=Special:CreateAccount&amp;returnto=Chatbot\" title=\"You are encouraged to create an account and log in; however, it is not mandatory\"><span class=\"vector-icon mw-ui-icon-userAdd mw-ui-icon-wikimedia-userAdd\"></span> <span>Create account</span></a></li><li class=\"user-links-collapsible-item mw-list-item\" id=\"pt-login\"><a accesskey=\"o\" href=\"/w/index.php?title=Special:UserLogin&amp;returnto=Chatbot\" title=\"You're encouraged to log in; however, it's not mandatory. [o]\"><span class=\"vector-icon mw-ui-icon-logIn mw-ui-icon-wikimedia-logIn\"></span> <span>Log in</span></a></li>\n",
              "</ul>\n",
              "</div>\n",
              "</div>\n",
              "<div class=\"vector-menu mw-portlet mw-portlet-user-menu-anon-editor\" id=\"p-user-menu-anon-editor\">\n",
              "<div class=\"vector-menu-heading\">\n",
              "\t\tPages for logged out editors <a aria-label=\"Learn more about editing\" href=\"/wiki/Help:Introduction\"><span>learn more</span></a>\n",
              "</div>\n",
              "<div class=\"vector-menu-content\">\n",
              "<ul class=\"vector-menu-content-list\">\n",
              "<li class=\"mw-list-item\" id=\"pt-anoncontribs\"><a accesskey=\"y\" href=\"/wiki/Special:MyContributions\" title=\"A list of edits made from this IP address [y]\"><span>Contributions</span></a></li><li class=\"mw-list-item\" id=\"pt-anontalk\"><a accesskey=\"n\" href=\"/wiki/Special:MyTalk\" title=\"Discussion about edits from this IP address [n]\"><span>Talk</span></a></li>\n",
              "</ul>\n",
              "</div>\n",
              "</div>\n",
              "</div>\n",
              "</div>\n",
              "</nav>\n",
              "</div>\n",
              "</header>\n",
              "</div>\n",
              "<div class=\"mw-page-container\">\n",
              "<div class=\"mw-page-container-inner\">\n",
              "<div class=\"vector-sitenotice-container\">\n",
              "<div id=\"siteNotice\"><!-- CentralNotice --></div>\n",
              "</div>\n",
              "<div class=\"vector-main-menu-container\">\n",
              "<div id=\"mw-navigation\">\n",
              "<nav aria-label=\"Site\" class=\"vector-main-menu-landmark\" id=\"mw-panel\" role=\"navigation\">\n",
              "<div class=\"vector-pinned-container\" id=\"vector-main-menu-pinned-container\">\n",
              "</div>\n",
              "</nav>\n",
              "</div>\n",
              "</div>\n",
              "<input class=\"vector-menu-checkbox\" id=\"vector-toc-collapsed-checkbox\" type=\"checkbox\"/>\n",
              "<nav aria-label=\"Contents\" class=\"mw-table-of-contents-container vector-toc-landmark vector-sticky-pinned-container\" data-event-name=\"ui.sidebar-toc\" id=\"mw-panel-toc\" role=\"navigation\">\n",
              "<div class=\"vector-pinned-container\" id=\"vector-toc-pinned-container\">\n",
              "<div class=\"vector-toc vector-pinnable-element\" id=\"vector-toc\">\n",
              "<div class=\"vector-pinnable-header vector-toc-pinnable-header vector-pinnable-header-pinned\" data-feature-name=\"toc-pinned\" data-pinnable-element-id=\"vector-toc\">\n",
              "<h2 class=\"vector-pinnable-header-label\">Contents</h2>\n",
              "<button class=\"vector-pinnable-header-toggle-button vector-pinnable-header-pin-button\" data-event-name=\"pinnable-header.vector-toc.pin\">move to sidebar</button>\n",
              "<button class=\"vector-pinnable-header-toggle-button vector-pinnable-header-unpin-button\" data-event-name=\"pinnable-header.vector-toc.unpin\">hide</button>\n",
              "</div>\n",
              "<ul class=\"vector-toc-contents\" id=\"mw-panel-toc-list\">\n",
              "<li class=\"vector-toc-list-item vector-toc-level-1\" id=\"toc-mw-content-text\">\n",
              "<a class=\"vector-toc-link\" href=\"#\">\n",
              "<div class=\"vector-toc-text\">(Top)</div>\n",
              "</a>\n",
              "</li>\n",
              "<li class=\"vector-toc-list-item vector-toc-level-1 vector-toc-list-item-expanded\" id=\"toc-Background\">\n",
              "<a class=\"vector-toc-link\" href=\"#Background\">\n",
              "<div class=\"vector-toc-text\">\n",
              "<span class=\"vector-toc-numb\">1</span>Background</div>\n",
              "</a>\n",
              "<ul class=\"vector-toc-list\" id=\"toc-Background-sublist\">\n",
              "</ul>\n",
              "</li>\n",
              "<li class=\"vector-toc-list-item vector-toc-level-1 vector-toc-list-item-expanded\" id=\"toc-Development\">\n",
              "<a class=\"vector-toc-link\" href=\"#Development\">\n",
              "<div class=\"vector-toc-text\">\n",
              "<span class=\"vector-toc-numb\">2</span>Development</div>\n",
              "</a>\n",
              "<ul class=\"vector-toc-list\" id=\"toc-Development-sublist\">\n",
              "</ul>\n",
              "</li>\n",
              "<li class=\"vector-toc-list-item vector-toc-level-1 vector-toc-list-item-expanded\" id=\"toc-Application\">\n",
              "<a class=\"vector-toc-link\" href=\"#Application\">\n",
              "<div class=\"vector-toc-text\">\n",
              "<span class=\"vector-toc-numb\">3</span>Application</div>\n",
              "</a>\n",
              "<button aria-controls=\"toc-Application-sublist\" class=\"cdx-button cdx-button--weight-quiet cdx-button--icon-only vector-toc-toggle\">\n",
              "<span class=\"vector-icon vector-icon--x-small mw-ui-icon-wikimedia-expand\"></span>\n",
              "<span>Toggle Application subsection</span>\n",
              "</button>\n",
              "<ul class=\"vector-toc-list\" id=\"toc-Application-sublist\">\n",
              "<li class=\"vector-toc-list-item vector-toc-level-2\" id=\"toc-Messaging_apps\">\n",
              "<a class=\"vector-toc-link\" href=\"#Messaging_apps\">\n",
              "<div class=\"vector-toc-text\">\n",
              "<span class=\"vector-toc-numb\">3.1</span>Messaging apps</div>\n",
              "</a>\n",
              "<ul class=\"vector-toc-list\" id=\"toc-Messaging_apps-sublist\">\n",
              "<li class=\"vector-toc-list-item vector-toc-level-3\" id=\"toc-As_part_of_company_apps_and_websites\">\n",
              "<a class=\"vector-toc-link\" href=\"#As_part_of_company_apps_and_websites\">\n",
              "<div class=\"vector-toc-text\">\n",
              "<span class=\"vector-toc-numb\">3.1.1</span>As part of company apps and websites</div>\n",
              "</a>\n",
              "<ul class=\"vector-toc-list\" id=\"toc-As_part_of_company_apps_and_websites-sublist\">\n",
              "</ul>\n",
              "</li>\n",
              "<li class=\"vector-toc-list-item vector-toc-level-3\" id=\"toc-Chatbot_sequences\">\n",
              "<a class=\"vector-toc-link\" href=\"#Chatbot_sequences\">\n",
              "<div class=\"vector-toc-text\">\n",
              "<span class=\"vector-toc-numb\">3.1.2</span>Chatbot sequences</div>\n",
              "</a>\n",
              "<ul class=\"vector-toc-list\" id=\"toc-Chatbot_sequences-sublist\">\n",
              "</ul>\n",
              "</li>\n",
              "</ul>\n",
              "</li>\n",
              "<li class=\"vector-toc-list-item vector-toc-level-2\" id=\"toc-Company_internal_platforms\">\n",
              "<a class=\"vector-toc-link\" href=\"#Company_internal_platforms\">\n",
              "<div class=\"vector-toc-text\">\n",
              "<span class=\"vector-toc-numb\">3.2</span>Company internal platforms</div>\n",
              "</a>\n",
              "<ul class=\"vector-toc-list\" id=\"toc-Company_internal_platforms-sublist\">\n",
              "</ul>\n",
              "</li>\n",
              "<li class=\"vector-toc-list-item vector-toc-level-2\" id=\"toc-Customer_service\">\n",
              "<a class=\"vector-toc-link\" href=\"#Customer_service\">\n",
              "<div class=\"vector-toc-text\">\n",
              "<span class=\"vector-toc-numb\">3.3</span>Customer service</div>\n",
              "</a>\n",
              "<ul class=\"vector-toc-list\" id=\"toc-Customer_service-sublist\">\n",
              "</ul>\n",
              "</li>\n",
              "<li class=\"vector-toc-list-item vector-toc-level-2\" id=\"toc-Healthcare\">\n",
              "<a class=\"vector-toc-link\" href=\"#Healthcare\">\n",
              "<div class=\"vector-toc-text\">\n",
              "<span class=\"vector-toc-numb\">3.4</span>Healthcare</div>\n",
              "</a>\n",
              "<ul class=\"vector-toc-list\" id=\"toc-Healthcare-sublist\">\n",
              "</ul>\n",
              "</li>\n",
              "<li class=\"vector-toc-list-item vector-toc-level-2\" id=\"toc-Politics\">\n",
              "<a class=\"vector-toc-link\" href=\"#Politics\">\n",
              "<div class=\"vector-toc-text\">\n",
              "<span class=\"vector-toc-numb\">3.5</span>Politics</div>\n",
              "</a>\n",
              "<ul class=\"vector-toc-list\" id=\"toc-Politics-sublist\">\n",
              "</ul>\n",
              "</li>\n",
              "<li class=\"vector-toc-list-item vector-toc-level-2\" id=\"toc-Toys\">\n",
              "<a class=\"vector-toc-link\" href=\"#Toys\">\n",
              "<div class=\"vector-toc-text\">\n",
              "<span class=\"vector-toc-numb\">3.6</span>Toys</div>\n",
              "</a>\n",
              "<ul class=\"vector-toc-list\" id=\"toc-Toys-sublist\">\n",
              "</ul>\n",
              "</li>\n",
              "<li class=\"vector-toc-list-item vector-toc-level-2\" id=\"toc-Malicious_use\">\n",
              "<a class=\"vector-toc-link\" href=\"#Malicious_use\">\n",
              "<div class=\"vector-toc-text\">\n",
              "<span class=\"vector-toc-numb\">3.7</span>Malicious use</div>\n",
              "</a>\n",
              "<ul class=\"vector-toc-list\" id=\"toc-Malicious_use-sublist\">\n",
              "</ul>\n",
              "</li>\n",
              "</ul>\n",
              "</li>\n",
              "<li class=\"vector-toc-list-item vector-toc-level-1 vector-toc-list-item-expanded\" id=\"toc-Limitations_of_chatbots\">\n",
              "<a class=\"vector-toc-link\" href=\"#Limitations_of_chatbots\">\n",
              "<div class=\"vector-toc-text\">\n",
              "<span class=\"vector-toc-numb\">4</span>Limitations of chatbots</div>\n",
              "</a>\n",
              "<ul class=\"vector-toc-list\" id=\"toc-Limitations_of_chatbots-sublist\">\n",
              "</ul>\n",
              "</li>\n",
              "<li class=\"vector-toc-list-item vector-toc-level-1 vector-toc-list-item-expanded\" id=\"toc-Chatbots_and_jobs\">\n",
              "<a class=\"vector-toc-link\" href=\"#Chatbots_and_jobs\">\n",
              "<div class=\"vector-toc-text\">\n",
              "<span class=\"vector-toc-numb\">5</span>Chatbots and jobs</div>\n",
              "</a>\n",
              "<ul class=\"vector-toc-list\" id=\"toc-Chatbots_and_jobs-sublist\">\n",
              "</ul>\n",
              "</li>\n",
              "<li class=\"vector-toc-list-item vector-toc-level-1 vector-toc-list-item-expanded\" id=\"toc-See_also\">\n",
              "<a class=\"vector-toc-link\" href=\"#See_also\">\n",
              "<div class=\"vector-toc-text\">\n",
              "<span class=\"vector-toc-numb\">6</span>See also</div>\n",
              "</a>\n",
              "<ul class=\"vector-toc-list\" id=\"toc-See_also-sublist\">\n",
              "</ul>\n",
              "</li>\n",
              "<li class=\"vector-toc-list-item vector-toc-level-1 vector-toc-list-item-expanded\" id=\"toc-References\">\n",
              "<a class=\"vector-toc-link\" href=\"#References\">\n",
              "<div class=\"vector-toc-text\">\n",
              "<span class=\"vector-toc-numb\">7</span>References</div>\n",
              "</a>\n",
              "<ul class=\"vector-toc-list\" id=\"toc-References-sublist\">\n",
              "</ul>\n",
              "</li>\n",
              "<li class=\"vector-toc-list-item vector-toc-level-1 vector-toc-list-item-expanded\" id=\"toc-Further_reading\">\n",
              "<a class=\"vector-toc-link\" href=\"#Further_reading\">\n",
              "<div class=\"vector-toc-text\">\n",
              "<span class=\"vector-toc-numb\">8</span>Further reading</div>\n",
              "</a>\n",
              "<ul class=\"vector-toc-list\" id=\"toc-Further_reading-sublist\">\n",
              "</ul>\n",
              "</li>\n",
              "<li class=\"vector-toc-list-item vector-toc-level-1 vector-toc-list-item-expanded\" id=\"toc-External_links\">\n",
              "<a class=\"vector-toc-link\" href=\"#External_links\">\n",
              "<div class=\"vector-toc-text\">\n",
              "<span class=\"vector-toc-numb\">9</span>External links</div>\n",
              "</a>\n",
              "<ul class=\"vector-toc-list\" id=\"toc-External_links-sublist\">\n",
              "</ul>\n",
              "</li>\n",
              "</ul>\n",
              "</div>\n",
              "</div>\n",
              "</nav>\n",
              "<div class=\"mw-content-container\">\n",
              "<main class=\"mw-body\" id=\"content\" role=\"main\">\n",
              "<header class=\"mw-body-header vector-page-titlebar\">\n",
              "<label aria-controls=\"vector-toc\" class=\"cdx-button cdx-button--fake-button cdx-button--fake-button--enabled cdx-button--weight-quiet vector-button-flush-left cdx-button--icon-only\" for=\"vector-toc-collapsed-checkbox\" id=\"vector-toc-collapsed-button\" role=\"button\" tabindex=\"0\" title=\"Table of Contents\">\n",
              "<span class=\"vector-icon mw-ui-icon-wikimedia-listBullet\"></span>\n",
              "<span>Toggle the table of contents</span>\n",
              "</label>\n",
              "<nav aria-label=\"Contents\" class=\"vector-toc-landmark\" role=\"navigation\">\n",
              "<div class=\"vector-dropdown vector-page-titlebar-toc vector-button-flush-left\" id=\"vector-page-titlebar-toc\">\n",
              "<input aria-haspopup=\"true\" aria-label=\"Toggle the table of contents\" class=\"vector-dropdown-checkbox\" data-event-name=\"ui.dropdown-vector-page-titlebar-toc\" id=\"vector-page-titlebar-toc-checkbox\" role=\"button\" type=\"checkbox\"/>\n",
              "<label aria-hidden=\"true\" class=\"vector-dropdown-label cdx-button cdx-button--fake-button cdx-button--fake-button--enabled cdx-button--weight-quiet cdx-button--icon-only\" for=\"vector-page-titlebar-toc-checkbox\" id=\"vector-page-titlebar-toc-label\"><span class=\"vector-icon mw-ui-icon-listBullet mw-ui-icon-wikimedia-listBullet\"></span>\n",
              "<span class=\"vector-dropdown-label-text\">Toggle the table of contents</span>\n",
              "</label>\n",
              "<div class=\"vector-dropdown-content\">\n",
              "<div class=\"vector-unpinned-container\" id=\"vector-page-titlebar-toc-unpinned-container\">\n",
              "</div>\n",
              "</div>\n",
              "</div>\n",
              "</nav>\n",
              "<h1 class=\"firstHeading mw-first-heading\" id=\"firstHeading\"><span class=\"mw-page-title-main\">Chatbot</span></h1>\n",
              "<div class=\"vector-dropdown mw-portlet mw-portlet-lang\" id=\"p-lang-btn\">\n",
              "<input aria-haspopup=\"true\" aria-label=\"Go to an article in another language. Available in 58 languages\" class=\"vector-dropdown-checkbox mw-interlanguage-selector\" data-event-name=\"ui.dropdown-p-lang-btn\" id=\"p-lang-btn-checkbox\" role=\"button\" type=\"checkbox\"/>\n",
              "<label aria-hidden=\"true\" class=\"vector-dropdown-label cdx-button cdx-button--fake-button cdx-button--fake-button--enabled cdx-button--weight-quiet cdx-button--action-progressive mw-portlet-lang-heading-58\" for=\"p-lang-btn-checkbox\" id=\"p-lang-btn-label\"><span class=\"vector-icon mw-ui-icon-language-progressive mw-ui-icon-wikimedia-language-progressive\"></span>\n",
              "<span class=\"vector-dropdown-label-text\">58 languages</span>\n",
              "</label>\n",
              "<div class=\"vector-dropdown-content\">\n",
              "<div class=\"vector-menu-content\">\n",
              "<ul class=\"vector-menu-content-list\">\n",
              "<li class=\"interlanguage-link interwiki-af mw-list-item\"><a class=\"interlanguage-link-target\" href=\"https://af.wikipedia.org/wiki/Kletsbot\" hreflang=\"af\" lang=\"af\" title=\"Kletsbot – Afrikaans\"><span>Afrikaans</span></a></li><li class=\"interlanguage-link interwiki-ar mw-list-item\"><a class=\"interlanguage-link-target\" href=\"https://ar.wikipedia.org/wiki/%D8%A8%D9%88%D8%AA_%D8%AF%D8%B1%D8%AF%D8%B4%D8%A9\" hreflang=\"ar\" lang=\"ar\" title=\"بوت دردشة – Arabic\"><span>العربية</span></a></li><li class=\"interlanguage-link interwiki-az mw-list-item\"><a class=\"interlanguage-link-target\" href=\"https://az.wikipedia.org/wiki/%C3%87atbot\" hreflang=\"az\" lang=\"az\" title=\"Çatbot – Azerbaijani\"><span>Azərbaycanca</span></a></li><li class=\"interlanguage-link interwiki-bn mw-list-item\"><a class=\"interlanguage-link-target\" href=\"https://bn.wikipedia.org/wiki/%E0%A6%9A%E0%A7%8D%E0%A6%AF%E0%A6%BE%E0%A6%9F%E0%A6%AC%E0%A6%9F\" hreflang=\"bn\" lang=\"bn\" title=\"চ্যাটবট – Bangla\"><span>বাংলা</span></a></li><li class=\"interlanguage-link interwiki-zh-min-nan mw-list-item\"><a class=\"interlanguage-link-target\" href=\"https://zh-min-nan.wikipedia.org/wiki/Khai-k%C3%A1ng_ke-kh%C3%AC-l%C3%A2ng\" hreflang=\"nan\" lang=\"nan\" title=\"Khai-káng ke-khì-lâng – Min Nan Chinese\"><span>Bân-lâm-gú</span></a></li><li class=\"interlanguage-link interwiki-bh mw-list-item\"><a class=\"interlanguage-link-target\" href=\"https://bh.wikipedia.org/wiki/%E0%A4%9A%E0%A5%88%E0%A4%9F%E0%A4%AC%E0%A5%89%E0%A4%9F\" hreflang=\"bh\" lang=\"bh\" title=\"चैटबॉट – Bhojpuri\"><span>भोजपुरी</span></a></li><li class=\"interlanguage-link interwiki-bg mw-list-item\"><a class=\"interlanguage-link-target\" href=\"https://bg.wikipedia.org/wiki/%D0%A7%D0%B0%D1%82%D0%B1%D0%BE%D1%82\" hreflang=\"bg\" lang=\"bg\" title=\"Чатбот – Bulgarian\"><span>Български</span></a></li><li class=\"interlanguage-link interwiki-bar mw-list-item\"><a class=\"interlanguage-link-target\" href=\"https://bar.wikipedia.org/wiki/Chatbot\" hreflang=\"bar\" lang=\"bar\" title=\"Chatbot – Bavarian\"><span>Boarisch</span></a></li><li class=\"interlanguage-link interwiki-bs mw-list-item\"><a class=\"interlanguage-link-target\" href=\"https://bs.wikipedia.org/wiki/%C4%8Cet-bot\" hreflang=\"bs\" lang=\"bs\" title=\"Čet-bot – Bosnian\"><span>Bosanski</span></a></li><li class=\"interlanguage-link interwiki-ca mw-list-item\"><a class=\"interlanguage-link-target\" href=\"https://ca.wikipedia.org/wiki/Bot_de_xat\" hreflang=\"ca\" lang=\"ca\" title=\"Bot de xat – Catalan\"><span>Català</span></a></li><li class=\"interlanguage-link interwiki-cs mw-list-item\"><a class=\"interlanguage-link-target\" href=\"https://cs.wikipedia.org/wiki/Chatbot\" hreflang=\"cs\" lang=\"cs\" title=\"Chatbot – Czech\"><span>Čeština</span></a></li><li class=\"interlanguage-link interwiki-da mw-list-item\"><a class=\"interlanguage-link-target\" href=\"https://da.wikipedia.org/wiki/Chatbot\" hreflang=\"da\" lang=\"da\" title=\"Chatbot – Danish\"><span>Dansk</span></a></li><li class=\"interlanguage-link interwiki-de mw-list-item\"><a class=\"interlanguage-link-target\" href=\"https://de.wikipedia.org/wiki/Chatbot\" hreflang=\"de\" lang=\"de\" title=\"Chatbot – German\"><span>Deutsch</span></a></li><li class=\"interlanguage-link interwiki-et mw-list-item\"><a class=\"interlanguage-link-target\" href=\"https://et.wikipedia.org/wiki/Juturobot\" hreflang=\"et\" lang=\"et\" title=\"Juturobot – Estonian\"><span>Eesti</span></a></li><li class=\"interlanguage-link interwiki-es mw-list-item\"><a class=\"interlanguage-link-target\" href=\"https://es.wikipedia.org/wiki/Bot_conversacional\" hreflang=\"es\" lang=\"es\" title=\"Bot conversacional – Spanish\"><span>Español</span></a></li><li class=\"interlanguage-link interwiki-eo mw-list-item\"><a class=\"interlanguage-link-target\" href=\"https://eo.wikipedia.org/wiki/Babilroboto\" hreflang=\"eo\" lang=\"eo\" title=\"Babilroboto – Esperanto\"><span>Esperanto</span></a></li><li class=\"interlanguage-link interwiki-eu mw-list-item\"><a class=\"interlanguage-link-target\" href=\"https://eu.wikipedia.org/wiki/Txatbot\" hreflang=\"eu\" lang=\"eu\" title=\"Txatbot – Basque\"><span>Euskara</span></a></li><li class=\"interlanguage-link interwiki-fa mw-list-item\"><a class=\"interlanguage-link-target\" href=\"https://fa.wikipedia.org/wiki/%D8%A8%D8%A7%D8%AA_%D9%85%DA%A9%D8%A7%D9%84%D9%85%D9%87\" hreflang=\"fa\" lang=\"fa\" title=\"بات مکالمه – Persian\"><span>فارسی</span></a></li><li class=\"interlanguage-link interwiki-fr mw-list-item\"><a class=\"interlanguage-link-target\" href=\"https://fr.wikipedia.org/wiki/Chatbot\" hreflang=\"fr\" lang=\"fr\" title=\"Chatbot – French\"><span>Français</span></a></li><li class=\"interlanguage-link interwiki-ko mw-list-item\"><a class=\"interlanguage-link-target\" href=\"https://ko.wikipedia.org/wiki/%EC%B1%97%EB%B4%87\" hreflang=\"ko\" lang=\"ko\" title=\"챗봇 – Korean\"><span>한국어</span></a></li><li class=\"interlanguage-link interwiki-hy mw-list-item\"><a class=\"interlanguage-link-target\" href=\"https://hy.wikipedia.org/wiki/%D5%89%D5%A1%D5%BF%D5%A2%D5%B8%D5%BF\" hreflang=\"hy\" lang=\"hy\" title=\"Չատբոտ – Armenian\"><span>Հայերեն</span></a></li><li class=\"interlanguage-link interwiki-hr mw-list-item\"><a class=\"interlanguage-link-target\" href=\"https://hr.wikipedia.org/wiki/Chatbot\" hreflang=\"hr\" lang=\"hr\" title=\"Chatbot – Croatian\"><span>Hrvatski</span></a></li><li class=\"interlanguage-link interwiki-id mw-list-item\"><a class=\"interlanguage-link-target\" href=\"https://id.wikipedia.org/wiki/Bot_percakapan\" hreflang=\"id\" lang=\"id\" title=\"Bot percakapan – Indonesian\"><span>Bahasa Indonesia</span></a></li><li class=\"interlanguage-link interwiki-zu mw-list-item\"><a class=\"interlanguage-link-target\" href=\"https://zu.wikipedia.org/wiki/Isiqavithi\" hreflang=\"zu\" lang=\"zu\" title=\"Isiqavithi – Zulu\"><span>IsiZulu</span></a></li><li class=\"interlanguage-link interwiki-is mw-list-item\"><a class=\"interlanguage-link-target\" href=\"https://is.wikipedia.org/wiki/Spjallmenni\" hreflang=\"is\" lang=\"is\" title=\"Spjallmenni – Icelandic\"><span>Íslenska</span></a></li><li class=\"interlanguage-link interwiki-it mw-list-item\"><a class=\"interlanguage-link-target\" href=\"https://it.wikipedia.org/wiki/Chat_bot\" hreflang=\"it\" lang=\"it\" title=\"Chat bot – Italian\"><span>Italiano</span></a></li><li class=\"interlanguage-link interwiki-he mw-list-item\"><a class=\"interlanguage-link-target\" href=\"https://he.wikipedia.org/wiki/%D7%A6%27%D7%90%D7%98%D7%91%D7%95%D7%98\" hreflang=\"he\" lang=\"he\" title=\"צ'אטבוט – Hebrew\"><span>עברית</span></a></li><li class=\"interlanguage-link interwiki-kn mw-list-item\"><a class=\"interlanguage-link-target\" href=\"https://kn.wikipedia.org/wiki/%E0%B2%9A%E0%B2%BE%E0%B2%9F%E0%B3%8D%E2%80%8C%E0%B2%AC%E0%B2%BE%E0%B2%9F%E0%B3%8D\" hreflang=\"kn\" lang=\"kn\" title=\"ಚಾಟ್‌ಬಾಟ್ – Kannada\"><span>ಕನ್ನಡ</span></a></li><li class=\"interlanguage-link interwiki-ky mw-list-item\"><a class=\"interlanguage-link-target\" href=\"https://ky.wikipedia.org/wiki/%D0%A7%D0%B0%D1%82_%D0%B1%D0%BE%D1%82\" hreflang=\"ky\" lang=\"ky\" title=\"Чат бот – Kyrgyz\"><span>Кыргызча</span></a></li><li class=\"interlanguage-link interwiki-lv mw-list-item\"><a class=\"interlanguage-link-target\" href=\"https://lv.wikipedia.org/wiki/Sarunbots\" hreflang=\"lv\" lang=\"lv\" title=\"Sarunbots – Latvian\"><span>Latviešu</span></a></li><li class=\"interlanguage-link interwiki-lt mw-list-item\"><a class=\"interlanguage-link-target\" href=\"https://lt.wikipedia.org/wiki/Pokalbi%C5%B3_robotas\" hreflang=\"lt\" lang=\"lt\" title=\"Pokalbių robotas – Lithuanian\"><span>Lietuvių</span></a></li><li class=\"interlanguage-link interwiki-hu mw-list-item\"><a class=\"interlanguage-link-target\" href=\"https://hu.wikipedia.org/wiki/Chatbot\" hreflang=\"hu\" lang=\"hu\" title=\"Chatbot – Hungarian\"><span>Magyar</span></a></li><li class=\"interlanguage-link interwiki-ml mw-list-item\"><a class=\"interlanguage-link-target\" href=\"https://ml.wikipedia.org/wiki/%E0%B4%9A%E0%B4%BE%E0%B4%B1%E0%B5%8D%E0%B4%B1%E0%B5%8D%E0%B4%AC%E0%B5%8B%E0%B4%9F%E0%B5%8D%E0%B4%9F%E0%B5%8D\" hreflang=\"ml\" lang=\"ml\" title=\"ചാറ്റ്ബോട്ട് – Malayalam\"><span>മലയാളം</span></a></li><li class=\"interlanguage-link interwiki-nl mw-list-item\"><a class=\"interlanguage-link-target\" href=\"https://nl.wikipedia.org/wiki/Chatbot\" hreflang=\"nl\" lang=\"nl\" title=\"Chatbot – Dutch\"><span>Nederlands</span></a></li><li class=\"interlanguage-link interwiki-ja mw-list-item\"><a class=\"interlanguage-link-target\" href=\"https://ja.wikipedia.org/wiki/%E3%83%81%E3%83%A3%E3%83%83%E3%83%88%E3%83%9C%E3%83%83%E3%83%88\" hreflang=\"ja\" lang=\"ja\" title=\"チャットボット – Japanese\"><span>日本語</span></a></li><li class=\"interlanguage-link interwiki-no mw-list-item\"><a class=\"interlanguage-link-target\" href=\"https://no.wikipedia.org/wiki/Chatbot\" hreflang=\"nb\" lang=\"nb\" title=\"Chatbot – Norwegian Bokmål\"><span>Norsk bokmål</span></a></li><li class=\"interlanguage-link interwiki-nn mw-list-item\"><a class=\"interlanguage-link-target\" href=\"https://nn.wikipedia.org/wiki/Samtalerobot\" hreflang=\"nn\" lang=\"nn\" title=\"Samtalerobot – Norwegian Nynorsk\"><span>Norsk nynorsk</span></a></li><li class=\"interlanguage-link interwiki-pa mw-list-item\"><a class=\"interlanguage-link-target\" href=\"https://pa.wikipedia.org/wiki/%E0%A8%9A%E0%A9%88%E0%A8%9F%E0%A8%AC%E0%A9%8B%E0%A8%9F\" hreflang=\"pa\" lang=\"pa\" title=\"ਚੈਟਬੋਟ – Punjabi\"><span>ਪੰਜਾਬੀ</span></a></li><li class=\"interlanguage-link interwiki-pl mw-list-item\"><a class=\"interlanguage-link-target\" href=\"https://pl.wikipedia.org/wiki/Chatbot\" hreflang=\"pl\" lang=\"pl\" title=\"Chatbot – Polish\"><span>Polski</span></a></li><li class=\"interlanguage-link interwiki-pt mw-list-item\"><a class=\"interlanguage-link-target\" href=\"https://pt.wikipedia.org/wiki/Chatterbot\" hreflang=\"pt\" lang=\"pt\" title=\"Chatterbot – Portuguese\"><span>Português</span></a></li><li class=\"interlanguage-link interwiki-ro mw-list-item\"><a class=\"interlanguage-link-target\" href=\"https://ro.wikipedia.org/wiki/Chatbot\" hreflang=\"ro\" lang=\"ro\" title=\"Chatbot – Romanian\"><span>Română</span></a></li><li class=\"interlanguage-link interwiki-qu mw-list-item\"><a class=\"interlanguage-link-target\" href=\"https://qu.wikipedia.org/wiki/Rimanakuy_punqu\" hreflang=\"qu\" lang=\"qu\" title=\"Rimanakuy punqu – Quechua\"><span>Runa Simi</span></a></li><li class=\"interlanguage-link interwiki-ru mw-list-item\"><a class=\"interlanguage-link-target\" href=\"https://ru.wikipedia.org/wiki/%D0%92%D0%B8%D1%80%D1%82%D1%83%D0%B0%D0%BB%D1%8C%D0%BD%D1%8B%D0%B9_%D1%81%D0%BE%D0%B1%D0%B5%D1%81%D0%B5%D0%B4%D0%BD%D0%B8%D0%BA\" hreflang=\"ru\" lang=\"ru\" title=\"Виртуальный собеседник – Russian\"><span>Русский</span></a></li><li class=\"interlanguage-link interwiki-scn mw-list-item\"><a class=\"interlanguage-link-target\" href=\"https://scn.wikipedia.org/wiki/Bot_pi_ciaccirari\" hreflang=\"scn\" lang=\"scn\" title=\"Bot pi ciaccirari – Sicilian\"><span>Sicilianu</span></a></li><li class=\"interlanguage-link interwiki-simple mw-list-item\"><a class=\"interlanguage-link-target\" href=\"https://simple.wikipedia.org/wiki/Chatterbot\" hreflang=\"en-simple\" lang=\"en-simple\" title=\"Chatterbot – Simple English\"><span>Simple English</span></a></li><li class=\"interlanguage-link interwiki-sk mw-list-item\"><a class=\"interlanguage-link-target\" href=\"https://sk.wikipedia.org/wiki/Konverza%C4%8Dn%C3%BD_robot\" hreflang=\"sk\" lang=\"sk\" title=\"Konverzačný robot – Slovak\"><span>Slovenčina</span></a></li><li class=\"interlanguage-link interwiki-ckb mw-list-item\"><a class=\"interlanguage-link-target\" href=\"https://ckb.wikipedia.org/wiki/%DA%86%D8%A7%D8%AA%D8%A8%DB%86%D8%AA\" hreflang=\"ckb\" lang=\"ckb\" title=\"چاتبۆت – Central Kurdish\"><span>کوردی</span></a></li><li class=\"interlanguage-link interwiki-fi mw-list-item\"><a class=\"interlanguage-link-target\" href=\"https://fi.wikipedia.org/wiki/Keskustelubotti\" hreflang=\"fi\" lang=\"fi\" title=\"Keskustelubotti – Finnish\"><span>Suomi</span></a></li><li class=\"interlanguage-link interwiki-sv mw-list-item\"><a class=\"interlanguage-link-target\" href=\"https://sv.wikipedia.org/wiki/Textrobot\" hreflang=\"sv\" lang=\"sv\" title=\"Textrobot – Swedish\"><span>Svenska</span></a></li><li class=\"interlanguage-link interwiki-ta mw-list-item\"><a class=\"interlanguage-link-target\" href=\"https://ta.wikipedia.org/wiki/%E0%AE%85%E0%AE%B0%E0%AE%9F%E0%AF%8D%E0%AE%9F%E0%AF%88_%E0%AE%87%E0%AE%AF%E0%AE%B2%E0%AE%BF_(%E0%AE%AE%E0%AF%86%E0%AE%A9%E0%AF%8D%E0%AE%AA%E0%AF%8A%E0%AE%B0%E0%AF%81%E0%AE%B3%E0%AF%8D)\" hreflang=\"ta\" lang=\"ta\" title=\"அரட்டை இயலி (மென்பொருள்) – Tamil\"><span>தமிழ்</span></a></li><li class=\"interlanguage-link interwiki-te mw-list-item\"><a class=\"interlanguage-link-target\" href=\"https://te.wikipedia.org/wiki/%E0%B0%9A%E0%B0%BE%E0%B0%9F%E0%B1%8D%E2%80%8C%E0%B0%AC%E0%B0%BE%E0%B0%9F%E0%B1%8D\" hreflang=\"te\" lang=\"te\" title=\"చాట్‌బాట్ – Telugu\"><span>తెలుగు</span></a></li><li class=\"interlanguage-link interwiki-tr mw-list-item\"><a class=\"interlanguage-link-target\" href=\"https://tr.wikipedia.org/wiki/Sohbet_botu\" hreflang=\"tr\" lang=\"tr\" title=\"Sohbet botu – Turkish\"><span>Türkçe</span></a></li><li class=\"interlanguage-link interwiki-uk mw-list-item\"><a class=\"interlanguage-link-target\" href=\"https://uk.wikipedia.org/wiki/%D0%A7%D0%B0%D1%82-%D0%B1%D0%BE%D1%82\" hreflang=\"uk\" lang=\"uk\" title=\"Чат-бот – Ukrainian\"><span>Українська</span></a></li><li class=\"interlanguage-link interwiki-ug mw-list-item\"><a class=\"interlanguage-link-target\" href=\"https://ug.wikipedia.org/wiki/%D9%BE%D8%A7%D8%B1%D8%A7%DA%AD%DA%86%D9%89\" hreflang=\"ug\" lang=\"ug\" title=\"پاراڭچى – Uyghur\"><span>ئۇيغۇرچە / Uyghurche</span></a></li><li class=\"interlanguage-link interwiki-vi mw-list-item\"><a class=\"interlanguage-link-target\" href=\"https://vi.wikipedia.org/wiki/Chatbot\" hreflang=\"vi\" lang=\"vi\" title=\"Chatbot – Vietnamese\"><span>Tiếng Việt</span></a></li><li class=\"interlanguage-link interwiki-wuu mw-list-item\"><a class=\"interlanguage-link-target\" href=\"https://wuu.wikipedia.org/wiki/%E8%81%8A%E5%A4%A9%E6%9C%BA%E5%99%A8%E4%BA%BA\" hreflang=\"wuu\" lang=\"wuu\" title=\"聊天机器人 – Wu Chinese\"><span>吴语</span></a></li><li class=\"interlanguage-link interwiki-zh-yue mw-list-item\"><a class=\"interlanguage-link-target\" href=\"https://zh-yue.wikipedia.org/wiki/%E5%82%BE%E5%81%88%E6%A9%9F%E6%A2%B0%E4%BA%BA\" hreflang=\"yue\" lang=\"yue\" title=\"傾偈機械人 – Cantonese\"><span>粵語</span></a></li><li class=\"interlanguage-link interwiki-zh mw-list-item\"><a class=\"interlanguage-link-target\" href=\"https://zh.wikipedia.org/wiki/%E8%81%8A%E5%A4%A9%E6%A9%9F%E5%99%A8%E4%BA%BA\" hreflang=\"zh\" lang=\"zh\" title=\"聊天機器人 – Chinese\"><span>中文</span></a></li>\n",
              "</ul>\n",
              "<div class=\"after-portlet after-portlet-lang\"><span class=\"wb-langlinks-edit wb-langlinks-link\"><a class=\"wbc-editpage\" href=\"https://www.wikidata.org/wiki/Special:EntityPage/Q870780#sitelinks-wikipedia\" title=\"Edit interlanguage links\">Edit links</a></span></div>\n",
              "</div>\n",
              "</div>\n",
              "</div>\n",
              "</header>\n",
              "<div class=\"vector-page-toolbar\">\n",
              "<div class=\"vector-page-toolbar-container\">\n",
              "<div id=\"left-navigation\">\n",
              "<nav aria-label=\"Namespaces\">\n",
              "<div class=\"vector-menu vector-menu-tabs mw-portlet mw-portlet-associated-pages\" id=\"p-associated-pages\">\n",
              "<div class=\"vector-menu-content\">\n",
              "<ul class=\"vector-menu-content-list\">\n",
              "<li class=\"selected vector-tab-noicon mw-list-item\" id=\"ca-nstab-main\"><a accesskey=\"c\" href=\"/wiki/Chatbot\" title=\"View the content page [c]\"><span>Article</span></a></li><li class=\"vector-tab-noicon mw-list-item\" id=\"ca-talk\"><a accesskey=\"t\" href=\"/wiki/Talk:Chatbot\" rel=\"discussion\" title=\"Discuss improvements to the content page [t]\"><span>Talk</span></a></li>\n",
              "</ul>\n",
              "</div>\n",
              "</div>\n",
              "<div class=\"vector-dropdown emptyPortlet\" id=\"p-variants\">\n",
              "<input aria-haspopup=\"true\" aria-label=\"Change language variant\" class=\"vector-dropdown-checkbox\" data-event-name=\"ui.dropdown-p-variants\" id=\"p-variants-checkbox\" role=\"button\" type=\"checkbox\"/>\n",
              "<label aria-hidden=\"true\" class=\"vector-dropdown-label cdx-button cdx-button--fake-button cdx-button--fake-button--enabled cdx-button--weight-quiet\" for=\"p-variants-checkbox\" id=\"p-variants-label\"><span class=\"vector-dropdown-label-text\">English</span>\n",
              "</label>\n",
              "<div class=\"vector-dropdown-content\">\n",
              "<div class=\"vector-menu mw-portlet mw-portlet-variants emptyPortlet\" id=\"p-variants\">\n",
              "<div class=\"vector-menu-content\">\n",
              "<ul class=\"vector-menu-content-list\">\n",
              "</ul>\n",
              "</div>\n",
              "</div>\n",
              "</div>\n",
              "</div>\n",
              "</nav>\n",
              "</div>\n",
              "<div class=\"vector-collapsible\" id=\"right-navigation\">\n",
              "<nav aria-label=\"Views\">\n",
              "<div class=\"vector-menu vector-menu-tabs mw-portlet mw-portlet-views\" id=\"p-views\">\n",
              "<div class=\"vector-menu-content\">\n",
              "<ul class=\"vector-menu-content-list\">\n",
              "<li class=\"selected vector-tab-noicon mw-list-item\" id=\"ca-view\"><a href=\"/wiki/Chatbot\"><span>Read</span></a></li><li class=\"vector-tab-noicon mw-list-item\" id=\"ca-viewsource\"><a accesskey=\"e\" href=\"/w/index.php?title=Chatbot&amp;action=edit\" title=\"This page is protected.\n",
              "You can view its source [e]\"><span>View source</span></a></li><li class=\"vector-tab-noicon mw-list-item\" id=\"ca-history\"><a accesskey=\"h\" href=\"/w/index.php?title=Chatbot&amp;action=history\" title=\"Past revisions of this page [h]\"><span>View history</span></a></li>\n",
              "</ul>\n",
              "</div>\n",
              "</div>\n",
              "</nav>\n",
              "<nav aria-label=\"Page tools\" class=\"vector-page-tools-landmark\">\n",
              "<div class=\"vector-dropdown vector-page-tools-dropdown\" id=\"vector-page-tools-dropdown\">\n",
              "<input aria-haspopup=\"true\" aria-label=\"Tools\" class=\"vector-dropdown-checkbox\" data-event-name=\"ui.dropdown-vector-page-tools-dropdown\" id=\"vector-page-tools-dropdown-checkbox\" role=\"button\" type=\"checkbox\"/>\n",
              "<label aria-hidden=\"true\" class=\"vector-dropdown-label cdx-button cdx-button--fake-button cdx-button--fake-button--enabled cdx-button--weight-quiet\" for=\"vector-page-tools-dropdown-checkbox\" id=\"vector-page-tools-dropdown-label\"><span class=\"vector-dropdown-label-text\">Tools</span>\n",
              "</label>\n",
              "<div class=\"vector-dropdown-content\">\n",
              "<div class=\"vector-unpinned-container\" id=\"vector-page-tools-unpinned-container\">\n",
              "<div class=\"vector-page-tools vector-pinnable-element\" id=\"vector-page-tools\">\n",
              "<div class=\"vector-pinnable-header vector-page-tools-pinnable-header vector-pinnable-header-unpinned\" data-feature-name=\"page-tools-pinned\" data-pinnable-element-id=\"vector-page-tools\" data-pinned-container-id=\"vector-page-tools-pinned-container\" data-unpinned-container-id=\"vector-page-tools-unpinned-container\">\n",
              "<div class=\"vector-pinnable-header-label\">Tools</div>\n",
              "<button class=\"vector-pinnable-header-toggle-button vector-pinnable-header-pin-button\" data-event-name=\"pinnable-header.vector-page-tools.pin\">move to sidebar</button>\n",
              "<button class=\"vector-pinnable-header-toggle-button vector-pinnable-header-unpin-button\" data-event-name=\"pinnable-header.vector-page-tools.unpin\">hide</button>\n",
              "</div>\n",
              "<div class=\"vector-menu mw-portlet mw-portlet-cactions emptyPortlet vector-has-collapsible-items\" id=\"p-cactions\" title=\"More options\">\n",
              "<div class=\"vector-menu-heading\">\n",
              "\t\tActions\n",
              "\t</div>\n",
              "<div class=\"vector-menu-content\">\n",
              "<ul class=\"vector-menu-content-list\">\n",
              "<li class=\"selected vector-more-collapsible-item mw-list-item\" id=\"ca-more-view\"><a href=\"/wiki/Chatbot\"><span>Read</span></a></li><li class=\"vector-more-collapsible-item mw-list-item\" id=\"ca-more-viewsource\"><a href=\"/w/index.php?title=Chatbot&amp;action=edit\"><span>View source</span></a></li><li class=\"vector-more-collapsible-item mw-list-item\" id=\"ca-more-history\"><a href=\"/w/index.php?title=Chatbot&amp;action=history\"><span>View history</span></a></li>\n",
              "</ul>\n",
              "</div>\n",
              "</div>\n",
              "<div class=\"vector-menu mw-portlet mw-portlet-tb\" id=\"p-tb\">\n",
              "<div class=\"vector-menu-heading\">\n",
              "\t\tGeneral\n",
              "\t</div>\n",
              "<div class=\"vector-menu-content\">\n",
              "<ul class=\"vector-menu-content-list\">\n",
              "<li class=\"mw-list-item\" id=\"t-whatlinkshere\"><a accesskey=\"j\" href=\"/wiki/Special:WhatLinksHere/Chatbot\" title=\"List of all English Wikipedia pages containing links to this page [j]\"><span>What links here</span></a></li><li class=\"mw-list-item\" id=\"t-recentchangeslinked\"><a accesskey=\"k\" href=\"/wiki/Special:RecentChangesLinked/Chatbot\" rel=\"nofollow\" title=\"Recent changes in pages linked from this page [k]\"><span>Related changes</span></a></li><li class=\"mw-list-item\" id=\"t-upload\"><a accesskey=\"u\" href=\"/wiki/Wikipedia:File_Upload_Wizard\" title=\"Upload files [u]\"><span>Upload file</span></a></li><li class=\"mw-list-item\" id=\"t-specialpages\"><a accesskey=\"q\" href=\"/wiki/Special:SpecialPages\" title=\"A list of all special pages [q]\"><span>Special pages</span></a></li><li class=\"mw-list-item\" id=\"t-permalink\"><a href=\"/w/index.php?title=Chatbot&amp;oldid=1178442752\" title=\"Permanent link to this revision of this page\"><span>Permanent link</span></a></li><li class=\"mw-list-item\" id=\"t-info\"><a href=\"/w/index.php?title=Chatbot&amp;action=info\" title=\"More information about this page\"><span>Page information</span></a></li><li class=\"mw-list-item\" id=\"t-cite\"><a href=\"/w/index.php?title=Special:CiteThisPage&amp;page=Chatbot&amp;id=1178442752&amp;wpFormIdentifier=titleform\" title=\"Information on how to cite this page\"><span>Cite this page</span></a></li><li class=\"mw-list-item\" id=\"t-urlshortener\"><a href=\"/w/index.php?title=Special:UrlShortener&amp;url=https%3A%2F%2Fen.wikipedia.org%2Fwiki%2FChatbot\"><span>Get shortened URL</span></a></li><li class=\"mw-list-item\" id=\"t-wikibase\"><a accesskey=\"g\" href=\"https://www.wikidata.org/wiki/Special:EntityPage/Q870780\" title=\"Structured data on this page hosted by Wikidata [g]\"><span>Wikidata item</span></a></li>\n",
              "</ul>\n",
              "</div>\n",
              "</div>\n",
              "<div class=\"vector-menu mw-portlet mw-portlet-coll-print_export\" id=\"p-coll-print_export\">\n",
              "<div class=\"vector-menu-heading\">\n",
              "\t\tPrint/export\n",
              "\t</div>\n",
              "<div class=\"vector-menu-content\">\n",
              "<ul class=\"vector-menu-content-list\">\n",
              "<li class=\"mw-list-item\" id=\"coll-download-as-rl\"><a href=\"/w/index.php?title=Special:DownloadAsPdf&amp;page=Chatbot&amp;action=show-download-screen\" title=\"Download this page as a PDF file\"><span>Download as PDF</span></a></li><li class=\"mw-list-item\" id=\"t-print\"><a accesskey=\"p\" href=\"/w/index.php?title=Chatbot&amp;printable=yes\" title=\"Printable version of this page [p]\"><span>Printable version</span></a></li>\n",
              "</ul>\n",
              "</div>\n",
              "</div>\n",
              "<div class=\"vector-menu mw-portlet mw-portlet-wikibase-otherprojects\" id=\"p-wikibase-otherprojects\">\n",
              "<div class=\"vector-menu-heading\">\n",
              "\t\tIn other projects\n",
              "\t</div>\n",
              "<div class=\"vector-menu-content\">\n",
              "<ul class=\"vector-menu-content-list\">\n",
              "<li class=\"wb-otherproject-link wb-otherproject-commons mw-list-item\"><a href=\"https://commons.wikimedia.org/wiki/Category:Chatbots\" hreflang=\"en\"><span>Wikimedia Commons</span></a></li><li class=\"wb-otherproject-link wb-otherproject-wikibooks mw-list-item\"><a href=\"https://en.wikibooks.org/wiki/Conversational_bots\" hreflang=\"en\"><span>Wikibooks</span></a></li>\n",
              "</ul>\n",
              "</div>\n",
              "</div>\n",
              "</div>\n",
              "</div>\n",
              "</div>\n",
              "</div>\n",
              "</nav>\n",
              "</div>\n",
              "</div>\n",
              "</div>\n",
              "<div class=\"vector-column-end\">\n",
              "<nav aria-label=\"Page tools\" class=\"vector-page-tools-landmark vector-sticky-pinned-container\">\n",
              "<div class=\"vector-pinned-container\" id=\"vector-page-tools-pinned-container\">\n",
              "</div>\n",
              "</nav>\n",
              "</div>\n",
              "<div aria-labelledby=\"firstHeading\" class=\"vector-body\" data-mw-ve-target-container=\"\" id=\"bodyContent\">\n",
              "<div class=\"vector-body-before-content\">\n",
              "<div class=\"mw-indicators\">\n",
              "<div class=\"mw-indicator\" id=\"mw-indicator-pp-default\"><div class=\"mw-parser-output\"><span typeof=\"mw:File\"><a href=\"/wiki/Wikipedia:Protection_policy#semi\" title=\"This article is semi-protected until February 24, 2024 at 02:55 UTC.\"><img alt=\"Page semi-protected\" class=\"mw-file-element\" data-file-height=\"512\" data-file-width=\"512\" decoding=\"async\" height=\"20\" src=\"//upload.wikimedia.org/wikipedia/en/thumb/1/1b/Semi-protection-shackle.svg/20px-Semi-protection-shackle.svg.png\" srcset=\"//upload.wikimedia.org/wikipedia/en/thumb/1/1b/Semi-protection-shackle.svg/30px-Semi-protection-shackle.svg.png 1.5x, //upload.wikimedia.org/wikipedia/en/thumb/1/1b/Semi-protection-shackle.svg/40px-Semi-protection-shackle.svg.png 2x\" width=\"20\"/></a></span></div></div>\n",
              "</div>\n",
              "<div class=\"noprint\" id=\"siteSub\">From Wikipedia, the free encyclopedia</div>\n",
              "</div>\n",
              "<div id=\"contentSub\"><div id=\"mw-content-subtitle\"></div></div>\n",
              "<div class=\"mw-body-content mw-content-ltr\" dir=\"ltr\" id=\"mw-content-text\" lang=\"en\"><div class=\"mw-parser-output\"><div class=\"shortdescription nomobile noexcerpt noprint searchaux\" style=\"display:none\">Program that simulates conversation</div>\n",
              "<style data-mw-deduplicate=\"TemplateStyles:r1033289096\">.mw-parser-output .hatnote{font-style:italic}.mw-parser-output div.hatnote{padding-left:1.6em;margin-bottom:0.5em}.mw-parser-output .hatnote i{font-style:normal}.mw-parser-output .hatnote+link+.hatnote{margin-top:-0.5em}</style><div class=\"hatnote navigation-not-searchable\" role=\"note\">For other uses, see <a class=\"mw-disambig\" href=\"/wiki/Chatbot_(disambiguation)\" title=\"Chatbot (disambiguation)\">Chatbot (disambiguation)</a>.</div>\n",
              "<p class=\"mw-empty-elt\">\n",
              "</p>\n",
              "<style data-mw-deduplicate=\"TemplateStyles:r1097763485\">.mw-parser-output .ambox{border:1px solid #a2a9b1;border-left:10px solid #36c;background-color:#fbfbfb;box-sizing:border-box}.mw-parser-output .ambox+link+.ambox,.mw-parser-output .ambox+link+style+.ambox,.mw-parser-output .ambox+link+link+.ambox,.mw-parser-output .ambox+.mw-empty-elt+link+.ambox,.mw-parser-output .ambox+.mw-empty-elt+link+style+.ambox,.mw-parser-output .ambox+.mw-empty-elt+link+link+.ambox{margin-top:-1px}html body.mediawiki .mw-parser-output .ambox.mbox-small-left{margin:4px 1em 4px 0;overflow:hidden;width:238px;border-collapse:collapse;font-size:88%;line-height:1.25em}.mw-parser-output .ambox-speedy{border-left:10px solid #b32424;background-color:#fee7e6}.mw-parser-output .ambox-delete{border-left:10px solid #b32424}.mw-parser-output .ambox-content{border-left:10px solid #f28500}.mw-parser-output .ambox-style{border-left:10px solid #fc3}.mw-parser-output .ambox-move{border-left:10px solid #9932cc}.mw-parser-output .ambox-protection{border-left:10px solid #a2a9b1}.mw-parser-output .ambox .mbox-text{border:none;padding:0.25em 0.5em;width:100%}.mw-parser-output .ambox .mbox-image{border:none;padding:2px 0 2px 0.5em;text-align:center}.mw-parser-output .ambox .mbox-imageright{border:none;padding:2px 0.5em 2px 0;text-align:center}.mw-parser-output .ambox .mbox-empty-cell{border:none;padding:0;width:1px}.mw-parser-output .ambox .mbox-image-div{width:52px}html.client-js body.skin-minerva .mw-parser-output .mbox-text-span{margin-left:23px!important}@media(min-width:720px){.mw-parser-output .ambox{margin:0 10%}}</style><table class=\"box-Update plainlinks metadata ambox ambox-content ambox-Update\" role=\"presentation\"><tbody><tr><td class=\"mbox-image\"><div class=\"mbox-image-div\"><span typeof=\"mw:File\"><span><img alt=\"\" class=\"mw-file-element\" data-file-height=\"290\" data-file-width=\"360\" decoding=\"async\" height=\"34\" src=\"//upload.wikimedia.org/wikipedia/commons/thumb/5/53/Ambox_current_red_Americas.svg/42px-Ambox_current_red_Americas.svg.png\" srcset=\"//upload.wikimedia.org/wikipedia/commons/thumb/5/53/Ambox_current_red_Americas.svg/63px-Ambox_current_red_Americas.svg.png 1.5x, //upload.wikimedia.org/wikipedia/commons/thumb/5/53/Ambox_current_red_Americas.svg/84px-Ambox_current_red_Americas.svg.png 2x\" width=\"42\"/></span></span></div></td><td class=\"mbox-text\"><div class=\"mbox-text-span\">Parts of this article (those related to everything, particularly sections after the intro) need to be <b>updated</b>. The reason given is: this article is using citations from 1970 and virtually all claims about conversational capabilities are at least ten years out of date (for example the Turing test was arguably made obsolete years ago by transformer models).<span class=\"hide-when-compact\"> Please help update this article to reflect recent events or newly available information.</span> <span class=\"date-container\"><i>(<span class=\"date\">February 2023</span>)</i></span></div></td></tr></tbody></table>\n",
              "<figure class=\"mw-default-size\" typeof=\"mw:File/Thumb\"><a class=\"mw-file-description\" href=\"/wiki/File:FRIDA_(FReedom_of_Information_Digital_Assistant)_welcome_interface_(May_2023).png\"><img class=\"mw-file-element\" data-file-height=\"2340\" data-file-width=\"1080\" decoding=\"async\" height=\"477\" src=\"//upload.wikimedia.org/wikipedia/commons/thumb/e/ed/FRIDA_%28FReedom_of_Information_Digital_Assistant%29_welcome_interface_%28May_2023%29.png/220px-FRIDA_%28FReedom_of_Information_Digital_Assistant%29_welcome_interface_%28May_2023%29.png\" srcset=\"//upload.wikimedia.org/wikipedia/commons/thumb/e/ed/FRIDA_%28FReedom_of_Information_Digital_Assistant%29_welcome_interface_%28May_2023%29.png/330px-FRIDA_%28FReedom_of_Information_Digital_Assistant%29_welcome_interface_%28May_2023%29.png 1.5x, //upload.wikimedia.org/wikipedia/commons/thumb/e/ed/FRIDA_%28FReedom_of_Information_Digital_Assistant%29_welcome_interface_%28May_2023%29.png/440px-FRIDA_%28FReedom_of_Information_Digital_Assistant%29_welcome_interface_%28May_2023%29.png 2x\" width=\"220\"/></a><figcaption>A <a href=\"/wiki/Virtual_assistant\" title=\"Virtual assistant\">virtual assistant</a> chatbot</figcaption></figure>\n",
              "<figure class=\"mw-default-size\" typeof=\"mw:File/Thumb\"><a class=\"mw-file-description\" href=\"/wiki/File:ELIZA_conversation.png\"><img class=\"mw-file-element\" data-file-height=\"487\" data-file-width=\"751\" decoding=\"async\" height=\"143\" src=\"//upload.wikimedia.org/wikipedia/commons/thumb/7/79/ELIZA_conversation.png/220px-ELIZA_conversation.png\" srcset=\"//upload.wikimedia.org/wikipedia/commons/thumb/7/79/ELIZA_conversation.png/330px-ELIZA_conversation.png 1.5x, //upload.wikimedia.org/wikipedia/commons/thumb/7/79/ELIZA_conversation.png/440px-ELIZA_conversation.png 2x\" width=\"220\"/></a><figcaption>The 1966 <a href=\"/wiki/ELIZA\" title=\"ELIZA\">ELIZA</a> chatbot</figcaption></figure>\n",
              "<style data-mw-deduplicate=\"TemplateStyles:r1129693374\">.mw-parser-output .hlist dl,.mw-parser-output .hlist ol,.mw-parser-output .hlist ul{margin:0;padding:0}.mw-parser-output .hlist dd,.mw-parser-output .hlist dt,.mw-parser-output .hlist li{margin:0;display:inline}.mw-parser-output .hlist.inline,.mw-parser-output .hlist.inline dl,.mw-parser-output .hlist.inline ol,.mw-parser-output .hlist.inline ul,.mw-parser-output .hlist dl dl,.mw-parser-output .hlist dl ol,.mw-parser-output .hlist dl ul,.mw-parser-output .hlist ol dl,.mw-parser-output .hlist ol ol,.mw-parser-output .hlist ol ul,.mw-parser-output .hlist ul dl,.mw-parser-output .hlist ul ol,.mw-parser-output .hlist ul ul{display:inline}.mw-parser-output .hlist .mw-empty-li{display:none}.mw-parser-output .hlist dt::after{content:\": \"}.mw-parser-output .hlist dd::after,.mw-parser-output .hlist li::after{content:\" · \";font-weight:bold}.mw-parser-output .hlist dd:last-child::after,.mw-parser-output .hlist dt:last-child::after,.mw-parser-output .hlist li:last-child::after{content:none}.mw-parser-output .hlist dd dd:first-child::before,.mw-parser-output .hlist dd dt:first-child::before,.mw-parser-output .hlist dd li:first-child::before,.mw-parser-output .hlist dt dd:first-child::before,.mw-parser-output .hlist dt dt:first-child::before,.mw-parser-output .hlist dt li:first-child::before,.mw-parser-output .hlist li dd:first-child::before,.mw-parser-output .hlist li dt:first-child::before,.mw-parser-output .hlist li li:first-child::before{content:\" (\";font-weight:normal}.mw-parser-output .hlist dd dd:last-child::after,.mw-parser-output .hlist dd dt:last-child::after,.mw-parser-output .hlist dd li:last-child::after,.mw-parser-output .hlist dt dd:last-child::after,.mw-parser-output .hlist dt dt:last-child::after,.mw-parser-output .hlist dt li:last-child::after,.mw-parser-output .hlist li dd:last-child::after,.mw-parser-output .hlist li dt:last-child::after,.mw-parser-output .hlist li li:last-child::after{content:\")\";font-weight:normal}.mw-parser-output .hlist ol{counter-reset:listitem}.mw-parser-output .hlist ol>li{counter-increment:listitem}.mw-parser-output .hlist ol>li::before{content:\" \"counter(listitem)\"\\a0 \"}.mw-parser-output .hlist dd ol>li:first-child::before,.mw-parser-output .hlist dt ol>li:first-child::before,.mw-parser-output .hlist li ol>li:first-child::before{content:\" (\"counter(listitem)\"\\a0 \"}</style><style data-mw-deduplicate=\"TemplateStyles:r1045330069\">.mw-parser-output .sidebar{width:22em;float:right;clear:right;margin:0.5em 0 1em 1em;background:#f8f9fa;border:1px solid #aaa;padding:0.2em;text-align:center;line-height:1.4em;font-size:88%;border-collapse:collapse;display:table}body.skin-minerva .mw-parser-output .sidebar{display:table!important;float:right!important;margin:0.5em 0 1em 1em!important}.mw-parser-output .sidebar-subgroup{width:100%;margin:0;border-spacing:0}.mw-parser-output .sidebar-left{float:left;clear:left;margin:0.5em 1em 1em 0}.mw-parser-output .sidebar-none{float:none;clear:both;margin:0.5em 1em 1em 0}.mw-parser-output .sidebar-outer-title{padding:0 0.4em 0.2em;font-size:125%;line-height:1.2em;font-weight:bold}.mw-parser-output .sidebar-top-image{padding:0.4em}.mw-parser-output .sidebar-top-caption,.mw-parser-output .sidebar-pretitle-with-top-image,.mw-parser-output .sidebar-caption{padding:0.2em 0.4em 0;line-height:1.2em}.mw-parser-output .sidebar-pretitle{padding:0.4em 0.4em 0;line-height:1.2em}.mw-parser-output .sidebar-title,.mw-parser-output .sidebar-title-with-pretitle{padding:0.2em 0.8em;font-size:145%;line-height:1.2em}.mw-parser-output .sidebar-title-with-pretitle{padding:0.1em 0.4em}.mw-parser-output .sidebar-image{padding:0.2em 0.4em 0.4em}.mw-parser-output .sidebar-heading{padding:0.1em 0.4em}.mw-parser-output .sidebar-content{padding:0 0.5em 0.4em}.mw-parser-output .sidebar-content-with-subgroup{padding:0.1em 0.4em 0.2em}.mw-parser-output .sidebar-above,.mw-parser-output .sidebar-below{padding:0.3em 0.8em;font-weight:bold}.mw-parser-output .sidebar-collapse .sidebar-above,.mw-parser-output .sidebar-collapse .sidebar-below{border-top:1px solid #aaa;border-bottom:1px solid #aaa}.mw-parser-output .sidebar-navbar{text-align:right;font-size:115%;padding:0 0.4em 0.4em}.mw-parser-output .sidebar-list-title{padding:0 0.4em;text-align:left;font-weight:bold;line-height:1.6em;font-size:105%}.mw-parser-output .sidebar-list-title-c{padding:0 0.4em;text-align:center;margin:0 3.3em}@media(max-width:720px){body.mediawiki .mw-parser-output .sidebar{width:100%!important;clear:both;float:none!important;margin-left:0!important;margin-right:0!important}}</style><style data-mw-deduplicate=\"TemplateStyles:r886047488\">.mw-parser-output .nobold{font-weight:normal}</style><link href=\"mw-data:TemplateStyles:r886047488\" rel=\"mw-deduplicated-inline-style\"/><table class=\"sidebar sidebar-collapse nomobile nowraplinks\"><tbody><tr><td class=\"sidebar-pretitle\">Part of a series on</td></tr><tr><th class=\"sidebar-title-with-pretitle\"><a href=\"/wiki/Machine_learning\" title=\"Machine learning\">Machine learning</a><br/>and <a href=\"/wiki/Data_mining\" title=\"Data mining\">data mining</a></th></tr><tr><td class=\"sidebar-image\"><span class=\"mw-default-size\" typeof=\"mw:File/Frameless\"><a class=\"mw-file-description\" href=\"/wiki/File:Neural_network_with_dark_background.png\" title=\"An illustration of a neural network with dark\"><img alt=\"An illustration of a neural network with dark\" class=\"mw-file-element\" data-file-height=\"1039\" data-file-width=\"1280\" decoding=\"async\" height=\"179\" src=\"//upload.wikimedia.org/wikipedia/commons/thumb/0/02/Neural_network_with_dark_background.png/220px-Neural_network_with_dark_background.png\" srcset=\"//upload.wikimedia.org/wikipedia/commons/thumb/0/02/Neural_network_with_dark_background.png/330px-Neural_network_with_dark_background.png 1.5x, //upload.wikimedia.org/wikipedia/commons/thumb/0/02/Neural_network_with_dark_background.png/440px-Neural_network_with_dark_background.png 2x\" width=\"220\"/></a></span></td></tr><tr><td class=\"sidebar-content\">\n",
              "<div class=\"sidebar-list mw-collapsible mw-collapsed\"><div class=\"sidebar-list-title\" style=\"border-top:1px solid #aaa;text-align:center; background:#ddd;\">Paradigms</div><div class=\"sidebar-list-content mw-collapsible-content hlist\">\n",
              "<ul><li><a href=\"/wiki/Supervised_learning\" title=\"Supervised learning\">Supervised learning</a></li>\n",
              "<li><a href=\"/wiki/Unsupervised_learning\" title=\"Unsupervised learning\">Unsupervised learning</a></li>\n",
              "<li><a href=\"/wiki/Online_machine_learning\" title=\"Online machine learning\">Online learning</a></li>\n",
              "<li><a class=\"mw-redirect\" href=\"/wiki/Batch_learning\" title=\"Batch learning\">Batch learning</a></li>\n",
              "<li><a href=\"/wiki/Meta-learning_(computer_science)\" title=\"Meta-learning (computer science)\">Meta-learning</a></li>\n",
              "<li><a class=\"mw-redirect\" href=\"/wiki/Semi-supervised_learning\" title=\"Semi-supervised learning\">Semi-supervised learning</a></li>\n",
              "<li><a href=\"/wiki/Self-supervised_learning\" title=\"Self-supervised learning\">Self-supervised learning</a></li>\n",
              "<li><a href=\"/wiki/Reinforcement_learning\" title=\"Reinforcement learning\">Reinforcement learning</a></li>\n",
              "<li><a href=\"/wiki/Rule-based_machine_learning\" title=\"Rule-based machine learning\">Rule-based learning</a></li>\n",
              "<li><a href=\"/wiki/Quantum_machine_learning\" title=\"Quantum machine learning\">Quantum machine learning</a></li></ul></div></div></td>\n",
              "</tr><tr><td class=\"sidebar-content\">\n",
              "<div class=\"sidebar-list mw-collapsible mw-collapsed\"><div class=\"sidebar-list-title\" style=\"border-top:1px solid #aaa;text-align:center; background:#ddd;\">Problems</div><div class=\"sidebar-list-content mw-collapsible-content hlist\">\n",
              "<ul><li><a href=\"/wiki/Statistical_classification\" title=\"Statistical classification\">Classification</a></li>\n",
              "<li><a href=\"/wiki/Generative_model\" title=\"Generative model\">Generative model</a></li>\n",
              "<li><a href=\"/wiki/Regression_analysis\" title=\"Regression analysis\">Regression</a></li>\n",
              "<li><a href=\"/wiki/Cluster_analysis\" title=\"Cluster analysis\">Clustering</a></li>\n",
              "<li><a href=\"/wiki/Dimensionality_reduction\" title=\"Dimensionality reduction\">dimension reduction</a></li>\n",
              "<li><a href=\"/wiki/Density_estimation\" title=\"Density estimation\">density estimation</a></li>\n",
              "<li><a href=\"/wiki/Anomaly_detection\" title=\"Anomaly detection\">Anomaly detection</a></li>\n",
              "<li><a class=\"mw-redirect\" href=\"/wiki/Data_Cleaning\" title=\"Data Cleaning\">Data Cleaning</a></li>\n",
              "<li><a href=\"/wiki/Automated_machine_learning\" title=\"Automated machine learning\">AutoML</a></li>\n",
              "<li><a href=\"/wiki/Association_rule_learning\" title=\"Association rule learning\">Association rules</a></li>\n",
              "<li><a href=\"/wiki/Semantic_analysis_(machine_learning)\" title=\"Semantic analysis (machine learning)\">Semantic analysis</a></li>\n",
              "<li><a href=\"/wiki/Structured_prediction\" title=\"Structured prediction\">Structured prediction</a></li>\n",
              "<li><a href=\"/wiki/Feature_engineering\" title=\"Feature engineering\">Feature engineering</a></li>\n",
              "<li><a href=\"/wiki/Feature_learning\" title=\"Feature learning\">Feature learning</a></li>\n",
              "<li><a href=\"/wiki/Learning_to_rank\" title=\"Learning to rank\">Learning to rank</a></li>\n",
              "<li><a href=\"/wiki/Grammar_induction\" title=\"Grammar induction\">Grammar induction</a></li>\n",
              "<li><a href=\"/wiki/Ontology_learning\" title=\"Ontology learning\">Ontology learning</a></li>\n",
              "<li><a href=\"/wiki/Multimodal_learning\" title=\"Multimodal learning\">Multimodal learning</a></li></ul></div></div></td>\n",
              "</tr><tr><td class=\"sidebar-content\">\n",
              "<div class=\"sidebar-list mw-collapsible mw-collapsed\"><div class=\"sidebar-list-title\" style=\"border-top:1px solid #aaa;text-align:center; background:#ddd;\"><div style=\"display: inline-block; line-height: 1.2em; padding: .1em 0;\"><a href=\"/wiki/Supervised_learning\" title=\"Supervised learning\">Supervised learning</a><br/><span class=\"nobold\"><span style=\"font-size:85%;\">(<b><a href=\"/wiki/Statistical_classification\" title=\"Statistical classification\">classification</a></b> • <b><a href=\"/wiki/Regression_analysis\" title=\"Regression analysis\">regression</a></b>)</span></span> </div></div><div class=\"sidebar-list-content mw-collapsible-content hlist\">\n",
              "<ul><li><a href=\"/wiki/Apprenticeship_learning\" title=\"Apprenticeship learning\">Apprenticeship learning</a></li>\n",
              "<li><a href=\"/wiki/Decision_tree_learning\" title=\"Decision tree learning\">Decision trees</a></li>\n",
              "<li><a href=\"/wiki/Ensemble_learning\" title=\"Ensemble learning\">Ensembles</a>\n",
              "<ul><li><a href=\"/wiki/Bootstrap_aggregating\" title=\"Bootstrap aggregating\">Bagging</a></li>\n",
              "<li><a href=\"/wiki/Boosting_(machine_learning)\" title=\"Boosting (machine learning)\">Boosting</a></li>\n",
              "<li><a href=\"/wiki/Random_forest\" title=\"Random forest\">Random forest</a></li></ul></li>\n",
              "<li><a href=\"/wiki/K-nearest_neighbors_algorithm\" title=\"K-nearest neighbors algorithm\"><i>k</i>-NN</a></li>\n",
              "<li><a href=\"/wiki/Linear_regression\" title=\"Linear regression\">Linear regression</a></li>\n",
              "<li><a href=\"/wiki/Naive_Bayes_classifier\" title=\"Naive Bayes classifier\">Naive Bayes</a></li>\n",
              "<li><a href=\"/wiki/Artificial_neural_network\" title=\"Artificial neural network\">Artificial neural networks</a></li>\n",
              "<li><a href=\"/wiki/Logistic_regression\" title=\"Logistic regression\">Logistic regression</a></li>\n",
              "<li><a href=\"/wiki/Perceptron\" title=\"Perceptron\">Perceptron</a></li>\n",
              "<li><a href=\"/wiki/Relevance_vector_machine\" title=\"Relevance vector machine\">Relevance vector machine (RVM)</a></li>\n",
              "<li><a href=\"/wiki/Support_vector_machine\" title=\"Support vector machine\">Support vector machine (SVM)</a></li></ul></div></div></td>\n",
              "</tr><tr><td class=\"sidebar-content\">\n",
              "<div class=\"sidebar-list mw-collapsible mw-collapsed\"><div class=\"sidebar-list-title\" style=\"border-top:1px solid #aaa;text-align:center; background:#ddd;\"><a href=\"/wiki/Cluster_analysis\" title=\"Cluster analysis\">Clustering</a></div><div class=\"sidebar-list-content mw-collapsible-content hlist\">\n",
              "<ul><li><a href=\"/wiki/BIRCH\" title=\"BIRCH\">BIRCH</a></li>\n",
              "<li><a href=\"/wiki/CURE_algorithm\" title=\"CURE algorithm\">CURE</a></li>\n",
              "<li><a href=\"/wiki/Hierarchical_clustering\" title=\"Hierarchical clustering\">Hierarchical</a></li>\n",
              "<li><a href=\"/wiki/K-means_clustering\" title=\"K-means clustering\"><i>k</i>-means</a></li>\n",
              "<li><a href=\"/wiki/Fuzzy_clustering\" title=\"Fuzzy clustering\">Fuzzy</a></li>\n",
              "<li><a href=\"/wiki/Expectation%E2%80%93maximization_algorithm\" title=\"Expectation–maximization algorithm\">Expectation–maximization (EM)</a></li>\n",
              "<li><br/><a href=\"/wiki/DBSCAN\" title=\"DBSCAN\">DBSCAN</a></li>\n",
              "<li><a href=\"/wiki/OPTICS_algorithm\" title=\"OPTICS algorithm\">OPTICS</a></li>\n",
              "<li><a href=\"/wiki/Mean_shift\" title=\"Mean shift\">Mean shift</a></li></ul></div></div></td>\n",
              "</tr><tr><td class=\"sidebar-content\">\n",
              "<div class=\"sidebar-list mw-collapsible mw-collapsed\"><div class=\"sidebar-list-title\" style=\"border-top:1px solid #aaa;text-align:center; background:#ddd;\"><a href=\"/wiki/Dimensionality_reduction\" title=\"Dimensionality reduction\">Dimensionality reduction</a></div><div class=\"sidebar-list-content mw-collapsible-content hlist\">\n",
              "<ul><li><a href=\"/wiki/Factor_analysis\" title=\"Factor analysis\">Factor analysis</a></li>\n",
              "<li><a href=\"/wiki/Canonical_correlation\" title=\"Canonical correlation\">CCA</a></li>\n",
              "<li><a href=\"/wiki/Independent_component_analysis\" title=\"Independent component analysis\">ICA</a></li>\n",
              "<li><a href=\"/wiki/Linear_discriminant_analysis\" title=\"Linear discriminant analysis\">LDA</a></li>\n",
              "<li><a href=\"/wiki/Non-negative_matrix_factorization\" title=\"Non-negative matrix factorization\">NMF</a></li>\n",
              "<li><a href=\"/wiki/Principal_component_analysis\" title=\"Principal component analysis\">PCA</a></li>\n",
              "<li><a href=\"/wiki/Proper_generalized_decomposition\" title=\"Proper generalized decomposition\">PGD</a></li>\n",
              "<li><a href=\"/wiki/T-distributed_stochastic_neighbor_embedding\" title=\"T-distributed stochastic neighbor embedding\">t-SNE</a></li>\n",
              "<li><a href=\"/wiki/Sparse_dictionary_learning\" title=\"Sparse dictionary learning\">SDL</a></li></ul></div></div></td>\n",
              "</tr><tr><td class=\"sidebar-content\">\n",
              "<div class=\"sidebar-list mw-collapsible mw-collapsed\"><div class=\"sidebar-list-title\" style=\"border-top:1px solid #aaa;text-align:center; background:#ddd;\"><a href=\"/wiki/Structured_prediction\" title=\"Structured prediction\">Structured prediction</a></div><div class=\"sidebar-list-content mw-collapsible-content hlist\">\n",
              "<ul><li><a href=\"/wiki/Graphical_model\" title=\"Graphical model\">Graphical models</a>\n",
              "<ul><li><a href=\"/wiki/Bayesian_network\" title=\"Bayesian network\">Bayes net</a></li>\n",
              "<li><a href=\"/wiki/Conditional_random_field\" title=\"Conditional random field\">Conditional random field</a></li>\n",
              "<li><a href=\"/wiki/Hidden_Markov_model\" title=\"Hidden Markov model\">Hidden Markov</a></li></ul></li></ul></div></div></td>\n",
              "</tr><tr><td class=\"sidebar-content\">\n",
              "<div class=\"sidebar-list mw-collapsible mw-collapsed\"><div class=\"sidebar-list-title\" style=\"border-top:1px solid #aaa;text-align:center; background:#ddd;\"><a href=\"/wiki/Anomaly_detection\" title=\"Anomaly detection\">Anomaly detection</a></div><div class=\"sidebar-list-content mw-collapsible-content hlist\">\n",
              "<ul><li><a href=\"/wiki/Random_sample_consensus\" title=\"Random sample consensus\">RANSAC</a></li>\n",
              "<li><a href=\"/wiki/K-nearest_neighbors_algorithm\" title=\"K-nearest neighbors algorithm\"><i>k</i>-NN</a></li>\n",
              "<li><a href=\"/wiki/Local_outlier_factor\" title=\"Local outlier factor\">Local outlier factor</a></li>\n",
              "<li><a href=\"/wiki/Isolation_forest\" title=\"Isolation forest\">Isolation forest</a></li></ul></div></div></td>\n",
              "</tr><tr><td class=\"sidebar-content\">\n",
              "<div class=\"sidebar-list mw-collapsible\"><div class=\"sidebar-list-title\" style=\"border-top:1px solid #aaa;text-align:center; background:#ddd;\"><a href=\"/wiki/Artificial_neural_network\" title=\"Artificial neural network\">Artificial neural network</a></div><div class=\"sidebar-list-content mw-collapsible-content hlist\">\n",
              "<ul><li><a href=\"/wiki/Autoencoder\" title=\"Autoencoder\">Autoencoder</a></li>\n",
              "<li><a href=\"/wiki/Cognitive_computing\" title=\"Cognitive computing\">Cognitive computing</a></li>\n",
              "<li><a href=\"/wiki/Deep_learning\" title=\"Deep learning\">Deep learning</a></li>\n",
              "<li><a href=\"/wiki/DeepDream\" title=\"DeepDream\">DeepDream</a></li>\n",
              "<li><a href=\"/wiki/Feedforward_neural_network\" title=\"Feedforward neural network\">Feedforward neural network</a></li>\n",
              "<li><a href=\"/wiki/Recurrent_neural_network\" title=\"Recurrent neural network\">Recurrent neural network</a>\n",
              "<ul><li><a href=\"/wiki/Long_short-term_memory\" title=\"Long short-term memory\">LSTM</a></li>\n",
              "<li><a href=\"/wiki/Gated_recurrent_unit\" title=\"Gated recurrent unit\">GRU</a></li>\n",
              "<li><a href=\"/wiki/Echo_state_network\" title=\"Echo state network\">ESN</a></li>\n",
              "<li><a href=\"/wiki/Reservoir_computing\" title=\"Reservoir computing\">reservoir computing</a></li></ul></li>\n",
              "<li><a href=\"/wiki/Restricted_Boltzmann_machine\" title=\"Restricted Boltzmann machine\">Restricted Boltzmann machine</a></li>\n",
              "<li><a href=\"/wiki/Generative_adversarial_network\" title=\"Generative adversarial network\">GAN</a></li>\n",
              "<li><a href=\"/wiki/Diffusion_model\" title=\"Diffusion model\">Diffusion model</a></li>\n",
              "<li><a href=\"/wiki/Self-organizing_map\" title=\"Self-organizing map\">SOM</a></li>\n",
              "<li><a href=\"/wiki/Convolutional_neural_network\" title=\"Convolutional neural network\">Convolutional neural network</a>\n",
              "<ul><li><a href=\"/wiki/U-Net\" title=\"U-Net\">U-Net</a></li></ul></li>\n",
              "<li><a href=\"/wiki/Transformer_(machine_learning_model)\" title=\"Transformer (machine learning model)\">Transformer</a>\n",
              "<ul><li><a href=\"/wiki/Vision_transformer\" title=\"Vision transformer\">Vision</a></li></ul></li>\n",
              "<li><a href=\"/wiki/Spiking_neural_network\" title=\"Spiking neural network\">Spiking neural network</a></li>\n",
              "<li><a href=\"/wiki/Memtransistor\" title=\"Memtransistor\">Memtransistor</a></li>\n",
              "<li><a href=\"/wiki/Electrochemical_RAM\" title=\"Electrochemical RAM\">Electrochemical RAM</a> (ECRAM)</li></ul></div></div></td>\n",
              "</tr><tr><td class=\"sidebar-content\">\n",
              "<div class=\"sidebar-list mw-collapsible mw-collapsed\"><div class=\"sidebar-list-title\" style=\"border-top:1px solid #aaa;text-align:center; background:#ddd;\"><a href=\"/wiki/Reinforcement_learning\" title=\"Reinforcement learning\">Reinforcement learning</a></div><div class=\"sidebar-list-content mw-collapsible-content hlist\">\n",
              "<ul><li><a href=\"/wiki/Q-learning\" title=\"Q-learning\">Q-learning</a></li>\n",
              "<li><a href=\"/wiki/State%E2%80%93action%E2%80%93reward%E2%80%93state%E2%80%93action\" title=\"State–action–reward–state–action\">SARSA</a></li>\n",
              "<li><a href=\"/wiki/Temporal_difference_learning\" title=\"Temporal difference learning\">Temporal difference (TD)</a></li>\n",
              "<li><a href=\"/wiki/Multi-agent_reinforcement_learning\" title=\"Multi-agent reinforcement learning\">Multi-agent</a>\n",
              "<ul><li><a class=\"mw-redirect\" href=\"/wiki/Self-play_(reinforcement_learning_technique)\" title=\"Self-play (reinforcement learning technique)\">Self-play</a></li></ul></li></ul></div></div></td>\n",
              "</tr><tr><td class=\"sidebar-content\">\n",
              "<div class=\"sidebar-list mw-collapsible mw-collapsed\"><div class=\"sidebar-list-title\" style=\"border-top:1px solid #aaa;text-align:center; background:#ddd;\">Learning with humans</div><div class=\"sidebar-list-content mw-collapsible-content hlist\">\n",
              "<ul><li><a href=\"/wiki/Active_learning_(machine_learning)\" title=\"Active learning (machine learning)\">Active learning</a></li>\n",
              "<li><a href=\"/wiki/Crowdsourcing\" title=\"Crowdsourcing\">Crowdsourcing</a></li>\n",
              "<li><a href=\"/wiki/Human-in-the-loop\" title=\"Human-in-the-loop\">Human-in-the-loop</a></li></ul></div></div></td>\n",
              "</tr><tr><td class=\"sidebar-content\">\n",
              "<div class=\"sidebar-list mw-collapsible mw-collapsed\"><div class=\"sidebar-list-title\" style=\"border-top:1px solid #aaa;text-align:center; background:#ddd;\">Model diagnostics</div><div class=\"sidebar-list-content mw-collapsible-content hlist\">\n",
              "<ul><li><a href=\"/wiki/Learning_curve_(machine_learning)\" title=\"Learning curve (machine learning)\">Learning curve</a></li></ul></div></div></td>\n",
              "</tr><tr><td class=\"sidebar-content\">\n",
              "<div class=\"sidebar-list mw-collapsible mw-collapsed\"><div class=\"sidebar-list-title\" style=\"border-top:1px solid #aaa;text-align:center; background:#ddd;\">Mathematical foundations</div><div class=\"sidebar-list-content mw-collapsible-content hlist\">\n",
              "<ul><li><a class=\"mw-redirect\" href=\"/wiki/Kernel_machines\" title=\"Kernel machines\">Kernel machines</a></li>\n",
              "<li><a href=\"/wiki/Bias%E2%80%93variance_tradeoff\" title=\"Bias–variance tradeoff\">Bias–variance tradeoff</a></li>\n",
              "<li><a href=\"/wiki/Computational_learning_theory\" title=\"Computational learning theory\">Computational learning theory</a></li>\n",
              "<li><a href=\"/wiki/Empirical_risk_minimization\" title=\"Empirical risk minimization\">Empirical risk minimization</a></li>\n",
              "<li><a href=\"/wiki/Occam_learning\" title=\"Occam learning\">Occam learning</a></li>\n",
              "<li><a href=\"/wiki/Probably_approximately_correct_learning\" title=\"Probably approximately correct learning\">PAC learning</a></li>\n",
              "<li><a href=\"/wiki/Statistical_learning_theory\" title=\"Statistical learning theory\">Statistical learning</a></li>\n",
              "<li><a href=\"/wiki/Vapnik%E2%80%93Chervonenkis_theory\" title=\"Vapnik–Chervonenkis theory\">VC theory</a></li></ul></div></div></td>\n",
              "</tr><tr><td class=\"sidebar-content\">\n",
              "<div class=\"sidebar-list mw-collapsible mw-collapsed\"><div class=\"sidebar-list-title\" style=\"border-top:1px solid #aaa;text-align:center; background:#ddd;\">Machine-learning venues</div><div class=\"sidebar-list-content mw-collapsible-content hlist\">\n",
              "<ul><li><a href=\"/wiki/ECML_PKDD\" title=\"ECML PKDD\">ECML PKDD</a></li>\n",
              "<li><a href=\"/wiki/Conference_on_Neural_Information_Processing_Systems\" title=\"Conference on Neural Information Processing Systems\">NeurIPS</a></li>\n",
              "<li><a href=\"/wiki/International_Conference_on_Machine_Learning\" title=\"International Conference on Machine Learning\">ICML</a></li>\n",
              "<li><a href=\"/wiki/International_Conference_on_Learning_Representations\" title=\"International Conference on Learning Representations\">ICLR</a></li>\n",
              "<li><a href=\"/wiki/International_Joint_Conference_on_Artificial_Intelligence\" title=\"International Joint Conference on Artificial Intelligence\">IJCAI</a></li>\n",
              "<li><a href=\"/wiki/Machine_Learning_(journal)\" title=\"Machine Learning (journal)\">ML</a></li>\n",
              "<li><a href=\"/wiki/Journal_of_Machine_Learning_Research\" title=\"Journal of Machine Learning Research\">JMLR</a></li></ul></div></div></td>\n",
              "</tr><tr><td class=\"sidebar-content\">\n",
              "<div class=\"sidebar-list mw-collapsible mw-collapsed\"><div class=\"sidebar-list-title\" style=\"border-top:1px solid #aaa;text-align:center; background:#ddd;\">Related articles</div><div class=\"sidebar-list-content mw-collapsible-content hlist\">\n",
              "<ul><li><a href=\"/wiki/Glossary_of_artificial_intelligence\" title=\"Glossary of artificial intelligence\">Glossary of artificial intelligence</a></li>\n",
              "<li><a href=\"/wiki/List_of_datasets_for_machine-learning_research\" title=\"List of datasets for machine-learning research\">List of datasets for machine-learning research</a>\n",
              "<ul><li><a href=\"/wiki/List_of_datasets_in_computer_vision_and_image_processing\" title=\"List of datasets in computer vision and image processing\">List of datasets in computer vision and image processing</a></li></ul></li>\n",
              "<li><a href=\"/wiki/Outline_of_machine_learning\" title=\"Outline of machine learning\">Outline of machine learning</a></li></ul></div></div></td>\n",
              "</tr><tr><td class=\"sidebar-navbar\"><link href=\"mw-data:TemplateStyles:r1129693374\" rel=\"mw-deduplicated-inline-style\"/><style data-mw-deduplicate=\"TemplateStyles:r1063604349\">.mw-parser-output .navbar{display:inline;font-size:88%;font-weight:normal}.mw-parser-output .navbar-collapse{float:left;text-align:left}.mw-parser-output .navbar-boxtext{word-spacing:0}.mw-parser-output .navbar ul{display:inline-block;white-space:nowrap;line-height:inherit}.mw-parser-output .navbar-brackets::before{margin-right:-0.125em;content:\"[ \"}.mw-parser-output .navbar-brackets::after{margin-left:-0.125em;content:\" ]\"}.mw-parser-output .navbar li{word-spacing:-0.125em}.mw-parser-output .navbar a>span,.mw-parser-output .navbar a>abbr{text-decoration:inherit}.mw-parser-output .navbar-mini abbr{font-variant:small-caps;border-bottom:none;text-decoration:none;cursor:inherit}.mw-parser-output .navbar-ct-full{font-size:114%;margin:0 7em}.mw-parser-output .navbar-ct-mini{font-size:114%;margin:0 4em}</style><div class=\"navbar plainlinks hlist navbar-mini\"><ul><li class=\"nv-view\"><a href=\"/wiki/Template:Machine_learning\" title=\"Template:Machine learning\"><abbr title=\"View this template\">v</abbr></a></li><li class=\"nv-talk\"><a href=\"/wiki/Template_talk:Machine_learning\" title=\"Template talk:Machine learning\"><abbr title=\"Discuss this template\">t</abbr></a></li><li class=\"nv-edit\"><a href=\"/wiki/Special:EditPage/Template:Machine_learning\" title=\"Special:EditPage/Template:Machine learning\"><abbr title=\"Edit this template\">e</abbr></a></li></ul></div></td></tr></tbody></table>\n",
              "<p>A <b>chatbot</b> (originally <b>chatterbot</b><sup class=\"reference\" id=\"cite_ref-Mauldin_1-0\"><a href=\"#cite_note-Mauldin-1\">[1]</a></sup>) is a <a href=\"/wiki/Software_agent\" title=\"Software agent\">software</a> application or web interface that aims to mimic human <a href=\"/wiki/Conversation\" title=\"Conversation\">conversation</a> through text or voice interactions.<sup class=\"reference\" id=\"cite_ref-target_2-0\"><a href=\"#cite_note-target-2\">[2]</a></sup><sup class=\"reference\" id=\"cite_ref-:1_3-0\"><a href=\"#cite_note-:1-3\">[3]</a></sup><sup class=\"reference\" id=\"cite_ref-4\"><a href=\"#cite_note-4\">[4]</a></sup> Modern chatbots are typically <a class=\"mw-redirect\" href=\"/wiki/Online\" title=\"Online\">online</a> and use <a href=\"/wiki/Artificial_intelligence\" title=\"Artificial intelligence\">artificial intelligence</a> (AI) systems that are capable of maintaining a conversation with a user in <a href=\"/wiki/Natural_language\" title=\"Natural language\">natural language</a> and simulating the way a human would behave as a conversational partner. Such technologies often utilize aspects of <a href=\"/wiki/Deep_learning\" title=\"Deep learning\">deep learning</a> and <a href=\"/wiki/Natural_language_processing\" title=\"Natural language processing\">natural language processing</a>, but more simplistic chatbots have been around for decades prior.\n",
              "</p><p>Recently, this field has gained widespread attention due to the popularity of <a href=\"/wiki/OpenAI\" title=\"OpenAI\">OpenAI</a>'s <a href=\"/wiki/ChatGPT\" title=\"ChatGPT\">ChatGPT</a> (using <a href=\"/wiki/GPT-3\" title=\"GPT-3\">GPT-3</a> or <a href=\"/wiki/GPT-4\" title=\"GPT-4\">GPT-4</a>),<sup class=\"reference\" id=\"cite_ref-5\"><a href=\"#cite_note-5\">[5]</a></sup> released in 2022, followed by alternatives such as <a href=\"/wiki/Microsoft\" title=\"Microsoft\">Microsoft</a>'s <a class=\"mw-redirect\" href=\"/wiki/Bing_Chat\" title=\"Bing Chat\">Bing Chat</a> (which uses OpenAI's GPT-4) and <a href=\"/wiki/Google\" title=\"Google\">Google</a>'s <a href=\"/wiki/Bard_(chatbot)\" title=\"Bard (chatbot)\">Bard</a>.<sup class=\"reference\" id=\"cite_ref-6\"><a href=\"#cite_note-6\">[6]</a></sup> Such examples reflect the recent practice of such products being built based upon broad <a href=\"/wiki/Foundation_models\" title=\"Foundation models\">foundational</a> <a class=\"mw-redirect\" href=\"/wiki/Large_language_models\" title=\"Large language models\">large language models</a> that get <a class=\"mw-redirect\" href=\"/wiki/Fine-tuning_(machine_learning)\" title=\"Fine-tuning (machine learning)\">fine-tuned</a> so as to target specific tasks or applications (i.e. simulating human conversation, in the case of chatbots). Chatbots can also be designed or customized to further target even more specific situations and/or particular subject-matter domains.<sup class=\"reference\" id=\"cite_ref-livemint.com_7-0\"><a href=\"#cite_note-livemint.com-7\">[7]</a></sup>\n",
              "</p><p>A major area where chatbots have long been used is in <a href=\"/wiki/Customer_service\" title=\"Customer service\">customer service</a> and <a href=\"/wiki/Customer_support\" title=\"Customer support\">support</a>, such as with various sorts of <a href=\"/wiki/Virtual_assistant\" title=\"Virtual assistant\">virtual assistants</a>.<sup class=\"reference\" id=\"cite_ref-8\"><a href=\"#cite_note-8\">[8]</a></sup> Companies spanning various industries have begun using the latest <a href=\"/wiki/Generative_artificial_intelligence\" title=\"Generative artificial intelligence\">generative artificial intelligence</a> technologies to power more advanced developments in such areas.<sup class=\"reference\" id=\"cite_ref-livemint.com_7-1\"><a href=\"#cite_note-livemint.com-7\">[7]</a></sup>\n",
              "</p>\n",
              "<meta property=\"mw:PageProp/toc\"/>\n",
              "<h2><span class=\"mw-headline\" id=\"Background\">Background</span></h2>\n",
              "<p>In 1950, <a href=\"/wiki/Alan_Turing\" title=\"Alan Turing\">Alan Turing</a>'s famous article \"<a href=\"/wiki/Computing_Machinery_and_Intelligence\" title=\"Computing Machinery and Intelligence\">Computing Machinery and Intelligence</a>\" was published,<sup class=\"reference\" id=\"cite_ref-Turing_9-0\"><a href=\"#cite_note-Turing-9\">[9]</a></sup> which proposed what is now called the <a href=\"/wiki/Turing_test\" title=\"Turing test\">Turing test</a> as a criterion of <a href=\"/wiki/Intelligence\" title=\"Intelligence\">intelligence</a>. This criterion depends on the ability of a <a href=\"/wiki/Computer_program\" title=\"Computer program\">computer program</a> to impersonate a human in a <a href=\"/wiki/Real-time_computing\" title=\"Real-time computing\">real-time</a> written conversation with a human judge to the extent that the judge is unable to distinguish reliably—on the basis of the conversational content alone—between the program and a real human. The notoriety of Turing's proposed test stimulated great interest in <a href=\"/wiki/Joseph_Weizenbaum\" title=\"Joseph Weizenbaum\">Joseph Weizenbaum</a>'s program <a href=\"/wiki/ELIZA\" title=\"ELIZA\">ELIZA</a>, published in 1966, which seemed to be able to fool users into believing that they were conversing with a real human. However Weizenbaum himself did not claim that ELIZA was genuinely intelligent, and the introduction to his paper presented it more as a debunking exercise:\n",
              "</p>\n",
              "<blockquote><p>In artificial intelligence, machines are made to behave in wondrous ways, often sufficient to dazzle even the most experienced observer. But once a particular program is unmasked, once its inner workings are explained, its magic crumbles away; it stands revealed as a mere collection of procedures. The observer says to himself \"I could have written that\". With that thought, he moves the program in question from the shelf marked \"intelligent\", to that reserved for curios. The object of this paper is to cause just such a re-evaluation of the program about to be \"explained\". Few programs ever needed it more.<sup class=\"reference\" id=\"cite_ref-Weizenbaum_10-0\"><a href=\"#cite_note-Weizenbaum-10\">[10]</a></sup></p></blockquote>\n",
              "<p>ELIZA's key method of operation (copied by chatbot designers ever since) involves the recognition of clue words or phrases in the input, and the output of the corresponding pre-prepared or pre-programmed responses that can move the conversation forward in an apparently meaningful way (e.g. by responding to any input that contains the word 'MOTHER' with 'TELL ME MORE ABOUT YOUR FAMILY').<sup class=\"reference\" id=\"cite_ref-Weizenbaum_10-1\"><a href=\"#cite_note-Weizenbaum-10\">[10]</a></sup> Thus an illusion of understanding is generated, even though the processing involved has been merely superficial. ELIZA showed that such an illusion is surprisingly easy to generate because human judges are so ready to give the benefit of the doubt when conversational responses are <i>capable of being interpreted</i> as \"intelligent\".\n",
              "</p><p>Interface designers have come to appreciate that humans' readiness to interpret computer output as genuinely conversational—even when it is actually based on rather simple pattern-matching—can be exploited for useful purposes. Most people prefer to engage with programs that are human-like, and this gives chatbot-style techniques a potentially useful role in interactive systems that need to elicit information from users, as long as that information is relatively straightforward and falls into predictable categories. Thus, for example, online help systems can usefully employ chatbot techniques to identify the area of help that users require, potentially providing a \"friendlier\" interface than a more formal search or menu system. This sort of usage holds the prospect of moving chatbot technology from Weizenbaum's \"shelf ... reserved for curios\" to that marked \"genuinely useful computational methods\".\n",
              "</p>\n",
              "<h2><span class=\"mw-headline\" id=\"Development\">Development</span></h2>\n",
              "<p>Among the most notable early chatbots are <a href=\"/wiki/ELIZA\" title=\"ELIZA\">ELIZA</a> (1966) and <a href=\"/wiki/PARRY\" title=\"PARRY\">PARRY</a> (1972).<sup class=\"reference\" id=\"cite_ref-Güzeldere_11-0\"><a href=\"#cite_note-Güzeldere-11\">[11]</a></sup><sup class=\"reference\" id=\"cite_ref-comphis_12-0\"><a href=\"#cite_note-comphis-12\">[12]</a></sup><sup class=\"reference\" id=\"cite_ref-Sondheim_13-0\"><a href=\"#cite_note-Sondheim-13\">[13]</a></sup><sup class=\"reference\" id=\"cite_ref-Network_14-0\"><a href=\"#cite_note-Network-14\">[14]</a></sup> More recent notable programs include <a href=\"/wiki/Artificial_Linguistic_Internet_Computer_Entity\" title=\"Artificial Linguistic Internet Computer Entity\">A.L.I.C.E.</a>, <a href=\"/wiki/Jabberwacky\" title=\"Jabberwacky\">Jabberwacky</a> and D.U.D.E (<a class=\"mw-redirect\" href=\"/wiki/Agence_Nationale_de_la_Recherche\" title=\"Agence Nationale de la Recherche\">Agence Nationale de la Recherche</a> and <a class=\"mw-redirect\" href=\"/wiki/CNRS\" title=\"CNRS\">CNRS</a> 2006). While ELIZA and PARRY were used exclusively to simulate typed conversation, many chatbots now include other functional features, such as games and <a href=\"/wiki/Search_engine\" title=\"Search engine\">web searching</a> abilities. In 1984, a book called <i>The Policeman's Beard is Half Constructed</i> was published, allegedly written by the chatbot <a href=\"/wiki/Racter\" title=\"Racter\">Racter</a> (though the program as released would not have been capable of doing so).<sup class=\"reference\" id=\"cite_ref-15\"><a href=\"#cite_note-15\">[15]</a></sup>\n",
              "</p><p>From 1978<sup class=\"reference\" id=\"cite_ref-16\"><a href=\"#cite_note-16\">[16]</a></sup> to some time after 1983,<sup class=\"reference\" id=\"cite_ref-:2_17-0\"><a href=\"#cite_note-:2-17\">[17]</a></sup> the CYRUS project led by <a class=\"mw-redirect\" href=\"/wiki/Janet_Kolodner\" title=\"Janet Kolodner\">Janet Kolodner</a> constructed a chatbot simulating <a href=\"/wiki/Cyrus_Vance\" title=\"Cyrus Vance\">Cyrus Vance</a> (57th <a href=\"/wiki/United_States_Secretary_of_State\" title=\"United States Secretary of State\">United States Secretary of State</a>). It used <a href=\"/wiki/Case-based_reasoning\" title=\"Case-based reasoning\">case-based reasoning</a>, and updated its database daily by parsing wire news from <a href=\"/wiki/United_Press_International\" title=\"United Press International\">United Press International</a>. The program was unable to process the news items subsequent to the surprise resignation of Cyrus Vance in April 1980, and the team constructed another chatbot simulating his successor, <a href=\"/wiki/Edmund_Muskie\" title=\"Edmund Muskie\">Edmund Muskie</a>.<sup class=\"reference\" id=\"cite_ref-18\"><a href=\"#cite_note-18\">[18]</a></sup><sup class=\"reference\" id=\"cite_ref-:2_17-1\"><a href=\"#cite_note-:2-17\">[17]</a></sup>\n",
              "</p><p>One pertinent field of AI research is <a href=\"/wiki/Natural_language_processing\" title=\"Natural language processing\">natural-language processing</a>. Usually, <a href=\"/wiki/Weak_artificial_intelligence\" title=\"Weak artificial intelligence\">weak AI</a> fields employ specialized software or programming languages created specifically for the narrow function required. For example, A.L.I.C.E. uses a <a href=\"/wiki/Markup_language\" title=\"Markup language\">markup language</a> called AIML,<sup class=\"reference\" id=\"cite_ref-:1_3-1\"><a href=\"#cite_note-:1-3\">[3]</a></sup> which is specific to its function as a <a href=\"/wiki/Dialogue_system\" title=\"Dialogue system\">conversational agent</a>, and has since been adopted by various other developers of, so-called, <a class=\"mw-redirect\" href=\"/wiki/Alicebot\" title=\"Alicebot\">Alicebots</a>. Nevertheless, A.L.I.C.E. is still purely based on <a href=\"/wiki/Pattern_matching\" title=\"Pattern matching\">pattern matching</a> techniques without any reasoning capabilities, the same technique ELIZA was using back in 1966. This is not strong AI, which would require <a class=\"mw-redirect\" href=\"/wiki/Sapience\" title=\"Sapience\">sapience</a> and <a href=\"/wiki/Logical_reasoning\" title=\"Logical reasoning\">logical reasoning</a> abilities.\n",
              "</p><p>Jabberwacky learns new responses and context based on <a href=\"/wiki/Real-time_computing\" title=\"Real-time computing\">real-time</a> <a href=\"/wiki/Human%E2%80%93computer_interaction\" title=\"Human–computer interaction\">user interactions</a>, rather than being driven from a static <a href=\"/wiki/Database\" title=\"Database\">database</a>. Some more recent chatbots also combine real-time learning with <a href=\"/wiki/Evolutionary_algorithm\" title=\"Evolutionary algorithm\">evolutionary algorithms</a> that optimize their ability to communicate based on each conversation held. Still, there is currently no general purpose conversational artificial intelligence, and some software developers focus on the practical aspect, <a href=\"/wiki/Information_retrieval\" title=\"Information retrieval\">information retrieval</a>.\n",
              "</p><p>Chatbot competitions focus on the Turing test or more specific goals. Two such annual contests are the <a href=\"/wiki/Loebner_Prize\" title=\"Loebner Prize\">Loebner Prize</a> and The Chatterbox Challenge (the latter has been offline since 2015, however, materials can still be found from web archives).<sup class=\"reference\" id=\"cite_ref-19\"><a href=\"#cite_note-19\">[19]</a></sup>\n",
              "</p><p>Chatbots may use <a href=\"/wiki/Neural_network\" title=\"Neural network\">neural networks</a> as a <a href=\"/wiki/Language_model\" title=\"Language model\">language model</a>. For example, <a href=\"/wiki/Generative_pre-trained_transformer\" title=\"Generative pre-trained transformer\">generative pre-trained transformers</a> (GPT), which use the <a href=\"/wiki/Transformer_(machine_learning_model)\" title=\"Transformer (machine learning model)\">transformer</a> architecture, have become common to build sophisticated chatbots. The \"pre-training\" in its name refers to the initial training process on a large text corpus, which provides a solid foundation for the model to perform well on downstream tasks with limited amounts of task-specific data. An example of a GPT chatbot is <a href=\"/wiki/ChatGPT\" title=\"ChatGPT\">ChatGPT</a>.<sup class=\"reference\" id=\"cite_ref-20\"><a href=\"#cite_note-20\">[20]</a></sup> Despite criticism of its accuracy, ChatGPT has gained attention for its detailed responses and historical knowledge. Another example is BioGPT, developed by <a href=\"/wiki/Microsoft\" title=\"Microsoft\">Microsoft</a>, which focuses on answering <a class=\"mw-redirect\" href=\"/wiki/Biomedical\" title=\"Biomedical\">biomedical</a> questions.<sup class=\"reference\" id=\"cite_ref-pmid36156661_21-0\"><a href=\"#cite_note-pmid36156661-21\">[21]</a></sup><sup class=\"reference\" id=\"cite_ref-22\"><a href=\"#cite_note-22\">[22]</a></sup>\n",
              "</p><p><a href=\"/wiki/DBpedia\" title=\"DBpedia\">DBpedia</a> created a chatbot during the <a href=\"/wiki/Google_Summer_of_Code\" title=\"Google Summer of Code\">GSoC</a> of 2017.<sup class=\"reference\" id=\"cite_ref-23\"><a href=\"#cite_note-23\">[23]</a></sup><sup class=\"reference\" id=\"cite_ref-24\"><a href=\"#cite_note-24\">[24]</a></sup><sup class=\"reference\" id=\"cite_ref-25\"><a href=\"#cite_note-25\">[25]</a></sup> It can communicate through <a href=\"/wiki/Messenger_(software)\" title=\"Messenger (software)\">Facebook Messenger</a>.\n",
              "</p>\n",
              "<h2><span class=\"mw-headline\" id=\"Application\">Application</span></h2>\n",
              "<link href=\"mw-data:TemplateStyles:r1033289096\" rel=\"mw-deduplicated-inline-style\"/><div class=\"hatnote navigation-not-searchable\" role=\"note\">See also: <a href=\"/wiki/Virtual_assistant\" title=\"Virtual assistant\">Virtual assistant</a></div>\n",
              "<h3><span class=\"mw-headline\" id=\"Messaging_apps\">Messaging apps</span></h3>\n",
              "<p>Many companies' chatbots run on <a class=\"mw-redirect\" href=\"/wiki/Messaging_apps\" title=\"Messaging apps\">messaging apps</a> or simply via <a href=\"/wiki/SMS\" title=\"SMS\">SMS</a>. They are used for <a class=\"mw-redirect\" href=\"/wiki/B2C\" title=\"B2C\">B2C</a> customer service, sales and marketing.<sup class=\"reference\" id=\"cite_ref-26\"><a href=\"#cite_note-26\">[26]</a></sup>\n",
              "</p><p>In 2016, Facebook Messenger allowed developers to place chatbots on their platform. There were 30,000 bots created for Messenger in the first six months, rising to 100,000 by September 2017.<sup class=\"reference\" id=\"cite_ref-27\"><a href=\"#cite_note-27\">[27]</a></sup>\n",
              "</p><p>Since September 2017, this has also been as part of a pilot program on <a href=\"/wiki/WhatsApp\" title=\"WhatsApp\">WhatsApp</a>. Airlines <a href=\"/wiki/KLM\" title=\"KLM\">KLM</a> and <a href=\"/wiki/Aerom%C3%A9xico\" title=\"Aeroméxico\">Aeroméxico</a> both announced their participation in the testing;<sup class=\"reference\" id=\"cite_ref-tnooz_28-0\"><a href=\"#cite_note-tnooz-28\">[28]</a></sup><sup class=\"reference\" id=\"cite_ref-29\"><a href=\"#cite_note-29\">[29]</a></sup><sup class=\"reference\" id=\"cite_ref-30\"><a href=\"#cite_note-30\">[30]</a></sup><sup class=\"reference\" id=\"cite_ref-31\"><a href=\"#cite_note-31\">[31]</a></sup> both airlines had previously launched customer services on the <a class=\"mw-redirect\" href=\"/wiki/Facebook_Messenger\" title=\"Facebook Messenger\">Facebook Messenger</a> platform.\n",
              "</p><p>The bots usually appear as one of the user's contacts, but can sometimes act as participants in a <a href=\"/wiki/Chat_room\" title=\"Chat room\">group chat</a>.\n",
              "</p><p>Many banks, insurers, media companies, e-commerce companies, airlines, hotel chains, retailers, health care providers, government entities and restaurant chains have used chatbots to <a href=\"/wiki/Question_answering\" title=\"Question answering\">answer simple questions</a>, increase <a href=\"/wiki/Customer_engagement\" title=\"Customer engagement\">customer engagement</a>,<sup class=\"reference\" id=\"cite_ref-32\"><a href=\"#cite_note-32\">[32]</a></sup> for promotion, and to offer additional ways to order from them.<sup class=\"reference\" id=\"cite_ref-33\"><a href=\"#cite_note-33\">[33]</a></sup>\n",
              "</p><p>A 2017 study showed 4% of companies used chatbots.<sup class=\"reference\" id=\"cite_ref-34\"><a href=\"#cite_note-34\">[34]</a></sup> According to a 2016 study, 80% of businesses said they intended to have one by 2020.<sup class=\"reference\" id=\"cite_ref-35\"><a href=\"#cite_note-35\">[35]</a></sup>\n",
              "</p>\n",
              "<h4><span class=\"mw-headline\" id=\"As_part_of_company_apps_and_websites\">As part of company apps and websites</span></h4>\n",
              "<p>Previous generations of chatbots were present on company websites, e.g. Ask Jenn from <a href=\"/wiki/Alaska_Airlines\" title=\"Alaska Airlines\">Alaska Airlines</a> which debuted in 2008<sup class=\"reference\" id=\"cite_ref-nytimes.com_36-0\"><a href=\"#cite_note-nytimes.com-36\">[36]</a></sup> or <a href=\"/wiki/Expedia\" title=\"Expedia\">Expedia</a>'s virtual customer service agent which launched in 2011.<sup class=\"reference\" id=\"cite_ref-nytimes.com_36-1\"><a href=\"#cite_note-nytimes.com-36\">[36]</a></sup><sup class=\"reference\" id=\"cite_ref-:0_37-0\"><a href=\"#cite_note-:0-37\">[37]</a></sup> The newer generation of chatbots includes <a href=\"/wiki/IBM_Watson\" title=\"IBM Watson\">IBM Watson</a>-powered \"Rocky\", introduced in February 2017 by the <a href=\"/wiki/New_York_City\" title=\"New York City\">New York City</a>-based <a href=\"/wiki/E-commerce\" title=\"E-commerce\">e-commerce</a> company Rare Carat to provide information to prospective diamond buyers.<sup class=\"reference\" id=\"cite_ref-38\"><a href=\"#cite_note-38\">[38]</a></sup><sup class=\"reference\" id=\"cite_ref-39\"><a href=\"#cite_note-39\">[39]</a></sup>\n",
              "</p>\n",
              "<h4><span class=\"mw-headline\" id=\"Chatbot_sequences\">Chatbot sequences</span></h4>\n",
              "<p>Used by marketers to script sequences of messages, very similar to an <a href=\"/wiki/Autoresponder\" title=\"Autoresponder\">autoresponder</a> sequence. Such sequences can be triggered by user opt-in or the use of keywords within user interactions. After a trigger occurs a sequence of messages is delivered until the next anticipated user response. Each user response is used in the decision tree to help the chatbot navigate the response sequences to deliver the correct response message.\n",
              "</p>\n",
              "<h3><span class=\"mw-headline\" id=\"Company_internal_platforms\">Company internal platforms</span></h3>\n",
              "<p>Other companies explore ways they can use chatbots internally, for example for Customer Support, Human Resources, or even in <a class=\"mw-redirect\" href=\"/wiki/Internet_of_Things\" title=\"Internet of Things\">Internet-of-Things</a> (IoT) projects. <a class=\"mw-redirect\" href=\"/wiki/Overstock.com\" title=\"Overstock.com\">Overstock.com</a>, for one, has reportedly launched a chatbot named Mila to automate certain simple yet <a href=\"/wiki/Cost\" title=\"Cost\">time-consuming</a> processes when requesting sick leave.<sup class=\"reference\" id=\"cite_ref-40\"><a href=\"#cite_note-40\">[40]</a></sup> Other large companies such as <a href=\"/wiki/Lloyds_Banking_Group\" title=\"Lloyds Banking Group\">Lloyds Banking Group</a>, <a href=\"/wiki/Royal_Bank_of_Scotland\" title=\"Royal Bank of Scotland\">Royal Bank of Scotland</a>, <a href=\"/wiki/Renault\" title=\"Renault\">Renault</a> and <a href=\"/wiki/Citro%C3%ABn\" title=\"Citroën\">Citroën</a> are now using automated online assistants instead of <a class=\"mw-redirect\" href=\"/wiki/Call_centres\" title=\"Call centres\">call centres</a> with humans to provide a first point of contact. A <a href=\"/wiki/Software_as_a_service\" title=\"Software as a service\">SaaS</a> chatbot business ecosystem has been steadily growing since the <a href=\"/wiki/Facebook_F8\" title=\"Facebook F8\">F8</a> Conference when Facebook's <a href=\"/wiki/Mark_Zuckerberg\" title=\"Mark Zuckerberg\">Mark Zuckerberg</a> unveiled that Messenger would allow chatbots into the app.<sup class=\"reference\" id=\"cite_ref-41\"><a href=\"#cite_note-41\">[41]</a></sup> In large companies, like in hospitals and aviation organizations, IT architects are designing reference architectures for Intelligent Chatbots that are used to unlock and share knowledge and experience in the organization more efficiently, and reduce the errors in answers from expert service desks significantly.<sup class=\"reference\" id=\"cite_ref-42\"><a href=\"#cite_note-42\">[42]</a></sup> These Intelligent Chatbots make use of all kinds of artificial intelligence like image moderation and <a href=\"/wiki/Natural-language_understanding\" title=\"Natural-language understanding\">natural-language understanding</a> (NLU), <a href=\"/wiki/Natural_language_generation\" title=\"Natural language generation\">natural-language generation</a> (NLG), <a href=\"/wiki/Machine_learning\" title=\"Machine learning\">machine learning</a> and deep learning.\n",
              "</p>\n",
              "<h3><span class=\"mw-headline\" id=\"Customer_service\">Customer service</span></h3>\n",
              "<p>Many high-tech banking organizations are looking to integrate automated AI-based solutions such as chatbots into their customer service in order to provide faster and cheaper assistance to their clients who are becoming increasingly comfortable with technology.  In particular, chatbots can efficiently conduct a dialogue, usually replacing other communication tools such as email, phone, or <a href=\"/wiki/SMS\" title=\"SMS\">SMS</a>. In banking, their major application is related to quick customer service answering common requests, as well as transactional support.\n",
              "</p><p>Several studies report significant reduction in the cost of customer services, expected to lead to billions of dollars of economic savings in the next ten years.<sup class=\"reference\" id=\"cite_ref-WSBanks_43-0\"><a href=\"#cite_note-WSBanks-43\">[43]</a></sup> In 2019, <a href=\"/wiki/Gartner\" title=\"Gartner\">Gartner</a> predicted that by 2021, 15% of all customer service interactions globally will be handled completely by AI.<sup class=\"reference\" id=\"cite_ref-44\"><a href=\"#cite_note-44\">[44]</a></sup>  A study by Juniper Research in 2019 estimates retail sales resulting from chatbot-based interactions will reach $112 billion by 2023.<sup class=\"reference\" id=\"cite_ref-45\"><a href=\"#cite_note-45\">[45]</a></sup>\n",
              "</p><p>Since 2016, when <a href=\"/wiki/Facebook\" title=\"Facebook\">Facebook</a> allowed businesses to deliver automated customer support, e-commerce guidance, content, and interactive experiences through chatbots, a large variety of chatbots were developed for the <a class=\"mw-redirect\" href=\"/wiki/Facebook_Messenger\" title=\"Facebook Messenger\">Facebook Messenger</a> platform.<sup class=\"reference\" id=\"cite_ref-46\"><a href=\"#cite_note-46\">[46]</a></sup>\n",
              "</p><p>In 2016, Russia-based Tochka Bank launched the world's first Facebook bot for a range of financial services, including a possibility of making payments.<sup class=\"reference\" id=\"cite_ref-47\"><a href=\"#cite_note-47\">[47]</a></sup>\n",
              "</p><p>In July 2016, <a class=\"mw-redirect\" href=\"/wiki/ABSA_Group_Limited\" title=\"ABSA Group Limited\">Barclays Africa</a> also launched a Facebook chatbot, making it the first bank to do so in Africa.<sup class=\"reference\" id=\"cite_ref-48\"><a href=\"#cite_note-48\">[48]</a></sup>\n",
              "</p><p>The France's third-largest bank by total assets<sup class=\"reference\" id=\"cite_ref-49\"><a href=\"#cite_note-49\">[49]</a></sup> <a href=\"/wiki/Soci%C3%A9t%C3%A9_G%C3%A9n%C3%A9rale\" title=\"Société Générale\">Société Générale</a> launched their chatbot called SoBot in March 2018. While 80% of users of the SoBot expressed their satisfaction after having tested it, Société Générale deputy director Bertrand Cozzarolo stated that it will never replace the expertise provided by a human advisor.\n",
              "<sup class=\"reference\" id=\"cite_ref-50\"><a href=\"#cite_note-50\">[50]</a></sup>\n",
              "</p><p>The advantages of using chatbots for customer interactions in banking include cost reduction, financial advice, and 24/7 support.<sup class=\"reference\" id=\"cite_ref-FinancialBrain_51-0\"><a href=\"#cite_note-FinancialBrain-51\">[51]</a></sup><sup class=\"reference\" id=\"cite_ref-BornBane_52-0\"><a href=\"#cite_note-BornBane-52\">[52]</a></sup>\n",
              "</p>\n",
              "<h3><span class=\"mw-headline\" id=\"Healthcare\">Healthcare</span></h3>\n",
              "<link href=\"mw-data:TemplateStyles:r1033289096\" rel=\"mw-deduplicated-inline-style\"/><div class=\"hatnote navigation-not-searchable\" role=\"note\">See also: <a href=\"/wiki/Artificial_intelligence_in_healthcare\" title=\"Artificial intelligence in healthcare\">Artificial intelligence in healthcare</a></div>\n",
              "<p>Chatbots are also appearing in the healthcare industry.<sup class=\"reference\" id=\"cite_ref-53\"><a href=\"#cite_note-53\">[53]</a></sup><sup class=\"reference\" id=\"cite_ref-54\"><a href=\"#cite_note-54\">[54]</a></sup> A study suggested that physicians in the United States believed that chatbots would be most beneficial for scheduling doctor appointments, locating health clinics, or providing medication information.<sup class=\"reference\" id=\"cite_ref-55\"><a href=\"#cite_note-55\">[55]</a></sup>\n",
              "</p><p><a href=\"/wiki/WhatsApp\" title=\"WhatsApp\">Whatsapp</a> has teamed up with the <a href=\"/wiki/World_Health_Organization\" title=\"World Health Organization\">World Health Organisation</a> (<a href=\"/wiki/World_Health_Organization\" title=\"World Health Organization\">WHO</a>) to make a chatbot service that answers users' questions on <a class=\"mw-redirect\" href=\"/wiki/Coronavirus_disease_2019\" title=\"Coronavirus disease 2019\">COVID-19</a>.<sup class=\"reference\" id=\"cite_ref-56\"><a href=\"#cite_note-56\">[56]</a></sup>\n",
              "</p><p>In 2020, <a href=\"/wiki/Government_of_India\" title=\"Government of India\">The Indian Government</a> launched a chatbot called MyGov Corona Helpdesk,<sup class=\"reference\" id=\"cite_ref-57\"><a href=\"#cite_note-57\">[57]</a></sup> that worked through <a href=\"/wiki/WhatsApp\" title=\"WhatsApp\">Whatsapp</a> and helped people access information about the Coronavirus (COVID-19) pandemic.<sup class=\"reference\" id=\"cite_ref-58\"><a href=\"#cite_note-58\">[58]</a></sup><sup class=\"reference\" id=\"cite_ref-59\"><a href=\"#cite_note-59\">[59]</a></sup>\n",
              "</p><p>Certain patient groups are still reluctant to use chatbots. A mixed-methods study showed that people are still hesitant to use chatbots for their healthcare due to poor understanding of the technological complexity, the lack of empathy, and concerns about cyber-security.<sup class=\"reference\" id=\"cite_ref-60\"><a href=\"#cite_note-60\">[60]</a></sup> The analysis showed that while 6% had heard of a health chatbot and 3% had experience of using it, 67% perceived themselves as likely to use one within 12 months. The majority of participants would use a health chatbot for seeking general health information (78%), booking a medical appointment (78%), and looking for local health services (80%). However, a health chatbot was perceived as less suitable for seeking results of medical tests and seeking specialist advice such as sexual health. The analysis of attitudinal variables showed that most participants reported their preference for discussing their health with doctors (73%) and having access to reliable and accurate health information (93%). While 80% were curious about new technologies that could improve their health, 66% reported only seeking a doctor when experiencing a health problem and 65% thought that a chatbot was a good idea. Interestingly, 30% reported dislike about talking to computers, 41% felt it would be strange to discuss health matters with a chatbot and about half were unsure if they could trust the advice given by a chatbot. Therefore, perceived trustworthiness, individual attitudes towards bots, and dislike for talking to computers are the main barriers to health chatbots.\n",
              "</p>\n",
              "<h3><span class=\"mw-headline\" id=\"Politics\">Politics</span></h3>\n",
              "<link href=\"mw-data:TemplateStyles:r1033289096\" rel=\"mw-deduplicated-inline-style\"/><div class=\"hatnote navigation-not-searchable\" role=\"note\">See also: <a href=\"/wiki/Government_by_algorithm#AI_politicians\" title=\"Government by algorithm\">Government by algorithm § AI politicians</a></div>\n",
              "<p>In New Zealand, the chatbot SAM – short for <a href=\"/wiki/Semantic_analysis_(machine_learning)\" title=\"Semantic analysis (machine learning)\">Semantic Analysis Machine</a><sup class=\"reference\" id=\"cite_ref-61\"><a href=\"#cite_note-61\">[61]</a></sup> (made by Nick Gerritsen of Touchtech<sup class=\"reference\" id=\"cite_ref-62\"><a href=\"#cite_note-62\">[62]</a></sup>) – has been developed. It is designed to share its political thoughts, for example on topics such as climate change, healthcare and education, etc. It talks to people through Facebook Messenger.<sup class=\"reference\" id=\"cite_ref-63\"><a href=\"#cite_note-63\">[63]</a></sup><sup class=\"reference\" id=\"cite_ref-64\"><a href=\"#cite_note-64\">[64]</a></sup><sup class=\"reference\" id=\"cite_ref-65\"><a href=\"#cite_note-65\">[65]</a></sup><sup class=\"reference\" id=\"cite_ref-66\"><a href=\"#cite_note-66\">[66]</a></sup>\n",
              "</p><p>In 2022, the chatbot \"Leader Lars\" or \"Leder Lars\" was nominated for <a class=\"mw-redirect\" href=\"/wiki/The_Synthetic_Party\" title=\"The Synthetic Party\">The Synthetic Party</a> to run in the <a href=\"/wiki/Danish_Realm\" title=\"Danish Realm\">Danish</a> parliamentary election,<sup class=\"reference\" id=\"cite_ref-67\"><a href=\"#cite_note-67\">[67]</a></sup> and was built by the artist collective Computer Lars.<sup class=\"reference\" id=\"cite_ref-68\"><a href=\"#cite_note-68\">[68]</a></sup> Leader Lars differed from earlier virtual politicians by leading a <a href=\"/wiki/Political_party\" title=\"Political party\">political party</a> and by not pretending to be an objective candidate.<sup class=\"reference\" id=\"cite_ref-69\"><a href=\"#cite_note-69\">[69]</a></sup> This chatbot engaged in critical discussions on politics with users from around the world.<sup class=\"reference\" id=\"cite_ref-70\"><a href=\"#cite_note-70\">[70]</a></sup>\n",
              "</p><p>In <a href=\"/wiki/India\" title=\"India\">India</a>, the state government has launched a chatbot for its Aaple Sarkar platform,<sup class=\"reference\" id=\"cite_ref-71\"><a href=\"#cite_note-71\">[71]</a></sup> which provides conversational access to information regarding public services managed.<sup class=\"reference\" id=\"cite_ref-72\"><a href=\"#cite_note-72\">[72]</a></sup><sup class=\"reference\" id=\"cite_ref-73\"><a href=\"#cite_note-73\">[73]</a></sup>\n",
              "</p>\n",
              "<h3><span class=\"mw-headline\" id=\"Toys\">Toys</span></h3>\n",
              "<p>Chatbots have also been incorporated into devices not primarily meant for computing, such as toys.<sup class=\"reference\" id=\"cite_ref-virtualagentchat_74-0\"><a href=\"#cite_note-virtualagentchat-74\">[74]</a></sup>\n",
              "</p><p><i>Hello <a href=\"/wiki/Barbie\" title=\"Barbie\">Barbie</a></i> is an Internet-connected version of the doll that uses a chatbot provided by the company ToyTalk,<sup class=\"reference\" id=\"cite_ref-75\"><a href=\"#cite_note-75\">[75]</a></sup> which previously used the chatbot for a range of smartphone-based characters for children.<sup class=\"reference\" id=\"cite_ref-76\"><a href=\"#cite_note-76\">[76]</a></sup> These characters' behaviors are constrained by a set of rules that in effect emulate a particular character and produce a storyline.<sup class=\"reference\" id=\"cite_ref-77\"><a href=\"#cite_note-77\">[77]</a></sup>\n",
              "</p><p>The <a href=\"/wiki/My_Friend_Cayla\" title=\"My Friend Cayla\">My Friend Cayla</a> doll was marketed as a line of 18-inch (46 cm) dolls which uses <a href=\"/wiki/Speech_recognition\" title=\"Speech recognition\">speech recognition</a> technology in conjunction with an <a href=\"/wiki/Android_(operating_system)\" title=\"Android (operating system)\">Android</a> or <a href=\"/wiki/IOS\" title=\"IOS\">iOS</a> mobile app to recognize the child's speech and have a conversation. It, like the Hello Barbie doll, attracted controversy due to vulnerabilities with the doll's <a href=\"/wiki/Bluetooth\" title=\"Bluetooth\">Bluetooth</a> stack and its use of data collected from the child's speech.\n",
              "</p><p>IBM's <a class=\"mw-redirect\" href=\"/wiki/Watson_(computer)\" title=\"Watson (computer)\">Watson computer</a> has been used as the basis for chatbot-based educational toys for companies such as <i>CogniToys</i><sup class=\"reference\" id=\"cite_ref-virtualagentchat_74-1\"><a href=\"#cite_note-virtualagentchat-74\">[74]</a></sup> intended to interact with children for educational purposes.<sup class=\"reference\" id=\"cite_ref-78\"><a href=\"#cite_note-78\">[78]</a></sup>\n",
              "</p>\n",
              "<h3><span class=\"mw-headline\" id=\"Malicious_use\">Malicious use</span></h3>\n",
              "<p>Malicious chatbots are frequently used to fill <a class=\"mw-redirect\" href=\"/wiki/Chat_rooms\" title=\"Chat rooms\">chat rooms</a> with spam and advertisements, by mimicking human behavior and conversations or to entice people into revealing personal information, such as bank account numbers. They were commonly found on <a href=\"/wiki/Yahoo!_Messenger\" title=\"Yahoo! Messenger\">Yahoo! Messenger</a>, <a href=\"/wiki/Windows_Live_Messenger\" title=\"Windows Live Messenger\">Windows Live Messenger</a>, <a class=\"mw-redirect\" href=\"/wiki/AOL_Instant_Messenger\" title=\"AOL Instant Messenger\">AOL Instant Messenger</a> and other <a href=\"/wiki/Instant_messaging\" title=\"Instant messaging\">instant messaging</a> protocols. There has also been a published report of a chatbot used in a fake personal ad on a dating service's website.<sup class=\"reference\" id=\"cite_ref-79\"><a href=\"#cite_note-79\">[79]</a></sup>\n",
              "</p><p><a class=\"mw-redirect\" href=\"/wiki/Tay_(bot)\" title=\"Tay (bot)\">Tay</a>, an AI chatbot that learns from previous interaction, caused major controversy due to it being targeted by internet trolls on Twitter. The bot was exploited, and after 16 hours began to send extremely offensive Tweets to users. This suggests that although the bot learned effectively from experience, adequate protection was not put in place to prevent misuse.<sup class=\"reference\" id=\"cite_ref-80\"><a href=\"#cite_note-80\">[80]</a></sup>\n",
              "</p><p>If a text-sending <a href=\"/wiki/Algorithm\" title=\"Algorithm\">algorithm</a> can pass itself off as a human instead of a chatbot, its message would be more credible. Therefore, human-seeming chatbots with well-crafted online identities could start scattering fake news that seems plausible, for instance making false claims during an election. With enough chatbots, it might be even possible to achieve artificial <a href=\"/wiki/Social_proof\" title=\"Social proof\">social proof</a>.<sup class=\"reference\" id=\"cite_ref-81\"><a href=\"#cite_note-81\">[81]</a></sup><sup class=\"reference\" id=\"cite_ref-82\"><a href=\"#cite_note-82\">[82]</a></sup>\n",
              "</p>\n",
              "<h2><span class=\"mw-headline\" id=\"Limitations_of_chatbots\">Limitations of chatbots</span></h2>\n",
              "<p>The creation and implementation of chatbots is still a developing area, heavily related to <a href=\"/wiki/Artificial_intelligence\" title=\"Artificial intelligence\">artificial intelligence</a> and <a href=\"/wiki/Machine_learning\" title=\"Machine learning\">machine learning</a>, so the provided solutions, while possessing obvious advantages, have some important limitations in terms of functionalities and use cases. However, this is changing over time.\n",
              "</p><p>The most common limitations are listed below:<sup class=\"reference\" id=\"cite_ref-Meet11_83-0\"><a href=\"#cite_note-Meet11-83\">[83]</a></sup>\n",
              "</p>\n",
              "<ul><li>As the input/output database is fixed and limited, chatbots can fail while dealing with an unsaved query.<sup class=\"reference\" id=\"cite_ref-BornBane_52-1\"><a href=\"#cite_note-BornBane-52\">[52]</a></sup></li>\n",
              "<li>A chatbot's efficiency highly depends on language processing and is limited because of irregularities, such as accents and mistakes.</li>\n",
              "<li>Chatbots are unable to deal with multiple questions at the same time and so conversation opportunities are limited.<sup class=\"reference\" id=\"cite_ref-Meet11_83-1\"><a href=\"#cite_note-Meet11-83\">[83]</a></sup></li>\n",
              "<li>Chatbots require a large amount of conversational data to train.  Generative models, which are based on deep learning algorithms to  generate new responses word by word based on user input, are usually trained on a large dataset of natural-language phrases.<sup class=\"reference\" id=\"cite_ref-:1_3-2\"><a href=\"#cite_note-:1-3\">[3]</a></sup></li>\n",
              "<li>Chatbots have difficulty managing non-linear conversations that must go back and forth on a topic with a user.<sup class=\"reference\" id=\"cite_ref-Grudin-Jacques_84-0\"><a href=\"#cite_note-Grudin-Jacques-84\">[84]</a></sup></li>\n",
              "<li>As it happens usually with technology-led changes in existing services, some consumers, more often than not from older generations, are uncomfortable with chatbots due to their limited understanding, making it obvious that their requests are being dealt with by machines.<sup class=\"reference\" id=\"cite_ref-Meet11_83-2\"><a href=\"#cite_note-Meet11-83\">[83]</a></sup></li></ul>\n",
              "<h2><span class=\"mw-headline\" id=\"Chatbots_and_jobs\">Chatbots and jobs</span></h2>\n",
              "<p>Chatbots are increasingly present in businesses and often are used to automate tasks that do not require skill-based talents. With customer service taking place via messaging apps as well as phone calls, there are growing numbers of use-cases where chatbot deployment gives organizations a clear return on investment. Call center workers may be particularly at risk from AI-driven chatbots.<sup class=\"reference\" id=\"cite_ref-85\"><a href=\"#cite_note-85\">[85]</a></sup>\n",
              "</p><p><b>Chatbot jobs</b>\n",
              "</p><p>Chatbot developers create, debug, and maintain applications that automate customer services or other communication processes. Their duties include reviewing and simplifying code when needed. They may also help companies implement bots in their operations.\n",
              "</p><p>A study by <a href=\"/wiki/Forrester_Research\" title=\"Forrester Research\">Forrester</a> (June 2017) predicted that 25% of all jobs would be impacted by AI technologies by 2019.<sup class=\"reference\" id=\"cite_ref-86\"><a href=\"#cite_note-86\">[86]</a></sup>\n",
              "</p>\n",
              "<h2><span class=\"mw-headline\" id=\"See_also\">See also</span></h2>\n",
              "<style data-mw-deduplicate=\"TemplateStyles:r1132942124\">.mw-parser-output .portalbox{padding:0;margin:0.5em 0;display:table;box-sizing:border-box;max-width:175px;list-style:none}.mw-parser-output .portalborder{border:solid #aaa 1px;padding:0.1em;background:#f9f9f9}.mw-parser-output .portalbox-entry{display:table-row;font-size:85%;line-height:110%;height:1.9em;font-style:italic;font-weight:bold}.mw-parser-output .portalbox-image{display:table-cell;padding:0.2em;vertical-align:middle;text-align:center}.mw-parser-output .portalbox-link{display:table-cell;padding:0.2em 0.2em 0.2em 0.3em;vertical-align:middle}@media(min-width:720px){.mw-parser-output .portalleft{clear:left;float:left;margin:0.5em 1em 0.5em 0}.mw-parser-output .portalright{clear:right;float:right;margin:0.5em 0 0.5em 1em}}</style><ul aria-label=\"Portals\" class=\"noprint portalbox portalborder portalright\" role=\"navigation\">\n",
              "<li class=\"portalbox-entry\"><span class=\"portalbox-image\"><span class=\"noviewer\" typeof=\"mw:File\"><a class=\"mw-file-description\" href=\"/wiki/File:Globe_of_letters.svg\"><img alt=\"icon\" class=\"mw-file-element\" data-file-height=\"512\" data-file-width=\"512\" decoding=\"async\" height=\"28\" src=\"//upload.wikimedia.org/wikipedia/commons/thumb/d/de/Globe_of_letters.svg/28px-Globe_of_letters.svg.png\" srcset=\"//upload.wikimedia.org/wikipedia/commons/thumb/d/de/Globe_of_letters.svg/42px-Globe_of_letters.svg.png 1.5x, //upload.wikimedia.org/wikipedia/commons/thumb/d/de/Globe_of_letters.svg/56px-Globe_of_letters.svg.png 2x\" width=\"28\"/></a></span></span><span class=\"portalbox-link\"><a href=\"/wiki/Portal:Linguistics\" title=\"Portal:Linguistics\">Linguistics portal</a></span></li></ul>\n",
              "<style data-mw-deduplicate=\"TemplateStyles:r1147244281\">.mw-parser-output .div-col{margin-top:0.3em;column-width:30em}.mw-parser-output .div-col-small{font-size:90%}.mw-parser-output .div-col-rules{column-rule:1px solid #aaa}.mw-parser-output .div-col dl,.mw-parser-output .div-col ol,.mw-parser-output .div-col ul{margin-top:0}.mw-parser-output .div-col li,.mw-parser-output .div-col dd{page-break-inside:avoid;break-inside:avoid-column}.mw-parser-output .plainlist ol,.mw-parser-output .plainlist ul{line-height:inherit;list-style:none;margin:0}.mw-parser-output .plainlist ol li,.mw-parser-output .plainlist ul li{margin-bottom:0}</style><div class=\"div-col\" style=\"column-width: 20em;\">\n",
              "<ul><li><a href=\"/wiki/Applications_of_artificial_intelligence\" title=\"Applications of artificial intelligence\">Applications of artificial intelligence</a></li>\n",
              "<li><a href=\"/wiki/Autonomous_agent\" title=\"Autonomous agent\">Autonomous agent</a></li>\n",
              "<li><a href=\"/wiki/ChatGPT\" title=\"ChatGPT\">ChatGPT</a> (from <a href=\"/wiki/OpenAI\" title=\"OpenAI\">OpenAI</a>)</li>\n",
              "<li><a href=\"/wiki/Conversational_user_interface\" title=\"Conversational user interface\">Conversational user interface</a></li>\n",
              "<li><a href=\"/wiki/Dead_Internet_theory\" title=\"Dead Internet theory\">Dead Internet theory</a></li>\n",
              "<li><a href=\"/wiki/Eugene_Goostman\" title=\"Eugene Goostman\">Eugene Goostman</a></li>\n",
              "<li><a href=\"/wiki/Friendly_artificial_intelligence\" title=\"Friendly artificial intelligence\">Friendly artificial intelligence</a></li>\n",
              "<li><a href=\"/wiki/Hybrid_intelligent_system\" title=\"Hybrid intelligent system\">Hybrid intelligent system</a></li>\n",
              "<li><a href=\"/wiki/Intelligent_agent\" title=\"Intelligent agent\">Intelligent agent</a></li>\n",
              "<li><a href=\"/wiki/Internet_bot\" title=\"Internet bot\">Internet bot</a></li>\n",
              "<li><a href=\"/wiki/List_of_chatbots\" title=\"List of chatbots\">List of chatbots</a></li>\n",
              "<li><a href=\"/wiki/Multi-agent_system\" title=\"Multi-agent system\">Multi-agent system</a></li>\n",
              "<li><a href=\"/wiki/Natural_language_processing\" title=\"Natural language processing\">Natural language processing</a></li>\n",
              "<li><a href=\"/wiki/Social_bot\" title=\"Social bot\">Social bot</a></li>\n",
              "<li><a href=\"/wiki/Software_agent\" title=\"Software agent\">Software agent</a></li>\n",
              "<li><a href=\"/wiki/Software_bot\" title=\"Software bot\">Software bot</a></li>\n",
              "<li><a href=\"/wiki/Stochastic_parrot\" title=\"Stochastic parrot\">Stochastic parrot</a></li>\n",
              "<li><a class=\"mw-redirect\" href=\"/wiki/Twitterbot\" title=\"Twitterbot\">Twitterbot</a></li></ul>\n",
              "</div>\n",
              "<h2><span class=\"mw-headline\" id=\"References\">References</span></h2>\n",
              "<style data-mw-deduplicate=\"TemplateStyles:r1011085734\">.mw-parser-output .reflist{font-size:90%;margin-bottom:0.5em;list-style-type:decimal}.mw-parser-output .reflist .references{font-size:100%;margin-bottom:0;list-style-type:inherit}.mw-parser-output .reflist-columns-2{column-width:30em}.mw-parser-output .reflist-columns-3{column-width:25em}.mw-parser-output .reflist-columns{margin-top:0.3em}.mw-parser-output .reflist-columns ol{margin-top:0}.mw-parser-output .reflist-columns li{page-break-inside:avoid;break-inside:avoid-column}.mw-parser-output .reflist-upper-alpha{list-style-type:upper-alpha}.mw-parser-output .reflist-upper-roman{list-style-type:upper-roman}.mw-parser-output .reflist-lower-alpha{list-style-type:lower-alpha}.mw-parser-output .reflist-lower-greek{list-style-type:lower-greek}.mw-parser-output .reflist-lower-roman{list-style-type:lower-roman}</style><div class=\"reflist\">\n",
              "<div class=\"mw-references-wrap mw-references-columns\"><ol class=\"references\">\n",
              "<li id=\"cite_note-Mauldin-1\"><span class=\"mw-cite-backlink\"><b><a href=\"#cite_ref-Mauldin_1-0\">^</a></b></span> <span class=\"reference-text\"><style data-mw-deduplicate=\"TemplateStyles:r1133582631\">.mw-parser-output cite.citation{font-style:inherit;word-wrap:break-word}.mw-parser-output .citation q{quotes:\"\\\"\"\"\\\"\"\"'\"\"'\"}.mw-parser-output .citation:target{background-color:rgba(0,127,255,0.133)}.mw-parser-output .id-lock-free a,.mw-parser-output .citation .cs1-lock-free a{background:url(\"//upload.wikimedia.org/wikipedia/commons/6/65/Lock-green.svg\")right 0.1em center/9px no-repeat}.mw-parser-output .id-lock-limited a,.mw-parser-output .id-lock-registration a,.mw-parser-output .citation .cs1-lock-limited a,.mw-parser-output .citation .cs1-lock-registration a{background:url(\"//upload.wikimedia.org/wikipedia/commons/d/d6/Lock-gray-alt-2.svg\")right 0.1em center/9px no-repeat}.mw-parser-output .id-lock-subscription a,.mw-parser-output .citation .cs1-lock-subscription a{background:url(\"//upload.wikimedia.org/wikipedia/commons/a/aa/Lock-red-alt-2.svg\")right 0.1em center/9px no-repeat}.mw-parser-output .cs1-ws-icon a{background:url(\"//upload.wikimedia.org/wikipedia/commons/4/4c/Wikisource-logo.svg\")right 0.1em center/12px no-repeat}.mw-parser-output .cs1-code{color:inherit;background:inherit;border:none;padding:inherit}.mw-parser-output .cs1-hidden-error{display:none;color:#d33}.mw-parser-output .cs1-visible-error{color:#d33}.mw-parser-output .cs1-maint{display:none;color:#3a3;margin-left:0.3em}.mw-parser-output .cs1-format{font-size:95%}.mw-parser-output .cs1-kern-left{padding-left:0.2em}.mw-parser-output .cs1-kern-right{padding-right:0.2em}.mw-parser-output .citation .mw-selflink{font-weight:inherit}</style><cite class=\"citation cs2\" id=\"CITEREFMauldin1994\">Mauldin, Michael (1994), \"ChatterBots, TinyMuds, and the Turing Test: Entering the Loebner Prize Competition\", <a class=\"external text\" href=\"http://www.aaai.org/Library/AAAI/1994/aaai94-003.php\" rel=\"nofollow\"><i>Proceedings of the Eleventh National Conference on Artificial Intelligence</i></a>, <a class=\"mw-redirect\" href=\"/wiki/AAAI_Press\" title=\"AAAI Press\">AAAI Press</a>, <a class=\"external text\" href=\"https://web.archive.org/web/20071213172751/http://www.aaai.org/Library/AAAI/1994/aaai94-003.php\" rel=\"nofollow\">archived</a> from the original on 13 December 2007<span class=\"reference-accessdate\">, retrieved <span class=\"nowrap\">5 March</span> 2008</span></cite><span class=\"Z3988\" title=\"ctx_ver=Z39.88-2004&amp;rft_val_fmt=info%3Aofi%2Ffmt%3Akev%3Amtx%3Abook&amp;rft.genre=bookitem&amp;rft.atitle=ChatterBots%2C+TinyMuds%2C+and+the+Turing+Test%3A+Entering+the+Loebner+Prize+Competition&amp;rft.btitle=Proceedings+of+the+Eleventh+National+Conference+on+Artificial+Intelligence&amp;rft.pub=AAAI+Press&amp;rft.date=1994&amp;rft.aulast=Mauldin&amp;rft.aufirst=Michael&amp;rft_id=http%3A%2F%2Fwww.aaai.org%2FLibrary%2FAAAI%2F1994%2Faaai94-003.php&amp;rfr_id=info%3Asid%2Fen.wikipedia.org%3AChatbot\"></span></span>\n",
              "</li>\n",
              "<li id=\"cite_note-target-2\"><span class=\"mw-cite-backlink\"><b><a href=\"#cite_ref-target_2-0\">^</a></b></span> <span class=\"reference-text\"><link href=\"mw-data:TemplateStyles:r1133582631\" rel=\"mw-deduplicated-inline-style\"/><cite class=\"citation web cs1\"><a class=\"external text\" href=\"http://searchdomino.techtarget.com/sDefinition/0,,sid4_gci935566,00.html\" rel=\"nofollow\">\"What is a chatbot?\"</a>. <i>techtarget.com</i>. <a class=\"external text\" href=\"https://web.archive.org/web/20101102170613/http://searchdomino.techtarget.com/sDefinition/0,,sid4_gci935566,00.html\" rel=\"nofollow\">Archived</a> from the original on 2 November 2010<span class=\"reference-accessdate\">. Retrieved <span class=\"nowrap\">30 January</span> 2017</span>.</cite><span class=\"Z3988\" title=\"ctx_ver=Z39.88-2004&amp;rft_val_fmt=info%3Aofi%2Ffmt%3Akev%3Amtx%3Ajournal&amp;rft.genre=unknown&amp;rft.jtitle=techtarget.com&amp;rft.atitle=What+is+a+chatbot%3F&amp;rft_id=http%3A%2F%2Fsearchdomino.techtarget.com%2FsDefinition%2F0%2C%2Csid4_gci935566%2C00.html&amp;rfr_id=info%3Asid%2Fen.wikipedia.org%3AChatbot\"></span></span>\n",
              "</li>\n",
              "<li id=\"cite_note-:1-3\"><span class=\"mw-cite-backlink\">^ <a href=\"#cite_ref-:1_3-0\"><sup><i><b>a</b></i></sup></a> <a href=\"#cite_ref-:1_3-1\"><sup><i><b>b</b></i></sup></a> <a href=\"#cite_ref-:1_3-2\"><sup><i><b>c</b></i></sup></a></span> <span class=\"reference-text\"><link href=\"mw-data:TemplateStyles:r1133582631\" rel=\"mw-deduplicated-inline-style\"/><cite class=\"citation journal cs1\" id=\"CITEREFCaldariniJafMcGarry2022\">Caldarini, Guendalina; Jaf, Sardar; McGarry, Kenneth (2022). <a class=\"external text\" href=\"https://doi.org/10.3390%2Finfo13010041\" rel=\"nofollow\">\"A Literature Survey of Recent Advances in Chatbots\"</a>. <i>Information</i>. MDPI. <b>13</b> (1): 41. <a class=\"mw-redirect\" href=\"/wiki/Doi_(identifier)\" title=\"Doi (identifier)\">doi</a>:<span class=\"cs1-lock-free\" title=\"Freely accessible\"><a class=\"external text\" href=\"https://doi.org/10.3390%2Finfo13010041\" rel=\"nofollow\">10.3390/info13010041</a></span>.</cite><span class=\"Z3988\" title=\"ctx_ver=Z39.88-2004&amp;rft_val_fmt=info%3Aofi%2Ffmt%3Akev%3Amtx%3Ajournal&amp;rft.genre=article&amp;rft.jtitle=Information&amp;rft.atitle=A+Literature+Survey+of+Recent+Advances+in+Chatbots&amp;rft.volume=13&amp;rft.issue=1&amp;rft.pages=41&amp;rft.date=2022&amp;rft_id=info%3Adoi%2F10.3390%2Finfo13010041&amp;rft.aulast=Caldarini&amp;rft.aufirst=Guendalina&amp;rft.au=Jaf%2C+Sardar&amp;rft.au=McGarry%2C+Kenneth&amp;rft_id=https%3A%2F%2Fdoi.org%2F10.3390%252Finfo13010041&amp;rfr_id=info%3Asid%2Fen.wikipedia.org%3AChatbot\"></span></span>\n",
              "</li>\n",
              "<li id=\"cite_note-4\"><span class=\"mw-cite-backlink\"><b><a href=\"#cite_ref-4\">^</a></b></span> <span class=\"reference-text\"><link href=\"mw-data:TemplateStyles:r1133582631\" rel=\"mw-deduplicated-inline-style\"/><cite class=\"citation journal cs1\" id=\"CITEREFAdamopoulouMoussiades2020\">Adamopoulou, Eleni; Moussiades, Lefteris (2020). <a class=\"external text\" href=\"https://doi.org/10.1016%2Fj.mlwa.2020.100006\" rel=\"nofollow\">\"Chatbots: History, technology, and applications\"</a>. <i>Machine Learning with Applications</i>. <b>2</b>: 100006. <a class=\"mw-redirect\" href=\"/wiki/Doi_(identifier)\" title=\"Doi (identifier)\">doi</a>:<span class=\"cs1-lock-free\" title=\"Freely accessible\"><a class=\"external text\" href=\"https://doi.org/10.1016%2Fj.mlwa.2020.100006\" rel=\"nofollow\">10.1016/j.mlwa.2020.100006</a></span>.</cite><span class=\"Z3988\" title=\"ctx_ver=Z39.88-2004&amp;rft_val_fmt=info%3Aofi%2Ffmt%3Akev%3Amtx%3Ajournal&amp;rft.genre=article&amp;rft.jtitle=Machine+Learning+with+Applications&amp;rft.atitle=Chatbots%3A+History%2C+technology%2C+and+applications&amp;rft.volume=2&amp;rft.pages=100006&amp;rft.date=2020&amp;rft_id=info%3Adoi%2F10.1016%2Fj.mlwa.2020.100006&amp;rft.aulast=Adamopoulou&amp;rft.aufirst=Eleni&amp;rft.au=Moussiades%2C+Lefteris&amp;rft_id=https%3A%2F%2Fdoi.org%2F10.1016%252Fj.mlwa.2020.100006&amp;rfr_id=info%3Asid%2Fen.wikipedia.org%3AChatbot\"></span></span>\n",
              "</li>\n",
              "<li id=\"cite_note-5\"><span class=\"mw-cite-backlink\"><b><a href=\"#cite_ref-5\">^</a></b></span> <span class=\"reference-text\"><link href=\"mw-data:TemplateStyles:r1133582631\" rel=\"mw-deduplicated-inline-style\"/><cite class=\"citation news cs1\" id=\"CITEREFHu2023\">Hu, Krystal (2 February 2023). <a class=\"external text\" href=\"https://www.reuters.com/technology/chatgpt-sets-record-fastest-growing-user-base-analyst-note-2023-02-01/\" rel=\"nofollow\">\"ChatGPT sets record for fastest-growing user base - analyst note\"</a>. <i>Reuters</i>.</cite><span class=\"Z3988\" title=\"ctx_ver=Z39.88-2004&amp;rft_val_fmt=info%3Aofi%2Ffmt%3Akev%3Amtx%3Ajournal&amp;rft.genre=article&amp;rft.jtitle=Reuters&amp;rft.atitle=ChatGPT+sets+record+for+fastest-growing+user+base+-+analyst+note&amp;rft.date=2023-02-02&amp;rft.aulast=Hu&amp;rft.aufirst=Krystal&amp;rft_id=https%3A%2F%2Fwww.reuters.com%2Ftechnology%2Fchatgpt-sets-record-fastest-growing-user-base-analyst-note-2023-02-01%2F&amp;rfr_id=info%3Asid%2Fen.wikipedia.org%3AChatbot\"></span></span>\n",
              "</li>\n",
              "<li id=\"cite_note-6\"><span class=\"mw-cite-backlink\"><b><a href=\"#cite_ref-6\">^</a></b></span> <span class=\"reference-text\"><link href=\"mw-data:TemplateStyles:r1133582631\" rel=\"mw-deduplicated-inline-style\"/><cite class=\"citation web cs1\"><a class=\"external text\" href=\"https://www.cnet.com/tech/services-and-software/chatgpt-vs-bing-vs-google-bard-which-ai-is-the-most-helpful/\" rel=\"nofollow\">\"ChatGPT vs. Bing vs. Google Bard: Which AI is the Most Helpful?\"</a>.</cite><span class=\"Z3988\" title=\"ctx_ver=Z39.88-2004&amp;rft_val_fmt=info%3Aofi%2Ffmt%3Akev%3Amtx%3Abook&amp;rft.genre=unknown&amp;rft.btitle=ChatGPT+vs.+Bing+vs.+Google+Bard%3A+Which+AI+is+the+Most+Helpful%3F&amp;rft_id=https%3A%2F%2Fwww.cnet.com%2Ftech%2Fservices-and-software%2Fchatgpt-vs-bing-vs-google-bard-which-ai-is-the-most-helpful%2F&amp;rfr_id=info%3Asid%2Fen.wikipedia.org%3AChatbot\"></span></span>\n",
              "</li>\n",
              "<li id=\"cite_note-livemint.com-7\"><span class=\"mw-cite-backlink\">^ <a href=\"#cite_ref-livemint.com_7-0\"><sup><i><b>a</b></i></sup></a> <a href=\"#cite_ref-livemint.com_7-1\"><sup><i><b>b</b></i></sup></a></span> <span class=\"reference-text\"><link href=\"mw-data:TemplateStyles:r1133582631\" rel=\"mw-deduplicated-inline-style\"/><cite class=\"citation web cs1\"><a class=\"external text\" href=\"https://www.livemint.com/technology/tech-news/gpt4-takes-the-world-by-storm-list-of-companies-that-integrated-the-chatbot-11679293885004.html\" rel=\"nofollow\">\"GPT-4 takes the world by storm - List of companies that integrated the chatbot\"</a>. 21 March 2023.</cite><span class=\"Z3988\" title=\"ctx_ver=Z39.88-2004&amp;rft_val_fmt=info%3Aofi%2Ffmt%3Akev%3Amtx%3Abook&amp;rft.genre=unknown&amp;rft.btitle=GPT-4+takes+the+world+by+storm+-+List+of+companies+that+integrated+the+chatbot&amp;rft.date=2023-03-21&amp;rft_id=https%3A%2F%2Fwww.livemint.com%2Ftechnology%2Ftech-news%2Fgpt4-takes-the-world-by-storm-list-of-companies-that-integrated-the-chatbot-11679293885004.html&amp;rfr_id=info%3Asid%2Fen.wikipedia.org%3AChatbot\"></span></span>\n",
              "</li>\n",
              "<li id=\"cite_note-8\"><span class=\"mw-cite-backlink\"><b><a href=\"#cite_ref-8\">^</a></b></span> <span class=\"reference-text\"><link href=\"mw-data:TemplateStyles:r1133582631\" rel=\"mw-deduplicated-inline-style\"/><cite class=\"citation web cs1\"><a class=\"external text\" href=\"https://cai.tools.sap/blog/2017-messenger-bot-landscape/\" rel=\"nofollow\">\"2017 Messenger Bot Landscape, a Public Spreadsheet Gathering 1000+ Messenger Bots\"</a>. 3 May 2017. <a class=\"external text\" href=\"https://web.archive.org/web/20190202041707/https://cai.tools.sap/blog/2017-messenger-bot-landscape/\" rel=\"nofollow\">Archived</a> from the original on 2 February 2019<span class=\"reference-accessdate\">. Retrieved <span class=\"nowrap\">1 February</span> 2019</span>.</cite><span class=\"Z3988\" title=\"ctx_ver=Z39.88-2004&amp;rft_val_fmt=info%3Aofi%2Ffmt%3Akev%3Amtx%3Abook&amp;rft.genre=unknown&amp;rft.btitle=2017+Messenger+Bot+Landscape%2C+a+Public+Spreadsheet+Gathering+1000%2B+Messenger+Bots&amp;rft.date=2017-05-03&amp;rft_id=https%3A%2F%2Fcai.tools.sap%2Fblog%2F2017-messenger-bot-landscape%2F&amp;rfr_id=info%3Asid%2Fen.wikipedia.org%3AChatbot\"></span></span>\n",
              "</li>\n",
              "<li id=\"cite_note-Turing-9\"><span class=\"mw-cite-backlink\"><b><a href=\"#cite_ref-Turing_9-0\">^</a></b></span> <span class=\"reference-text\"><link href=\"mw-data:TemplateStyles:r1133582631\" rel=\"mw-deduplicated-inline-style\"/><cite class=\"citation cs2\" id=\"CITEREFTuring1950\"><a href=\"/wiki/Alan_Turing\" title=\"Alan Turing\">Turing, Alan</a> (1950), \"Computing Machinery and Intelligence\", <i>Mind</i>, <b>59</b> (236): 433–460, <a class=\"mw-redirect\" href=\"/wiki/Doi_(identifier)\" title=\"Doi (identifier)\">doi</a>:<a class=\"external text\" href=\"https://doi.org/10.1093%2Fmind%2Flix.236.433\" rel=\"nofollow\">10.1093/mind/lix.236.433</a></cite><span class=\"Z3988\" title=\"ctx_ver=Z39.88-2004&amp;rft_val_fmt=info%3Aofi%2Ffmt%3Akev%3Amtx%3Ajournal&amp;rft.genre=article&amp;rft.jtitle=Mind&amp;rft.atitle=Computing+Machinery+and+Intelligence&amp;rft.volume=59&amp;rft.issue=236&amp;rft.pages=433-460&amp;rft.date=1950&amp;rft_id=info%3Adoi%2F10.1093%2Fmind%2Flix.236.433&amp;rft.aulast=Turing&amp;rft.aufirst=Alan&amp;rfr_id=info%3Asid%2Fen.wikipedia.org%3AChatbot\"></span></span>\n",
              "</li>\n",
              "<li id=\"cite_note-Weizenbaum-10\"><span class=\"mw-cite-backlink\">^ <a href=\"#cite_ref-Weizenbaum_10-0\"><sup><i><b>a</b></i></sup></a> <a href=\"#cite_ref-Weizenbaum_10-1\"><sup><i><b>b</b></i></sup></a></span> <span class=\"reference-text\"><link href=\"mw-data:TemplateStyles:r1133582631\" rel=\"mw-deduplicated-inline-style\"/><cite class=\"citation cs2\" id=\"CITEREFWeizenbaum1966\"><a href=\"/wiki/Joseph_Weizenbaum\" title=\"Joseph Weizenbaum\">Weizenbaum, Joseph</a> (January 1966), \"ELIZA – A Computer Program For the Study of Natural Language Communication Between Man And Machine\", <i><a href=\"/wiki/Communications_of_the_ACM\" title=\"Communications of the ACM\">Communications of the ACM</a></i>, <b>9</b> (1): 36–45, <a class=\"mw-redirect\" href=\"/wiki/Doi_(identifier)\" title=\"Doi (identifier)\">doi</a>:<span class=\"cs1-lock-free\" title=\"Freely accessible\"><a class=\"external text\" href=\"https://doi.org/10.1145%2F365153.365168\" rel=\"nofollow\">10.1145/365153.365168</a></span>, <a class=\"mw-redirect\" href=\"/wiki/S2CID_(identifier)\" title=\"S2CID (identifier)\">S2CID</a> <a class=\"external text\" href=\"https://api.semanticscholar.org/CorpusID:1896290\" rel=\"nofollow\">1896290</a></cite><span class=\"Z3988\" title=\"ctx_ver=Z39.88-2004&amp;rft_val_fmt=info%3Aofi%2Ffmt%3Akev%3Amtx%3Ajournal&amp;rft.genre=article&amp;rft.jtitle=Communications+of+the+ACM&amp;rft.atitle=ELIZA+%E2%80%93+A+Computer+Program+For+the+Study+of+Natural+Language+Communication+Between+Man+And+Machine&amp;rft.volume=9&amp;rft.issue=1&amp;rft.pages=36-45&amp;rft.date=1966-01&amp;rft_id=info%3Adoi%2F10.1145%2F365153.365168&amp;rft_id=https%3A%2F%2Fapi.semanticscholar.org%2FCorpusID%3A1896290%23id-name%3DS2CID&amp;rft.aulast=Weizenbaum&amp;rft.aufirst=Joseph&amp;rfr_id=info%3Asid%2Fen.wikipedia.org%3AChatbot\"></span></span>\n",
              "</li>\n",
              "<li id=\"cite_note-Güzeldere-11\"><span class=\"mw-cite-backlink\"><b><a href=\"#cite_ref-Güzeldere_11-0\">^</a></b></span> <span class=\"reference-text\"><link href=\"mw-data:TemplateStyles:r1133582631\" rel=\"mw-deduplicated-inline-style\"/><cite class=\"citation cs2\" id=\"CITEREFGüzeldereFranchi1995\">Güzeldere, Güven; Franchi, Stefano (24 July 1995), <a class=\"external text\" href=\"https://web.archive.org/web/20070711204557/http://www.stanford.edu/group/SHR/4-2/text/dialogues.html\" rel=\"nofollow\">\"Constructions of the Mind\"</a>, <i>Stanford Humanities Review</i>, SEHR, <a href=\"/wiki/Stanford_University\" title=\"Stanford University\">Stanford University</a>, <b>4</b> (2), archived from <a class=\"external text\" href=\"http://www.stanford.edu/group/SHR/4-2/text/dialogues.html\" rel=\"nofollow\">the original</a> on 11 July 2007<span class=\"reference-accessdate\">, retrieved <span class=\"nowrap\">5 March</span> 2008</span></cite><span class=\"Z3988\" title=\"ctx_ver=Z39.88-2004&amp;rft_val_fmt=info%3Aofi%2Ffmt%3Akev%3Amtx%3Ajournal&amp;rft.genre=article&amp;rft.jtitle=Stanford+Humanities+Review&amp;rft.atitle=Constructions+of+the+Mind&amp;rft.volume=4&amp;rft.issue=2&amp;rft.date=1995-07-24&amp;rft.aulast=G%C3%BCzeldere&amp;rft.aufirst=G%C3%BCven&amp;rft.au=Franchi%2C+Stefano&amp;rft_id=http%3A%2F%2Fwww.stanford.edu%2Fgroup%2FSHR%2F4-2%2Ftext%2Fdialogues.html&amp;rfr_id=info%3Asid%2Fen.wikipedia.org%3AChatbot\"></span></span>\n",
              "</li>\n",
              "<li id=\"cite_note-comphis-12\"><span class=\"mw-cite-backlink\"><b><a href=\"#cite_ref-comphis_12-0\">^</a></b></span> <span class=\"reference-text\"><link href=\"mw-data:TemplateStyles:r1133582631\" rel=\"mw-deduplicated-inline-style\"/><cite class=\"citation cs2\" id=\"CITEREFComputer_History_Museum2006\">Computer History Museum (2006), <a class=\"external text\" href=\"https://web.archive.org/web/20080221093646/http://www.computerhistory.org/internet_history/internet_history_70s.shtml\" rel=\"nofollow\">\"Internet History – 1970's\"</a>, <i>Exhibits</i>, <a href=\"/wiki/Computer_History_Museum\" title=\"Computer History Museum\">Computer History Museum</a>, archived from <a class=\"external text\" href=\"http://www.computerhistory.org/internet_history/internet_history_70s.shtml\" rel=\"nofollow\">the original</a> on 21 February 2008<span class=\"reference-accessdate\">, retrieved <span class=\"nowrap\">5 March</span> 2008</span></cite><span class=\"Z3988\" title=\"ctx_ver=Z39.88-2004&amp;rft_val_fmt=info%3Aofi%2Ffmt%3Akev%3Amtx%3Abook&amp;rft.genre=bookitem&amp;rft.atitle=Internet+History+%E2%80%93+1970%27s&amp;rft.btitle=Exhibits&amp;rft.pub=Computer+History+Museum&amp;rft.date=2006&amp;rft.au=Computer+History+Museum&amp;rft_id=http%3A%2F%2Fwww.computerhistory.org%2Finternet_history%2Finternet_history_70s.shtml&amp;rfr_id=info%3Asid%2Fen.wikipedia.org%3AChatbot\"></span></span>\n",
              "</li>\n",
              "<li id=\"cite_note-Sondheim-13\"><span class=\"mw-cite-backlink\"><b><a href=\"#cite_ref-Sondheim_13-0\">^</a></b></span> <span class=\"reference-text\"><link href=\"mw-data:TemplateStyles:r1133582631\" rel=\"mw-deduplicated-inline-style\"/><cite class=\"citation cs2\" id=\"CITEREFSondheim1997\">Sondheim, Alan J (1997), <a class=\"external text\" href=\"https://web.archive.org/web/20080613072047/http://www.nettime.org/Lists-Archives/nettime-l-9707/msg00059.html\" rel=\"nofollow\"><i>&lt;nettime&gt; Important Documents from the Early Internet (1972)</i></a>, nettime.org, archived from <a class=\"external text\" href=\"http://www.nettime.org/Lists-Archives/nettime-l-9707/msg00059.html\" rel=\"nofollow\">the original</a> on 13 June 2008<span class=\"reference-accessdate\">, retrieved <span class=\"nowrap\">5 March</span> 2008</span></cite><span class=\"Z3988\" title=\"ctx_ver=Z39.88-2004&amp;rft_val_fmt=info%3Aofi%2Ffmt%3Akev%3Amtx%3Abook&amp;rft.genre=book&amp;rft.btitle=%3Cnettime%3E+Important+Documents+from+the+Early+Internet+%281972%29&amp;rft.pub=nettime.org&amp;rft.date=1997&amp;rft.aulast=Sondheim&amp;rft.aufirst=Alan+J&amp;rft_id=http%3A%2F%2Fwww.nettime.org%2FLists-Archives%2Fnettime-l-9707%2Fmsg00059.html&amp;rfr_id=info%3Asid%2Fen.wikipedia.org%3AChatbot\"></span></span>\n",
              "</li>\n",
              "<li id=\"cite_note-Network-14\"><span class=\"mw-cite-backlink\"><b><a href=\"#cite_ref-Network_14-0\">^</a></b></span> <span class=\"reference-text\"><link href=\"mw-data:TemplateStyles:r1133582631\" rel=\"mw-deduplicated-inline-style\"/><cite class=\"citation cs2\" id=\"CITEREFNetwork_Working_Group1973\">Network Working Group (1973), <a class=\"external text\" href=\"http://tools.ietf.org/html/rfc439\" rel=\"nofollow\">\"RFC 439, PARRY Encounters the DOCTOR\"</a>, <i><a href=\"/wiki/Internet_Engineering_Task_Force\" title=\"Internet Engineering Task Force\">Internet Engineering Task Force</a></i>, <a href=\"/wiki/Internet_Society\" title=\"Internet Society\">Internet Society</a>, <a class=\"mw-redirect\" href=\"/wiki/Doi_(identifier)\" title=\"Doi (identifier)\">doi</a>:<span class=\"cs1-lock-free\" title=\"Freely accessible\"><a class=\"external text\" href=\"https://doi.org/10.17487%2FRFC0439\" rel=\"nofollow\">10.17487/RFC0439</a></span>, <a class=\"external text\" href=\"https://web.archive.org/web/20080220084325/http://tools.ietf.org/html/rfc439\" rel=\"nofollow\">archived</a> from the original on 20 February 2008<span class=\"reference-accessdate\">, retrieved <span class=\"nowrap\">5 March</span> 2008</span></cite><span class=\"Z3988\" title=\"ctx_ver=Z39.88-2004&amp;rft_val_fmt=info%3Aofi%2Ffmt%3Akev%3Amtx%3Ajournal&amp;rft.genre=article&amp;rft.jtitle=Internet+Engineering+Task+Force&amp;rft.atitle=RFC+439%2C+PARRY+Encounters+the+DOCTOR&amp;rft.date=1973&amp;rft_id=info%3Adoi%2F10.17487%2FRFC0439&amp;rft.au=Network+Working+Group&amp;rft_id=http%3A%2F%2Ftools.ietf.org%2Fhtml%2Frfc439&amp;rfr_id=info%3Asid%2Fen.wikipedia.org%3AChatbot\"></span> – Transcript of a session between Parry and Eliza. (This is <i>not</i> the dialogue from the ICCC, which took place 24–26 October 1972, whereas this session is from 18 September 1972.)</span>\n",
              "</li>\n",
              "<li id=\"cite_note-15\"><span class=\"mw-cite-backlink\"><b><a href=\"#cite_ref-15\">^</a></b></span> <span class=\"reference-text\"><a class=\"external text\" href=\"http://everything2.com/title/The+Policeman%2527s+Beard+is+Half+Constructed\" rel=\"nofollow\">The Policeman's Beard is Half Constructed</a> <a class=\"external text\" href=\"https://web.archive.org/web/20100204175415/http://everything2.com/title/the+policeman%2527s+beard+is+half+constructed\" rel=\"nofollow\">Archived</a> 4 February 2010 at the <a href=\"/wiki/Wayback_Machine\" title=\"Wayback Machine\">Wayback Machine</a>. everything2.com. 13 November 1999</span>\n",
              "</li>\n",
              "<li id=\"cite_note-16\"><span class=\"mw-cite-backlink\"><b><a href=\"#cite_ref-16\">^</a></b></span> <span class=\"reference-text\">Kolodner, Janet L. <i><a class=\"external text\" href=\"https://apps.dtic.mil/sti/citations/ADA062974\" rel=\"nofollow\">Memory organization for natural language data-base inquiry</a></i>. Advanced Research Projects Agency, 1978.</span>\n",
              "</li>\n",
              "<li id=\"cite_note-:2-17\"><span class=\"mw-cite-backlink\">^ <a href=\"#cite_ref-:2_17-0\"><sup><i><b>a</b></i></sup></a> <a href=\"#cite_ref-:2_17-1\"><sup><i><b>b</b></i></sup></a></span> <span class=\"reference-text\"><link href=\"mw-data:TemplateStyles:r1133582631\" rel=\"mw-deduplicated-inline-style\"/><cite class=\"citation journal cs1\" id=\"CITEREFKolodner1983\">Kolodner, Janet L. (1 October 1983). <a class=\"external text\" href=\"https://www.sciencedirect.com/science/article/pii/S0364021383800019\" rel=\"nofollow\">\"Maintaining organization in a dynamic long-term memory\"</a>. <i>Cognitive Science</i>. <b>7</b> (4): 243–280. <a class=\"mw-redirect\" href=\"/wiki/Doi_(identifier)\" title=\"Doi (identifier)\">doi</a>:<span class=\"cs1-lock-free\" title=\"Freely accessible\"><a class=\"external text\" href=\"https://doi.org/10.1016%2FS0364-0213%2883%2980001-9\" rel=\"nofollow\">10.1016/S0364-0213(83)80001-9</a></span>. <a class=\"mw-redirect\" href=\"/wiki/ISSN_(identifier)\" title=\"ISSN (identifier)\">ISSN</a> <a class=\"external text\" href=\"https://www.worldcat.org/issn/0364-0213\" rel=\"nofollow\">0364-0213</a>.</cite><span class=\"Z3988\" title=\"ctx_ver=Z39.88-2004&amp;rft_val_fmt=info%3Aofi%2Ffmt%3Akev%3Amtx%3Ajournal&amp;rft.genre=article&amp;rft.jtitle=Cognitive+Science&amp;rft.atitle=Maintaining+organization+in+a+dynamic+long-term+memory&amp;rft.volume=7&amp;rft.issue=4&amp;rft.pages=243-280&amp;rft.date=1983-10-01&amp;rft_id=info%3Adoi%2F10.1016%2FS0364-0213%2883%2980001-9&amp;rft.issn=0364-0213&amp;rft.aulast=Kolodner&amp;rft.aufirst=Janet+L.&amp;rft_id=https%3A%2F%2Fwww.sciencedirect.com%2Fscience%2Farticle%2Fpii%2FS0364021383800019&amp;rfr_id=info%3Asid%2Fen.wikipedia.org%3AChatbot\"></span></span>\n",
              "</li>\n",
              "<li id=\"cite_note-18\"><span class=\"mw-cite-backlink\"><b><a href=\"#cite_ref-18\">^</a></b></span> <span class=\"reference-text\"><link href=\"mw-data:TemplateStyles:r1133582631\" rel=\"mw-deduplicated-inline-style\"/><cite class=\"citation cs2\" id=\"CITEREFDennett2004\">Dennett, Daniel C. (2004), Teuscher, Christof (ed.), <a class=\"external text\" href=\"https://doi.org/10.1007/978-3-662-05642-4_12\" rel=\"nofollow\">\"Can Machines Think?\"</a>, <i>Alan Turing: Life and Legacy of a Great Thinker</i>, Berlin, Heidelberg: Springer, pp. 295–316, <a class=\"mw-redirect\" href=\"/wiki/Doi_(identifier)\" title=\"Doi (identifier)\">doi</a>:<a class=\"external text\" href=\"https://doi.org/10.1007%2F978-3-662-05642-4_12\" rel=\"nofollow\">10.1007/978-3-662-05642-4_12</a>, <a class=\"mw-redirect\" href=\"/wiki/ISBN_(identifier)\" title=\"ISBN (identifier)\">ISBN</a> <a href=\"/wiki/Special:BookSources/978-3-662-05642-4\" title=\"Special:BookSources/978-3-662-05642-4\"><bdi>978-3-662-05642-4</bdi></a><span class=\"reference-accessdate\">, retrieved <span class=\"nowrap\">23 July</span> 2023</span></cite><span class=\"Z3988\" title=\"ctx_ver=Z39.88-2004&amp;rft_val_fmt=info%3Aofi%2Ffmt%3Akev%3Amtx%3Ajournal&amp;rft.genre=article&amp;rft.jtitle=Alan+Turing%3A+Life+and+Legacy+of+a+Great+Thinker&amp;rft.atitle=Can+Machines+Think%3F&amp;rft.pages=295-316&amp;rft.date=2004&amp;rft_id=info%3Adoi%2F10.1007%2F978-3-662-05642-4_12&amp;rft.isbn=978-3-662-05642-4&amp;rft.aulast=Dennett&amp;rft.aufirst=Daniel+C.&amp;rft_id=https%3A%2F%2Fdoi.org%2F10.1007%2F978-3-662-05642-4_12&amp;rfr_id=info%3Asid%2Fen.wikipedia.org%3AChatbot\"></span></span>\n",
              "</li>\n",
              "<li id=\"cite_note-19\"><span class=\"mw-cite-backlink\"><b><a href=\"#cite_ref-19\">^</a></b></span> <span class=\"reference-text\"><link href=\"mw-data:TemplateStyles:r1133582631\" rel=\"mw-deduplicated-inline-style\"/><cite class=\"citation web cs1\"><a class=\"external text\" href=\"http://www.schwaebische.de/archiv_artikel,-Chatroboter-simulieren-Menschen-_arid,855141.html\" rel=\"nofollow\">\"Chatroboter simulieren Menschen\"</a>.</cite><span class=\"Z3988\" title=\"ctx_ver=Z39.88-2004&amp;rft_val_fmt=info%3Aofi%2Ffmt%3Akev%3Amtx%3Abook&amp;rft.genre=unknown&amp;rft.btitle=Chatroboter+simulieren+Menschen&amp;rft_id=http%3A%2F%2Fwww.schwaebische.de%2Farchiv_artikel%2C-Chatroboter-simulieren-Menschen-_arid%2C855141.html&amp;rfr_id=info%3Asid%2Fen.wikipedia.org%3AChatbot\"></span><sup class=\"noprint Inline-Template\"><span style=\"white-space: nowrap;\">[<i><a href=\"/wiki/Wikipedia:Link_rot\" title=\"Wikipedia:Link rot\"><span title=\" Dead link tagged April 2023\">permanent dead link</span></a></i>]</span></sup></span>\n",
              "</li>\n",
              "<li id=\"cite_note-20\"><span class=\"mw-cite-backlink\"><b><a href=\"#cite_ref-20\">^</a></b></span> <span class=\"reference-text\"><link href=\"mw-data:TemplateStyles:r1133582631\" rel=\"mw-deduplicated-inline-style\"/><cite class=\"citation web cs1\"><a class=\"external text\" href=\"https://magicbuddy.chat/ai/what-is-chatgpt\" rel=\"nofollow\">\"What is ChatGPT? - MagicBuddy\"</a>. <i>MagicBuddy</i>. 2023<span class=\"reference-accessdate\">. Retrieved <span class=\"nowrap\">1 August</span> 2023</span>.</cite><span class=\"Z3988\" title=\"ctx_ver=Z39.88-2004&amp;rft_val_fmt=info%3Aofi%2Ffmt%3Akev%3Amtx%3Ajournal&amp;rft.genre=unknown&amp;rft.jtitle=MagicBuddy&amp;rft.atitle=What+is+ChatGPT%3F+-+MagicBuddy&amp;rft.date=2023&amp;rft_id=https%3A%2F%2Fmagicbuddy.chat%2Fai%2Fwhat-is-chatgpt&amp;rfr_id=info%3Asid%2Fen.wikipedia.org%3AChatbot\"></span></span>\n",
              "</li>\n",
              "<li id=\"cite_note-pmid36156661-21\"><span class=\"mw-cite-backlink\"><b><a href=\"#cite_ref-pmid36156661_21-0\">^</a></b></span> <span class=\"reference-text\"><link href=\"mw-data:TemplateStyles:r1133582631\" rel=\"mw-deduplicated-inline-style\"/><cite class=\"citation journal cs1\" id=\"CITEREFLuoSunXiaQin2022\">Luo, Renqian; Sun, Liai; Xia, Yingce; Qin, Tao; Zhang, Sheng; Poon, Hoifung; Liu, Tie-Yan; et al. (2022). \"BioGPT: generative pre-trained transformer for biomedical text generation and mining\". <i>Brief Bioinform</i>. <b>23</b> (6). <a class=\"mw-redirect\" href=\"/wiki/ArXiv_(identifier)\" title=\"ArXiv (identifier)\">arXiv</a>:<span class=\"cs1-lock-free\" title=\"Freely accessible\"><a class=\"external text\" href=\"https://arxiv.org/abs/2210.10341\" rel=\"nofollow\">2210.10341</a></span>. <a class=\"mw-redirect\" href=\"/wiki/Doi_(identifier)\" title=\"Doi (identifier)\">doi</a>:<a class=\"external text\" href=\"https://doi.org/10.1093%2Fbib%2Fbbac409\" rel=\"nofollow\">10.1093/bib/bbac409</a>. <a class=\"mw-redirect\" href=\"/wiki/PMID_(identifier)\" title=\"PMID (identifier)\">PMID</a> <a class=\"external text\" href=\"https://pubmed.ncbi.nlm.nih.gov/36156661\" rel=\"nofollow\">36156661</a>.</cite><span class=\"Z3988\" title=\"ctx_ver=Z39.88-2004&amp;rft_val_fmt=info%3Aofi%2Ffmt%3Akev%3Amtx%3Ajournal&amp;rft.genre=article&amp;rft.jtitle=Brief+Bioinform&amp;rft.atitle=BioGPT%3A+generative+pre-trained+transformer+for+biomedical+text+generation+and+mining&amp;rft.volume=23&amp;rft.issue=6&amp;rft.date=2022&amp;rft_id=info%3Aarxiv%2F2210.10341&amp;rft_id=info%3Apmid%2F36156661&amp;rft_id=info%3Adoi%2F10.1093%2Fbib%2Fbbac409&amp;rft.aulast=Luo&amp;rft.aufirst=Renqian&amp;rft.au=Sun%2C+Liai&amp;rft.au=Xia%2C+Yingce&amp;rft.au=Qin%2C+Tao&amp;rft.au=Zhang%2C+Sheng&amp;rft.au=Poon%2C+Hoifung&amp;rft.au=Liu%2C+Tie-Yan&amp;rfr_id=info%3Asid%2Fen.wikipedia.org%3AChatbot\"></span></span>\n",
              "</li>\n",
              "<li id=\"cite_note-22\"><span class=\"mw-cite-backlink\"><b><a href=\"#cite_ref-22\">^</a></b></span> <span class=\"reference-text\"><link href=\"mw-data:TemplateStyles:r1133582631\" rel=\"mw-deduplicated-inline-style\"/><cite class=\"citation web cs1\" id=\"CITEREFBastian,_Matthias2023\">Bastian, Matthias (29 January 2023). <a class=\"external text\" href=\"https://the-decoder.com/biogpt-is-a-microsoft-language-model-trained-for-biomedical-tasks/\" rel=\"nofollow\">\"BioGPT is a Microsoft language model trained for biomedical tasks\"</a>. <i>The Decoder</i>. <a class=\"external text\" href=\"https://web.archive.org/web/20230207174627/https://the-decoder.com/biogpt-is-a-microsoft-language-model-trained-for-biomedical-tasks/\" rel=\"nofollow\">Archived</a> from the original on 7 February 2023<span class=\"reference-accessdate\">. Retrieved <span class=\"nowrap\">7 February</span> 2023</span>.</cite><span class=\"Z3988\" title=\"ctx_ver=Z39.88-2004&amp;rft_val_fmt=info%3Aofi%2Ffmt%3Akev%3Amtx%3Ajournal&amp;rft.genre=unknown&amp;rft.jtitle=The+Decoder&amp;rft.atitle=BioGPT+is+a+Microsoft+language+model+trained+for+biomedical+tasks&amp;rft.date=2023-01-29&amp;rft.au=Bastian%2C+Matthias&amp;rft_id=https%3A%2F%2Fthe-decoder.com%2Fbiogpt-is-a-microsoft-language-model-trained-for-biomedical-tasks%2F&amp;rfr_id=info%3Asid%2Fen.wikipedia.org%3AChatbot\"></span></span>\n",
              "</li>\n",
              "<li id=\"cite_note-23\"><span class=\"mw-cite-backlink\"><b><a href=\"#cite_ref-23\">^</a></b></span> <span class=\"reference-text\"><link href=\"mw-data:TemplateStyles:r1133582631\" rel=\"mw-deduplicated-inline-style\"/><cite class=\"citation web cs1\"><a class=\"external text\" href=\"https://chat.dbpedia.org/\" rel=\"nofollow\">\"DBpedia Chatbot\"</a>. <i>chat.dbpedia.org</i>. <a class=\"external text\" href=\"https://web.archive.org/web/20190908054646/http://chat.dbpedia.org/\" rel=\"nofollow\">Archived</a> from the original on 8 September 2019<span class=\"reference-accessdate\">. Retrieved <span class=\"nowrap\">9 September</span> 2019</span>.</cite><span class=\"Z3988\" title=\"ctx_ver=Z39.88-2004&amp;rft_val_fmt=info%3Aofi%2Ffmt%3Akev%3Amtx%3Ajournal&amp;rft.genre=unknown&amp;rft.jtitle=chat.dbpedia.org&amp;rft.atitle=DBpedia+Chatbot&amp;rft_id=https%3A%2F%2Fchat.dbpedia.org%2F&amp;rfr_id=info%3Asid%2Fen.wikipedia.org%3AChatbot\"></span></span>\n",
              "</li>\n",
              "<li id=\"cite_note-24\"><span class=\"mw-cite-backlink\"><b><a href=\"#cite_ref-24\">^</a></b></span> <span class=\"reference-text\"><link href=\"mw-data:TemplateStyles:r1133582631\" rel=\"mw-deduplicated-inline-style\"/><cite class=\"citation web cs1\"><a class=\"external text\" href=\"https://wiki.dbpedia.org/blog/meet-dbpedia-chatbot\" rel=\"nofollow\">\"Meet the DBpedia Chatbot | DBpedia\"</a>. <i>wiki.dbpedia.org</i>. 22 August 2018. <a class=\"external text\" href=\"https://web.archive.org/web/20190902144929/https://wiki.dbpedia.org/blog/meet-dbpedia-chatbot\" rel=\"nofollow\">Archived</a> from the original on 2 September 2019<span class=\"reference-accessdate\">. Retrieved <span class=\"nowrap\">2 September</span> 2019</span>.</cite><span class=\"Z3988\" title=\"ctx_ver=Z39.88-2004&amp;rft_val_fmt=info%3Aofi%2Ffmt%3Akev%3Amtx%3Ajournal&amp;rft.genre=unknown&amp;rft.jtitle=wiki.dbpedia.org&amp;rft.atitle=Meet+the+DBpedia+Chatbot+%26%23124%3B+DBpedia&amp;rft.date=2018-08-22&amp;rft_id=https%3A%2F%2Fwiki.dbpedia.org%2Fblog%2Fmeet-dbpedia-chatbot&amp;rfr_id=info%3Asid%2Fen.wikipedia.org%3AChatbot\"></span></span>\n",
              "</li>\n",
              "<li id=\"cite_note-25\"><span class=\"mw-cite-backlink\"><b><a href=\"#cite_ref-25\">^</a></b></span> <span class=\"reference-text\"><link href=\"mw-data:TemplateStyles:r1133582631\" rel=\"mw-deduplicated-inline-style\"/><cite class=\"citation web cs1\"><a class=\"external text\" href=\"https://blog.dbpedia.org/2018/08/22/dbpedia-chatbot-2/\" rel=\"nofollow\">\"Meet the DBpedia Chatbot\"</a>. dbpedia.org. 22 August 2018. <a class=\"external text\" href=\"https://web.archive.org/web/20190902144945/https://blog.dbpedia.org/2018/08/22/dbpedia-chatbot-2/\" rel=\"nofollow\">Archived</a> from the original on 2 September 2019<span class=\"reference-accessdate\">. Retrieved <span class=\"nowrap\">2 September</span> 2019</span>.</cite><span class=\"Z3988\" title=\"ctx_ver=Z39.88-2004&amp;rft_val_fmt=info%3Aofi%2Ffmt%3Akev%3Amtx%3Abook&amp;rft.genre=unknown&amp;rft.btitle=Meet+the+DBpedia+Chatbot&amp;rft.pub=dbpedia.org&amp;rft.date=2018-08-22&amp;rft_id=https%3A%2F%2Fblog.dbpedia.org%2F2018%2F08%2F22%2Fdbpedia-chatbot-2%2F&amp;rfr_id=info%3Asid%2Fen.wikipedia.org%3AChatbot\"></span></span>\n",
              "</li>\n",
              "<li id=\"cite_note-26\"><span class=\"mw-cite-backlink\"><b><a href=\"#cite_ref-26\">^</a></b></span> <span class=\"reference-text\"><link href=\"mw-data:TemplateStyles:r1133582631\" rel=\"mw-deduplicated-inline-style\"/><cite class=\"citation book cs1\" id=\"CITEREFBeaver2016\">Beaver, Laurie (July 2016). <a class=\"external text\" href=\"https://www.businessinsider.com/chatbots-explained-why-businesses-should-be-paying-attention-to-the-chatbot-revolution-2016-7?IR=T\" rel=\"nofollow\"><i>The Chatbots Explainer</i></a>. <a class=\"external text\" href=\"https://web.archive.org/web/20190503111645/https://www.businessinsider.com/chatbots-explained-why-businesses-should-be-paying-attention-to-the-chatbot-revolution-2016-7?IR=T\" rel=\"nofollow\">Archived</a> from the original on 3 May 2019<span class=\"reference-accessdate\">. Retrieved <span class=\"nowrap\">4 November</span> 2019</span>.</cite><span class=\"Z3988\" title=\"ctx_ver=Z39.88-2004&amp;rft_val_fmt=info%3Aofi%2Ffmt%3Akev%3Amtx%3Abook&amp;rft.genre=book&amp;rft.btitle=The+Chatbots+Explainer&amp;rft.pub=BI+Intelligence&amp;rft.date=2016-07&amp;rft.aulast=Beaver&amp;rft.aufirst=Laurie&amp;rft_id=https%3A%2F%2Fwww.businessinsider.com%2Fchatbots-explained-why-businesses-should-be-paying-attention-to-the-chatbot-revolution-2016-7%3FIR%3DT&amp;rfr_id=info%3Asid%2Fen.wikipedia.org%3AChatbot\"></span> <span class=\"cs1-visible-error citation-comment\"><code class=\"cs1-code\">{{<a href=\"/wiki/Template:Cite_book\" title=\"Template:Cite book\">cite book</a>}}</code>: </span><span class=\"cs1-visible-error citation-comment\"><code class=\"cs1-code\">|newspaper=</code> ignored (<a href=\"/wiki/Help:CS1_errors#periodical_ignored\" title=\"Help:CS1 errors\">help</a>)</span></span>\n",
              "</li>\n",
              "<li id=\"cite_note-27\"><span class=\"mw-cite-backlink\"><b><a href=\"#cite_ref-27\">^</a></b></span> <span class=\"reference-text\"><link href=\"mw-data:TemplateStyles:r1133582631\" rel=\"mw-deduplicated-inline-style\"/><cite class=\"citation web cs1\"><a class=\"external text\" href=\"https://venturebeat.com/2017/04/18/facebook-messenger-hits-100000-bots/\" rel=\"nofollow\">\"Facebook Messenger Hits 100,000 bots\"</a>. 18 April 2017. <a class=\"external text\" href=\"https://web.archive.org/web/20170922195723/https://venturebeat.com/2017/04/18/facebook-messenger-hits-100000-bots/\" rel=\"nofollow\">Archived</a> from the original on 22 September 2017<span class=\"reference-accessdate\">. Retrieved <span class=\"nowrap\">22 September</span> 2017</span>.</cite><span class=\"Z3988\" title=\"ctx_ver=Z39.88-2004&amp;rft_val_fmt=info%3Aofi%2Ffmt%3Akev%3Amtx%3Abook&amp;rft.genre=unknown&amp;rft.btitle=Facebook+Messenger+Hits+100%2C000+bots&amp;rft.date=2017-04-18&amp;rft_id=https%3A%2F%2Fventurebeat.com%2F2017%2F04%2F18%2Ffacebook-messenger-hits-100000-bots%2F&amp;rfr_id=info%3Asid%2Fen.wikipedia.org%3AChatbot\"></span></span>\n",
              "</li>\n",
              "<li id=\"cite_note-tnooz-28\"><span class=\"mw-cite-backlink\"><b><a href=\"#cite_ref-tnooz_28-0\">^</a></b></span> <span class=\"reference-text\"><link href=\"mw-data:TemplateStyles:r1133582631\" rel=\"mw-deduplicated-inline-style\"/><cite class=\"citation web cs1\"><a class=\"external text\" href=\"https://www.phocuswire.com/KLM-claims-airline-first-with-WhatsApp-Business-Platform\" rel=\"nofollow\">\"KLM claims airline first with WhatsApp Business Platform\"</a>. <i>www.phocuswire.com</i>. <a class=\"external text\" href=\"https://web.archive.org/web/20200205211831/https://www.phocuswire.com/KLM-claims-airline-first-with-WhatsApp-Business-Platform\" rel=\"nofollow\">Archived</a> from the original on 5 February 2020<span class=\"reference-accessdate\">. Retrieved <span class=\"nowrap\">12 December</span> 2021</span>.</cite><span class=\"Z3988\" title=\"ctx_ver=Z39.88-2004&amp;rft_val_fmt=info%3Aofi%2Ffmt%3Akev%3Amtx%3Ajournal&amp;rft.genre=unknown&amp;rft.jtitle=www.phocuswire.com&amp;rft.atitle=KLM+claims+airline+first+with+WhatsApp+Business+Platform&amp;rft_id=https%3A%2F%2Fwww.phocuswire.com%2FKLM-claims-airline-first-with-WhatsApp-Business-Platform&amp;rfr_id=info%3Asid%2Fen.wikipedia.org%3AChatbot\"></span></span>\n",
              "</li>\n",
              "<li id=\"cite_note-29\"><span class=\"mw-cite-backlink\"><b><a href=\"#cite_ref-29\">^</a></b></span> <span class=\"reference-text\"><link href=\"mw-data:TemplateStyles:r1133582631\" rel=\"mw-deduplicated-inline-style\"/><cite class=\"citation web cs1\" id=\"CITEREFForbes_Staff2017\">Forbes Staff (26 October 2017). <a class=\"external text\" href=\"https://www.forbes.com.mx/aeromexico-te-respondera-por-whatsapp-durante-2018/\" rel=\"nofollow\">\"Aeroméxico te atenderá por WhatsApp durante 2018\"</a>. <a class=\"external text\" href=\"https://web.archive.org/web/20180702180522/https://www.forbes.com.mx/aeromexico-te-respondera-por-whatsapp-durante-2018/\" rel=\"nofollow\">Archived</a> from the original on 2 July 2018<span class=\"reference-accessdate\">. Retrieved <span class=\"nowrap\">2 July</span> 2018</span>.</cite><span class=\"Z3988\" title=\"ctx_ver=Z39.88-2004&amp;rft_val_fmt=info%3Aofi%2Ffmt%3Akev%3Amtx%3Abook&amp;rft.genre=unknown&amp;rft.btitle=Aerom%C3%A9xico+te+atender%C3%A1+por+WhatsApp+durante+2018&amp;rft.date=2017-10-26&amp;rft.au=Forbes+Staff&amp;rft_id=https%3A%2F%2Fwww.forbes.com.mx%2Faeromexico-te-respondera-por-whatsapp-durante-2018%2F&amp;rfr_id=info%3Asid%2Fen.wikipedia.org%3AChatbot\"></span></span>\n",
              "</li>\n",
              "<li id=\"cite_note-30\"><span class=\"mw-cite-backlink\"><b><a href=\"#cite_ref-30\">^</a></b></span> <span class=\"reference-text\"><link href=\"mw-data:TemplateStyles:r1133582631\" rel=\"mw-deduplicated-inline-style\"/><cite class=\"citation news cs1\"><a class=\"external text\" href=\"https://web.archive.org/web/20180310135702/https://www.huffingtonpost.com.mx/2017/10/27/podras-hacer-check-in-y-consultar-tu-vuelo-con-aeromexico-a-traves-de-whatsapp_a_23258181/\" rel=\"nofollow\">\"Podrás hacer 'check in' y consultar tu vuelo con Aeroméxico a través de WhatsApp\"</a>. <i>Huffington Post</i>. 27 October 2017. Archived from <a class=\"external text\" href=\"https://www.huffingtonpost.com.mx/2017/10/27/podras-hacer-check-in-y-consultar-tu-vuelo-con-aeromexico-a-traves-de-whatsapp_a_23258181/\" rel=\"nofollow\">the original</a> on 10 March 2018<span class=\"reference-accessdate\">. Retrieved <span class=\"nowrap\">2 July</span> 2018</span>.</cite><span class=\"Z3988\" title=\"ctx_ver=Z39.88-2004&amp;rft_val_fmt=info%3Aofi%2Ffmt%3Akev%3Amtx%3Ajournal&amp;rft.genre=article&amp;rft.jtitle=Huffington+Post&amp;rft.atitle=Podr%C3%A1s+hacer+%27check+in%27+y+consultar+tu+vuelo+con+Aerom%C3%A9xico+a+trav%C3%A9s+de+WhatsApp&amp;rft.date=2017-10-27&amp;rft_id=https%3A%2F%2Fwww.huffingtonpost.com.mx%2F2017%2F10%2F27%2Fpodras-hacer-check-in-y-consultar-tu-vuelo-con-aeromexico-a-traves-de-whatsapp_a_23258181%2F&amp;rfr_id=info%3Asid%2Fen.wikipedia.org%3AChatbot\"></span></span>\n",
              "</li>\n",
              "<li id=\"cite_note-31\"><span class=\"mw-cite-backlink\"><b><a href=\"#cite_ref-31\">^</a></b></span> <span class=\"reference-text\"><link href=\"mw-data:TemplateStyles:r1133582631\" rel=\"mw-deduplicated-inline-style\"/><cite class=\"citation web cs1\"><a class=\"external text\" href=\"https://blog.whatsapp.com/10000633/Building-for-People-and-Now-Businesses\" rel=\"nofollow\">\"Building for People, and Now Businesses\"</a>. <i>WhatsApp.com</i>. <a class=\"external text\" href=\"https://web.archive.org/web/20180209031529/https://blog.whatsapp.com/10000633/Building-for-People-and-Now-Businesses\" rel=\"nofollow\">Archived</a> from the original on 9 February 2018<span class=\"reference-accessdate\">. Retrieved <span class=\"nowrap\">2 July</span> 2018</span>.</cite><span class=\"Z3988\" title=\"ctx_ver=Z39.88-2004&amp;rft_val_fmt=info%3Aofi%2Ffmt%3Akev%3Amtx%3Ajournal&amp;rft.genre=unknown&amp;rft.jtitle=WhatsApp.com&amp;rft.atitle=Building+for+People%2C+and+Now+Businesses&amp;rft_id=https%3A%2F%2Fblog.whatsapp.com%2F10000633%2FBuilding-for-People-and-Now-Businesses&amp;rfr_id=info%3Asid%2Fen.wikipedia.org%3AChatbot\"></span></span>\n",
              "</li>\n",
              "<li id=\"cite_note-32\"><span class=\"mw-cite-backlink\"><b><a href=\"#cite_ref-32\">^</a></b></span> <span class=\"reference-text\"><link href=\"mw-data:TemplateStyles:r1133582631\" rel=\"mw-deduplicated-inline-style\"/><cite class=\"citation web cs1\"><a class=\"external text\" href=\"https://nordeanews-no.translate.goog/2017/09/hun-er-bankens-mest-effektive-medarbeider/?_x_tr_sl=no&amp;_x_tr_tl=en&amp;_x_tr_hl=no\" rel=\"nofollow\">\"She is the company's most effective employee\"</a>. <i>Nordea News</i>. September 2017. <a class=\"external text\" href=\"https://web.archive.org/web/20230323165008/https://www-nordea-com.translate.goog/no?_x_tr_sl=no&amp;_x_tr_tl=en&amp;_x_tr_hl=no\" rel=\"nofollow\">Archived</a> from the original on 23 March 2023<span class=\"reference-accessdate\">. Retrieved <span class=\"nowrap\">23 March</span> 2023</span>.</cite><span class=\"Z3988\" title=\"ctx_ver=Z39.88-2004&amp;rft_val_fmt=info%3Aofi%2Ffmt%3Akev%3Amtx%3Ajournal&amp;rft.genre=unknown&amp;rft.jtitle=Nordea+News&amp;rft.atitle=She+is+the+company%27s+most+effective+employee&amp;rft.date=2017-09&amp;rft_id=https%3A%2F%2Fnordeanews-no.translate.goog%2F2017%2F09%2Fhun-er-bankens-mest-effektive-medarbeider%2F%3F_x_tr_sl%3Dno%26_x_tr_tl%3Den%26_x_tr_hl%3Dno&amp;rfr_id=info%3Asid%2Fen.wikipedia.org%3AChatbot\"></span></span>\n",
              "</li>\n",
              "<li id=\"cite_note-33\"><span class=\"mw-cite-backlink\"><b><a href=\"#cite_ref-33\">^</a></b></span> <span class=\"reference-text\"><link href=\"mw-data:TemplateStyles:r1133582631\" rel=\"mw-deduplicated-inline-style\"/><cite class=\"citation web cs1\"><a class=\"external text\" href=\"https://venturebeat.com/2016/07/24/better-believe-the-bot-boom-is-blowing-up-big-for-b2b-b2c-businesses-vb-live/\" rel=\"nofollow\">\"Better believe the bot boom is blowing up big for B2B, B2C businesses\"</a>. <i>VentureBeat</i>. 24 July 2016. <a class=\"external text\" href=\"https://web.archive.org/web/20170803182306/https://venturebeat.com/2016/07/24/better-believe-the-bot-boom-is-blowing-up-big-for-b2b-b2c-businesses-vb-live/\" rel=\"nofollow\">Archived</a> from the original on 3 August 2017<span class=\"reference-accessdate\">. Retrieved <span class=\"nowrap\">30 August</span> 2017</span>.</cite><span class=\"Z3988\" title=\"ctx_ver=Z39.88-2004&amp;rft_val_fmt=info%3Aofi%2Ffmt%3Akev%3Amtx%3Ajournal&amp;rft.genre=unknown&amp;rft.jtitle=VentureBeat&amp;rft.atitle=Better+believe+the+bot+boom+is+blowing+up+big+for+B2B%2C+B2C+businesses&amp;rft.date=2016-07-24&amp;rft_id=https%3A%2F%2Fventurebeat.com%2F2016%2F07%2F24%2Fbetter-believe-the-bot-boom-is-blowing-up-big-for-b2b-b2c-businesses-vb-live%2F&amp;rfr_id=info%3Asid%2Fen.wikipedia.org%3AChatbot\"></span></span>\n",
              "</li>\n",
              "<li id=\"cite_note-34\"><span class=\"mw-cite-backlink\"><b><a href=\"#cite_ref-34\">^</a></b></span> <span class=\"reference-text\"><link href=\"mw-data:TemplateStyles:r1133582631\" rel=\"mw-deduplicated-inline-style\"/><cite class=\"citation web cs1\" id=\"CITEREFCapan,_Faruk2017\">Capan, Faruk (18 October 2017). <a class=\"external text\" href=\"https://www.pm360online.com/the-ai-revolution-is-underway/\" rel=\"nofollow\">\"The AI Revolution is Underway!\"</a>. <i>www.PM360online.com</i>. <a class=\"external text\" href=\"https://web.archive.org/web/20180308043007/https://www.pm360online.com/the-ai-revolution-is-underway/\" rel=\"nofollow\">Archived</a> from the original on 8 March 2018<span class=\"reference-accessdate\">. Retrieved <span class=\"nowrap\">7 March</span> 2018</span>.</cite><span class=\"Z3988\" title=\"ctx_ver=Z39.88-2004&amp;rft_val_fmt=info%3Aofi%2Ffmt%3Akev%3Amtx%3Ajournal&amp;rft.genre=unknown&amp;rft.jtitle=www.PM360online.com&amp;rft.atitle=The+AI+Revolution+is+Underway%21&amp;rft.date=2017-10-18&amp;rft.au=Capan%2C+Faruk&amp;rft_id=https%3A%2F%2Fwww.pm360online.com%2Fthe-ai-revolution-is-underway%2F&amp;rfr_id=info%3Asid%2Fen.wikipedia.org%3AChatbot\"></span></span>\n",
              "</li>\n",
              "<li id=\"cite_note-35\"><span class=\"mw-cite-backlink\"><b><a href=\"#cite_ref-35\">^</a></b></span> <span class=\"reference-text\"><link href=\"mw-data:TemplateStyles:r1133582631\" rel=\"mw-deduplicated-inline-style\"/><cite class=\"citation web cs1\"><a class=\"external text\" href=\"http://www.businessinsider.com/80-of-businesses-want-chatbots-by-2020-2016-12\" rel=\"nofollow\">\"80% of businesses want chatbots by 2020\"</a>. <i><a href=\"/wiki/Business_Insider\" title=\"Business Insider\">Business Insider</a></i>. 15 December 2016. <a class=\"external text\" href=\"https://web.archive.org/web/20180308042224/http://www.businessinsider.com/80-of-businesses-want-chatbots-by-2020-2016-12\" rel=\"nofollow\">Archived</a> from the original on 8 March 2018<span class=\"reference-accessdate\">. Retrieved <span class=\"nowrap\">7 March</span> 2018</span>.</cite><span class=\"Z3988\" title=\"ctx_ver=Z39.88-2004&amp;rft_val_fmt=info%3Aofi%2Ffmt%3Akev%3Amtx%3Ajournal&amp;rft.genre=unknown&amp;rft.jtitle=Business+Insider&amp;rft.atitle=80%25+of+businesses+want+chatbots+by+2020&amp;rft.date=2016-12-15&amp;rft_id=http%3A%2F%2Fwww.businessinsider.com%2F80-of-businesses-want-chatbots-by-2020-2016-12&amp;rfr_id=info%3Asid%2Fen.wikipedia.org%3AChatbot\"></span></span>\n",
              "</li>\n",
              "<li id=\"cite_note-nytimes.com-36\"><span class=\"mw-cite-backlink\">^ <a href=\"#cite_ref-nytimes.com_36-0\"><sup><i><b>a</b></i></sup></a> <a href=\"#cite_ref-nytimes.com_36-1\"><sup><i><b>b</b></i></sup></a></span> <span class=\"reference-text\"><link href=\"mw-data:TemplateStyles:r1133582631\" rel=\"mw-deduplicated-inline-style\"/><cite class=\"citation web cs1\"><a class=\"external text\" href=\"https://www.nytimes.com/2008/03/04/business/04road.html\" rel=\"nofollow\">\"A Virtual Travel Agent With All the Answers\"</a>. <i>The New York Times</i>. 4 March 2008. <a class=\"external text\" href=\"https://web.archive.org/web/20170615183749/http://www.nytimes.com/2008/03/04/business/04road.html\" rel=\"nofollow\">Archived</a> from the original on 15 June 2017<span class=\"reference-accessdate\">. Retrieved <span class=\"nowrap\">3 August</span> 2017</span>.</cite><span class=\"Z3988\" title=\"ctx_ver=Z39.88-2004&amp;rft_val_fmt=info%3Aofi%2Ffmt%3Akev%3Amtx%3Ajournal&amp;rft.genre=unknown&amp;rft.jtitle=The+New+York+Times&amp;rft.atitle=A+Virtual+Travel+Agent+With+All+the+Answers&amp;rft.date=2008-03-04&amp;rft_id=https%3A%2F%2Fwww.nytimes.com%2F2008%2F03%2F04%2Fbusiness%2F04road.html&amp;rfr_id=info%3Asid%2Fen.wikipedia.org%3AChatbot\"></span></span>\n",
              "</li>\n",
              "<li id=\"cite_note-:0-37\"><span class=\"mw-cite-backlink\"><b><a href=\"#cite_ref-:0_37-0\">^</a></b></span> <span class=\"reference-text\"><link href=\"mw-data:TemplateStyles:r1133582631\" rel=\"mw-deduplicated-inline-style\"/><cite class=\"citation web cs1\"><a class=\"external text\" href=\"http://www.hypergridbusiness.com/2011/10/chatbot-vendor-directory-released/\" rel=\"nofollow\">\"Chatbot vendor directory released\"</a>. <i>www.hypergridbusiness.com</i>. October 2011. <a class=\"external text\" href=\"https://web.archive.org/web/20170423153332/http://www.hypergridbusiness.com/2011/10/chatbot-vendor-directory-released/\" rel=\"nofollow\">Archived</a> from the original on 23 April 2017<span class=\"reference-accessdate\">. Retrieved <span class=\"nowrap\">23 April</span> 2017</span>.</cite><span class=\"Z3988\" title=\"ctx_ver=Z39.88-2004&amp;rft_val_fmt=info%3Aofi%2Ffmt%3Akev%3Amtx%3Ajournal&amp;rft.genre=unknown&amp;rft.jtitle=www.hypergridbusiness.com&amp;rft.atitle=Chatbot+vendor+directory+released&amp;rft.date=2011-10&amp;rft_id=http%3A%2F%2Fwww.hypergridbusiness.com%2F2011%2F10%2Fchatbot-vendor-directory-released%2F&amp;rfr_id=info%3Asid%2Fen.wikipedia.org%3AChatbot\"></span></span>\n",
              "</li>\n",
              "<li id=\"cite_note-38\"><span class=\"mw-cite-backlink\"><b><a href=\"#cite_ref-38\">^</a></b></span> <span class=\"reference-text\"><link href=\"mw-data:TemplateStyles:r1133582631\" rel=\"mw-deduplicated-inline-style\"/><cite class=\"citation news cs1\"><a class=\"external text\" href=\"https://techcrunch.com/2017/02/15/rare-carats-watson-powered-chat-bot-will-help-you-put-a-diamond-ring-on-it/\" rel=\"nofollow\">\"Rare Carat's Watson-powered chatbot will help you put a diamond ring on it\"</a>. TechCrunch. 15 February 2017. <a class=\"external text\" href=\"https://web.archive.org/web/20170822133420/https://techcrunch.com/2017/02/15/rare-carats-watson-powered-chat-bot-will-help-you-put-a-diamond-ring-on-it/\" rel=\"nofollow\">Archived</a> from the original on 22 August 2017<span class=\"reference-accessdate\">. Retrieved <span class=\"nowrap\">22 August</span> 2017</span>.</cite><span class=\"Z3988\" title=\"ctx_ver=Z39.88-2004&amp;rft_val_fmt=info%3Aofi%2Ffmt%3Akev%3Amtx%3Ajournal&amp;rft.genre=article&amp;rft.atitle=Rare+Carat%27s+Watson-powered+chatbot+will+help+you+put+a+diamond+ring+on+it&amp;rft.date=2017-02-15&amp;rft_id=https%3A%2F%2Ftechcrunch.com%2F2017%2F02%2F15%2Frare-carats-watson-powered-chat-bot-will-help-you-put-a-diamond-ring-on-it%2F&amp;rfr_id=info%3Asid%2Fen.wikipedia.org%3AChatbot\"></span></span>\n",
              "</li>\n",
              "<li id=\"cite_note-39\"><span class=\"mw-cite-backlink\"><b><a href=\"#cite_ref-39\">^</a></b></span> <span class=\"reference-text\"><link href=\"mw-data:TemplateStyles:r1133582631\" rel=\"mw-deduplicated-inline-style\"/><cite class=\"citation news cs1\"><a class=\"external text\" href=\"https://venturebeat.com/2017/03/10/10-ways-you-may-have-already-used-ibm-watson/\" rel=\"nofollow\">\"10 ways you may have already used IBM Watson\"</a>. VentureBeat. 10 March 2017. <a class=\"external text\" href=\"https://web.archive.org/web/20170822101320/https://venturebeat.com/2017/03/10/10-ways-you-may-have-already-used-ibm-watson/\" rel=\"nofollow\">Archived</a> from the original on 22 August 2017<span class=\"reference-accessdate\">. Retrieved <span class=\"nowrap\">22 August</span> 2017</span>.</cite><span class=\"Z3988\" title=\"ctx_ver=Z39.88-2004&amp;rft_val_fmt=info%3Aofi%2Ffmt%3Akev%3Amtx%3Ajournal&amp;rft.genre=article&amp;rft.atitle=10+ways+you+may+have+already+used+IBM+Watson&amp;rft.date=2017-03-10&amp;rft_id=https%3A%2F%2Fventurebeat.com%2F2017%2F03%2F10%2F10-ways-you-may-have-already-used-ibm-watson%2F&amp;rfr_id=info%3Asid%2Fen.wikipedia.org%3AChatbot\"></span></span>\n",
              "</li>\n",
              "<li id=\"cite_note-40\"><span class=\"mw-cite-backlink\"><b><a href=\"#cite_ref-40\">^</a></b></span> <span class=\"reference-text\"><link href=\"mw-data:TemplateStyles:r1133582631\" rel=\"mw-deduplicated-inline-style\"/><cite class=\"citation news cs1\" id=\"CITEREFGreenfield2016\">Greenfield, Rebecca (5 May 2016). <a class=\"external text\" href=\"https://www.bloomberg.com/news/articles/2016-05-05/chatbots-are-your-newest-dumbest-co-workers\" rel=\"nofollow\">\"Chatbots Are Your Newest, Dumbest Co-Workers\"</a>. <i>Bloomberg.com</i>. <a class=\"external text\" href=\"https://web.archive.org/web/20170406040807/https://www.bloomberg.com/news/articles/2016-05-05/chatbots-are-your-newest-dumbest-co-workers\" rel=\"nofollow\">Archived</a> from the original on 6 April 2017<span class=\"reference-accessdate\">. Retrieved <span class=\"nowrap\">6 March</span> 2017</span>.</cite><span class=\"Z3988\" title=\"ctx_ver=Z39.88-2004&amp;rft_val_fmt=info%3Aofi%2Ffmt%3Akev%3Amtx%3Ajournal&amp;rft.genre=article&amp;rft.jtitle=Bloomberg.com&amp;rft.atitle=Chatbots+Are+Your+Newest%2C+Dumbest+Co-Workers&amp;rft.date=2016-05-05&amp;rft.aulast=Greenfield&amp;rft.aufirst=Rebecca&amp;rft_id=https%3A%2F%2Fwww.bloomberg.com%2Fnews%2Farticles%2F2016-05-05%2Fchatbots-are-your-newest-dumbest-co-workers&amp;rfr_id=info%3Asid%2Fen.wikipedia.org%3AChatbot\"></span></span>\n",
              "</li>\n",
              "<li id=\"cite_note-41\"><span class=\"mw-cite-backlink\"><b><a href=\"#cite_ref-41\">^</a></b></span> <span class=\"reference-text\"><link href=\"mw-data:TemplateStyles:r1133582631\" rel=\"mw-deduplicated-inline-style\"/><cite class=\"citation news cs1\"><a class=\"external text\" href=\"https://venturebeat.com/2016/04/12/facebook-opens-its-messenger-platform-to-chatbots/\" rel=\"nofollow\">\"Facebook opens its Messenger platform to chatbots\"</a>. <i>Venturebeat</i>. 12 April 2016. <a class=\"external text\" href=\"https://web.archive.org/web/20170623193131/https://venturebeat.com/2016/04/12/facebook-opens-its-messenger-platform-to-chatbots/\" rel=\"nofollow\">Archived</a> from the original on 23 June 2017<span class=\"reference-accessdate\">. Retrieved <span class=\"nowrap\">22 June</span> 2017</span>.</cite><span class=\"Z3988\" title=\"ctx_ver=Z39.88-2004&amp;rft_val_fmt=info%3Aofi%2Ffmt%3Akev%3Amtx%3Ajournal&amp;rft.genre=article&amp;rft.jtitle=Venturebeat&amp;rft.atitle=Facebook+opens+its+Messenger+platform+to+chatbots&amp;rft.date=2016-04-12&amp;rft_id=https%3A%2F%2Fventurebeat.com%2F2016%2F04%2F12%2Ffacebook-opens-its-messenger-platform-to-chatbots%2F&amp;rfr_id=info%3Asid%2Fen.wikipedia.org%3AChatbot\"></span></span>\n",
              "</li>\n",
              "<li id=\"cite_note-42\"><span class=\"mw-cite-backlink\"><b><a href=\"#cite_ref-42\">^</a></b></span> <span class=\"reference-text\"><link href=\"mw-data:TemplateStyles:r1133582631\" rel=\"mw-deduplicated-inline-style\"/><cite class=\"citation web cs1\"><a class=\"external text\" href=\"https://www.dragon1.com/watch/470340/chatbot-reference-architecture/\" rel=\"nofollow\">\"Chatbot Reference Architecture\"</a>. 1 January 2019. <a class=\"external text\" href=\"https://web.archive.org/web/20190115023238/https://www.dragon1.com/watch/470340/chatbot-reference-architecture\" rel=\"nofollow\">Archived</a> from the original on 15 January 2019<span class=\"reference-accessdate\">. Retrieved <span class=\"nowrap\">14 January</span> 2019</span>.</cite><span class=\"Z3988\" title=\"ctx_ver=Z39.88-2004&amp;rft_val_fmt=info%3Aofi%2Ffmt%3Akev%3Amtx%3Abook&amp;rft.genre=unknown&amp;rft.btitle=Chatbot+Reference+Architecture&amp;rft.date=2019-01-01&amp;rft_id=https%3A%2F%2Fwww.dragon1.com%2Fwatch%2F470340%2Fchatbot-reference-architecture%2F&amp;rfr_id=info%3Asid%2Fen.wikipedia.org%3AChatbot\"></span></span>\n",
              "</li>\n",
              "<li id=\"cite_note-WSBanks-43\"><span class=\"mw-cite-backlink\"><b><a href=\"#cite_ref-WSBanks_43-0\">^</a></b></span> <span class=\"reference-text\"><link href=\"mw-data:TemplateStyles:r1133582631\" rel=\"mw-deduplicated-inline-style\"/><cite class=\"citation web cs1\" id=\"CITEREFHingrajia,_Mirant\">Hingrajia, Mirant. <a class=\"external text\" href=\"https://www.marutitech.com/chatbots-transforming-wall-street-main-street-banks/\" rel=\"nofollow\">\"How Chatbots are Transforming Wall Street and Main Street Banks?\"</a>. <i>Marutitech</i>. <a class=\"external text\" href=\"https://web.archive.org/web/20190401192225/https://www.marutitech.com/chatbots-transforming-wall-street-main-street-banks/\" rel=\"nofollow\">Archived</a> from the original on 1 April 2019<span class=\"reference-accessdate\">. Retrieved <span class=\"nowrap\">1 April</span> 2019</span>.</cite><span class=\"Z3988\" title=\"ctx_ver=Z39.88-2004&amp;rft_val_fmt=info%3Aofi%2Ffmt%3Akev%3Amtx%3Ajournal&amp;rft.genre=unknown&amp;rft.jtitle=Marutitech&amp;rft.atitle=How+Chatbots+are+Transforming+Wall+Street+and+Main+Street+Banks%3F&amp;rft.au=Hingrajia%2C+Mirant&amp;rft_id=https%3A%2F%2Fwww.marutitech.com%2Fchatbots-transforming-wall-street-main-street-banks%2F&amp;rfr_id=info%3Asid%2Fen.wikipedia.org%3AChatbot\"></span></span>\n",
              "</li>\n",
              "<li id=\"cite_note-44\"><span class=\"mw-cite-backlink\"><b><a href=\"#cite_ref-44\">^</a></b></span> <span class=\"reference-text\"><link href=\"mw-data:TemplateStyles:r1133582631\" rel=\"mw-deduplicated-inline-style\"/><cite class=\"citation web cs1\"><a class=\"external text\" href=\"https://web.archive.org/web/20191211081442/https://www.gartner.com/smarterwithgartner/27297-2/\" rel=\"nofollow\">\"How to Manage Customer Service Technology Innovation\"</a>. <i>www.gartner.com</i>. Archived from <a class=\"external text\" href=\"https://www.gartner.com/smarterwithgartner/27297-2/\" rel=\"nofollow\">the original</a> on 11 December 2019<span class=\"reference-accessdate\">. Retrieved <span class=\"nowrap\">2 January</span> 2020</span>.</cite><span class=\"Z3988\" title=\"ctx_ver=Z39.88-2004&amp;rft_val_fmt=info%3Aofi%2Ffmt%3Akev%3Amtx%3Ajournal&amp;rft.genre=unknown&amp;rft.jtitle=www.gartner.com&amp;rft.atitle=How+to+Manage+Customer+Service+Technology+Innovation&amp;rft_id=https%3A%2F%2Fwww.gartner.com%2Fsmarterwithgartner%2F27297-2%2F&amp;rfr_id=info%3Asid%2Fen.wikipedia.org%3AChatbot\"></span></span>\n",
              "</li>\n",
              "<li id=\"cite_note-45\"><span class=\"mw-cite-backlink\"><b><a href=\"#cite_ref-45\">^</a></b></span> <span class=\"reference-text\"><link href=\"mw-data:TemplateStyles:r1133582631\" rel=\"mw-deduplicated-inline-style\"/><cite class=\"citation web cs1\" id=\"CITEREFSmith,_Sam2019\">Smith, Sam (8 May 2019). <a class=\"external text\" href=\"https://www.juniperresearch.com/press/press-releases/chatbot-interactions-retail-reach-22-billion-2023\" rel=\"nofollow\">\"Chatbot Interactions to Reach 22 Billion by 2023, as AS AI Offers Compelling New Engagement Solutions\"</a>. Juniper Research. <a class=\"external text\" href=\"https://web.archive.org/web/20200102180434/https://www.juniperresearch.com/press/press-releases/chatbot-interactions-retail-reach-22-billion-2023\" rel=\"nofollow\">Archived</a> from the original on 2 January 2020<span class=\"reference-accessdate\">. Retrieved <span class=\"nowrap\">2 January</span> 2020</span>.</cite><span class=\"Z3988\" title=\"ctx_ver=Z39.88-2004&amp;rft_val_fmt=info%3Aofi%2Ffmt%3Akev%3Amtx%3Abook&amp;rft.genre=unknown&amp;rft.btitle=Chatbot+Interactions+to+Reach+22+Billion+by+2023%2C+as+AS+AI+Offers+Compelling+New+Engagement+Solutions&amp;rft.pub=Juniper+Research&amp;rft.date=2019-05-08&amp;rft.au=Smith%2C+Sam&amp;rft_id=https%3A%2F%2Fwww.juniperresearch.com%2Fpress%2Fpress-releases%2Fchatbot-interactions-retail-reach-22-billion-2023&amp;rfr_id=info%3Asid%2Fen.wikipedia.org%3AChatbot\"></span></span>\n",
              "</li>\n",
              "<li id=\"cite_note-46\"><span class=\"mw-cite-backlink\"><b><a href=\"#cite_ref-46\">^</a></b></span> <span class=\"reference-text\"><link href=\"mw-data:TemplateStyles:r1133582631\" rel=\"mw-deduplicated-inline-style\"/><cite class=\"citation web cs1\"><a class=\"external text\" href=\"https://techcrunch.com/2016/04/12/agents-on-messenger/\" rel=\"nofollow\">\"Facebook launches Messenger platform with chatbots\"</a>. <i>Techcrunch</i>. 12 April 2016. <a class=\"external text\" href=\"https://web.archive.org/web/20191026202756/http://techcrunch.com/2016/04/12/agents-on-messenger/\" rel=\"nofollow\">Archived</a> from the original on 26 October 2019<span class=\"reference-accessdate\">. Retrieved <span class=\"nowrap\">1 April</span> 2019</span>.</cite><span class=\"Z3988\" title=\"ctx_ver=Z39.88-2004&amp;rft_val_fmt=info%3Aofi%2Ffmt%3Akev%3Amtx%3Ajournal&amp;rft.genre=unknown&amp;rft.jtitle=Techcrunch&amp;rft.atitle=Facebook+launches+Messenger+platform+with+chatbots&amp;rft.date=2016-04-12&amp;rft_id=https%3A%2F%2Ftechcrunch.com%2F2016%2F04%2F12%2Fagents-on-messenger%2F&amp;rfr_id=info%3Asid%2Fen.wikipedia.org%3AChatbot\"></span></span>\n",
              "</li>\n",
              "<li id=\"cite_note-47\"><span class=\"mw-cite-backlink\"><b><a href=\"#cite_ref-47\">^</a></b></span> <span class=\"reference-text\"><link href=\"mw-data:TemplateStyles:r1133582631\" rel=\"mw-deduplicated-inline-style\"/><cite class=\"citation web cs1\"><a class=\"external text\" href=\"https://www.vedomosti.ru/technology/articles/2016/07/13/649035-rossiiskii-bank-zapustil-chatbota-v-facebook\" rel=\"nofollow\">\"Российский банк запустил чат-бота в Facebook\"</a>. <i>Vedomosti.ru</i>. 13 July 2016. <a class=\"external text\" href=\"https://web.archive.org/web/20190401194126/https://www.vedomosti.ru/technology/articles/2016/07/13/649035-rossiiskii-bank-zapustil-chatbota-v-facebook\" rel=\"nofollow\">Archived</a> from the original on 1 April 2019<span class=\"reference-accessdate\">. Retrieved <span class=\"nowrap\">1 April</span> 2019</span>.</cite><span class=\"Z3988\" title=\"ctx_ver=Z39.88-2004&amp;rft_val_fmt=info%3Aofi%2Ffmt%3Akev%3Amtx%3Ajournal&amp;rft.genre=unknown&amp;rft.jtitle=Vedomosti.ru&amp;rft.atitle=%D0%A0%D0%BE%D1%81%D1%81%D0%B8%D0%B9%D1%81%D0%BA%D0%B8%D0%B9+%D0%B1%D0%B0%D0%BD%D0%BA+%D0%B7%D0%B0%D0%BF%D1%83%D1%81%D1%82%D0%B8%D0%BB+%D1%87%D0%B0%D1%82-%D0%B1%D0%BE%D1%82%D0%B0+%D0%B2+Facebook&amp;rft.date=2016-07-13&amp;rft_id=https%3A%2F%2Fwww.vedomosti.ru%2Ftechnology%2Farticles%2F2016%2F07%2F13%2F649035-rossiiskii-bank-zapustil-chatbota-v-facebook&amp;rfr_id=info%3Asid%2Fen.wikipedia.org%3AChatbot\"></span></span>\n",
              "</li>\n",
              "<li id=\"cite_note-48\"><span class=\"mw-cite-backlink\"><b><a href=\"#cite_ref-48\">^</a></b></span> <span class=\"reference-text\"><link href=\"mw-data:TemplateStyles:r1133582631\" rel=\"mw-deduplicated-inline-style\"/><cite class=\"citation web cs1\"><a class=\"external text\" href=\"https://www.fin24.com/Tech/Companies/absa-launches-world-first-facebook-messenger-banking-20160719\" rel=\"nofollow\">\"Absa launches 'world-first' Facebook Messenger banking\"</a>. 19 July 2016. <a class=\"external text\" href=\"https://web.archive.org/web/20190401192552/https://www.fin24.com/Tech/Companies/absa-launches-world-first-facebook-messenger-banking-20160719\" rel=\"nofollow\">Archived</a> from the original on 1 April 2019<span class=\"reference-accessdate\">. Retrieved <span class=\"nowrap\">1 April</span> 2019</span>.</cite><span class=\"Z3988\" title=\"ctx_ver=Z39.88-2004&amp;rft_val_fmt=info%3Aofi%2Ffmt%3Akev%3Amtx%3Abook&amp;rft.genre=unknown&amp;rft.btitle=Absa+launches+%27world-first%27+Facebook+Messenger+banking&amp;rft.date=2016-07-19&amp;rft_id=https%3A%2F%2Fwww.fin24.com%2FTech%2FCompanies%2Fabsa-launches-world-first-facebook-messenger-banking-20160719&amp;rfr_id=info%3Asid%2Fen.wikipedia.org%3AChatbot\"></span></span>\n",
              "</li>\n",
              "<li id=\"cite_note-49\"><span class=\"mw-cite-backlink\"><b><a href=\"#cite_ref-49\">^</a></b></span> <span class=\"reference-text\"><link href=\"mw-data:TemplateStyles:r1133582631\" rel=\"mw-deduplicated-inline-style\"/><cite class=\"citation web cs1\"><a class=\"external text\" href=\"http://www.relbanks.com/europe/france\" rel=\"nofollow\">\"The Biggest French Banks by Total Assets\"</a>. <i>Banks around the World</i>. <a class=\"external text\" href=\"https://web.archive.org/web/20170709173548/http://www.relbanks.com/europe/france\" rel=\"nofollow\">Archived</a> from the original on 9 July 2017<span class=\"reference-accessdate\">. Retrieved <span class=\"nowrap\">1 April</span> 2019</span>.</cite><span class=\"Z3988\" title=\"ctx_ver=Z39.88-2004&amp;rft_val_fmt=info%3Aofi%2Ffmt%3Akev%3Amtx%3Ajournal&amp;rft.genre=unknown&amp;rft.jtitle=Banks+around+the+World&amp;rft.atitle=The+Biggest+French+Banks+by+Total+Assets&amp;rft_id=http%3A%2F%2Fwww.relbanks.com%2Feurope%2Ffrance&amp;rfr_id=info%3Asid%2Fen.wikipedia.org%3AChatbot\"></span></span>\n",
              "</li>\n",
              "<li id=\"cite_note-50\"><span class=\"mw-cite-backlink\"><b><a href=\"#cite_ref-50\">^</a></b></span> <span class=\"reference-text\"><link href=\"mw-data:TemplateStyles:r1133582631\" rel=\"mw-deduplicated-inline-style\"/><cite class=\"citation web cs1\"><a class=\"external text\" href=\"https://marketingclient.lesechos.fr/ils-lont-fait/gagner-temps-chatbot-bancaire/\" rel=\"nofollow\">\"Gagner du Temps avec le Chatbot Bancaire pour Gagner en Intelligence avec les Conseillers\"</a>. <i>Marketing Client</i>. 19 June 2018. <a class=\"external text\" href=\"https://web.archive.org/web/20190401192249/https://marketingclient.lesechos.fr/ils-lont-fait/gagner-temps-chatbot-bancaire/\" rel=\"nofollow\">Archived</a> from the original on 1 April 2019<span class=\"reference-accessdate\">. Retrieved <span class=\"nowrap\">1 April</span> 2019</span>.</cite><span class=\"Z3988\" title=\"ctx_ver=Z39.88-2004&amp;rft_val_fmt=info%3Aofi%2Ffmt%3Akev%3Amtx%3Ajournal&amp;rft.genre=unknown&amp;rft.jtitle=Marketing+Client&amp;rft.atitle=Gagner+du+Temps+avec+le+Chatbot+Bancaire+pour+Gagner+en+Intelligence+avec+les+Conseillers&amp;rft.date=2018-06-19&amp;rft_id=https%3A%2F%2Fmarketingclient.lesechos.fr%2Fils-lont-fait%2Fgagner-temps-chatbot-bancaire%2F&amp;rfr_id=info%3Asid%2Fen.wikipedia.org%3AChatbot\"></span></span>\n",
              "</li>\n",
              "<li id=\"cite_note-FinancialBrain-51\"><span class=\"mw-cite-backlink\"><b><a href=\"#cite_ref-FinancialBrain_51-0\">^</a></b></span> <span class=\"reference-text\"><link href=\"mw-data:TemplateStyles:r1133582631\" rel=\"mw-deduplicated-inline-style\"/><cite class=\"citation news cs1\" id=\"CITEREFMarous2018\">Marous, Jim (14 March 2018). <a class=\"external text\" href=\"https://thefinancialbrand.com/71251/chatbots-banking-trends-ai-cx//\" rel=\"nofollow\">\"Meet 11 of the Most Interesting Chatbots in Banking\"</a>. <i>The Financial Brand</i>. <a class=\"external text\" href=\"https://web.archive.org/web/20190401180631/https://thefinancialbrand.com/71251/chatbots-banking-trends-ai-cx/\" rel=\"nofollow\">Archived</a> from the original on 1 April 2019<span class=\"reference-accessdate\">. Retrieved <span class=\"nowrap\">1 April</span> 2019</span>.</cite><span class=\"Z3988\" title=\"ctx_ver=Z39.88-2004&amp;rft_val_fmt=info%3Aofi%2Ffmt%3Akev%3Amtx%3Ajournal&amp;rft.genre=article&amp;rft.jtitle=The+Financial+Brand&amp;rft.atitle=Meet+11+of+the+Most+Interesting+Chatbots+in+Banking&amp;rft.date=2018-03-14&amp;rft.aulast=Marous&amp;rft.aufirst=Jim&amp;rft_id=https%3A%2F%2Fthefinancialbrand.com%2F71251%2Fchatbots-banking-trends-ai-cx%2F%2F&amp;rfr_id=info%3Asid%2Fen.wikipedia.org%3AChatbot\"></span></span>\n",
              "</li>\n",
              "<li id=\"cite_note-BornBane-52\"><span class=\"mw-cite-backlink\">^ <a href=\"#cite_ref-BornBane_52-0\"><sup><i><b>a</b></i></sup></a> <a href=\"#cite_ref-BornBane_52-1\"><sup><i><b>b</b></i></sup></a></span> <span class=\"reference-text\"><link href=\"mw-data:TemplateStyles:r1133582631\" rel=\"mw-deduplicated-inline-style\"/><cite class=\"citation web cs1\"><a class=\"external text\" href=\"https://blog.bluelupin.com/chatbot-advantages-and-disadvantages/\" rel=\"nofollow\">\"Chatbots: Boon or Bane?\"</a>. <i>bluelupin</i>. 9 January 2018. <a class=\"external text\" href=\"https://web.archive.org/web/20190401192204/https://blog.bluelupin.com/chatbot-advantages-and-disadvantages/\" rel=\"nofollow\">Archived</a> from the original on 1 April 2019<span class=\"reference-accessdate\">. Retrieved <span class=\"nowrap\">1 April</span> 2019</span>.</cite><span class=\"Z3988\" title=\"ctx_ver=Z39.88-2004&amp;rft_val_fmt=info%3Aofi%2Ffmt%3Akev%3Amtx%3Ajournal&amp;rft.genre=unknown&amp;rft.jtitle=bluelupin&amp;rft.atitle=Chatbots%3A+Boon+or+Bane%3F&amp;rft.date=2018-01-09&amp;rft_id=https%3A%2F%2Fblog.bluelupin.com%2Fchatbot-advantages-and-disadvantages%2F&amp;rfr_id=info%3Asid%2Fen.wikipedia.org%3AChatbot\"></span></span>\n",
              "</li>\n",
              "<li id=\"cite_note-53\"><span class=\"mw-cite-backlink\"><b><a href=\"#cite_ref-53\">^</a></b></span> <span class=\"reference-text\"><link href=\"mw-data:TemplateStyles:r1133582631\" rel=\"mw-deduplicated-inline-style\"/><cite class=\"citation web cs1\" id=\"CITEREFLarson2016\">Larson, Selena (11 October 2016). <a class=\"external text\" href=\"https://money.cnn.com/2016/10/11/technology/baidu-doctor-ai-melody/index.html\" rel=\"nofollow\">\"Baidu is bringing AI chatbots to healthcare\"</a>. <i><a class=\"mw-redirect\" href=\"/wiki/CNN_Money\" title=\"CNN Money\">CNN Money</a></i>. <a class=\"external text\" href=\"https://web.archive.org/web/20200103124942/https://money.cnn.com/2016/10/11/technology/baidu-doctor-ai-melody/index.html\" rel=\"nofollow\">Archived</a> from the original on 3 January 2020<span class=\"reference-accessdate\">. Retrieved <span class=\"nowrap\">3 January</span> 2020</span>.</cite><span class=\"Z3988\" title=\"ctx_ver=Z39.88-2004&amp;rft_val_fmt=info%3Aofi%2Ffmt%3Akev%3Amtx%3Ajournal&amp;rft.genre=unknown&amp;rft.jtitle=CNN+Money&amp;rft.atitle=Baidu+is+bringing+AI+chatbots+to+healthcare&amp;rft.date=2016-10-11&amp;rft.aulast=Larson&amp;rft.aufirst=Selena&amp;rft_id=https%3A%2F%2Fmoney.cnn.com%2F2016%2F10%2F11%2Ftechnology%2Fbaidu-doctor-ai-melody%2Findex.html&amp;rfr_id=info%3Asid%2Fen.wikipedia.org%3AChatbot\"></span></span>\n",
              "</li>\n",
              "<li id=\"cite_note-54\"><span class=\"mw-cite-backlink\"><b><a href=\"#cite_ref-54\">^</a></b></span> <span class=\"reference-text\"><link href=\"mw-data:TemplateStyles:r1133582631\" rel=\"mw-deduplicated-inline-style\"/><cite class=\"citation news cs1\"><a class=\"external text\" href=\"https://www.aiin.healthcare/topics/robotics/ai-chatbots-have-future-healthcare-caveats\" rel=\"nofollow\">\"AI chatbots have a future in healthcare, with caveats\"</a>. <i>AI in Healthcare</i>. <a class=\"external text\" href=\"https://web.archive.org/web/20230323165017/https://healthexec.com/topics/artificial-intelligence/ai-chatbots-have-future-healthcare-caveats\" rel=\"nofollow\">Archived</a> from the original on 23 March 2023<span class=\"reference-accessdate\">. Retrieved <span class=\"nowrap\">17 September</span> 2019</span>.</cite><span class=\"Z3988\" title=\"ctx_ver=Z39.88-2004&amp;rft_val_fmt=info%3Aofi%2Ffmt%3Akev%3Amtx%3Ajournal&amp;rft.genre=article&amp;rft.jtitle=AI+in+Healthcare&amp;rft.atitle=AI+chatbots+have+a+future+in+healthcare%2C+with+caveats&amp;rft_id=https%3A%2F%2Fwww.aiin.healthcare%2Ftopics%2Frobotics%2Fai-chatbots-have-future-healthcare-caveats&amp;rfr_id=info%3Asid%2Fen.wikipedia.org%3AChatbot\"></span></span>\n",
              "</li>\n",
              "<li id=\"cite_note-55\"><span class=\"mw-cite-backlink\"><b><a href=\"#cite_ref-55\">^</a></b></span> <span class=\"reference-text\"><link href=\"mw-data:TemplateStyles:r1133582631\" rel=\"mw-deduplicated-inline-style\"/><cite class=\"citation journal cs1\" id=\"CITEREFPalanicaFlaschnerThommandramLi2019\">Palanica, Adam; Flaschner, Peter; Thommandram, Anirudh; Li, Michael; Fossat, Yan (3 January 2019). <a class=\"external text\" href=\"https://www.ncbi.nlm.nih.gov/pmc/articles/PMC6473203\" rel=\"nofollow\">\"Physicians' Perceptions of Chatbots in Health Care: Cross-Sectional Web-Based Survey\"</a>. <i>Journal of Medical Internet Research</i>. <b>21</b> (4): e12887. <a class=\"mw-redirect\" href=\"/wiki/Doi_(identifier)\" title=\"Doi (identifier)\">doi</a>:<span class=\"cs1-lock-free\" title=\"Freely accessible\"><a class=\"external text\" href=\"https://doi.org/10.2196%2F12887\" rel=\"nofollow\">10.2196/12887</a></span>. <a class=\"mw-redirect\" href=\"/wiki/PMC_(identifier)\" title=\"PMC (identifier)\">PMC</a> <span class=\"cs1-lock-free\" title=\"Freely accessible\"><a class=\"external text\" href=\"https://www.ncbi.nlm.nih.gov/pmc/articles/PMC6473203\" rel=\"nofollow\">6473203</a></span>. <a class=\"mw-redirect\" href=\"/wiki/PMID_(identifier)\" title=\"PMID (identifier)\">PMID</a> <a class=\"external text\" href=\"https://pubmed.ncbi.nlm.nih.gov/30950796\" rel=\"nofollow\">30950796</a>.</cite><span class=\"Z3988\" title=\"ctx_ver=Z39.88-2004&amp;rft_val_fmt=info%3Aofi%2Ffmt%3Akev%3Amtx%3Ajournal&amp;rft.genre=article&amp;rft.jtitle=Journal+of+Medical+Internet+Research&amp;rft.atitle=Physicians%27+Perceptions+of+Chatbots+in+Health+Care%3A+Cross-Sectional+Web-Based+Survey&amp;rft.volume=21&amp;rft.issue=4&amp;rft.pages=e12887&amp;rft.date=2019-01-03&amp;rft_id=https%3A%2F%2Fwww.ncbi.nlm.nih.gov%2Fpmc%2Farticles%2FPMC6473203%23id-name%3DPMC&amp;rft_id=info%3Apmid%2F30950796&amp;rft_id=info%3Adoi%2F10.2196%2F12887&amp;rft.aulast=Palanica&amp;rft.aufirst=Adam&amp;rft.au=Flaschner%2C+Peter&amp;rft.au=Thommandram%2C+Anirudh&amp;rft.au=Li%2C+Michael&amp;rft.au=Fossat%2C+Yan&amp;rft_id=https%3A%2F%2Fwww.ncbi.nlm.nih.gov%2Fpmc%2Farticles%2FPMC6473203&amp;rfr_id=info%3Asid%2Fen.wikipedia.org%3AChatbot\"></span></span>\n",
              "</li>\n",
              "<li id=\"cite_note-56\"><span class=\"mw-cite-backlink\"><b><a href=\"#cite_ref-56\">^</a></b></span> <span class=\"reference-text\"><link href=\"mw-data:TemplateStyles:r1133582631\" rel=\"mw-deduplicated-inline-style\"/><cite class=\"citation web cs1\" id=\"CITEREFAhaskar2020\">Ahaskar, Abhijit (27 March 2020). <a class=\"external text\" href=\"https://www.livemint.com/technology/tech-news/how-whatsapp-chatbots-are-helping-in-the-fight-against-covid-19-11585310168911.html\" rel=\"nofollow\">\"How WhatsApp chatbots are helping in the fight against Covid-19\"</a>. <i><a href=\"/wiki/Mint_(newspaper)\" title=\"Mint (newspaper)\">Mint</a></i>. <a class=\"external text\" href=\"https://web.archive.org/web/20200723154947/https://www.livemint.com/technology/tech-news/how-whatsapp-chatbots-are-helping-in-the-fight-against-covid-19-11585310168911.html\" rel=\"nofollow\">Archived</a> from the original on 23 July 2020<span class=\"reference-accessdate\">. Retrieved <span class=\"nowrap\">23 July</span> 2020</span>.</cite><span class=\"Z3988\" title=\"ctx_ver=Z39.88-2004&amp;rft_val_fmt=info%3Aofi%2Ffmt%3Akev%3Amtx%3Ajournal&amp;rft.genre=unknown&amp;rft.jtitle=Mint&amp;rft.atitle=How+WhatsApp+chatbots+are+helping+in+the+fight+against+Covid-19&amp;rft.date=2020-03-27&amp;rft.aulast=Ahaskar&amp;rft.aufirst=Abhijit&amp;rft_id=https%3A%2F%2Fwww.livemint.com%2Ftechnology%2Ftech-news%2Fhow-whatsapp-chatbots-are-helping-in-the-fight-against-covid-19-11585310168911.html&amp;rfr_id=info%3Asid%2Fen.wikipedia.org%3AChatbot\"></span></span>\n",
              "</li>\n",
              "<li id=\"cite_note-57\"><span class=\"mw-cite-backlink\"><b><a href=\"#cite_ref-57\">^</a></b></span> <span class=\"reference-text\"><link href=\"mw-data:TemplateStyles:r1133582631\" rel=\"mw-deduplicated-inline-style\"/><cite class=\"citation web cs1\"><a class=\"external text\" href=\"https://gadgets.ndtv.com/apps/news/coronavirus-mygov-corona-helpdesk-chatbot-whatsapp-indian-government-total-users-haptik-2204458\" rel=\"nofollow\">\"India's Coronavirus Chatbot on WhatsApp Crosses 1.7 Crore Users in 10 Days\"</a>. <i>NDTV Gadgets 360</i>. April 2020. <a class=\"external text\" href=\"https://web.archive.org/web/20200621183924/https://gadgets.ndtv.com/apps/news/coronavirus-mygov-corona-helpdesk-chatbot-whatsapp-indian-government-total-users-haptik-2204458\" rel=\"nofollow\">Archived</a> from the original on 21 June 2020<span class=\"reference-accessdate\">. Retrieved <span class=\"nowrap\">23 July</span> 2020</span>.</cite><span class=\"Z3988\" title=\"ctx_ver=Z39.88-2004&amp;rft_val_fmt=info%3Aofi%2Ffmt%3Akev%3Amtx%3Ajournal&amp;rft.genre=unknown&amp;rft.jtitle=NDTV+Gadgets+360&amp;rft.atitle=India%27s+Coronavirus+Chatbot+on+WhatsApp+Crosses+1.7+Crore+Users+in+10+Days&amp;rft.date=2020-04&amp;rft_id=https%3A%2F%2Fgadgets.ndtv.com%2Fapps%2Fnews%2Fcoronavirus-mygov-corona-helpdesk-chatbot-whatsapp-indian-government-total-users-haptik-2204458&amp;rfr_id=info%3Asid%2Fen.wikipedia.org%3AChatbot\"></span></span>\n",
              "</li>\n",
              "<li id=\"cite_note-58\"><span class=\"mw-cite-backlink\"><b><a href=\"#cite_ref-58\">^</a></b></span> <span class=\"reference-text\"><link href=\"mw-data:TemplateStyles:r1133582631\" rel=\"mw-deduplicated-inline-style\"/><cite class=\"citation web cs1\" id=\"CITEREFKurup2020\">Kurup, Rajesh (21 March 2020). <a class=\"external text\" href=\"https://www.thehindubusinessline.com/info-tech/covid-19-india-launches-a-whatsapp-chatbot/article31127438.ece\" rel=\"nofollow\">\"COVID-19: Govt of India launches a WhatsApp chatbot\"</a>. <i><a href=\"/wiki/Business_Line\" title=\"Business Line\">Business Line</a></i>. <a class=\"external text\" href=\"https://web.archive.org/web/20200723224134/https://www.thehindubusinessline.com/info-tech/covid-19-india-launches-a-whatsapp-chatbot/article31127438.ece\" rel=\"nofollow\">Archived</a> from the original on 23 July 2020<span class=\"reference-accessdate\">. Retrieved <span class=\"nowrap\">23 July</span> 2020</span>.</cite><span class=\"Z3988\" title=\"ctx_ver=Z39.88-2004&amp;rft_val_fmt=info%3Aofi%2Ffmt%3Akev%3Amtx%3Ajournal&amp;rft.genre=unknown&amp;rft.jtitle=Business+Line&amp;rft.atitle=COVID-19%3A+Govt+of+India+launches+a+WhatsApp+chatbot&amp;rft.date=2020-03-21&amp;rft.aulast=Kurup&amp;rft.aufirst=Rajesh&amp;rft_id=https%3A%2F%2Fwww.thehindubusinessline.com%2Finfo-tech%2Fcovid-19-india-launches-a-whatsapp-chatbot%2Farticle31127438.ece&amp;rfr_id=info%3Asid%2Fen.wikipedia.org%3AChatbot\"></span></span>\n",
              "</li>\n",
              "<li id=\"cite_note-59\"><span class=\"mw-cite-backlink\"><b><a href=\"#cite_ref-59\">^</a></b></span> <span class=\"reference-text\"><link href=\"mw-data:TemplateStyles:r1133582631\" rel=\"mw-deduplicated-inline-style\"/><cite class=\"citation web cs1\"><a class=\"external text\" href=\"https://tech.hindustantimes.com/tech/news/in-focus-mumbai-based-haptik-which-developed-india-s-official-whatsapp-chatbot-for-covid-19-story-SkSTENvrXVmvfM9YWEKXBP.html\" rel=\"nofollow\">\"In focus: Mumbai-based Haptik which developed India's official WhatsApp chatbot for Covid-19\"</a>. <i><a href=\"/wiki/Hindustan_Times\" title=\"Hindustan Times\">Hindustan Times</a></i>. 7 April 2020. <a class=\"external text\" href=\"https://web.archive.org/web/20200723162256/https://tech.hindustantimes.com/tech/news/in-focus-mumbai-based-haptik-which-developed-india-s-official-whatsapp-chatbot-for-covid-19-story-SkSTENvrXVmvfM9YWEKXBP.html\" rel=\"nofollow\">Archived</a> from the original on 23 July 2020<span class=\"reference-accessdate\">. Retrieved <span class=\"nowrap\">23 July</span> 2020</span>.</cite><span class=\"Z3988\" title=\"ctx_ver=Z39.88-2004&amp;rft_val_fmt=info%3Aofi%2Ffmt%3Akev%3Amtx%3Ajournal&amp;rft.genre=unknown&amp;rft.jtitle=Hindustan+Times&amp;rft.atitle=In+focus%3A+Mumbai-based+Haptik+which+developed+India%27s+official+WhatsApp+chatbot+for+Covid-19&amp;rft.date=2020-04-07&amp;rft_id=https%3A%2F%2Ftech.hindustantimes.com%2Ftech%2Fnews%2Fin-focus-mumbai-based-haptik-which-developed-india-s-official-whatsapp-chatbot-for-covid-19-story-SkSTENvrXVmvfM9YWEKXBP.html&amp;rfr_id=info%3Asid%2Fen.wikipedia.org%3AChatbot\"></span></span>\n",
              "</li>\n",
              "<li id=\"cite_note-60\"><span class=\"mw-cite-backlink\"><b><a href=\"#cite_ref-60\">^</a></b></span> <span class=\"reference-text\"><link href=\"mw-data:TemplateStyles:r1133582631\" rel=\"mw-deduplicated-inline-style\"/><cite class=\"citation journal cs1\" id=\"CITEREFNadarzynskiMilesCowieRidge2019\">Nadarzynski, Tom; Miles, Oliver; Cowie, Aimee; Ridge, Damien (1 January 2019). <a class=\"external text\" href=\"https://www.ncbi.nlm.nih.gov/pmc/articles/PMC6704417\" rel=\"nofollow\">\"Acceptability of artificial intelligence (AI)-led chatbot services in healthcare: A mixed-methods study\"</a>. <i>Digital Health</i>. <b>5</b>: 2055207619871808. <a class=\"mw-redirect\" href=\"/wiki/Doi_(identifier)\" title=\"Doi (identifier)\">doi</a>:<a class=\"external text\" href=\"https://doi.org/10.1177%2F2055207619871808\" rel=\"nofollow\">10.1177/2055207619871808</a>. <a class=\"mw-redirect\" href=\"/wiki/PMC_(identifier)\" title=\"PMC (identifier)\">PMC</a> <span class=\"cs1-lock-free\" title=\"Freely accessible\"><a class=\"external text\" href=\"https://www.ncbi.nlm.nih.gov/pmc/articles/PMC6704417\" rel=\"nofollow\">6704417</a></span>. <a class=\"mw-redirect\" href=\"/wiki/PMID_(identifier)\" title=\"PMID (identifier)\">PMID</a> <a class=\"external text\" href=\"https://pubmed.ncbi.nlm.nih.gov/31467682\" rel=\"nofollow\">31467682</a>.</cite><span class=\"Z3988\" title=\"ctx_ver=Z39.88-2004&amp;rft_val_fmt=info%3Aofi%2Ffmt%3Akev%3Amtx%3Ajournal&amp;rft.genre=article&amp;rft.jtitle=Digital+Health&amp;rft.atitle=Acceptability+of+artificial+intelligence+%28AI%29-led+chatbot+services+in+healthcare%3A+A+mixed-methods+study&amp;rft.volume=5&amp;rft.pages=2055207619871808&amp;rft.date=2019-01-01&amp;rft_id=https%3A%2F%2Fwww.ncbi.nlm.nih.gov%2Fpmc%2Farticles%2FPMC6704417%23id-name%3DPMC&amp;rft_id=info%3Apmid%2F31467682&amp;rft_id=info%3Adoi%2F10.1177%2F2055207619871808&amp;rft.aulast=Nadarzynski&amp;rft.aufirst=Tom&amp;rft.au=Miles%2C+Oliver&amp;rft.au=Cowie%2C+Aimee&amp;rft.au=Ridge%2C+Damien&amp;rft_id=https%3A%2F%2Fwww.ncbi.nlm.nih.gov%2Fpmc%2Farticles%2FPMC6704417&amp;rfr_id=info%3Asid%2Fen.wikipedia.org%3AChatbot\"></span></span>\n",
              "</li>\n",
              "<li id=\"cite_note-61\"><span class=\"mw-cite-backlink\"><b><a href=\"#cite_ref-61\">^</a></b></span> <span class=\"reference-text\"><link href=\"mw-data:TemplateStyles:r1133582631\" rel=\"mw-deduplicated-inline-style\"/><cite class=\"citation web cs1\"><a class=\"external text\" href=\"https://tuiainnovation.com/sam%2c-the-virtual-politician\" rel=\"nofollow\">\"Sam, the virtual politician\"</a>. <i>Tuia Innovation</i>. <a class=\"external text\" href=\"https://web.archive.org/web/20190901151417/https://tuiainnovation.com/sam%2c-the-virtual-politician\" rel=\"nofollow\">Archived</a> from the original on 1 September 2019<span class=\"reference-accessdate\">. Retrieved <span class=\"nowrap\">9 September</span> 2019</span>.</cite><span class=\"Z3988\" title=\"ctx_ver=Z39.88-2004&amp;rft_val_fmt=info%3Aofi%2Ffmt%3Akev%3Amtx%3Ajournal&amp;rft.genre=unknown&amp;rft.jtitle=Tuia+Innovation&amp;rft.atitle=Sam%2C+the+virtual+politician&amp;rft_id=https%3A%2F%2Ftuiainnovation.com%2Fsam%252c-the-virtual-politician&amp;rfr_id=info%3Asid%2Fen.wikipedia.org%3AChatbot\"></span></span>\n",
              "</li>\n",
              "<li id=\"cite_note-62\"><span class=\"mw-cite-backlink\"><b><a href=\"#cite_ref-62\">^</a></b></span> <span class=\"reference-text\"><link href=\"mw-data:TemplateStyles:r1133582631\" rel=\"mw-deduplicated-inline-style\"/><cite class=\"citation web cs1\" id=\"CITEREFWellington2017\">Wellington, Victoria University of (15 December 2017). <a class=\"external text\" href=\"https://www.wgtn.ac.nz/news/2017/12/meet-the-worlds-first-virtual-politician\" rel=\"nofollow\">\"Meet the world's first virtual politician\"</a>. <i>Victoria University of Wellington</i>. <a class=\"external text\" href=\"https://web.archive.org/web/20200103124942/https://www.wgtn.ac.nz/news/2017/12/meet-the-worlds-first-virtual-politician\" rel=\"nofollow\">Archived</a> from the original on 3 January 2020<span class=\"reference-accessdate\">. Retrieved <span class=\"nowrap\">3 January</span> 2020</span>.</cite><span class=\"Z3988\" title=\"ctx_ver=Z39.88-2004&amp;rft_val_fmt=info%3Aofi%2Ffmt%3Akev%3Amtx%3Ajournal&amp;rft.genre=unknown&amp;rft.jtitle=Victoria+University+of+Wellington&amp;rft.atitle=Meet+the+world%27s+first+virtual+politician&amp;rft.date=2017-12-15&amp;rft.aulast=Wellington&amp;rft.aufirst=Victoria+University+of&amp;rft_id=https%3A%2F%2Fwww.wgtn.ac.nz%2Fnews%2F2017%2F12%2Fmeet-the-worlds-first-virtual-politician&amp;rfr_id=info%3Asid%2Fen.wikipedia.org%3AChatbot\"></span></span>\n",
              "</li>\n",
              "<li id=\"cite_note-63\"><span class=\"mw-cite-backlink\"><b><a href=\"#cite_ref-63\">^</a></b></span> <span class=\"reference-text\"><link href=\"mw-data:TemplateStyles:r1133582631\" rel=\"mw-deduplicated-inline-style\"/><cite class=\"citation web cs1\" id=\"CITEREFWagner2017\">Wagner, Meg (23 November 2017). <a class=\"external text\" href=\"https://www.cnn.com/2017/11/23/tech/first-virtual-politician-trnd/index.html\" rel=\"nofollow\">\"This virtual politician wants to run for office\"</a>. <i>CNN</i>. <a class=\"external text\" href=\"https://web.archive.org/web/20190901151408/https://www.cnn.com/2017/11/23/tech/first-virtual-politician-trnd/index.html\" rel=\"nofollow\">Archived</a> from the original on 1 September 2019<span class=\"reference-accessdate\">. Retrieved <span class=\"nowrap\">9 September</span> 2019</span>.</cite><span class=\"Z3988\" title=\"ctx_ver=Z39.88-2004&amp;rft_val_fmt=info%3Aofi%2Ffmt%3Akev%3Amtx%3Ajournal&amp;rft.genre=unknown&amp;rft.jtitle=CNN&amp;rft.atitle=This+virtual+politician+wants+to+run+for+office&amp;rft.date=2017-11-23&amp;rft.aulast=Wagner&amp;rft.aufirst=Meg&amp;rft_id=https%3A%2F%2Fwww.cnn.com%2F2017%2F11%2F23%2Ftech%2Ffirst-virtual-politician-trnd%2Findex.html&amp;rfr_id=info%3Asid%2Fen.wikipedia.org%3AChatbot\"></span></span>\n",
              "</li>\n",
              "<li id=\"cite_note-64\"><span class=\"mw-cite-backlink\"><b><a href=\"#cite_ref-64\">^</a></b></span> <span class=\"reference-text\"><link href=\"mw-data:TemplateStyles:r1133582631\" rel=\"mw-deduplicated-inline-style\"/><cite class=\"citation web cs1\"><a class=\"external text\" href=\"https://www.engadget.com/2017/11/25/talk-with-the-first-ever-robot-politician-on-facebook-messenger/\" rel=\"nofollow\">\"Talk with the first-ever robot politician on Facebook Messenger\"</a>. <i>Engadget</i>. 25 November 2017. <a class=\"external text\" href=\"https://web.archive.org/web/20190804024102/http://www.engadget.com/2017/11/25/talk-with-the-first-ever-robot-politician-on-facebook-messenger/\" rel=\"nofollow\">Archived</a> from the original on 4 August 2019<span class=\"reference-accessdate\">. Retrieved <span class=\"nowrap\">9 September</span> 2019</span>.</cite><span class=\"Z3988\" title=\"ctx_ver=Z39.88-2004&amp;rft_val_fmt=info%3Aofi%2Ffmt%3Akev%3Amtx%3Ajournal&amp;rft.genre=unknown&amp;rft.jtitle=Engadget&amp;rft.atitle=Talk+with+the+first-ever+robot+politician+on+Facebook+Messenger&amp;rft.date=2017-11-25&amp;rft_id=https%3A%2F%2Fwww.engadget.com%2F2017%2F11%2F25%2Ftalk-with-the-first-ever-robot-politician-on-facebook-messenger%2F&amp;rfr_id=info%3Asid%2Fen.wikipedia.org%3AChatbot\"></span></span>\n",
              "</li>\n",
              "<li id=\"cite_note-65\"><span class=\"mw-cite-backlink\"><b><a href=\"#cite_ref-65\">^</a></b></span> <span class=\"reference-text\"><link href=\"mw-data:TemplateStyles:r1133582631\" rel=\"mw-deduplicated-inline-style\"/><cite class=\"citation web cs1\" id=\"CITEREFPrakash2018\">Prakash, Abishur (8 August 2018). <a class=\"external text\" href=\"https://medium.com/politics-ai/ai-politicians-a-revolution-in-politics-11a7e4ce90b0\" rel=\"nofollow\">\"AI-Politicians: A Revolution In Politics\"</a>. <i>Medium</i>. <a class=\"external text\" href=\"https://web.archive.org/web/20190810020417/https://medium.com/politics-ai/ai-politicians-a-revolution-in-politics-11a7e4ce90b0\" rel=\"nofollow\">Archived</a> from the original on 10 August 2019<span class=\"reference-accessdate\">. Retrieved <span class=\"nowrap\">1 September</span> 2019</span>.</cite><span class=\"Z3988\" title=\"ctx_ver=Z39.88-2004&amp;rft_val_fmt=info%3Aofi%2Ffmt%3Akev%3Amtx%3Ajournal&amp;rft.genre=unknown&amp;rft.jtitle=Medium&amp;rft.atitle=AI-Politicians%3A+A+Revolution+In+Politics&amp;rft.date=2018-08-08&amp;rft.aulast=Prakash&amp;rft.aufirst=Abishur&amp;rft_id=https%3A%2F%2Fmedium.com%2Fpolitics-ai%2Fai-politicians-a-revolution-in-politics-11a7e4ce90b0&amp;rfr_id=info%3Asid%2Fen.wikipedia.org%3AChatbot\"></span></span>\n",
              "</li>\n",
              "<li id=\"cite_note-66\"><span class=\"mw-cite-backlink\"><b><a href=\"#cite_ref-66\">^</a></b></span> <span class=\"reference-text\"><link href=\"mw-data:TemplateStyles:r1133582631\" rel=\"mw-deduplicated-inline-style\"/><cite class=\"citation web cs1\"><a class=\"external text\" href=\"https://www.politiciansam.nz/\" rel=\"nofollow\">\"SAM website\"</a>. <a class=\"external text\" href=\"https://web.archive.org/web/20210511215358/http://politiciansam.nz/\" rel=\"nofollow\">Archived</a> from the original on 11 May 2021<span class=\"reference-accessdate\">. Retrieved <span class=\"nowrap\">23 May</span> 2021</span>.</cite><span class=\"Z3988\" title=\"ctx_ver=Z39.88-2004&amp;rft_val_fmt=info%3Aofi%2Ffmt%3Akev%3Amtx%3Abook&amp;rft.genre=unknown&amp;rft.btitle=SAM+website&amp;rft_id=https%3A%2F%2Fwww.politiciansam.nz%2F&amp;rfr_id=info%3Asid%2Fen.wikipedia.org%3AChatbot\"></span></span>\n",
              "</li>\n",
              "<li id=\"cite_note-67\"><span class=\"mw-cite-backlink\"><b><a href=\"#cite_ref-67\">^</a></b></span> <span class=\"reference-text\"><link href=\"mw-data:TemplateStyles:r1133582631\" rel=\"mw-deduplicated-inline-style\"/><cite class=\"citation news cs1\" id=\"CITEREFSternberg2022\">Sternberg, Sarah (20 June 2022). <a class=\"external text\" href=\"https://jyllands-posten.dk/kultur/ECE14145385/danskere-vil-ind-paa-den-politiske-scene-med-kunstig-intelligens/\" rel=\"nofollow\">\"Danskere vil ind på den politiske scene med kunstig intelligens\"</a> [Danes want to enter the political scene with artificial intelligence]. <i><a href=\"/wiki/Jyllands-Posten\" title=\"Jyllands-Posten\">Jyllands-Posten</a></i>. <a class=\"external text\" href=\"https://web.archive.org/web/20220620113705/https://jyllands-posten.dk/kultur/ECE14145385/danskere-vil-ind-paa-den-politiske-scene-med-kunstig-intelligens/\" rel=\"nofollow\">Archived</a> from the original on 20 June 2022<span class=\"reference-accessdate\">. Retrieved <span class=\"nowrap\">20 June</span> 2022</span>.</cite><span class=\"Z3988\" title=\"ctx_ver=Z39.88-2004&amp;rft_val_fmt=info%3Aofi%2Ffmt%3Akev%3Amtx%3Ajournal&amp;rft.genre=article&amp;rft.jtitle=Jyllands-Posten&amp;rft.atitle=Danskere+vil+ind+p%C3%A5+den+politiske+scene+med+kunstig+intelligens&amp;rft.date=2022-06-20&amp;rft.aulast=Sternberg&amp;rft.aufirst=Sarah&amp;rft_id=https%3A%2F%2Fjyllands-posten.dk%2Fkultur%2FECE14145385%2Fdanskere-vil-ind-paa-den-politiske-scene-med-kunstig-intelligens%2F&amp;rfr_id=info%3Asid%2Fen.wikipedia.org%3AChatbot\"></span></span>\n",
              "</li>\n",
              "<li id=\"cite_note-68\"><span class=\"mw-cite-backlink\"><b><a href=\"#cite_ref-68\">^</a></b></span> <span class=\"reference-text\"><link href=\"mw-data:TemplateStyles:r1133582631\" rel=\"mw-deduplicated-inline-style\"/><cite class=\"citation news cs1\" id=\"CITEREFDiwakar2022\">Diwakar, Amar (22 August 2022). <a class=\"external text\" href=\"https://www.trtworld.com/magazine/can-an-ai-led-danish-party-usher-in-an-age-of-algorithmic-politics-60008\" rel=\"nofollow\">\"Can an AI-led Danish party usher in an age of algorithmic politics?\"</a>. <i><a href=\"/wiki/TRT_World\" title=\"TRT World\">TRT World</a></i>. <a class=\"external text\" href=\"https://web.archive.org/web/20220822173530/https://www.trtworld.com/magazine/can-an-ai-led-danish-party-usher-in-an-age-of-algorithmic-politics-60008\" rel=\"nofollow\">Archived</a> from the original on 22 August 2022<span class=\"reference-accessdate\">. Retrieved <span class=\"nowrap\">22 August</span> 2022</span>.</cite><span class=\"Z3988\" title=\"ctx_ver=Z39.88-2004&amp;rft_val_fmt=info%3Aofi%2Ffmt%3Akev%3Amtx%3Ajournal&amp;rft.genre=article&amp;rft.jtitle=TRT+World&amp;rft.atitle=Can+an+AI-led+Danish+party+usher+in+an+age+of+algorithmic+politics%3F&amp;rft.date=2022-08-22&amp;rft.aulast=Diwakar&amp;rft.aufirst=Amar&amp;rft_id=https%3A%2F%2Fwww.trtworld.com%2Fmagazine%2Fcan-an-ai-led-danish-party-usher-in-an-age-of-algorithmic-politics-60008&amp;rfr_id=info%3Asid%2Fen.wikipedia.org%3AChatbot\"></span></span>\n",
              "</li>\n",
              "<li id=\"cite_note-69\"><span class=\"mw-cite-backlink\"><b><a href=\"#cite_ref-69\">^</a></b></span> <span class=\"reference-text\"><link href=\"mw-data:TemplateStyles:r1133582631\" rel=\"mw-deduplicated-inline-style\"/><cite class=\"citation news cs1\" id=\"CITEREFXiang2022\">Xiang, Chloe (13 October 2022). <a class=\"external text\" href=\"https://www.vice.com/en/article/jgpb3p/this-danish-political-party-is-led-by-an-ai\" rel=\"nofollow\">\"This Danish Political Party Is Led by an AI\"</a>. <i><a class=\"new\" href=\"/w/index.php?title=Vice:_Motherboard&amp;action=edit&amp;redlink=1\" title=\"Vice: Motherboard (page does not exist)\">Vice: Motherboard</a></i>. <a class=\"external text\" href=\"https://web.archive.org/web/20221013143116/https://www.vice.com/en/article/jgpb3p/this-danish-political-party-is-led-by-an-ai\" rel=\"nofollow\">Archived</a> from the original on 13 October 2022<span class=\"reference-accessdate\">. Retrieved <span class=\"nowrap\">13 October</span> 2022</span>.</cite><span class=\"Z3988\" title=\"ctx_ver=Z39.88-2004&amp;rft_val_fmt=info%3Aofi%2Ffmt%3Akev%3Amtx%3Ajournal&amp;rft.genre=article&amp;rft.jtitle=Vice%3A+Motherboard&amp;rft.atitle=This+Danish+Political+Party+Is+Led+by+an+AI&amp;rft.date=2022-10-13&amp;rft.aulast=Xiang&amp;rft.aufirst=Chloe&amp;rft_id=https%3A%2F%2Fwww.vice.com%2Fen%2Farticle%2Fjgpb3p%2Fthis-danish-political-party-is-led-by-an-ai&amp;rfr_id=info%3Asid%2Fen.wikipedia.org%3AChatbot\"></span></span>\n",
              "</li>\n",
              "<li id=\"cite_note-70\"><span class=\"mw-cite-backlink\"><b><a href=\"#cite_ref-70\">^</a></b></span> <span class=\"reference-text\"><link href=\"mw-data:TemplateStyles:r1133582631\" rel=\"mw-deduplicated-inline-style\"/><cite class=\"citation web cs1\" id=\"CITEREFHearing2022\">Hearing, Alice (14 October 2022). <a class=\"external text\" href=\"https://fortune.com/2022/10/14/ai-chatbot-leader-lars-the-synthetic-party-discord-russia-ukraine-crimea-policy/\" rel=\"nofollow\">\"A.I. chatbot is leading a Danish political party and setting its policies. Now users are grilling it for its stance on political landmines\"</a>. <i>Fortune</i>. <a class=\"external text\" href=\"https://web.archive.org/web/20221222013913/https://fortune.com/2022/10/14/ai-chatbot-leader-lars-the-synthetic-party-discord-russia-ukraine-crimea-policy/\" rel=\"nofollow\">Archived</a> from the original on 22 December 2022<span class=\"reference-accessdate\">. Retrieved <span class=\"nowrap\">8 December</span> 2022</span>.</cite><span class=\"Z3988\" title=\"ctx_ver=Z39.88-2004&amp;rft_val_fmt=info%3Aofi%2Ffmt%3Akev%3Amtx%3Ajournal&amp;rft.genre=unknown&amp;rft.jtitle=Fortune&amp;rft.atitle=A.I.+chatbot+is+leading+a+Danish+political+party+and+setting+its+policies.+Now+users+are+grilling+it+for+its+stance+on+political+landmines&amp;rft.date=2022-10-14&amp;rft.aulast=Hearing&amp;rft.aufirst=Alice&amp;rft_id=https%3A%2F%2Ffortune.com%2F2022%2F10%2F14%2Fai-chatbot-leader-lars-the-synthetic-party-discord-russia-ukraine-crimea-policy%2F&amp;rfr_id=info%3Asid%2Fen.wikipedia.org%3AChatbot\"></span></span>\n",
              "</li>\n",
              "<li id=\"cite_note-71\"><span class=\"mw-cite-backlink\"><b><a href=\"#cite_ref-71\">^</a></b></span> <span class=\"reference-text\"><link href=\"mw-data:TemplateStyles:r1133582631\" rel=\"mw-deduplicated-inline-style\"/><cite class=\"citation web cs1\"><a class=\"external text\" href=\"https://www.cnbctv18.com/technology/maharashtra-government-launches-aaple-sarkar-chatbot-to-provide-info-on-1400-public-services-2490621.htm\" rel=\"nofollow\">\"Maharashtra government launches Aaple Sarkar chatbot to provide info on 1,400 public services\"</a>. <i><a href=\"/wiki/CNBC_TV18\" title=\"CNBC TV18\">CNBC TV18</a></i>. 5 March 2019. <a class=\"external text\" href=\"https://web.archive.org/web/20200723165459/https://www.cnbctv18.com/technology/maharashtra-government-launches-aaple-sarkar-chatbot-to-provide-info-on-1400-public-services-2490621.htm\" rel=\"nofollow\">Archived</a> from the original on 23 July 2020<span class=\"reference-accessdate\">. Retrieved <span class=\"nowrap\">23 July</span> 2020</span>.</cite><span class=\"Z3988\" title=\"ctx_ver=Z39.88-2004&amp;rft_val_fmt=info%3Aofi%2Ffmt%3Akev%3Amtx%3Ajournal&amp;rft.genre=unknown&amp;rft.jtitle=CNBC+TV18&amp;rft.atitle=Maharashtra+government+launches+Aaple+Sarkar+chatbot+to+provide+info+on+1%2C400+public+services&amp;rft.date=2019-03-05&amp;rft_id=https%3A%2F%2Fwww.cnbctv18.com%2Ftechnology%2Fmaharashtra-government-launches-aaple-sarkar-chatbot-to-provide-info-on-1400-public-services-2490621.htm&amp;rfr_id=info%3Asid%2Fen.wikipedia.org%3AChatbot\"></span></span>\n",
              "</li>\n",
              "<li id=\"cite_note-72\"><span class=\"mw-cite-backlink\"><b><a href=\"#cite_ref-72\">^</a></b></span> <span class=\"reference-text\"><link href=\"mw-data:TemplateStyles:r1133582631\" rel=\"mw-deduplicated-inline-style\"/><cite class=\"citation news cs1\"><a class=\"external text\" href=\"https://economictimes.indiatimes.com/news/politics-and-nation/government-of-maharashtra-launches-aaple-sarkar-chatbot-with-haptik/articleshow/68268917.cms?from=mdr\" rel=\"nofollow\">\"Government of Maharashtra launches Aaple Sarkar chatbot with Haptik\"</a>. <i>The Economic Times</i>. <a class=\"external text\" href=\"https://web.archive.org/web/20201216043739/https://economictimes.indiatimes.com/news/politics-and-nation/government-of-maharashtra-launches-aaple-sarkar-chatbot-with-haptik/articleshow/68268917.cms?from=mdr\" rel=\"nofollow\">Archived</a> from the original on 16 December 2020<span class=\"reference-accessdate\">. Retrieved <span class=\"nowrap\">23 July</span> 2020</span>.</cite><span class=\"Z3988\" title=\"ctx_ver=Z39.88-2004&amp;rft_val_fmt=info%3Aofi%2Ffmt%3Akev%3Amtx%3Ajournal&amp;rft.genre=article&amp;rft.jtitle=The+Economic+Times&amp;rft.atitle=Government+of+Maharashtra+launches+Aaple+Sarkar+chatbot+with+Haptik&amp;rft_id=https%3A%2F%2Feconomictimes.indiatimes.com%2Fnews%2Fpolitics-and-nation%2Fgovernment-of-maharashtra-launches-aaple-sarkar-chatbot-with-haptik%2Farticleshow%2F68268917.cms%3Ffrom%3Dmdr&amp;rfr_id=info%3Asid%2Fen.wikipedia.org%3AChatbot\"></span></span>\n",
              "</li>\n",
              "<li id=\"cite_note-73\"><span class=\"mw-cite-backlink\"><b><a href=\"#cite_ref-73\">^</a></b></span> <span class=\"reference-text\"><link href=\"mw-data:TemplateStyles:r1133582631\" rel=\"mw-deduplicated-inline-style\"/><cite class=\"citation web cs1\" id=\"CITEREFAggarwal2019\">Aggarwal, Varun (5 March 2019). <a class=\"external text\" href=\"https://www.thehindubusinessline.com/info-tech/maharashtra-launches-aaple-sarkar-chatbot/article26438199.ece\" rel=\"nofollow\">\"Maharashtra launches Aaple Sarkar chatbot\"</a>. <i><a href=\"/wiki/Business_Line\" title=\"Business Line\">Business Line</a></i>. <a class=\"external text\" href=\"https://web.archive.org/web/20200723160158/https://www.thehindubusinessline.com/info-tech/maharashtra-launches-aaple-sarkar-chatbot/article26438199.ece\" rel=\"nofollow\">Archived</a> from the original on 23 July 2020<span class=\"reference-accessdate\">. Retrieved <span class=\"nowrap\">23 July</span> 2020</span>.</cite><span class=\"Z3988\" title=\"ctx_ver=Z39.88-2004&amp;rft_val_fmt=info%3Aofi%2Ffmt%3Akev%3Amtx%3Ajournal&amp;rft.genre=unknown&amp;rft.jtitle=Business+Line&amp;rft.atitle=Maharashtra+launches+Aaple+Sarkar+chatbot&amp;rft.date=2019-03-05&amp;rft.aulast=Aggarwal&amp;rft.aufirst=Varun&amp;rft_id=https%3A%2F%2Fwww.thehindubusinessline.com%2Finfo-tech%2Fmaharashtra-launches-aaple-sarkar-chatbot%2Farticle26438199.ece&amp;rfr_id=info%3Asid%2Fen.wikipedia.org%3AChatbot\"></span></span>\n",
              "</li>\n",
              "<li id=\"cite_note-virtualagentchat-74\"><span class=\"mw-cite-backlink\">^ <a href=\"#cite_ref-virtualagentchat_74-0\"><sup><i><b>a</b></i></sup></a> <a href=\"#cite_ref-virtualagentchat_74-1\"><sup><i><b>b</b></i></sup></a></span> <span class=\"reference-text\"><link href=\"mw-data:TemplateStyles:r1133582631\" rel=\"mw-deduplicated-inline-style\"/><cite class=\"citation web cs1\" id=\"CITEREFAmy2015\">Amy (23 February 2015). <a class=\"external text\" href=\"https://web.archive.org/web/20180221035430/https://virtualagentchat.com/2015/02/23/conversational-toys-the-latest-trend-in-speech-technology/\" rel=\"nofollow\">\"Conversational Toys – The Latest Trend in Speech Technology\"</a>. <i>Virtual Agent Chat</i>. Archived from <a class=\"external text\" href=\"https://virtualagentchat.com/2015/02/23/conversational-toys-the-latest-trend-in-speech-technology/\" rel=\"nofollow\">the original</a> on 21 February 2018<span class=\"reference-accessdate\">. Retrieved <span class=\"nowrap\">11 August</span> 2016</span>.</cite><span class=\"Z3988\" title=\"ctx_ver=Z39.88-2004&amp;rft_val_fmt=info%3Aofi%2Ffmt%3Akev%3Amtx%3Ajournal&amp;rft.genre=unknown&amp;rft.jtitle=Virtual+Agent+Chat&amp;rft.atitle=Conversational+Toys+%E2%80%93+The+Latest+Trend+in+Speech+Technology&amp;rft.date=2015-02-23&amp;rft.au=Amy&amp;rft_id=https%3A%2F%2Fvirtualagentchat.com%2F2015%2F02%2F23%2Fconversational-toys-the-latest-trend-in-speech-technology%2F&amp;rfr_id=info%3Asid%2Fen.wikipedia.org%3AChatbot\"></span></span>\n",
              "</li>\n",
              "<li id=\"cite_note-75\"><span class=\"mw-cite-backlink\"><b><a href=\"#cite_ref-75\">^</a></b></span> <span class=\"reference-text\"><link href=\"mw-data:TemplateStyles:r1133582631\" rel=\"mw-deduplicated-inline-style\"/><cite class=\"citation web cs1\" id=\"CITEREFNagy2015\">Nagy, Evie (13 February 2015). <a class=\"external text\" href=\"http://www.fastcompany.com/3042430/most-creative-people/using-toytalk-technology-new-hello-barbie-will-have-real-conversations-\" rel=\"nofollow\">\"Using Toy-talk Technology, New Hello Barbie Will Have Real Conversations With Kids\"</a>. <i>Fast Company</i>. <a class=\"external text\" href=\"https://web.archive.org/web/20150315034733/http://www.fastcompany.com/3042430/most-creative-people/using-toytalk-technology-new-hello-barbie-will-have-real-conversations-\" rel=\"nofollow\">Archived</a> from the original on 15 March 2015<span class=\"reference-accessdate\">. Retrieved <span class=\"nowrap\">18 March</span> 2015</span>.</cite><span class=\"Z3988\" title=\"ctx_ver=Z39.88-2004&amp;rft_val_fmt=info%3Aofi%2Ffmt%3Akev%3Amtx%3Ajournal&amp;rft.genre=unknown&amp;rft.jtitle=Fast+Company&amp;rft.atitle=Using+Toy-talk+Technology%2C+New+Hello+Barbie+Will+Have+Real+Conversations+With+Kids&amp;rft.date=2015-02-13&amp;rft.aulast=Nagy&amp;rft.aufirst=Evie&amp;rft_id=http%3A%2F%2Fwww.fastcompany.com%2F3042430%2Fmost-creative-people%2Fusing-toytalk-technology-new-hello-barbie-will-have-real-conversations-&amp;rfr_id=info%3Asid%2Fen.wikipedia.org%3AChatbot\"></span></span>\n",
              "</li>\n",
              "<li id=\"cite_note-76\"><span class=\"mw-cite-backlink\"><b><a href=\"#cite_ref-76\">^</a></b></span> <span class=\"reference-text\"><a class=\"external text\" href=\"https://twit.tv/shows/triangulation/episodes/179/\" rel=\"nofollow\">Oren Jacob, the co-founder and CEO of ToyTalk</a> interviewed on the TV show <i>Triangulation</i> on the <a href=\"/wiki/TWiT.tv\" title=\"TWiT.tv\">TWiT.tv</a> network</span>\n",
              "</li>\n",
              "<li id=\"cite_note-77\"><span class=\"mw-cite-backlink\"><b><a href=\"#cite_ref-77\">^</a></b></span> <span class=\"reference-text\"><link href=\"mw-data:TemplateStyles:r1133582631\" rel=\"mw-deduplicated-inline-style\"/><cite class=\"citation web cs1\"><a class=\"external text\" href=\"https://patents.google.com/patent/US20140032471/en\" rel=\"nofollow\">\"Artificial intelligence script tool\"</a>. <a class=\"external text\" href=\"https://web.archive.org/web/20211212003052/https://patents.google.com/patent/US20140032471/en\" rel=\"nofollow\">Archived</a> from the original on 12 December 2021<span class=\"reference-accessdate\">. Retrieved <span class=\"nowrap\">12 December</span> 2021</span>.</cite><span class=\"Z3988\" title=\"ctx_ver=Z39.88-2004&amp;rft_val_fmt=info%3Aofi%2Ffmt%3Akev%3Amtx%3Abook&amp;rft.genre=unknown&amp;rft.btitle=Artificial+intelligence+script+tool&amp;rft_id=https%3A%2F%2Fpatents.google.com%2Fpatent%2FUS20140032471%2Fen&amp;rfr_id=info%3Asid%2Fen.wikipedia.org%3AChatbot\"></span></span>\n",
              "</li>\n",
              "<li id=\"cite_note-78\"><span class=\"mw-cite-backlink\"><b><a href=\"#cite_ref-78\">^</a></b></span> <span class=\"reference-text\"><link href=\"mw-data:TemplateStyles:r1133582631\" rel=\"mw-deduplicated-inline-style\"/><cite class=\"citation web cs1\" id=\"CITEREFTakahashi2015\">Takahashi, Dean (23 February 2015). <a class=\"external text\" href=\"https://venturebeat.com/2015/02/23/elementals-smart-connected-toy-cognitoys-taps-ibms-watson-supercomputer-for-its-brains/\" rel=\"nofollow\">\"Elemental's smart connected toy taps IBM's Watson supercomputer for its brains\"</a>. <i>Venture Beat</i>. <a class=\"external text\" href=\"https://web.archive.org/web/20150520103335/http://venturebeat.com/2015/02/23/elementals-smart-connected-toy-cognitoys-taps-ibms-watson-supercomputer-for-its-brains/\" rel=\"nofollow\">Archived</a> from the original on 20 May 2015<span class=\"reference-accessdate\">. Retrieved <span class=\"nowrap\">15 May</span> 2015</span>.</cite><span class=\"Z3988\" title=\"ctx_ver=Z39.88-2004&amp;rft_val_fmt=info%3Aofi%2Ffmt%3Akev%3Amtx%3Ajournal&amp;rft.genre=unknown&amp;rft.jtitle=Venture+Beat&amp;rft.atitle=Elemental%27s+smart+connected+toy+taps+IBM%27s+Watson+supercomputer+for+its+brains&amp;rft.date=2015-02-23&amp;rft.aulast=Takahashi&amp;rft.aufirst=Dean&amp;rft_id=https%3A%2F%2Fventurebeat.com%2F2015%2F02%2F23%2Felementals-smart-connected-toy-cognitoys-taps-ibms-watson-supercomputer-for-its-brains%2F&amp;rfr_id=info%3Asid%2Fen.wikipedia.org%3AChatbot\"></span></span>\n",
              "</li>\n",
              "<li id=\"cite_note-79\"><span class=\"mw-cite-backlink\"><b><a href=\"#cite_ref-79\">^</a></b></span> <span class=\"reference-text\"><link href=\"mw-data:TemplateStyles:r1133582631\" rel=\"mw-deduplicated-inline-style\"/><cite class=\"citation web cs1\" id=\"CITEREFEpstein,_Robert2007\">Epstein, Robert (October 2007). <a class=\"external text\" href=\"http://drrobertepstein.com/downloads/FROM_RUSSIA_WITH_LOVE-Epstein-Sci_Am_Mind-Oct-Nov2007.pdf\" rel=\"nofollow\">\"From Russia With Love: How I got fooled (and somewhat humiliated) by a computer\"</a> <span class=\"cs1-format\">(PDF)</span>. <i>Scientific American: Mind</i>. pp. 16–17. <a class=\"external text\" href=\"https://web.archive.org/web/20101019210430/http://drrobertepstein.com/downloads/FROM_RUSSIA_WITH_LOVE-Epstein-Sci_Am_Mind-Oct-Nov2007.pdf\" rel=\"nofollow\">Archived</a> <span class=\"cs1-format\">(PDF)</span> from the original on 19 October 2010<span class=\"reference-accessdate\">. Retrieved <span class=\"nowrap\">9 December</span> 2007</span>.</cite><span class=\"Z3988\" title=\"ctx_ver=Z39.88-2004&amp;rft_val_fmt=info%3Aofi%2Ffmt%3Akev%3Amtx%3Ajournal&amp;rft.genre=unknown&amp;rft.jtitle=Scientific+American%3A+Mind&amp;rft.atitle=From+Russia+With+Love%3A+How+I+got+fooled+%28and+somewhat+humiliated%29+by+a+computer&amp;rft.pages=16-17&amp;rft.date=2007-10&amp;rft.au=Epstein%2C+Robert&amp;rft_id=http%3A%2F%2Fdrrobertepstein.com%2Fdownloads%2FFROM_RUSSIA_WITH_LOVE-Epstein-Sci_Am_Mind-Oct-Nov2007.pdf&amp;rfr_id=info%3Asid%2Fen.wikipedia.org%3AChatbot\"></span>\n",
              "Psychologist <a href=\"/wiki/Robert_Epstein\" title=\"Robert Epstein\">Robert Epstein</a> reports how he was initially fooled by a chatterbot posing as an attractive girl in a personal ad he answered on a dating website. In the ad, the girl portrayed herself as being in Southern California and then soon revealed, in poor English, that she was actually in Russia. He became suspicious after a couple of months of email exchanges, sent her an email test of gibberish, and she still replied in general terms. The dating website is not named.</span>\n",
              "</li>\n",
              "<li id=\"cite_note-80\"><span class=\"mw-cite-backlink\"><b><a href=\"#cite_ref-80\">^</a></b></span> <span class=\"reference-text\"><link href=\"mw-data:TemplateStyles:r1133582631\" rel=\"mw-deduplicated-inline-style\"/><cite class=\"citation book cs1\" id=\"CITEREFBirdEkartFaria2018\">Bird, Jordan J.; Ekart, Aniko; Faria, Diego R. (June 2018). \"Learning from Interaction: An Intelligent Networked-Based Human-Bot and Bot-Bot Chatbot System\". <i>Advances in Computational Intelligence Systems</i>. Advances in Intelligent Systems and Computing. Vol. 840 (1st ed.). Nottingham, UK: Springer. pp. 179–190. <a class=\"mw-redirect\" href=\"/wiki/Doi_(identifier)\" title=\"Doi (identifier)\">doi</a>:<a class=\"external text\" href=\"https://doi.org/10.1007%2F978-3-319-97982-3_15\" rel=\"nofollow\">10.1007/978-3-319-97982-3_15</a>. <a class=\"mw-redirect\" href=\"/wiki/ISBN_(identifier)\" title=\"ISBN (identifier)\">ISBN</a> <a href=\"/wiki/Special:BookSources/978-3-319-97982-3\" title=\"Special:BookSources/978-3-319-97982-3\"><bdi>978-3-319-97982-3</bdi></a>. <a class=\"mw-redirect\" href=\"/wiki/S2CID_(identifier)\" title=\"S2CID (identifier)\">S2CID</a> <a class=\"external text\" href=\"https://api.semanticscholar.org/CorpusID:52069140\" rel=\"nofollow\">52069140</a>.</cite><span class=\"Z3988\" title=\"ctx_ver=Z39.88-2004&amp;rft_val_fmt=info%3Aofi%2Ffmt%3Akev%3Amtx%3Abook&amp;rft.genre=bookitem&amp;rft.atitle=Learning+from+Interaction%3A+An+Intelligent+Networked-Based+Human-Bot+and+Bot-Bot+Chatbot+System&amp;rft.btitle=Advances+in+Computational+Intelligence+Systems&amp;rft.place=Nottingham%2C+UK&amp;rft.series=Advances+in+Intelligent+Systems+and+Computing&amp;rft.pages=179-190&amp;rft.edition=1st&amp;rft.pub=Springer&amp;rft.date=2018-06&amp;rft_id=https%3A%2F%2Fapi.semanticscholar.org%2FCorpusID%3A52069140%23id-name%3DS2CID&amp;rft_id=info%3Adoi%2F10.1007%2F978-3-319-97982-3_15&amp;rft.isbn=978-3-319-97982-3&amp;rft.aulast=Bird&amp;rft.aufirst=Jordan+J.&amp;rft.au=Ekart%2C+Aniko&amp;rft.au=Faria%2C+Diego+R.&amp;rfr_id=info%3Asid%2Fen.wikipedia.org%3AChatbot\"></span></span>\n",
              "</li>\n",
              "<li id=\"cite_note-81\"><span class=\"mw-cite-backlink\"><b><a href=\"#cite_ref-81\">^</a></b></span> <span class=\"reference-text\"><link href=\"mw-data:TemplateStyles:r1133582631\" rel=\"mw-deduplicated-inline-style\"/><cite class=\"citation web cs1\" id=\"CITEREFTemming,_Maria2018\">Temming, Maria (20 November 2018). <a class=\"external text\" href=\"https://www.sciencenews.org/article/twitter-bots-fake-news-2016-election\" rel=\"nofollow\">\"How Twitter bots get people to spread fake news\"</a>. <i>Science News</i>. <a class=\"external text\" href=\"https://web.archive.org/web/20181127191003/https://www.sciencenews.org/article/twitter-bots-fake-news-2016-election\" rel=\"nofollow\">Archived</a> from the original on 27 November 2018<span class=\"reference-accessdate\">. Retrieved <span class=\"nowrap\">20 November</span> 2018</span>.</cite><span class=\"Z3988\" title=\"ctx_ver=Z39.88-2004&amp;rft_val_fmt=info%3Aofi%2Ffmt%3Akev%3Amtx%3Ajournal&amp;rft.genre=unknown&amp;rft.jtitle=Science+News&amp;rft.atitle=How+Twitter+bots+get+people+to+spread+fake+news&amp;rft.date=2018-11-20&amp;rft.au=Temming%2C+Maria&amp;rft_id=https%3A%2F%2Fwww.sciencenews.org%2Farticle%2Ftwitter-bots-fake-news-2016-election&amp;rfr_id=info%3Asid%2Fen.wikipedia.org%3AChatbot\"></span></span>\n",
              "</li>\n",
              "<li id=\"cite_note-82\"><span class=\"mw-cite-backlink\"><b><a href=\"#cite_ref-82\">^</a></b></span> <span class=\"reference-text\"><link href=\"mw-data:TemplateStyles:r1133582631\" rel=\"mw-deduplicated-inline-style\"/><cite class=\"citation web cs1\" id=\"CITEREFEpp,_Len2016\">Epp, Len (11 May 2016). <a class=\"external text\" href=\"https://lenepp.medium.com/five-potential-malicious-uses-for-chatbots-a15f4955fba7\" rel=\"nofollow\">\"Five Potential Malicious Uses For Chatbots\"</a>. <a class=\"external text\" href=\"https://web.archive.org/web/20230224041222/https://lenepp.medium.com/five-potential-malicious-uses-for-chatbots-a15f4955fba7\" rel=\"nofollow\">Archived</a> from the original on 24 February 2023<span class=\"reference-accessdate\">. Retrieved <span class=\"nowrap\">24 February</span> 2023</span>.</cite><span class=\"Z3988\" title=\"ctx_ver=Z39.88-2004&amp;rft_val_fmt=info%3Aofi%2Ffmt%3Akev%3Amtx%3Abook&amp;rft.genre=unknown&amp;rft.btitle=Five+Potential+Malicious+Uses+For+Chatbots&amp;rft.date=2016-05-11&amp;rft.au=Epp%2C+Len&amp;rft_id=https%3A%2F%2Flenepp.medium.com%2Ffive-potential-malicious-uses-for-chatbots-a15f4955fba7&amp;rfr_id=info%3Asid%2Fen.wikipedia.org%3AChatbot\"></span></span>\n",
              "</li>\n",
              "<li id=\"cite_note-Meet11-83\"><span class=\"mw-cite-backlink\">^ <a href=\"#cite_ref-Meet11_83-0\"><sup><i><b>a</b></i></sup></a> <a href=\"#cite_ref-Meet11_83-1\"><sup><i><b>b</b></i></sup></a> <a href=\"#cite_ref-Meet11_83-2\"><sup><i><b>c</b></i></sup></a></span> <span class=\"reference-text\"><link href=\"mw-data:TemplateStyles:r1133582631\" rel=\"mw-deduplicated-inline-style\"/><cite class=\"citation news cs1\" id=\"CITEREFMarous2018\">Marous, Jim (14 March 2018). <a class=\"external text\" href=\"https://thefinancialbrand.com/71251/chatbots-banking-trends-ai-cx/\" rel=\"nofollow\">\"Meet 11 of the Most Interesting Chatbots in Banking\"</a>. <i>The Financial Brand</i>. <a class=\"external text\" href=\"https://web.archive.org/web/20190401170943/https://thefinancialbrand.com/71251/chatbots-banking-trends-ai-cx/\" rel=\"nofollow\">Archived</a> from the original on 1 April 2019<span class=\"reference-accessdate\">. Retrieved <span class=\"nowrap\">1 April</span> 2019</span>.</cite><span class=\"Z3988\" title=\"ctx_ver=Z39.88-2004&amp;rft_val_fmt=info%3Aofi%2Ffmt%3Akev%3Amtx%3Ajournal&amp;rft.genre=article&amp;rft.jtitle=The+Financial+Brand&amp;rft.atitle=Meet+11+of+the+Most+Interesting+Chatbots+in+Banking&amp;rft.date=2018-03-14&amp;rft.aulast=Marous&amp;rft.aufirst=Jim&amp;rft_id=https%3A%2F%2Fthefinancialbrand.com%2F71251%2Fchatbots-banking-trends-ai-cx%2F&amp;rfr_id=info%3Asid%2Fen.wikipedia.org%3AChatbot\"></span></span>\n",
              "</li>\n",
              "<li id=\"cite_note-Grudin-Jacques-84\"><span class=\"mw-cite-backlink\"><b><a href=\"#cite_ref-Grudin-Jacques_84-0\">^</a></b></span> <span class=\"reference-text\"><link href=\"mw-data:TemplateStyles:r1133582631\" rel=\"mw-deduplicated-inline-style\"/><cite class=\"citation cs2\" id=\"CITEREFGrudinJacques2019\"><a href=\"/wiki/Jonathan_Grudin\" title=\"Jonathan Grudin\">Grudin, Jonathan</a>; Jacques, Richard (2019), \"Chatbots, Humbots, and the Quest for Artificial General Intelligence\", <i>Proceedings of the 2019 CHI Conference on Human Factors in Computing Systems – CHI '19</i>, ACM CHI 2020, pp. 209–219, <a class=\"mw-redirect\" href=\"/wiki/Doi_(identifier)\" title=\"Doi (identifier)\">doi</a>:<a class=\"external text\" href=\"https://doi.org/10.1145%2F3290605.3300439\" rel=\"nofollow\">10.1145/3290605.3300439</a>, <a class=\"mw-redirect\" href=\"/wiki/ISBN_(identifier)\" title=\"ISBN (identifier)\">ISBN</a> <a href=\"/wiki/Special:BookSources/978-1-4503-5970-2\" title=\"Special:BookSources/978-1-4503-5970-2\"><bdi>978-1-4503-5970-2</bdi></a>, <a class=\"mw-redirect\" href=\"/wiki/S2CID_(identifier)\" title=\"S2CID (identifier)\">S2CID</a> <a class=\"external text\" href=\"https://api.semanticscholar.org/CorpusID:140274744\" rel=\"nofollow\">140274744</a></cite><span class=\"Z3988\" title=\"ctx_ver=Z39.88-2004&amp;rft_val_fmt=info%3Aofi%2Ffmt%3Akev%3Amtx%3Abook&amp;rft.genre=bookitem&amp;rft.atitle=Chatbots%2C+Humbots%2C+and+the+Quest+for+Artificial+General+Intelligence&amp;rft.btitle=Proceedings+of+the+2019+CHI+Conference+on+Human+Factors+in+Computing+Systems+%E2%80%93+CHI+%2719&amp;rft.pages=209-219&amp;rft.pub=ACM+CHI+2020&amp;rft.date=2019&amp;rft_id=https%3A%2F%2Fapi.semanticscholar.org%2FCorpusID%3A140274744%23id-name%3DS2CID&amp;rft_id=info%3Adoi%2F10.1145%2F3290605.3300439&amp;rft.isbn=978-1-4503-5970-2&amp;rft.aulast=Grudin&amp;rft.aufirst=Jonathan&amp;rft.au=Jacques%2C+Richard&amp;rfr_id=info%3Asid%2Fen.wikipedia.org%3AChatbot\"></span></span>\n",
              "</li>\n",
              "<li id=\"cite_note-85\"><span class=\"mw-cite-backlink\"><b><a href=\"#cite_ref-85\">^</a></b></span> <span class=\"reference-text\"><link href=\"mw-data:TemplateStyles:r1133582631\" rel=\"mw-deduplicated-inline-style\"/><cite class=\"citation news cs1\"><a class=\"external text\" href=\"https://www.bbc.com/news/business-45272835/\" rel=\"nofollow\">\"How talking machines are taking call center jobs\"</a>. <i>BBC News</i>. 23 August 2018. <a class=\"external text\" href=\"https://web.archive.org/web/20190401200917/https://www.bbc.com/news/business-45272835\" rel=\"nofollow\">Archived</a> from the original on 1 April 2019<span class=\"reference-accessdate\">. Retrieved <span class=\"nowrap\">1 April</span> 2019</span>.</cite><span class=\"Z3988\" title=\"ctx_ver=Z39.88-2004&amp;rft_val_fmt=info%3Aofi%2Ffmt%3Akev%3Amtx%3Ajournal&amp;rft.genre=article&amp;rft.jtitle=BBC+News&amp;rft.atitle=How+talking+machines+are+taking+call+center+jobs&amp;rft.date=2018-08-23&amp;rft_id=https%3A%2F%2Fwww.bbc.com%2Fnews%2Fbusiness-45272835%2F&amp;rfr_id=info%3Asid%2Fen.wikipedia.org%3AChatbot\"></span></span>\n",
              "</li>\n",
              "<li id=\"cite_note-86\"><span class=\"mw-cite-backlink\"><b><a href=\"#cite_ref-86\">^</a></b></span> <span class=\"reference-text\"><link href=\"mw-data:TemplateStyles:r1133582631\" rel=\"mw-deduplicated-inline-style\"/><cite class=\"citation web cs1\"><a class=\"external text\" href=\"https://venturebeat.com/2017/06/18/how-chatbots-are-killing-jobs-and-creating-new-ones/\" rel=\"nofollow\">\"How chatbots are killing jobs (and creating new ones)\"</a>. 18 June 2017. <a class=\"external text\" href=\"https://web.archive.org/web/20190401193923/https://venturebeat.com/2017/06/18/how-chatbots-are-killing-jobs-and-creating-new-ones/\" rel=\"nofollow\">Archived</a> from the original on 1 April 2019<span class=\"reference-accessdate\">. Retrieved <span class=\"nowrap\">1 April</span> 2019</span>.</cite><span class=\"Z3988\" title=\"ctx_ver=Z39.88-2004&amp;rft_val_fmt=info%3Aofi%2Ffmt%3Akev%3Amtx%3Abook&amp;rft.genre=unknown&amp;rft.btitle=How+chatbots+are+killing+jobs+%28and+creating+new+ones%29&amp;rft.date=2017-06-18&amp;rft_id=https%3A%2F%2Fventurebeat.com%2F2017%2F06%2F18%2Fhow-chatbots-are-killing-jobs-and-creating-new-ones%2F&amp;rfr_id=info%3Asid%2Fen.wikipedia.org%3AChatbot\"></span></span>\n",
              "</li>\n",
              "</ol></div></div>\n",
              "<h2><span class=\"mw-headline\" id=\"Further_reading\">Further reading</span></h2>\n",
              "<ul><li>Gertner, Jon. (2023) \"Wikipedia's Moment of Truth: Can the online encyclopedia help teach A.I. chatbots to get their facts right — without destroying itself in the process?\" <i>New York Times Magazine</i> (July 18, 2023) <a class=\"external text\" href=\"https://www.nytimes.com/2023/07/18/magazine/wikipedia-ai-chatgpt.html\" rel=\"nofollow\">online</a></li></ul>\n",
              "<ul><li><link href=\"mw-data:TemplateStyles:r1133582631\" rel=\"mw-deduplicated-inline-style\"/><cite class=\"citation cs2\" id=\"CITEREFSearle1980\"><a href=\"/wiki/John_Searle\" title=\"John Searle\">Searle, John</a> (1980), <a class=\"external text\" href=\"http://members.aol.com/NeoNoetics/MindsBrainsPrograms.html\" rel=\"nofollow\">\"Minds, Brains and Programs\"</a>, <i>Behavioral and Brain Sciences</i>, <b>3</b> (3): 417–457, <a class=\"mw-redirect\" href=\"/wiki/Doi_(identifier)\" title=\"Doi (identifier)\">doi</a>:<a class=\"external text\" href=\"https://doi.org/10.1017%2FS0140525X00005756\" rel=\"nofollow\">10.1017/S0140525X00005756</a>, <a class=\"mw-redirect\" href=\"/wiki/S2CID_(identifier)\" title=\"S2CID (identifier)\">S2CID</a> <a class=\"external text\" href=\"https://api.semanticscholar.org/CorpusID:55303721\" rel=\"nofollow\">55303721</a></cite><span class=\"Z3988\" title=\"ctx_ver=Z39.88-2004&amp;rft_val_fmt=info%3Aofi%2Ffmt%3Akev%3Amtx%3Ajournal&amp;rft.genre=article&amp;rft.jtitle=Behavioral+and+Brain+Sciences&amp;rft.atitle=Minds%2C+Brains+and+Programs&amp;rft.volume=3&amp;rft.issue=3&amp;rft.pages=417-457&amp;rft.date=1980&amp;rft_id=info%3Adoi%2F10.1017%2FS0140525X00005756&amp;rft_id=https%3A%2F%2Fapi.semanticscholar.org%2FCorpusID%3A55303721%23id-name%3DS2CID&amp;rft.aulast=Searle&amp;rft.aufirst=John&amp;rft_id=http%3A%2F%2Fmembers.aol.com%2FNeoNoetics%2FMindsBrainsPrograms.html&amp;rfr_id=info%3Asid%2Fen.wikipedia.org%3AChatbot\"></span></li>\n",
              "<li><link href=\"mw-data:TemplateStyles:r1133582631\" rel=\"mw-deduplicated-inline-style\"/><cite class=\"citation book cs1\" id=\"CITEREFShevat2017\">Shevat, Amir (2017). <i>Designing bots: Creating conversational experiences</i> (First ed.). Sebastopol, CA: O'Reilly Media. <a class=\"mw-redirect\" href=\"/wiki/ISBN_(identifier)\" title=\"ISBN (identifier)\">ISBN</a> <a href=\"/wiki/Special:BookSources/978-1-4919-7482-7\" title=\"Special:BookSources/978-1-4919-7482-7\"><bdi>978-1-4919-7482-7</bdi></a>. <a class=\"mw-redirect\" href=\"/wiki/OCLC_(identifier)\" title=\"OCLC (identifier)\">OCLC</a> <a class=\"external text\" href=\"https://www.worldcat.org/oclc/962125282\" rel=\"nofollow\">962125282</a>.</cite><span class=\"Z3988\" title=\"ctx_ver=Z39.88-2004&amp;rft_val_fmt=info%3Aofi%2Ffmt%3Akev%3Amtx%3Abook&amp;rft.genre=book&amp;rft.btitle=Designing+bots%3A+Creating+conversational+experiences&amp;rft.place=Sebastopol%2C+CA&amp;rft.edition=First&amp;rft.pub=O%27Reilly+Media&amp;rft.date=2017&amp;rft_id=info%3Aoclcnum%2F962125282&amp;rft.isbn=978-1-4919-7482-7&amp;rft.aulast=Shevat&amp;rft.aufirst=Amir&amp;rfr_id=info%3Asid%2Fen.wikipedia.org%3AChatbot\"></span></li></ul>\n",
              "<h2><span class=\"mw-headline\" id=\"External_links\">External links</span></h2>\n",
              "<ul><li><span class=\"noviewer\" typeof=\"mw:File\"><a class=\"mw-file-description\" href=\"/wiki/File:Commons-logo.svg\"><img alt=\"\" class=\"mw-file-element\" data-file-height=\"1376\" data-file-width=\"1024\" decoding=\"async\" height=\"16\" src=\"//upload.wikimedia.org/wikipedia/en/thumb/4/4a/Commons-logo.svg/12px-Commons-logo.svg.png\" srcset=\"//upload.wikimedia.org/wikipedia/en/thumb/4/4a/Commons-logo.svg/18px-Commons-logo.svg.png 1.5x, //upload.wikimedia.org/wikipedia/en/thumb/4/4a/Commons-logo.svg/24px-Commons-logo.svg.png 2x\" width=\"12\"/></a></span> Media related to <a class=\"extiw\" href=\"https://commons.wikimedia.org/wiki/Category:Chatbots\" title=\"commons:Category:Chatbots\">Chatbots</a> at Wikimedia Commons</li>\n",
              "<li><span class=\"noviewer\" typeof=\"mw:File\"><a class=\"mw-file-description\" href=\"/wiki/File:Wikibooks-logo-en-noslogan.svg\"><img alt=\"\" class=\"mw-file-element\" data-file-height=\"400\" data-file-width=\"400\" decoding=\"async\" height=\"16\" src=\"//upload.wikimedia.org/wikipedia/commons/thumb/d/df/Wikibooks-logo-en-noslogan.svg/16px-Wikibooks-logo-en-noslogan.svg.png\" srcset=\"//upload.wikimedia.org/wikipedia/commons/thumb/d/df/Wikibooks-logo-en-noslogan.svg/24px-Wikibooks-logo-en-noslogan.svg.png 1.5x, //upload.wikimedia.org/wikipedia/commons/thumb/d/df/Wikibooks-logo-en-noslogan.svg/32px-Wikibooks-logo-en-noslogan.svg.png 2x\" width=\"16\"/></a></span> <a class=\"extiw\" href=\"https://en.wikibooks.org/wiki/Conversational_bots\" title=\"wikibooks:Conversational bots\">Conversational bots</a> at Wikibooks</li></ul>\n",
              "<div class=\"navbox-styles\"><link href=\"mw-data:TemplateStyles:r1129693374\" rel=\"mw-deduplicated-inline-style\"/><style data-mw-deduplicate=\"TemplateStyles:r1061467846\">.mw-parser-output .navbox{box-sizing:border-box;border:1px solid #a2a9b1;width:100%;clear:both;font-size:88%;text-align:center;padding:1px;margin:1em auto 0}.mw-parser-output .navbox .navbox{margin-top:0}.mw-parser-output .navbox+.navbox,.mw-parser-output .navbox+.navbox-styles+.navbox{margin-top:-1px}.mw-parser-output .navbox-inner,.mw-parser-output .navbox-subgroup{width:100%}.mw-parser-output .navbox-group,.mw-parser-output .navbox-title,.mw-parser-output .navbox-abovebelow{padding:0.25em 1em;line-height:1.5em;text-align:center}.mw-parser-output .navbox-group{white-space:nowrap;text-align:right}.mw-parser-output .navbox,.mw-parser-output .navbox-subgroup{background-color:#fdfdfd}.mw-parser-output .navbox-list{line-height:1.5em;border-color:#fdfdfd}.mw-parser-output .navbox-list-with-group{text-align:left;border-left-width:2px;border-left-style:solid}.mw-parser-output tr+tr>.navbox-abovebelow,.mw-parser-output tr+tr>.navbox-group,.mw-parser-output tr+tr>.navbox-image,.mw-parser-output tr+tr>.navbox-list{border-top:2px solid #fdfdfd}.mw-parser-output .navbox-title{background-color:#ccf}.mw-parser-output .navbox-abovebelow,.mw-parser-output .navbox-group,.mw-parser-output .navbox-subgroup .navbox-title{background-color:#ddf}.mw-parser-output .navbox-subgroup .navbox-group,.mw-parser-output .navbox-subgroup .navbox-abovebelow{background-color:#e6e6ff}.mw-parser-output .navbox-even{background-color:#f7f7f7}.mw-parser-output .navbox-odd{background-color:transparent}.mw-parser-output .navbox .hlist td dl,.mw-parser-output .navbox .hlist td ol,.mw-parser-output .navbox .hlist td ul,.mw-parser-output .navbox td.hlist dl,.mw-parser-output .navbox td.hlist ol,.mw-parser-output .navbox td.hlist ul{padding:0.125em 0}.mw-parser-output .navbox .navbar{display:block;font-size:100%}.mw-parser-output .navbox-title .navbar{float:left;text-align:left;margin-right:0.5em}</style></div><div aria-labelledby=\"Natural_language_processing\" class=\"navbox\" role=\"navigation\" style=\"padding:3px\"><table class=\"nowraplinks hlist mw-collapsible mw-collapsed navbox-inner\" style=\"border-spacing:0;background:transparent;color:inherit\"><tbody><tr><th class=\"navbox-title\" colspan=\"2\" scope=\"col\"><link href=\"mw-data:TemplateStyles:r1129693374\" rel=\"mw-deduplicated-inline-style\"/><link href=\"mw-data:TemplateStyles:r1063604349\" rel=\"mw-deduplicated-inline-style\"/><div class=\"navbar plainlinks hlist navbar-mini\"><ul><li class=\"nv-view\"><a href=\"/wiki/Template:Natural_language_processing\" title=\"Template:Natural language processing\"><abbr style=\";;background:none transparent;border:none;box-shadow:none;padding:0;\" title=\"View this template\">v</abbr></a></li><li class=\"nv-talk\"><a href=\"/wiki/Template_talk:Natural_language_processing\" title=\"Template talk:Natural language processing\"><abbr style=\";;background:none transparent;border:none;box-shadow:none;padding:0;\" title=\"Discuss this template\">t</abbr></a></li><li class=\"nv-edit\"><a href=\"/wiki/Special:EditPage/Template:Natural_language_processing\" title=\"Special:EditPage/Template:Natural language processing\"><abbr style=\";;background:none transparent;border:none;box-shadow:none;padding:0;\" title=\"Edit this template\">e</abbr></a></li></ul></div><div id=\"Natural_language_processing\" style=\"font-size:114%;margin:0 4em\"><a href=\"/wiki/Natural_language_processing\" title=\"Natural language processing\">Natural language processing</a></div></th></tr><tr><th class=\"navbox-group\" scope=\"row\" style=\"width:1%\">General terms</th><td class=\"navbox-list-with-group navbox-list navbox-odd\" style=\"width:100%;padding:0\"><div style=\"padding:0 0.25em\">\n",
              "<ul><li><a href=\"/wiki/AI-complete\" title=\"AI-complete\">AI-complete</a></li>\n",
              "<li><a href=\"/wiki/Bag-of-words_model\" title=\"Bag-of-words model\">Bag-of-words</a></li>\n",
              "<li><a href=\"/wiki/N-gram\" title=\"N-gram\">n-gram</a>\n",
              "<ul><li><a href=\"/wiki/Bigram\" title=\"Bigram\">Bigram</a></li>\n",
              "<li><a href=\"/wiki/Trigram\" title=\"Trigram\">Trigram</a></li></ul></li>\n",
              "<li><a href=\"/wiki/Computational_linguistics\" title=\"Computational linguistics\">Computational linguistics</a></li>\n",
              "<li><a href=\"/wiki/Natural-language_understanding\" title=\"Natural-language understanding\">Natural-language understanding</a></li>\n",
              "<li><a href=\"/wiki/Stop_word\" title=\"Stop word\">Stop words</a></li>\n",
              "<li><a href=\"/wiki/Text_processing\" title=\"Text processing\">Text processing</a></li></ul>\n",
              "</div></td></tr><tr><th class=\"navbox-group\" scope=\"row\" style=\"width:1%\"><a href=\"/wiki/Text_mining\" title=\"Text mining\">Text analysis</a></th><td class=\"navbox-list-with-group navbox-list navbox-even\" style=\"width:100%;padding:0\"><div style=\"padding:0 0.25em\">\n",
              "<ul><li><a href=\"/wiki/Collocation_extraction\" title=\"Collocation extraction\">Collocation extraction</a></li>\n",
              "<li><a href=\"/wiki/Concept_mining\" title=\"Concept mining\">Concept mining</a></li>\n",
              "<li><a href=\"/wiki/Coreference#Coreference_resolution\" title=\"Coreference\">Coreference resolution</a></li>\n",
              "<li><a href=\"/wiki/Deep_linguistic_processing\" title=\"Deep linguistic processing\">Deep linguistic processing</a></li>\n",
              "<li><a href=\"/wiki/Distant_reading\" title=\"Distant reading\">Distant reading</a></li>\n",
              "<li><a href=\"/wiki/Information_extraction\" title=\"Information extraction\">Information extraction</a></li>\n",
              "<li><a href=\"/wiki/Named-entity_recognition\" title=\"Named-entity recognition\">Named-entity recognition</a></li>\n",
              "<li><a href=\"/wiki/Ontology_learning\" title=\"Ontology learning\">Ontology learning</a></li>\n",
              "<li><a href=\"/wiki/Parsing\" title=\"Parsing\">Parsing</a></li>\n",
              "<li><a href=\"/wiki/Part-of-speech_tagging\" title=\"Part-of-speech tagging\">Part-of-speech tagging</a></li>\n",
              "<li><a href=\"/wiki/Semantic_role_labeling\" title=\"Semantic role labeling\">Semantic role labeling</a></li>\n",
              "<li><a href=\"/wiki/Semantic_decomposition_(natural_language_processing)\" title=\"Semantic decomposition (natural language processing)\">Semantic decomposition</a></li>\n",
              "<li><a href=\"/wiki/Semantic_similarity\" title=\"Semantic similarity\">Semantic similarity</a></li>\n",
              "<li><a href=\"/wiki/Sentiment_analysis\" title=\"Sentiment analysis\">Sentiment analysis</a></li>\n",
              "<li><a href=\"/wiki/Syntactic_parsing_(computational_linguistics)\" title=\"Syntactic parsing (computational linguistics)\">Syntactic parsing</a></li>\n",
              "<li><a href=\"/wiki/Terminology_extraction\" title=\"Terminology extraction\">Terminology extraction</a></li>\n",
              "<li><a href=\"/wiki/Text_mining\" title=\"Text mining\">Text mining</a></li>\n",
              "<li><a href=\"/wiki/Textual_entailment\" title=\"Textual entailment\">Textual entailment</a></li>\n",
              "<li><a href=\"/wiki/Truecasing\" title=\"Truecasing\">Truecasing</a></li>\n",
              "<li><a href=\"/wiki/Word-sense_disambiguation\" title=\"Word-sense disambiguation\">Word-sense disambiguation</a></li>\n",
              "<li><a href=\"/wiki/Word-sense_induction\" title=\"Word-sense induction\">Word-sense induction</a></li></ul>\n",
              "</div><table class=\"nowraplinks navbox-subgroup\" style=\"border-spacing:0\"><tbody><tr><th class=\"navbox-group\" id=\"Text_segmentation\" scope=\"row\" style=\"width:1%\"><a href=\"/wiki/Text_segmentation\" title=\"Text segmentation\">Text segmentation</a></th><td class=\"navbox-list-with-group navbox-list navbox-odd\" style=\"width:100%;padding:0\"><div style=\"padding:0 0.25em\">\n",
              "<ul><li><a href=\"/wiki/Compound-term_processing\" title=\"Compound-term processing\">Compound-term processing</a></li>\n",
              "<li><a class=\"mw-redirect\" href=\"/wiki/Lemmatisation\" title=\"Lemmatisation\">Lemmatisation</a></li>\n",
              "<li><a href=\"/wiki/Lexical_analysis\" title=\"Lexical analysis\">Lexical analysis</a></li>\n",
              "<li><a href=\"/wiki/Shallow_parsing\" title=\"Shallow parsing\">Text chunking</a></li>\n",
              "<li><a href=\"/wiki/Stemming\" title=\"Stemming\">Stemming</a></li>\n",
              "<li><a href=\"/wiki/Sentence_boundary_disambiguation\" title=\"Sentence boundary disambiguation\">Sentence segmentation</a></li>\n",
              "<li><a href=\"/wiki/Word#Word_boundaries\" title=\"Word\">Word segmentation</a></li></ul>\n",
              "</div></td></tr></tbody></table><div>\n",
              "</div></td></tr><tr><th class=\"navbox-group\" scope=\"row\" style=\"width:1%\"><a href=\"/wiki/Automatic_summarization\" title=\"Automatic summarization\">Automatic summarization</a></th><td class=\"navbox-list-with-group navbox-list navbox-even\" style=\"width:100%;padding:0\"><div style=\"padding:0 0.25em\">\n",
              "<ul><li><a href=\"/wiki/Multi-document_summarization\" title=\"Multi-document summarization\">Multi-document summarization</a></li>\n",
              "<li><a href=\"/wiki/Sentence_extraction\" title=\"Sentence extraction\">Sentence extraction</a></li>\n",
              "<li><a href=\"/wiki/Text_simplification\" title=\"Text simplification\">Text simplification</a></li></ul>\n",
              "</div></td></tr><tr><th class=\"navbox-group\" scope=\"row\" style=\"width:1%\"><a href=\"/wiki/Machine_translation\" title=\"Machine translation\">Machine translation</a></th><td class=\"navbox-list-with-group navbox-list navbox-odd\" style=\"width:100%;padding:0\"><div style=\"padding:0 0.25em\">\n",
              "<ul><li><a href=\"/wiki/Computer-assisted_translation\" title=\"Computer-assisted translation\">Computer-assisted</a></li>\n",
              "<li><a href=\"/wiki/Example-based_machine_translation\" title=\"Example-based machine translation\">Example-based</a></li>\n",
              "<li><a href=\"/wiki/Rule-based_machine_translation\" title=\"Rule-based machine translation\">Rule-based</a></li>\n",
              "<li><a href=\"/wiki/Statistical_machine_translation\" title=\"Statistical machine translation\">Statistical</a></li>\n",
              "<li><a href=\"/wiki/Transfer-based_machine_translation\" title=\"Transfer-based machine translation\">Transfer-based</a></li>\n",
              "<li><a href=\"/wiki/Neural_machine_translation\" title=\"Neural machine translation\">Neural</a></li></ul>\n",
              "</div></td></tr><tr><th class=\"navbox-group\" scope=\"row\" style=\"width:1%\"><a href=\"/wiki/Distributional_semantics\" title=\"Distributional semantics\">Distributional semantics</a> models</th><td class=\"navbox-list-with-group navbox-list navbox-even\" style=\"width:100%;padding:0\"><div style=\"padding:0 0.25em\">\n",
              "<ul><li><a href=\"/wiki/BERT_(language_model)\" title=\"BERT (language model)\">BERT</a></li>\n",
              "<li><a href=\"/wiki/Document-term_matrix\" title=\"Document-term matrix\">Document-term matrix</a></li>\n",
              "<li><a href=\"/wiki/Explicit_semantic_analysis\" title=\"Explicit semantic analysis\">Explicit semantic analysis</a></li>\n",
              "<li><a href=\"/wiki/FastText\" title=\"FastText\">fastText</a></li>\n",
              "<li><a href=\"/wiki/GloVe\" title=\"GloVe\">GloVe</a></li>\n",
              "<li><a href=\"/wiki/Language_model\" title=\"Language model\">Language model</a> (<a href=\"/wiki/Large_language_model\" title=\"Large language model\">large</a>)</li>\n",
              "<li><a href=\"/wiki/Latent_semantic_analysis\" title=\"Latent semantic analysis\">Latent semantic analysis</a></li>\n",
              "<li><a href=\"/wiki/Seq2seq\" title=\"Seq2seq\">Seq2seq</a></li>\n",
              "<li><a href=\"/wiki/Word_embedding\" title=\"Word embedding\">Word embedding</a></li>\n",
              "<li><a href=\"/wiki/Word2vec\" title=\"Word2vec\">Word2vec</a></li></ul>\n",
              "</div></td></tr><tr><th class=\"navbox-group\" scope=\"row\" style=\"width:1%\"><a href=\"/wiki/Language_resource\" title=\"Language resource\">Language resources</a>,<br/>datasets and corpora</th><td class=\"navbox-list-with-group navbox-list navbox-odd\" style=\"width:100%;padding:0\"><div style=\"padding:0 0.25em\"></div><table class=\"nowraplinks navbox-subgroup\" style=\"border-spacing:0\"><tbody><tr><th class=\"navbox-group\" scope=\"row\" style=\"width:1%\">Types and<br/>standards</th><td class=\"navbox-list-with-group navbox-list navbox-odd\" style=\"width:100%;padding:0\"><div style=\"padding:0 0.25em\">\n",
              "<ul><li><a href=\"/wiki/Corpus_linguistics\" title=\"Corpus linguistics\">Corpus linguistics</a></li>\n",
              "<li><a href=\"/wiki/Lexical_resource\" title=\"Lexical resource\">Lexical resource</a></li>\n",
              "<li><a href=\"/wiki/Linguistic_Linked_Open_Data\" title=\"Linguistic Linked Open Data\">Linguistic Linked Open Data</a></li>\n",
              "<li><a href=\"/wiki/Machine-readable_dictionary\" title=\"Machine-readable dictionary\">Machine-readable dictionary</a></li>\n",
              "<li><a href=\"/wiki/Parallel_text\" title=\"Parallel text\">Parallel text</a></li>\n",
              "<li><a href=\"/wiki/PropBank\" title=\"PropBank\">PropBank</a></li>\n",
              "<li><a href=\"/wiki/Semantic_network\" title=\"Semantic network\">Semantic network</a></li>\n",
              "<li><a href=\"/wiki/Simple_Knowledge_Organization_System\" title=\"Simple Knowledge Organization System\">Simple Knowledge Organization System</a></li>\n",
              "<li><a href=\"/wiki/Speech_corpus\" title=\"Speech corpus\">Speech corpus</a></li>\n",
              "<li><a href=\"/wiki/Text_corpus\" title=\"Text corpus\">Text corpus</a></li>\n",
              "<li><a href=\"/wiki/Thesaurus_(information_retrieval)\" title=\"Thesaurus (information retrieval)\">Thesaurus (information retrieval)</a></li>\n",
              "<li><a href=\"/wiki/Treebank\" title=\"Treebank\">Treebank</a></li>\n",
              "<li><a href=\"/wiki/Universal_Dependencies\" title=\"Universal Dependencies\">Universal Dependencies</a></li></ul>\n",
              "</div></td></tr><tr><th class=\"navbox-group\" scope=\"row\" style=\"width:1%\">Data</th><td class=\"navbox-list-with-group navbox-list navbox-even\" style=\"width:100%;padding:0\"><div style=\"padding:0 0.25em\">\n",
              "<ul><li><a href=\"/wiki/BabelNet\" title=\"BabelNet\">BabelNet</a></li>\n",
              "<li><a href=\"/wiki/Bank_of_English\" title=\"Bank of English\">Bank of English</a></li>\n",
              "<li><a href=\"/wiki/DBpedia\" title=\"DBpedia\">DBpedia</a></li>\n",
              "<li><a href=\"/wiki/FrameNet\" title=\"FrameNet\">FrameNet</a></li>\n",
              "<li><a href=\"/wiki/Google_Ngram_Viewer\" title=\"Google Ngram Viewer\">Google Ngram Viewer</a></li>\n",
              "<li><a href=\"/wiki/UBY\" title=\"UBY\">UBY</a></li>\n",
              "<li><a href=\"/wiki/WordNet\" title=\"WordNet\">WordNet</a></li></ul>\n",
              "</div></td></tr></tbody></table><div></div></td></tr><tr><th class=\"navbox-group\" scope=\"row\" style=\"width:1%\"><a href=\"/wiki/Automatic_identification_and_data_capture\" title=\"Automatic identification and data capture\">Automatic identification<br/>and data capture</a></th><td class=\"navbox-list-with-group navbox-list navbox-odd\" style=\"width:100%;padding:0\"><div style=\"padding:0 0.25em\">\n",
              "<ul><li><a href=\"/wiki/Speech_recognition\" title=\"Speech recognition\">Speech recognition</a></li>\n",
              "<li><a href=\"/wiki/Speech_segmentation\" title=\"Speech segmentation\">Speech segmentation</a></li>\n",
              "<li><a href=\"/wiki/Speech_synthesis\" title=\"Speech synthesis\">Speech synthesis</a></li>\n",
              "<li><a href=\"/wiki/Natural_language_generation\" title=\"Natural language generation\">Natural language generation</a></li>\n",
              "<li><a href=\"/wiki/Optical_character_recognition\" title=\"Optical character recognition\">Optical character recognition</a></li></ul>\n",
              "</div></td></tr><tr><th class=\"navbox-group\" scope=\"row\" style=\"width:1%\"><a href=\"/wiki/Topic_model\" title=\"Topic model\">Topic model</a></th><td class=\"navbox-list-with-group navbox-list navbox-even\" style=\"width:100%;padding:0\"><div style=\"padding:0 0.25em\">\n",
              "<ul><li><a href=\"/wiki/Document_classification\" title=\"Document classification\">Document classification</a></li>\n",
              "<li><a href=\"/wiki/Latent_Dirichlet_allocation\" title=\"Latent Dirichlet allocation\">Latent Dirichlet allocation</a></li>\n",
              "<li><a href=\"/wiki/Pachinko_allocation\" title=\"Pachinko allocation\">Pachinko allocation</a></li></ul>\n",
              "</div></td></tr><tr><th class=\"navbox-group\" scope=\"row\" style=\"width:1%\"><a href=\"/wiki/Computer-assisted_reviewing\" title=\"Computer-assisted reviewing\">Computer-assisted<br/>reviewing</a></th><td class=\"navbox-list-with-group navbox-list navbox-odd\" style=\"width:100%;padding:0\"><div style=\"padding:0 0.25em\">\n",
              "<ul><li><a href=\"/wiki/Automated_essay_scoring\" title=\"Automated essay scoring\">Automated essay scoring</a></li>\n",
              "<li><a href=\"/wiki/Concordancer\" title=\"Concordancer\">Concordancer</a></li>\n",
              "<li><a href=\"/wiki/Grammar_checker\" title=\"Grammar checker\">Grammar checker</a></li>\n",
              "<li><a href=\"/wiki/Predictive_text\" title=\"Predictive text\">Predictive text</a></li>\n",
              "<li><a href=\"/wiki/Pronunciation_assessment\" title=\"Pronunciation assessment\">Pronunciation assessment</a></li>\n",
              "<li><a href=\"/wiki/Spell_checker\" title=\"Spell checker\">Spell checker</a></li>\n",
              "<li><a class=\"mw-redirect\" href=\"/wiki/Syntax_guessing\" title=\"Syntax guessing\">Syntax guessing</a></li></ul>\n",
              "</div></td></tr><tr><th class=\"navbox-group\" scope=\"row\" style=\"width:1%\"><a class=\"mw-redirect\" href=\"/wiki/Natural_language_user_interface\" title=\"Natural language user interface\">Natural language<br/>user interface</a></th><td class=\"navbox-list-with-group navbox-list navbox-even\" style=\"width:100%;padding:0\"><div style=\"padding:0 0.25em\">\n",
              "<ul><li><a class=\"mw-selflink selflink\">Chatbot</a></li>\n",
              "<li><a href=\"/wiki/Interactive_fiction\" title=\"Interactive fiction\">Interactive fiction</a></li>\n",
              "<li><a href=\"/wiki/Question_answering\" title=\"Question answering\">Question answering</a></li>\n",
              "<li><a href=\"/wiki/Virtual_assistant\" title=\"Virtual assistant\">Virtual assistant</a></li>\n",
              "<li><a href=\"/wiki/Voice_user_interface\" title=\"Voice user interface\">Voice user interface</a></li></ul>\n",
              "</div></td></tr><tr><th class=\"navbox-group\" scope=\"row\" style=\"width:1%\">Related</th><td class=\"navbox-list-with-group navbox-list navbox-odd\" style=\"width:100%;padding:0\"><div style=\"padding:0 0.25em\">\n",
              "<ul><li><a href=\"/wiki/Hallucination_(artificial_intelligence)\" title=\"Hallucination (artificial intelligence)\">Hallucination</a></li>\n",
              "<li><a href=\"/wiki/Natural_Language_Toolkit\" title=\"Natural Language Toolkit\">Natural Language Toolkit</a></li>\n",
              "<li><a href=\"/wiki/SpaCy\" title=\"SpaCy\">spaCy</a></li></ul>\n",
              "</div></td></tr></tbody></table></div>\n",
              "<style data-mw-deduplicate=\"TemplateStyles:r1130092004\">.mw-parser-output .portal-bar{font-size:88%;font-weight:bold;display:flex;justify-content:center;align-items:baseline}.mw-parser-output .portal-bar-bordered{padding:0 2em;background-color:#fdfdfd;border:1px solid #a2a9b1;clear:both;margin:1em auto 0}.mw-parser-output .portal-bar-related{font-size:100%;justify-content:flex-start}.mw-parser-output .portal-bar-unbordered{padding:0 1.7em;margin-left:0}.mw-parser-output .portal-bar-header{margin:0 1em 0 0.5em;flex:0 0 auto;min-height:24px}.mw-parser-output .portal-bar-content{display:flex;flex-flow:row wrap;flex:0 1 auto;padding:0.15em 0;column-gap:1em;align-items:baseline;margin:0;list-style:none}.mw-parser-output .portal-bar-content-related{margin:0;list-style:none}.mw-parser-output .portal-bar-item{display:inline-block;margin:0.15em 0.2em;min-height:24px;line-height:24px}@media screen and (max-width:768px){.mw-parser-output .portal-bar{font-size:88%;font-weight:bold;display:flex;flex-flow:column wrap;align-items:baseline}.mw-parser-output .portal-bar-header{text-align:center;flex:0;padding-left:0.5em;margin:0 auto}.mw-parser-output .portal-bar-related{font-size:100%;align-items:flex-start}.mw-parser-output .portal-bar-content{display:flex;flex-flow:row wrap;align-items:center;flex:0;column-gap:1em;border-top:1px solid #a2a9b1;margin:0 auto;list-style:none}.mw-parser-output .portal-bar-content-related{border-top:none;margin:0;list-style:none}}.mw-parser-output .navbox+link+.portal-bar,.mw-parser-output .navbox+style+.portal-bar,.mw-parser-output .navbox+link+.portal-bar-bordered,.mw-parser-output .navbox+style+.portal-bar-bordered,.mw-parser-output .sister-bar+link+.portal-bar,.mw-parser-output .sister-bar+style+.portal-bar,.mw-parser-output .portal-bar+.navbox-styles+.navbox,.mw-parser-output .portal-bar+.navbox-styles+.sister-bar{margin-top:-1px}</style><div aria-label=\"Portals\" class=\"portal-bar noprint metadata noviewer portal-bar-bordered\" role=\"navigation\"><span class=\"portal-bar-header\"><a href=\"/wiki/Wikipedia:Contents/Portals\" title=\"Wikipedia:Contents/Portals\">Portal</a>:</span><ul class=\"portal-bar-content\"><li class=\"portal-bar-item\"><span typeof=\"mw:File\"><a class=\"mw-file-description\" href=\"/wiki/File:Globe_of_letters.svg\"><img alt=\"icon\" class=\"mw-file-element\" data-file-height=\"512\" data-file-width=\"512\" decoding=\"async\" height=\"19\" src=\"//upload.wikimedia.org/wikipedia/commons/thumb/d/de/Globe_of_letters.svg/19px-Globe_of_letters.svg.png\" srcset=\"//upload.wikimedia.org/wikipedia/commons/thumb/d/de/Globe_of_letters.svg/29px-Globe_of_letters.svg.png 1.5x, //upload.wikimedia.org/wikipedia/commons/thumb/d/de/Globe_of_letters.svg/38px-Globe_of_letters.svg.png 2x\" width=\"19\"/></a></span> <a href=\"/wiki/Portal:Language\" title=\"Portal:Language\">Language</a></li></ul></div>\n",
              "<div class=\"navbox-styles\"><link href=\"mw-data:TemplateStyles:r1129693374\" rel=\"mw-deduplicated-inline-style\"/><link href=\"mw-data:TemplateStyles:r1061467846\" rel=\"mw-deduplicated-inline-style\"/><style data-mw-deduplicate=\"TemplateStyles:r1038841319\">.mw-parser-output .tooltip-dotted{border-bottom:1px dotted;cursor:help}</style><link href=\"mw-data:TemplateStyles:r1038841319\" rel=\"mw-deduplicated-inline-style\"/></div><div aria-label=\"Navbox\" class=\"navbox authority-control\" role=\"navigation\" style=\"padding:3px\"><table class=\"nowraplinks hlist navbox-inner\" style=\"border-spacing:0;background:transparent;color:inherit\"><tbody><tr><th class=\"navbox-group\" scope=\"row\" style=\"width:1%\"><a href=\"/wiki/Help:Authority_control\" title=\"Help:Authority control\">Authority control databases</a>: National <span class=\"mw-valign-text-top noprint\" typeof=\"mw:File/Frameless\"><a href=\"https://www.wikidata.org/wiki/Q870780#identifiers\" title=\"Edit this at Wikidata\"><img alt=\"Edit this at Wikidata\" class=\"mw-file-element\" data-file-height=\"20\" data-file-width=\"20\" decoding=\"async\" height=\"10\" src=\"//upload.wikimedia.org/wikipedia/en/thumb/8/8a/OOjs_UI_icon_edit-ltr-progressive.svg/10px-OOjs_UI_icon_edit-ltr-progressive.svg.png\" srcset=\"//upload.wikimedia.org/wikipedia/en/thumb/8/8a/OOjs_UI_icon_edit-ltr-progressive.svg/15px-OOjs_UI_icon_edit-ltr-progressive.svg.png 1.5x, //upload.wikimedia.org/wikipedia/en/thumb/8/8a/OOjs_UI_icon_edit-ltr-progressive.svg/20px-OOjs_UI_icon_edit-ltr-progressive.svg.png 2x\" width=\"10\"/></a></span></th><td class=\"navbox-list-with-group navbox-list navbox-odd\" style=\"width:100%;padding:0\"><div style=\"padding:0 0.25em\">\n",
              "<ul><li><span class=\"uid\"><a class=\"external text\" href=\"https://d-nb.info/gnd/4841533-9\" rel=\"nofollow\">Germany</a></span></li>\n",
              "<li><span class=\"uid\"><span class=\"rt-commentedText tooltip tooltip-dotted\" title=\"Sarunboti\"><a class=\"external text\" href=\"https://kopkatalogs.lv/F?func=direct&amp;local_base=lnc10&amp;doc_number=000340173&amp;P_CON_LNG=ENG\" rel=\"nofollow\">Latvia</a></span></span></li>\n",
              "<li><span class=\"uid\"><span class=\"rt-commentedText tooltip tooltip-dotted\" title=\"chatboty\"><a class=\"external text\" href=\"https://aleph.nkp.cz/F/?func=find-c&amp;local_base=aut&amp;ccl_term=ica=ph980006&amp;CON_LNG=ENG\" rel=\"nofollow\">Czech Republic</a></span></span></li></ul>\n",
              "</div></td></tr></tbody></table></div>\n",
              "<!-- \n",
              "NewPP limit report\n",
              "Parsed by mw1391\n",
              "Cached time: 20231025182019\n",
              "Cache expiry: 1814400\n",
              "Reduced expiry: false\n",
              "Complications: [vary‐revision‐sha1, show‐toc]\n",
              "CPU time usage: 1.080 seconds\n",
              "Real time usage: 1.274 seconds\n",
              "Preprocessor visited node count: 5553/1000000\n",
              "Post‐expand include size: 241483/2097152 bytes\n",
              "Template argument size: 5867/2097152 bytes\n",
              "Highest expansion depth: 17/100\n",
              "Expensive parser function count: 14/500\n",
              "Unstrip recursion depth: 1/20\n",
              "Unstrip post‐expand size: 282033/5000000 bytes\n",
              "Lua time usage: 0.699/10.000 seconds\n",
              "Lua memory usage: 12614086/52428800 bytes\n",
              "Number of Wikibase entities loaded: 1/400\n",
              "-->\n",
              "<!--\n",
              "Transclusion expansion time report (%,ms,calls,template)\n",
              "100.00% 1088.401      1 -total\n",
              " 54.49%  593.071      1 Template:Reflist\n",
              " 23.31%  253.747     52 Template:Cite_web\n",
              "  9.94%  108.216     10 Template:Citation\n",
              "  7.23%   78.685      1 Template:Machine_learning\n",
              "  7.11%   77.431     10 Template:Main_other\n",
              "  7.01%   76.257      1 Template:Sidebar_with_collapsible_lists\n",
              "  5.71%   62.120      1 Template:Update\n",
              "  5.42%   59.039     14 Template:Cite_news\n",
              "  5.40%   58.825      1 Template:Ambox\n",
              "-->\n",
              "<!-- Saved in parser cache with key enwiki:pcache:idhash:148349-0!canonical and timestamp 20231025182017 and revision id 1178442752. Rendering was triggered because: page-view\n",
              " -->\n",
              "</div><!--esi <esi:include src=\"/esitest-fa8a495983347898/content\" /> --><noscript><img alt=\"\" height=\"1\" src=\"//en.wikipedia.org/wiki/Special:CentralAutoLogin/start?type=1x1\" style=\"border: none; position: absolute;\" title=\"\" width=\"1\"/></noscript>\n",
              "<div class=\"printfooter\" data-nosnippet=\"\">Retrieved from \"<a dir=\"ltr\" href=\"https://en.wikipedia.org/w/index.php?title=Chatbot&amp;oldid=1178442752\">https://en.wikipedia.org/w/index.php?title=Chatbot&amp;oldid=1178442752</a>\"</div></div>\n",
              "<div class=\"catlinks\" data-mw=\"interface\" id=\"catlinks\"><div class=\"mw-normal-catlinks\" id=\"mw-normal-catlinks\"><a href=\"/wiki/Help:Category\" title=\"Help:Category\">Categories</a>: <ul><li><a href=\"/wiki/Category:Chatbots\" title=\"Category:Chatbots\">Chatbots</a></li><li><a href=\"/wiki/Category:Instant_messaging\" title=\"Category:Instant messaging\">Instant messaging</a></li><li><a href=\"/wiki/Category:Interactive_narrative\" title=\"Category:Interactive narrative\">Interactive narrative</a></li><li><a href=\"/wiki/Category:Natural_language_parsing\" title=\"Category:Natural language parsing\">Natural language parsing</a></li></ul></div><div class=\"mw-hidden-catlinks mw-hidden-cats-hidden\" id=\"mw-hidden-catlinks\">Hidden categories: <ul><li><a href=\"/wiki/Category:Webarchive_template_wayback_links\" title=\"Category:Webarchive template wayback links\">Webarchive template wayback links</a></li><li><a href=\"/wiki/Category:All_articles_with_dead_external_links\" title=\"Category:All articles with dead external links\">All articles with dead external links</a></li><li><a href=\"/wiki/Category:Articles_with_dead_external_links_from_April_2023\" title=\"Category:Articles with dead external links from April 2023\">Articles with dead external links from April 2023</a></li><li><a href=\"/wiki/Category:Articles_with_permanently_dead_external_links\" title=\"Category:Articles with permanently dead external links\">Articles with permanently dead external links</a></li><li><a href=\"/wiki/Category:CS1_errors:_periodical_ignored\" title=\"Category:CS1 errors: periodical ignored\">CS1 errors: periodical ignored</a></li><li><a href=\"/wiki/Category:Articles_with_short_description\" title=\"Category:Articles with short description\">Articles with short description</a></li><li><a href=\"/wiki/Category:Short_description_is_different_from_Wikidata\" title=\"Category:Short description is different from Wikidata\">Short description is different from Wikidata</a></li><li><a href=\"/wiki/Category:Wikipedia_semi-protected_pages\" title=\"Category:Wikipedia semi-protected pages\">Wikipedia semi-protected pages</a></li><li><a href=\"/wiki/Category:Use_dmy_dates_from_February_2023\" title=\"Category:Use dmy dates from February 2023\">Use dmy dates from February 2023</a></li><li><a href=\"/wiki/Category:Wikipedia_articles_in_need_of_updating_from_February_2023\" title=\"Category:Wikipedia articles in need of updating from February 2023\">Wikipedia articles in need of updating from February 2023</a></li><li><a href=\"/wiki/Category:All_Wikipedia_articles_in_need_of_updating\" title=\"Category:All Wikipedia articles in need of updating\">All Wikipedia articles in need of updating</a></li><li><a href=\"/wiki/Category:Commons_category_link_from_Wikidata\" title=\"Category:Commons category link from Wikidata\">Commons category link from Wikidata</a></li><li><a href=\"/wiki/Category:Articles_with_GND_identifiers\" title=\"Category:Articles with GND identifiers\">Articles with GND identifiers</a></li><li><a href=\"/wiki/Category:Articles_with_LNB_identifiers\" title=\"Category:Articles with LNB identifiers\">Articles with LNB identifiers</a></li><li><a href=\"/wiki/Category:Articles_with_NKC_identifiers\" title=\"Category:Articles with NKC identifiers\">Articles with NKC identifiers</a></li></ul></div></div>\n",
              "</div>\n",
              "</main>\n",
              "</div>\n",
              "<div class=\"mw-footer-container\">\n",
              "<footer class=\"mw-footer\" id=\"footer\" role=\"contentinfo\">\n",
              "<ul id=\"footer-info\">\n",
              "<li id=\"footer-info-lastmod\"> This page was last edited on 3 October 2023, at 18:11<span class=\"anonymous-show\"> (UTC)</span>.</li>\n",
              "<li id=\"footer-info-copyright\">Text is available under the <a href=\"//en.wikipedia.org/wiki/Wikipedia:Text_of_the_Creative_Commons_Attribution-ShareAlike_4.0_International_License\" rel=\"license\">Creative Commons Attribution-ShareAlike License 4.0</a><a href=\"//en.wikipedia.org/wiki/Wikipedia:Text_of_the_Creative_Commons_Attribution-ShareAlike_4.0_International_License\" rel=\"license\" style=\"display:none;\"></a>;\n",
              "additional terms may apply.  By using this site, you agree to the <a href=\"//foundation.wikimedia.org/wiki/Terms_of_Use\">Terms of Use</a> and <a href=\"//foundation.wikimedia.org/wiki/Privacy_policy\">Privacy Policy</a>. Wikipedia® is a registered trademark of the <a href=\"//www.wikimediafoundation.org/\">Wikimedia Foundation, Inc.</a>, a non-profit organization.</li>\n",
              "</ul>\n",
              "<ul id=\"footer-places\">\n",
              "<li id=\"footer-places-privacy\"><a href=\"https://foundation.wikimedia.org/wiki/Special:MyLanguage/Policy:Privacy_policy\">Privacy policy</a></li>\n",
              "<li id=\"footer-places-about\"><a href=\"/wiki/Wikipedia:About\">About Wikipedia</a></li>\n",
              "<li id=\"footer-places-disclaimers\"><a href=\"/wiki/Wikipedia:General_disclaimer\">Disclaimers</a></li>\n",
              "<li id=\"footer-places-contact\"><a href=\"//en.wikipedia.org/wiki/Wikipedia:Contact_us\">Contact Wikipedia</a></li>\n",
              "<li id=\"footer-places-wm-codeofconduct\"><a href=\"https://foundation.wikimedia.org/wiki/Special:MyLanguage/Universal_Code_of_Conduct\">Code of Conduct</a></li>\n",
              "<li id=\"footer-places-developers\"><a href=\"https://developer.wikimedia.org\">Developers</a></li>\n",
              "<li id=\"footer-places-statslink\"><a href=\"https://stats.wikimedia.org/#/en.wikipedia.org\">Statistics</a></li>\n",
              "<li id=\"footer-places-cookiestatement\"><a href=\"https://foundation.wikimedia.org/wiki/Special:MyLanguage/Policy:Cookie_statement\">Cookie statement</a></li>\n",
              "<li id=\"footer-places-mobileview\"><a class=\"noprint stopMobileRedirectToggle\" href=\"//en.m.wikipedia.org/w/index.php?title=Chatbot&amp;mobileaction=toggle_view_mobile\">Mobile view</a></li>\n",
              "</ul>\n",
              "<ul class=\"noprint\" id=\"footer-icons\">\n",
              "<li id=\"footer-copyrightico\"><a href=\"https://wikimediafoundation.org/\"><img alt=\"Wikimedia Foundation\" height=\"31\" loading=\"lazy\" src=\"/static/images/footer/wikimedia-button.png\" srcset=\"/static/images/footer/wikimedia-button-1.5x.png 1.5x, /static/images/footer/wikimedia-button-2x.png 2x\" width=\"88\"/></a></li>\n",
              "<li id=\"footer-poweredbyico\"><a href=\"https://www.mediawiki.org/\"><img alt=\"Powered by MediaWiki\" height=\"31\" loading=\"lazy\" src=\"/static/images/footer/poweredby_mediawiki_88x31.png\" srcset=\"/static/images/footer/poweredby_mediawiki_132x47.png 1.5x, /static/images/footer/poweredby_mediawiki_176x62.png 2x\" width=\"88\"/></a></li>\n",
              "</ul>\n",
              "</footer>\n",
              "</div>\n",
              "</div>\n",
              "</div>\n",
              "<div class=\"vector-settings\" id=\"p-dock-bottom\">\n",
              "<ul>\n",
              "<li>\n",
              "<button class=\"cdx-button cdx-button--icon-only vector-limited-width-toggle\" id=\"\"><span class=\"vector-icon mw-ui-icon-fullScreen mw-ui-icon-wikimedia-fullScreen\"></span>\n",
              "<span>Toggle limited content width</span>\n",
              "</button>\n",
              "</li>\n",
              "</ul>\n",
              "</div>\n",
              "<script>(RLQ=window.RLQ||[]).push(function(){mw.config.set({\"wgHostname\":\"mw1399\",\"wgBackendResponseTime\":153,\"wgPageParseReport\":{\"limitreport\":{\"cputime\":\"1.080\",\"walltime\":\"1.274\",\"ppvisitednodes\":{\"value\":5553,\"limit\":1000000},\"postexpandincludesize\":{\"value\":241483,\"limit\":2097152},\"templateargumentsize\":{\"value\":5867,\"limit\":2097152},\"expansiondepth\":{\"value\":17,\"limit\":100},\"expensivefunctioncount\":{\"value\":14,\"limit\":500},\"unstrip-depth\":{\"value\":1,\"limit\":20},\"unstrip-size\":{\"value\":282033,\"limit\":5000000},\"entityaccesscount\":{\"value\":1,\"limit\":400},\"timingprofile\":[\"100.00% 1088.401      1 -total\",\" 54.49%  593.071      1 Template:Reflist\",\" 23.31%  253.747     52 Template:Cite_web\",\"  9.94%  108.216     10 Template:Citation\",\"  7.23%   78.685      1 Template:Machine_learning\",\"  7.11%   77.431     10 Template:Main_other\",\"  7.01%   76.257      1 Template:Sidebar_with_collapsible_lists\",\"  5.71%   62.120      1 Template:Update\",\"  5.42%   59.039     14 Template:Cite_news\",\"  5.40%   58.825      1 Template:Ambox\"]},\"scribunto\":{\"limitreport-timeusage\":{\"value\":\"0.699\",\"limit\":\"10.000\"},\"limitreport-memusage\":{\"value\":12614086,\"limit\":52428800}},\"cachereport\":{\"origin\":\"mw1391\",\"timestamp\":\"20231025182019\",\"ttl\":1814400,\"transientcontent\":false}}});});</script>\n",
              "<script type=\"application/ld+json\">{\"@context\":\"https:\\/\\/schema.org\",\"@type\":\"Article\",\"name\":\"Chatbot\",\"url\":\"https:\\/\\/en.wikipedia.org\\/wiki\\/Chatbot\",\"sameAs\":\"http:\\/\\/www.wikidata.org\\/entity\\/Q870780\",\"mainEntity\":\"http:\\/\\/www.wikidata.org\\/entity\\/Q870780\",\"author\":{\"@type\":\"Organization\",\"name\":\"Contributors to Wikimedia projects\"},\"publisher\":{\"@type\":\"Organization\",\"name\":\"Wikimedia Foundation, Inc.\",\"logo\":{\"@type\":\"ImageObject\",\"url\":\"https:\\/\\/www.wikimedia.org\\/static\\/images\\/wmf-hor-googpub.png\"}},\"datePublished\":\"2002-11-17T21:22:06Z\",\"dateModified\":\"2023-10-03T18:11:56Z\",\"image\":\"https:\\/\\/upload.wikimedia.org\\/wikipedia\\/commons\\/7\\/79\\/ELIZA_conversation.png\",\"headline\":\"program or set of instructions that simulates conversation with humans\"}</script>\n",
              "</body>\n",
              "</html>"
            ]
          },
          "metadata": {},
          "execution_count": 70
        }
      ],
      "source": [
        "soup = BeautifulSoup(source,'lxml')\n",
        "soup"
      ]
    },
    {
      "cell_type": "markdown",
      "metadata": {
        "id": "fk52vn0405pz"
      },
      "source": [
        "### Text extraction\n",
        "We will extract the plain text content from paragraphs"
      ]
    },
    {
      "cell_type": "code",
      "execution_count": 71,
      "metadata": {
        "id": "T2Dc8BVY05pz"
      },
      "outputs": [],
      "source": [
        "paras = []\n",
        "for paragraph in soup.find_all('p'):\n",
        "    paras.append(str(paragraph.text))"
      ]
    },
    {
      "cell_type": "markdown",
      "metadata": {
        "id": "e3WaWxCy05pz"
      },
      "source": [
        "We will extract text from paragraph headers"
      ]
    },
    {
      "cell_type": "code",
      "execution_count": 72,
      "metadata": {
        "id": "YGAv55rw05p0"
      },
      "outputs": [],
      "source": [
        "heads = []\n",
        "for head in soup.find_all('span', attrs={'mw-headline'}):\n",
        "    heads.append(str(head.text))"
      ]
    },
    {
      "cell_type": "markdown",
      "metadata": {
        "id": "OU3LqZUI05p0"
      },
      "source": [
        "### Interleaving the paragraphs and headers"
      ]
    },
    {
      "cell_type": "code",
      "execution_count": 73,
      "metadata": {
        "id": "kSgmts1u05p0"
      },
      "outputs": [],
      "source": [
        "# Interleave paragraphs & headers\n",
        "text = [val for pair in zip(paras, heads) for val in pair]\n",
        "text = ' '.join(text)"
      ]
    },
    {
      "cell_type": "markdown",
      "metadata": {
        "id": "sKxbncQZ05p0"
      },
      "source": [
        "### Superscript edit\n",
        "We will drop footnote superscripts in brackets"
      ]
    },
    {
      "cell_type": "code",
      "execution_count": 74,
      "metadata": {
        "id": "wnPNRlkR05p1"
      },
      "outputs": [],
      "source": [
        "text = re.sub(r\"\\[.*?\\]+\", '', text)"
      ]
    },
    {
      "cell_type": "markdown",
      "metadata": {
        "id": "ocwnv7X605p1"
      },
      "source": [
        "### Trimming the text and replacing new lines\n",
        "We will replace '\\n' (a new line) with '' and trim the unwanted text from both the ends"
      ]
    },
    {
      "cell_type": "code",
      "execution_count": 75,
      "metadata": {
        "id": "2pgscXOA05p1"
      },
      "outputs": [],
      "source": [
        "text = text.replace('\\n', '')[55:-15]"
      ]
    },
    {
      "cell_type": "code",
      "execution_count": 76,
      "metadata": {
        "colab": {
          "base_uri": "https://localhost:8080/",
          "height": 128
        },
        "id": "lCuzGbpt05p1",
        "outputId": "75aec3c7-15a4-464e-c879-41f2fb3be470"
      },
      "outputs": [
        {
          "output_type": "execute_result",
          "data": {
            "text/plain": [
              "'ware application or web interface that aims to mimic human conversation through text or voice interactions. Modern chatbots are typically online and use artificial intelligence (AI) systems that are capable of maintaining a conversation with a user in natural language and simulating the way a human would behave as a conversational partner. Such technologies often utilize aspects of deep learning and natural language processing, but more simplistic chatbots have been around for decades prior. Development Recently, this field has gained widespread attention due to the popularity of OpenAI\\'s ChatGPT (using GPT-3 or GPT-4), released in 2022, followed by alternatives such as Microsoft\\'s Bing Chat (which uses OpenAI\\'s GPT-4) and Google\\'s Bard. Such examples reflect the recent practice of such products being built based upon broad foundational large language models that get fine-tuned so as to target specific tasks or applications (i.e. simulating human conversation, in the case of chatbots). Chatbots can also be designed or customized to further target even more specific situations and/or particular subject-matter domains. Application A major area where chatbots have long been used is in customer service and support, such as with various sorts of virtual assistants. Companies spanning various industries have begun using the latest generative artificial intelligence technologies to power more advanced developments in such areas. Messaging apps In 1950, Alan Turing\\'s famous article \"Computing Machinery and Intelligence\" was published, which proposed what is now called the Turing test as a criterion of intelligence. This criterion depends on the ability of a computer program to impersonate a human in a real-time written conversation with a human judge to the extent that the judge is unable to distinguish reliably—on the basis of the conversational content alone—between the program and a real human. The notoriety of Turing\\'s proposed test stimulated great interest in Joseph Weizenbaum\\'s program ELIZA, published in 1966, which seemed to be able to fool users into believing that they were conversing with a real human. However Weizenbaum himself did not claim that ELIZA was genuinely intelligent, and the introduction to his paper presented it more as a debunking exercise: As part of company apps and websites In artificial intelligence, machines are made to behave in wondrous ways, often sufficient to dazzle even the most experienced observer. But once a particular program is unmasked, once its inner workings are explained, its magic crumbles away; it stands revealed as a mere collection of procedures. The observer says to himself \"I could have written that\". With that thought, he moves the program in question from the shelf marked \"intelligent\", to that reserved for curios. The object of this paper is to cause just such a re-evaluation of the program about to be \"explained\". Few programs ever needed it more. Chatbot sequences ELIZA\\'s key method of operation (copied by chatbot designers ever since) involves the recognition of clue words or phrases in the input, and the output of the corresponding pre-prepared or pre-programmed responses that can move the conversation forward in an apparently meaningful way (e.g. by responding to any input that contains the word \\'MOTHER\\' with \\'TELL ME MORE ABOUT YOUR FAMILY\\'). Thus an illusion of understanding is generated, even though the processing involved has been merely superficial. ELIZA showed that such an illusion is surprisingly easy to generate because human judges are so ready to give the benefit of the doubt when conversational responses are capable of being interpreted as \"intelligent\". Company internal platforms Interface designers have come to appreciate that humans\\' readiness to interpret computer output as genuinely conversational—even when it is actually based on rather simple pattern-matching—can be exploited for useful purposes. Most people prefer to engage with programs that are human-like, and this gives chatbot-style techniques a potentially useful role in interactive systems that need to elicit information from users, as long as that information is relatively straightforward and falls into predictable categories. Thus, for example, online help systems can usefully employ chatbot techniques to identify the area of help that users require, potentially providing a \"friendlier\" interface than a more formal search or menu system. This sort of usage holds the prospect of moving chatbot technology from Weizenbaum\\'s \"shelf ... reserved for curios\" to that marked \"genuinely useful computational methods\". Customer service Among the most notable early chatbots are ELIZA (1966) and PARRY (1972). More recent notable programs include A.L.I.C.E., Jabberwacky and D.U.D.E (Agence Nationale de la Recherche and CNRS 2006). While ELIZA and PARRY were used exclusively to simulate typed conversation, many chatbots now include other functional features, such as games and web searching abilities. In 1984, a book called The Policeman\\'s Beard is Half Constructed was published, allegedly written by the chatbot Racter (though the program as released would not have been capable of doing so). Healthcare From 1978 to some time after 1983, the CYRUS project led by Janet Kolodner constructed a chatbot simulating Cyrus Vance (57th United States Secretary of State). It used case-based reasoning, and updated its database daily by parsing wire news from United Press International. The program was unable to process the news items subsequent to the surprise resignation of Cyrus Vance in April 1980, and the team constructed another chatbot simulating his successor, Edmund Muskie. Politics One pertinent field of AI research is natural-language processing. Usually, weak AI fields employ specialized software or programming languages created specifically for the narrow function required. For example, A.L.I.C.E. uses a markup language called AIML, which is specific to its function as a conversational agent, and has since been adopted by various other developers of, so-called, Alicebots. Nevertheless, A.L.I.C.E. is still purely based on pattern matching techniques without any reasoning capabilities, the same technique ELIZA was using back in 1966. This is not strong AI, which would require sapience and logical reasoning abilities. Toys Jabberwacky learns new responses and context based on real-time user interactions, rather than being driven from a static database. Some more recent chatbots also combine real-time learning with evolutionary algorithms that optimize their ability to communicate based on each conversation held. Still, there is currently no general purpose conversational artificial intelligence, and some software developers focus on the practical aspect, information retrieval. Malicious use Chatbot competitions focus on the Turing test or more specific goals. Two such annual contests are the Loebner Prize and The Chatterbox Challenge (the latter has been offline since 2015, however, materials can still be found from web archives). Limitations of chatbots Chatbots may use neural networks as a language model. For example, generative pre-trained transformers (GPT), which use the transformer architecture, have become common to build sophisticated chatbots. The \"pre-training\" in its name refers to the initial training process on a large text corpus, which provides a solid foundation for the model to perform well on downstream tasks with limited amounts of task-specific data. An example of a GPT chatbot is ChatGPT. Despite criticism of its accuracy, ChatGPT has gained attention for its detailed responses and historical knowledge. Another example is BioGPT, developed by Microsoft, which focuses on answering biomedical questions. Chatbots and jobs DBpedia created a chatbot during the GSoC of 2017. It can communicate through Facebook Messenger. See also Many companies\\' chatbots run on messaging apps or simply via SMS. They are used for B2C customer service, sales and marketing. References In 2016, Facebook Messenger allowed developers to place chatbots on their platform. There were 30,000 bots created for Messenger in the first six months, rising to 100,000 by September 2017. Further reading Since September 2017, this has also been as part of a pilot program on WhatsApp. Airlines KLM and Aeroméxico both announced their participation in the testing; both airlines had previously launched customer services on the Facebook Messenger platform.'"
            ],
            "application/vnd.google.colaboratory.intrinsic+json": {
              "type": "string"
            }
          },
          "metadata": {},
          "execution_count": 76
        }
      ],
      "source": [
        "text"
      ]
    },
    {
      "cell_type": "markdown",
      "metadata": {
        "id": "4A8OYLKx05p2"
      },
      "source": [
        "- **We have successfully scraped the text data from Wikipedia. Let us move on with the preprocessing part.**"
      ]
    },
    {
      "cell_type": "markdown",
      "metadata": {
        "id": "kpg9OwBz05p2"
      },
      "source": [
        "### Processing data"
      ]
    },
    {
      "cell_type": "markdown",
      "metadata": {
        "id": "wxfY--rn05p2"
      },
      "source": [
        "Now we begin to process the knowledge base. We will read the text file, convert everything to lowercase and tokenize it. Do you remember what tokenization does?  \n",
        "  \n",
        "There exists pre-trained tokenizers that will help split your document up into tokens.\n",
        "\n",
        "If this is the first time you are using these pre-trained tokenizers, you will have to download it with the command `nltk.download('punkt')`. We will also use a pre-defined model to perform lemmatization. This is downloaded using `nltk.download('wordnet')`. Subsequently, you can comment out the line if you ever have to run the cell again.\n",
        "\n",
        "**Optional: run these if you do not have the required functions**"
      ]
    },
    {
      "cell_type": "code",
      "execution_count": 77,
      "metadata": {
        "colab": {
          "base_uri": "https://localhost:8080/"
        },
        "id": "_766D5SH05p3",
        "outputId": "0d4eb3f6-54f6-4146-9658-c0d3e2602393"
      },
      "outputs": [
        {
          "output_type": "stream",
          "name": "stderr",
          "text": [
            "[nltk_data] Downloading package punkt to /root/nltk_data...\n",
            "[nltk_data]   Unzipping tokenizers/punkt.zip.\n",
            "[nltk_data] Downloading package wordnet to /root/nltk_data...\n"
          ]
        },
        {
          "output_type": "execute_result",
          "data": {
            "text/plain": [
              "True"
            ]
          },
          "metadata": {},
          "execution_count": 77
        }
      ],
      "source": [
        "nltk.download('punkt') # first-time use only tokenizer\n",
        "nltk.download('wordnet') # first-time use only Used for the lemmatizer"
      ]
    },
    {
      "cell_type": "markdown",
      "metadata": {
        "id": "2rRlogBx05p3"
      },
      "source": [
        "### Conversion to lower case\n",
        "\n",
        "We will convert all text to lower case first. Remember to inspect the result once we are done."
      ]
    },
    {
      "cell_type": "code",
      "execution_count": 78,
      "metadata": {
        "colab": {
          "base_uri": "https://localhost:8080/"
        },
        "id": "yxWgwqt505p3",
        "outputId": "63e3b70c-57fb-4ba8-c8fc-afadf29129ce"
      },
      "outputs": [
        {
          "output_type": "stream",
          "name": "stdout",
          "text": [
            "ware application or web interface that aims to mimic human conversation through text or voice interactions. modern chatbots are typically online and use artificial intelligence (ai) systems that are capable of maintaining a conversation with a user in natural language and simulating the way a human would behave as a conversational partner. such technologies often utilize aspects of deep learning and natural language processing, but more simplistic chatbots have been around for decades prior. development recently, this field has gained widespread attention due to the popularity of openai's chatgpt (using gpt-3 or gpt-4), released in 2022, followed by alternatives such as microsoft's bing chat (which uses openai's gpt-4) and google's bard. such examples reflect the recent practice of such products being built based upon broad foundational large language models that get fine-tuned so as to target specific tasks or applications (i.e. simulating human conversation, in the case of chatbots). chatbots can also be designed or customized to further target even more specific situations and/or particular subject-matter domains. application a major area where chatbots have long been used is in customer service and support, such as with various sorts of virtual assistants. companies spanning various industries have begun using the latest generative artificial intelligence technologies to power more advanced developments in such areas. messaging apps in 1950, alan turing's famous article \"computing machinery and intelligence\" was published, which proposed what is now called the turing test as a criterion of intelligence. this criterion depends on the ability of a computer program to impersonate a human in a real-time written conversation with a human judge to the extent that the judge is unable to distinguish reliably—on the basis of the conversational content alone—between the program and a real human. the notoriety of turing's proposed test stimulated great interest in joseph weizenbaum's program eliza, published in 1966, which seemed to be able to fool users into believing that they were conversing with a real human. however weizenbaum himself did not claim that eliza was genuinely intelligent, and the introduction to his paper presented it more as a debunking exercise: as part of company apps and websites in artificial intelligence, machines are made to behave in wondrous ways, often sufficient to dazzle even the most experienced observer. but once a particular program is unmasked, once its inner workings are explained, its magic crumbles away; it stands revealed as a mere collection of procedures. the observer says to himself \"i could have written that\". with that thought, he moves the program in question from the shelf marked \"intelligent\", to that reserved for curios. the object of this paper is to cause just such a re-evaluation of the program about to be \"explained\". few programs ever needed it more. chatbot sequences eliza's key method of operation (copied by chatbot designers ever since) involves the recognition of clue words or phrases in the input, and the output of the corresponding pre-prepared or pre-programmed responses that can move the conversation forward in an apparently meaningful way (e.g. by responding to any input that contains the word 'mother' with 'tell me more about your family'). thus an illusion of understanding is generated, even though the processing involved has been merely superficial. eliza showed that such an illusion is surprisingly easy to generate because human judges are so ready to give the benefit of the doubt when conversational responses are capable of being interpreted as \"intelligent\". company internal platforms interface designers have come to appreciate that humans' readiness to interpret computer output as genuinely conversational—even when it is actually based on rather simple pattern-matching—can be exploited for useful purposes. most people prefer to engage with programs that are human-like, and this gives chatbot-style techniques a potentially useful role in interactive systems that need to elicit information from users, as long as that information is relatively straightforward and falls into predictable categories. thus, for example, online help systems can usefully employ chatbot techniques to identify the area of help that users require, potentially providing a \"friendlier\" interface than a more formal search or menu system. this sort of usage holds the prospect of moving chatbot technology from weizenbaum's \"shelf ... reserved for curios\" to that marked \"genuinely useful computational methods\". customer service among the most notable early chatbots are eliza (1966) and parry (1972). more recent notable programs include a.l.i.c.e., jabberwacky and d.u.d.e (agence nationale de la recherche and cnrs 2006). while eliza and parry were used exclusively to simulate typed conversation, many chatbots now include other functional features, such as games and web searching abilities. in 1984, a book called the policeman's beard is half constructed was published, allegedly written by the chatbot racter (though the program as released would not have been capable of doing so). healthcare from 1978 to some time after 1983, the cyrus project led by janet kolodner constructed a chatbot simulating cyrus vance (57th united states secretary of state). it used case-based reasoning, and updated its database daily by parsing wire news from united press international. the program was unable to process the news items subsequent to the surprise resignation of cyrus vance in april 1980, and the team constructed another chatbot simulating his successor, edmund muskie. politics one pertinent field of ai research is natural-language processing. usually, weak ai fields employ specialized software or programming languages created specifically for the narrow function required. for example, a.l.i.c.e. uses a markup language called aiml, which is specific to its function as a conversational agent, and has since been adopted by various other developers of, so-called, alicebots. nevertheless, a.l.i.c.e. is still purely based on pattern matching techniques without any reasoning capabilities, the same technique eliza was using back in 1966. this is not strong ai, which would require sapience and logical reasoning abilities. toys jabberwacky learns new responses and context based on real-time user interactions, rather than being driven from a static database. some more recent chatbots also combine real-time learning with evolutionary algorithms that optimize their ability to communicate based on each conversation held. still, there is currently no general purpose conversational artificial intelligence, and some software developers focus on the practical aspect, information retrieval. malicious use chatbot competitions focus on the turing test or more specific goals. two such annual contests are the loebner prize and the chatterbox challenge (the latter has been offline since 2015, however, materials can still be found from web archives). limitations of chatbots chatbots may use neural networks as a language model. for example, generative pre-trained transformers (gpt), which use the transformer architecture, have become common to build sophisticated chatbots. the \"pre-training\" in its name refers to the initial training process on a large text corpus, which provides a solid foundation for the model to perform well on downstream tasks with limited amounts of task-specific data. an example of a gpt chatbot is chatgpt. despite criticism of its accuracy, chatgpt has gained attention for its detailed responses and historical knowledge. another example is biogpt, developed by microsoft, which focuses on answering biomedical questions. chatbots and jobs dbpedia created a chatbot during the gsoc of 2017. it can communicate through facebook messenger. see also many companies' chatbots run on messaging apps or simply via sms. they are used for b2c customer service, sales and marketing. references in 2016, facebook messenger allowed developers to place chatbots on their platform. there were 30,000 bots created for messenger in the first six months, rising to 100,000 by september 2017. further reading since september 2017, this has also been as part of a pilot program on whatsapp. airlines klm and aeroméxico both announced their participation in the testing; both airlines had previously launched customer services on the facebook messenger platform.\n"
          ]
        }
      ],
      "source": [
        "#your code here\n",
        "raw_data = text.lower()\n",
        "print(raw_data)"
      ]
    },
    {
      "cell_type": "markdown",
      "metadata": {
        "id": "eVSuL9OO05p3"
      },
      "source": [
        "### Sentence segmentation\n",
        "\n",
        "We will use the funtion .sent_tokenizer to convert documents into a list of sentences."
      ]
    },
    {
      "cell_type": "code",
      "execution_count": 79,
      "metadata": {
        "colab": {
          "base_uri": "https://localhost:8080/"
        },
        "id": "Jl8SR5Nl05p3",
        "outputId": "c0b5d5f5-7404-45b1-f670-3ef16ae68780"
      },
      "outputs": [
        {
          "output_type": "stream",
          "name": "stdout",
          "text": [
            "['ware application or web interface that aims to mimic human conversation through text or voice interactions.', 'modern chatbots are typically online and use artificial intelligence (ai) systems that are capable of maintaining a conversation with a user in natural language and simulating the way a human would behave as a conversational partner.', 'such technologies often utilize aspects of deep learning and natural language processing, but more simplistic chatbots have been around for decades prior.', \"development recently, this field has gained widespread attention due to the popularity of openai's chatgpt (using gpt-3 or gpt-4), released in 2022, followed by alternatives such as microsoft's bing chat (which uses openai's gpt-4) and google's bard.\", 'such examples reflect the recent practice of such products being built based upon broad foundational large language models that get fine-tuned so as to target specific tasks or applications (i.e.', 'simulating human conversation, in the case of chatbots).', 'chatbots can also be designed or customized to further target even more specific situations and/or particular subject-matter domains.', 'application a major area where chatbots have long been used is in customer service and support, such as with various sorts of virtual assistants.', 'companies spanning various industries have begun using the latest generative artificial intelligence technologies to power more advanced developments in such areas.', 'messaging apps in 1950, alan turing\\'s famous article \"computing machinery and intelligence\" was published, which proposed what is now called the turing test as a criterion of intelligence.', 'this criterion depends on the ability of a computer program to impersonate a human in a real-time written conversation with a human judge to the extent that the judge is unable to distinguish reliably—on the basis of the conversational content alone—between the program and a real human.', \"the notoriety of turing's proposed test stimulated great interest in joseph weizenbaum's program eliza, published in 1966, which seemed to be able to fool users into believing that they were conversing with a real human.\", 'however weizenbaum himself did not claim that eliza was genuinely intelligent, and the introduction to his paper presented it more as a debunking exercise: as part of company apps and websites in artificial intelligence, machines are made to behave in wondrous ways, often sufficient to dazzle even the most experienced observer.', 'but once a particular program is unmasked, once its inner workings are explained, its magic crumbles away; it stands revealed as a mere collection of procedures.', 'the observer says to himself \"i could have written that\".', 'with that thought, he moves the program in question from the shelf marked \"intelligent\", to that reserved for curios.', 'the object of this paper is to cause just such a re-evaluation of the program about to be \"explained\".', 'few programs ever needed it more.', \"chatbot sequences eliza's key method of operation (copied by chatbot designers ever since) involves the recognition of clue words or phrases in the input, and the output of the corresponding pre-prepared or pre-programmed responses that can move the conversation forward in an apparently meaningful way (e.g.\", \"by responding to any input that contains the word 'mother' with 'tell me more about your family').\", 'thus an illusion of understanding is generated, even though the processing involved has been merely superficial.', 'eliza showed that such an illusion is surprisingly easy to generate because human judges are so ready to give the benefit of the doubt when conversational responses are capable of being interpreted as \"intelligent\".', \"company internal platforms interface designers have come to appreciate that humans' readiness to interpret computer output as genuinely conversational—even when it is actually based on rather simple pattern-matching—can be exploited for useful purposes.\", 'most people prefer to engage with programs that are human-like, and this gives chatbot-style techniques a potentially useful role in interactive systems that need to elicit information from users, as long as that information is relatively straightforward and falls into predictable categories.', 'thus, for example, online help systems can usefully employ chatbot techniques to identify the area of help that users require, potentially providing a \"friendlier\" interface than a more formal search or menu system.', 'this sort of usage holds the prospect of moving chatbot technology from weizenbaum\\'s \"shelf ... reserved for curios\" to that marked \"genuinely useful computational methods\".', 'customer service among the most notable early chatbots are eliza (1966) and parry (1972).', 'more recent notable programs include a.l.i.c.e., jabberwacky and d.u.d.e (agence nationale de la recherche and cnrs 2006).', 'while eliza and parry were used exclusively to simulate typed conversation, many chatbots now include other functional features, such as games and web searching abilities.', \"in 1984, a book called the policeman's beard is half constructed was published, allegedly written by the chatbot racter (though the program as released would not have been capable of doing so).\", 'healthcare from 1978 to some time after 1983, the cyrus project led by janet kolodner constructed a chatbot simulating cyrus vance (57th united states secretary of state).', 'it used case-based reasoning, and updated its database daily by parsing wire news from united press international.', 'the program was unable to process the news items subsequent to the surprise resignation of cyrus vance in april 1980, and the team constructed another chatbot simulating his successor, edmund muskie.', 'politics one pertinent field of ai research is natural-language processing.', 'usually, weak ai fields employ specialized software or programming languages created specifically for the narrow function required.', 'for example, a.l.i.c.e.', 'uses a markup language called aiml, which is specific to its function as a conversational agent, and has since been adopted by various other developers of, so-called, alicebots.', 'nevertheless, a.l.i.c.e.', 'is still purely based on pattern matching techniques without any reasoning capabilities, the same technique eliza was using back in 1966. this is not strong ai, which would require sapience and logical reasoning abilities.', 'toys jabberwacky learns new responses and context based on real-time user interactions, rather than being driven from a static database.', 'some more recent chatbots also combine real-time learning with evolutionary algorithms that optimize their ability to communicate based on each conversation held.', 'still, there is currently no general purpose conversational artificial intelligence, and some software developers focus on the practical aspect, information retrieval.', 'malicious use chatbot competitions focus on the turing test or more specific goals.', 'two such annual contests are the loebner prize and the chatterbox challenge (the latter has been offline since 2015, however, materials can still be found from web archives).', 'limitations of chatbots chatbots may use neural networks as a language model.', 'for example, generative pre-trained transformers (gpt), which use the transformer architecture, have become common to build sophisticated chatbots.', 'the \"pre-training\" in its name refers to the initial training process on a large text corpus, which provides a solid foundation for the model to perform well on downstream tasks with limited amounts of task-specific data.', 'an example of a gpt chatbot is chatgpt.', 'despite criticism of its accuracy, chatgpt has gained attention for its detailed responses and historical knowledge.', 'another example is biogpt, developed by microsoft, which focuses on answering biomedical questions.', 'chatbots and jobs dbpedia created a chatbot during the gsoc of 2017. it can communicate through facebook messenger.', \"see also many companies' chatbots run on messaging apps or simply via sms.\", 'they are used for b2c customer service, sales and marketing.', 'references in 2016, facebook messenger allowed developers to place chatbots on their platform.', 'there were 30,000 bots created for messenger in the first six months, rising to 100,000 by september 2017. further reading since september 2017, this has also been as part of a pilot program on whatsapp.', 'airlines klm and aeroméxico both announced their participation in the testing; both airlines had previously launched customer services on the facebook messenger platform.']\n"
          ]
        }
      ],
      "source": [
        "tokens = nltk.sent_tokenize(raw_data)\n",
        "print(tokens)"
      ]
    },
    {
      "cell_type": "markdown",
      "source": [],
      "metadata": {
        "id": "ebt7zkwZCJps"
      }
    },
    {
      "cell_type": "markdown",
      "metadata": {
        "id": "OtsPTVJf05p4"
      },
      "source": [
        "Great! You have separated the document into sentences. However, notice that it is difficult to decipher the individual sentence now.\n",
        "\n",
        "**Task: Print every sentence in a new line!**\n",
        "\n",
        "This way, it will be easier to read the sentences!\n",
        "\n",
        "Use the link [here](https://www.geeksforgeeks.org/print-lists-in-python-4-different-ways/) to learn how to do that!"
      ]
    },
    {
      "cell_type": "code",
      "execution_count": 80,
      "metadata": {
        "colab": {
          "base_uri": "https://localhost:8080/"
        },
        "id": "ojcMhBTV05p4",
        "outputId": "8ed4197f-6f98-4c5b-ed4e-2526d54de745"
      },
      "outputs": [
        {
          "output_type": "stream",
          "name": "stdout",
          "text": [
            "ware application or web interface that aims to mimic human conversation through text or voice interactions.\n",
            "modern chatbots are typically online and use artificial intelligence (ai) systems that are capable of maintaining a conversation with a user in natural language and simulating the way a human would behave as a conversational partner.\n",
            "such technologies often utilize aspects of deep learning and natural language processing, but more simplistic chatbots have been around for decades prior.\n",
            "development recently, this field has gained widespread attention due to the popularity of openai's chatgpt (using gpt-3 or gpt-4), released in 2022, followed by alternatives such as microsoft's bing chat (which uses openai's gpt-4) and google's bard.\n",
            "such examples reflect the recent practice of such products being built based upon broad foundational large language models that get fine-tuned so as to target specific tasks or applications (i.e.\n",
            "simulating human conversation, in the case of chatbots).\n",
            "chatbots can also be designed or customized to further target even more specific situations and/or particular subject-matter domains.\n",
            "application a major area where chatbots have long been used is in customer service and support, such as with various sorts of virtual assistants.\n",
            "companies spanning various industries have begun using the latest generative artificial intelligence technologies to power more advanced developments in such areas.\n",
            "messaging apps in 1950, alan turing's famous article \"computing machinery and intelligence\" was published, which proposed what is now called the turing test as a criterion of intelligence.\n",
            "this criterion depends on the ability of a computer program to impersonate a human in a real-time written conversation with a human judge to the extent that the judge is unable to distinguish reliably—on the basis of the conversational content alone—between the program and a real human.\n",
            "the notoriety of turing's proposed test stimulated great interest in joseph weizenbaum's program eliza, published in 1966, which seemed to be able to fool users into believing that they were conversing with a real human.\n",
            "however weizenbaum himself did not claim that eliza was genuinely intelligent, and the introduction to his paper presented it more as a debunking exercise: as part of company apps and websites in artificial intelligence, machines are made to behave in wondrous ways, often sufficient to dazzle even the most experienced observer.\n",
            "but once a particular program is unmasked, once its inner workings are explained, its magic crumbles away; it stands revealed as a mere collection of procedures.\n",
            "the observer says to himself \"i could have written that\".\n",
            "with that thought, he moves the program in question from the shelf marked \"intelligent\", to that reserved for curios.\n",
            "the object of this paper is to cause just such a re-evaluation of the program about to be \"explained\".\n",
            "few programs ever needed it more.\n",
            "chatbot sequences eliza's key method of operation (copied by chatbot designers ever since) involves the recognition of clue words or phrases in the input, and the output of the corresponding pre-prepared or pre-programmed responses that can move the conversation forward in an apparently meaningful way (e.g.\n",
            "by responding to any input that contains the word 'mother' with 'tell me more about your family').\n",
            "thus an illusion of understanding is generated, even though the processing involved has been merely superficial.\n",
            "eliza showed that such an illusion is surprisingly easy to generate because human judges are so ready to give the benefit of the doubt when conversational responses are capable of being interpreted as \"intelligent\".\n",
            "company internal platforms interface designers have come to appreciate that humans' readiness to interpret computer output as genuinely conversational—even when it is actually based on rather simple pattern-matching—can be exploited for useful purposes.\n",
            "most people prefer to engage with programs that are human-like, and this gives chatbot-style techniques a potentially useful role in interactive systems that need to elicit information from users, as long as that information is relatively straightforward and falls into predictable categories.\n",
            "thus, for example, online help systems can usefully employ chatbot techniques to identify the area of help that users require, potentially providing a \"friendlier\" interface than a more formal search or menu system.\n",
            "this sort of usage holds the prospect of moving chatbot technology from weizenbaum's \"shelf ... reserved for curios\" to that marked \"genuinely useful computational methods\".\n",
            "customer service among the most notable early chatbots are eliza (1966) and parry (1972).\n",
            "more recent notable programs include a.l.i.c.e., jabberwacky and d.u.d.e (agence nationale de la recherche and cnrs 2006).\n",
            "while eliza and parry were used exclusively to simulate typed conversation, many chatbots now include other functional features, such as games and web searching abilities.\n",
            "in 1984, a book called the policeman's beard is half constructed was published, allegedly written by the chatbot racter (though the program as released would not have been capable of doing so).\n",
            "healthcare from 1978 to some time after 1983, the cyrus project led by janet kolodner constructed a chatbot simulating cyrus vance (57th united states secretary of state).\n",
            "it used case-based reasoning, and updated its database daily by parsing wire news from united press international.\n",
            "the program was unable to process the news items subsequent to the surprise resignation of cyrus vance in april 1980, and the team constructed another chatbot simulating his successor, edmund muskie.\n",
            "politics one pertinent field of ai research is natural-language processing.\n",
            "usually, weak ai fields employ specialized software or programming languages created specifically for the narrow function required.\n",
            "for example, a.l.i.c.e.\n",
            "uses a markup language called aiml, which is specific to its function as a conversational agent, and has since been adopted by various other developers of, so-called, alicebots.\n",
            "nevertheless, a.l.i.c.e.\n",
            "is still purely based on pattern matching techniques without any reasoning capabilities, the same technique eliza was using back in 1966. this is not strong ai, which would require sapience and logical reasoning abilities.\n",
            "toys jabberwacky learns new responses and context based on real-time user interactions, rather than being driven from a static database.\n",
            "some more recent chatbots also combine real-time learning with evolutionary algorithms that optimize their ability to communicate based on each conversation held.\n",
            "still, there is currently no general purpose conversational artificial intelligence, and some software developers focus on the practical aspect, information retrieval.\n",
            "malicious use chatbot competitions focus on the turing test or more specific goals.\n",
            "two such annual contests are the loebner prize and the chatterbox challenge (the latter has been offline since 2015, however, materials can still be found from web archives).\n",
            "limitations of chatbots chatbots may use neural networks as a language model.\n",
            "for example, generative pre-trained transformers (gpt), which use the transformer architecture, have become common to build sophisticated chatbots.\n",
            "the \"pre-training\" in its name refers to the initial training process on a large text corpus, which provides a solid foundation for the model to perform well on downstream tasks with limited amounts of task-specific data.\n",
            "an example of a gpt chatbot is chatgpt.\n",
            "despite criticism of its accuracy, chatgpt has gained attention for its detailed responses and historical knowledge.\n",
            "another example is biogpt, developed by microsoft, which focuses on answering biomedical questions.\n",
            "chatbots and jobs dbpedia created a chatbot during the gsoc of 2017. it can communicate through facebook messenger.\n",
            "see also many companies' chatbots run on messaging apps or simply via sms.\n",
            "they are used for b2c customer service, sales and marketing.\n",
            "references in 2016, facebook messenger allowed developers to place chatbots on their platform.\n",
            "there were 30,000 bots created for messenger in the first six months, rising to 100,000 by september 2017. further reading since september 2017, this has also been as part of a pilot program on whatsapp.\n",
            "airlines klm and aeroméxico both announced their participation in the testing; both airlines had previously launched customer services on the facebook messenger platform.\n"
          ]
        }
      ],
      "source": [
        "#your code here\n",
        "print(*tokens, sep = \"\\n\")"
      ]
    },
    {
      "cell_type": "markdown",
      "metadata": {
        "id": "42eKVt_D05p4"
      },
      "source": [
        "### Word tokenization\n",
        "\n",
        "We will use the funtion .word_tokenizer to convert sentences into a list of words."
      ]
    },
    {
      "cell_type": "code",
      "execution_count": 81,
      "metadata": {
        "colab": {
          "base_uri": "https://localhost:8080/"
        },
        "id": "OjMHzG6m05p4",
        "outputId": "dd0b22d8-8ac8-4db4-f1bc-63acd6a84b3d"
      },
      "outputs": [
        {
          "output_type": "stream",
          "name": "stdout",
          "text": [
            "['ware', 'application', 'or', 'web', 'interface', 'that', 'aims', 'to', 'mimic', 'human', 'conversation', 'through', 'text', 'or', 'voice', 'interactions', '.', 'modern', 'chatbots', 'are', 'typically', 'online', 'and', 'use', 'artificial', 'intelligence', '(', 'ai', ')', 'systems', 'that', 'are', 'capable', 'of', 'maintaining', 'a', 'conversation', 'with', 'a', 'user', 'in', 'natural', 'language', 'and', 'simulating', 'the', 'way', 'a', 'human', 'would', 'behave', 'as', 'a', 'conversational', 'partner', '.', 'such', 'technologies', 'often', 'utilize', 'aspects', 'of', 'deep', 'learning', 'and', 'natural', 'language', 'processing', ',', 'but', 'more', 'simplistic', 'chatbots', 'have', 'been', 'around', 'for', 'decades', 'prior', '.', 'development', 'recently', ',', 'this', 'field', 'has', 'gained', 'widespread', 'attention', 'due', 'to', 'the', 'popularity', 'of', 'openai', \"'s\", 'chatgpt', '(', 'using', 'gpt-3', 'or', 'gpt-4', ')', ',', 'released', 'in', '2022', ',', 'followed', 'by', 'alternatives', 'such', 'as', 'microsoft', \"'s\", 'bing', 'chat', '(', 'which', 'uses', 'openai', \"'s\", 'gpt-4', ')', 'and', 'google', \"'s\", 'bard', '.', 'such', 'examples', 'reflect', 'the', 'recent', 'practice', 'of', 'such', 'products', 'being', 'built', 'based', 'upon', 'broad', 'foundational', 'large', 'language', 'models', 'that', 'get', 'fine-tuned', 'so', 'as', 'to', 'target', 'specific', 'tasks', 'or', 'applications', '(', 'i.e', '.', 'simulating', 'human', 'conversation', ',', 'in', 'the', 'case', 'of', 'chatbots', ')', '.', 'chatbots', 'can', 'also', 'be', 'designed', 'or', 'customized', 'to', 'further', 'target', 'even', 'more', 'specific', 'situations', 'and/or', 'particular', 'subject-matter', 'domains', '.', 'application', 'a', 'major', 'area', 'where', 'chatbots', 'have', 'long', 'been', 'used', 'is', 'in', 'customer', 'service', 'and', 'support', ',', 'such', 'as', 'with', 'various', 'sorts', 'of', 'virtual', 'assistants', '.', 'companies', 'spanning', 'various', 'industries', 'have', 'begun', 'using', 'the', 'latest', 'generative', 'artificial', 'intelligence', 'technologies', 'to', 'power', 'more', 'advanced', 'developments', 'in', 'such', 'areas', '.', 'messaging', 'apps', 'in', '1950', ',', 'alan', 'turing', \"'s\", 'famous', 'article', '``', 'computing', 'machinery', 'and', 'intelligence', \"''\", 'was', 'published', ',', 'which', 'proposed', 'what', 'is', 'now', 'called', 'the', 'turing', 'test', 'as', 'a', 'criterion', 'of', 'intelligence', '.', 'this', 'criterion', 'depends', 'on', 'the', 'ability', 'of', 'a', 'computer', 'program', 'to', 'impersonate', 'a', 'human', 'in', 'a', 'real-time', 'written', 'conversation', 'with', 'a', 'human', 'judge', 'to', 'the', 'extent', 'that', 'the', 'judge', 'is', 'unable', 'to', 'distinguish', 'reliably—on', 'the', 'basis', 'of', 'the', 'conversational', 'content', 'alone—between', 'the', 'program', 'and', 'a', 'real', 'human', '.', 'the', 'notoriety', 'of', 'turing', \"'s\", 'proposed', 'test', 'stimulated', 'great', 'interest', 'in', 'joseph', 'weizenbaum', \"'s\", 'program', 'eliza', ',', 'published', 'in', '1966', ',', 'which', 'seemed', 'to', 'be', 'able', 'to', 'fool', 'users', 'into', 'believing', 'that', 'they', 'were', 'conversing', 'with', 'a', 'real', 'human', '.', 'however', 'weizenbaum', 'himself', 'did', 'not', 'claim', 'that', 'eliza', 'was', 'genuinely', 'intelligent', ',', 'and', 'the', 'introduction', 'to', 'his', 'paper', 'presented', 'it', 'more', 'as', 'a', 'debunking', 'exercise', ':', 'as', 'part', 'of', 'company', 'apps', 'and', 'websites', 'in', 'artificial', 'intelligence', ',', 'machines', 'are', 'made', 'to', 'behave', 'in', 'wondrous', 'ways', ',', 'often', 'sufficient', 'to', 'dazzle', 'even', 'the', 'most', 'experienced', 'observer', '.', 'but', 'once', 'a', 'particular', 'program', 'is', 'unmasked', ',', 'once', 'its', 'inner', 'workings', 'are', 'explained', ',', 'its', 'magic', 'crumbles', 'away', ';', 'it', 'stands', 'revealed', 'as', 'a', 'mere', 'collection', 'of', 'procedures', '.', 'the', 'observer', 'says', 'to', 'himself', '``', 'i', 'could', 'have', 'written', 'that', \"''\", '.', 'with', 'that', 'thought', ',', 'he', 'moves', 'the', 'program', 'in', 'question', 'from', 'the', 'shelf', 'marked', '``', 'intelligent', \"''\", ',', 'to', 'that', 'reserved', 'for', 'curios', '.', 'the', 'object', 'of', 'this', 'paper', 'is', 'to', 'cause', 'just', 'such', 'a', 're-evaluation', 'of', 'the', 'program', 'about', 'to', 'be', '``', 'explained', \"''\", '.', 'few', 'programs', 'ever', 'needed', 'it', 'more', '.', 'chatbot', 'sequences', 'eliza', \"'s\", 'key', 'method', 'of', 'operation', '(', 'copied', 'by', 'chatbot', 'designers', 'ever', 'since', ')', 'involves', 'the', 'recognition', 'of', 'clue', 'words', 'or', 'phrases', 'in', 'the', 'input', ',', 'and', 'the', 'output', 'of', 'the', 'corresponding', 'pre-prepared', 'or', 'pre-programmed', 'responses', 'that', 'can', 'move', 'the', 'conversation', 'forward', 'in', 'an', 'apparently', 'meaningful', 'way', '(', 'e.g', '.', 'by', 'responding', 'to', 'any', 'input', 'that', 'contains', 'the', 'word', \"'mother\", \"'\", 'with', \"'tell\", 'me', 'more', 'about', 'your', 'family', \"'\", ')', '.', 'thus', 'an', 'illusion', 'of', 'understanding', 'is', 'generated', ',', 'even', 'though', 'the', 'processing', 'involved', 'has', 'been', 'merely', 'superficial', '.', 'eliza', 'showed', 'that', 'such', 'an', 'illusion', 'is', 'surprisingly', 'easy', 'to', 'generate', 'because', 'human', 'judges', 'are', 'so', 'ready', 'to', 'give', 'the', 'benefit', 'of', 'the', 'doubt', 'when', 'conversational', 'responses', 'are', 'capable', 'of', 'being', 'interpreted', 'as', '``', 'intelligent', \"''\", '.', 'company', 'internal', 'platforms', 'interface', 'designers', 'have', 'come', 'to', 'appreciate', 'that', 'humans', \"'\", 'readiness', 'to', 'interpret', 'computer', 'output', 'as', 'genuinely', 'conversational—even', 'when', 'it', 'is', 'actually', 'based', 'on', 'rather', 'simple', 'pattern-matching—can', 'be', 'exploited', 'for', 'useful', 'purposes', '.', 'most', 'people', 'prefer', 'to', 'engage', 'with', 'programs', 'that', 'are', 'human-like', ',', 'and', 'this', 'gives', 'chatbot-style', 'techniques', 'a', 'potentially', 'useful', 'role', 'in', 'interactive', 'systems', 'that', 'need', 'to', 'elicit', 'information', 'from', 'users', ',', 'as', 'long', 'as', 'that', 'information', 'is', 'relatively', 'straightforward', 'and', 'falls', 'into', 'predictable', 'categories', '.', 'thus', ',', 'for', 'example', ',', 'online', 'help', 'systems', 'can', 'usefully', 'employ', 'chatbot', 'techniques', 'to', 'identify', 'the', 'area', 'of', 'help', 'that', 'users', 'require', ',', 'potentially', 'providing', 'a', '``', 'friendlier', \"''\", 'interface', 'than', 'a', 'more', 'formal', 'search', 'or', 'menu', 'system', '.', 'this', 'sort', 'of', 'usage', 'holds', 'the', 'prospect', 'of', 'moving', 'chatbot', 'technology', 'from', 'weizenbaum', \"'s\", '``', 'shelf', '...', 'reserved', 'for', 'curios', \"''\", 'to', 'that', 'marked', '``', 'genuinely', 'useful', 'computational', 'methods', \"''\", '.', 'customer', 'service', 'among', 'the', 'most', 'notable', 'early', 'chatbots', 'are', 'eliza', '(', '1966', ')', 'and', 'parry', '(', '1972', ')', '.', 'more', 'recent', 'notable', 'programs', 'include', 'a.l.i.c.e.', ',', 'jabberwacky', 'and', 'd.u.d.e', '(', 'agence', 'nationale', 'de', 'la', 'recherche', 'and', 'cnrs', '2006', ')', '.', 'while', 'eliza', 'and', 'parry', 'were', 'used', 'exclusively', 'to', 'simulate', 'typed', 'conversation', ',', 'many', 'chatbots', 'now', 'include', 'other', 'functional', 'features', ',', 'such', 'as', 'games', 'and', 'web', 'searching', 'abilities', '.', 'in', '1984', ',', 'a', 'book', 'called', 'the', 'policeman', \"'s\", 'beard', 'is', 'half', 'constructed', 'was', 'published', ',', 'allegedly', 'written', 'by', 'the', 'chatbot', 'racter', '(', 'though', 'the', 'program', 'as', 'released', 'would', 'not', 'have', 'been', 'capable', 'of', 'doing', 'so', ')', '.', 'healthcare', 'from', '1978', 'to', 'some', 'time', 'after', '1983', ',', 'the', 'cyrus', 'project', 'led', 'by', 'janet', 'kolodner', 'constructed', 'a', 'chatbot', 'simulating', 'cyrus', 'vance', '(', '57th', 'united', 'states', 'secretary', 'of', 'state', ')', '.', 'it', 'used', 'case-based', 'reasoning', ',', 'and', 'updated', 'its', 'database', 'daily', 'by', 'parsing', 'wire', 'news', 'from', 'united', 'press', 'international', '.', 'the', 'program', 'was', 'unable', 'to', 'process', 'the', 'news', 'items', 'subsequent', 'to', 'the', 'surprise', 'resignation', 'of', 'cyrus', 'vance', 'in', 'april', '1980', ',', 'and', 'the', 'team', 'constructed', 'another', 'chatbot', 'simulating', 'his', 'successor', ',', 'edmund', 'muskie', '.', 'politics', 'one', 'pertinent', 'field', 'of', 'ai', 'research', 'is', 'natural-language', 'processing', '.', 'usually', ',', 'weak', 'ai', 'fields', 'employ', 'specialized', 'software', 'or', 'programming', 'languages', 'created', 'specifically', 'for', 'the', 'narrow', 'function', 'required', '.', 'for', 'example', ',', 'a.l.i.c.e', '.', 'uses', 'a', 'markup', 'language', 'called', 'aiml', ',', 'which', 'is', 'specific', 'to', 'its', 'function', 'as', 'a', 'conversational', 'agent', ',', 'and', 'has', 'since', 'been', 'adopted', 'by', 'various', 'other', 'developers', 'of', ',', 'so-called', ',', 'alicebots', '.', 'nevertheless', ',', 'a.l.i.c.e', '.', 'is', 'still', 'purely', 'based', 'on', 'pattern', 'matching', 'techniques', 'without', 'any', 'reasoning', 'capabilities', ',', 'the', 'same', 'technique', 'eliza', 'was', 'using', 'back', 'in', '1966.', 'this', 'is', 'not', 'strong', 'ai', ',', 'which', 'would', 'require', 'sapience', 'and', 'logical', 'reasoning', 'abilities', '.', 'toys', 'jabberwacky', 'learns', 'new', 'responses', 'and', 'context', 'based', 'on', 'real-time', 'user', 'interactions', ',', 'rather', 'than', 'being', 'driven', 'from', 'a', 'static', 'database', '.', 'some', 'more', 'recent', 'chatbots', 'also', 'combine', 'real-time', 'learning', 'with', 'evolutionary', 'algorithms', 'that', 'optimize', 'their', 'ability', 'to', 'communicate', 'based', 'on', 'each', 'conversation', 'held', '.', 'still', ',', 'there', 'is', 'currently', 'no', 'general', 'purpose', 'conversational', 'artificial', 'intelligence', ',', 'and', 'some', 'software', 'developers', 'focus', 'on', 'the', 'practical', 'aspect', ',', 'information', 'retrieval', '.', 'malicious', 'use', 'chatbot', 'competitions', 'focus', 'on', 'the', 'turing', 'test', 'or', 'more', 'specific', 'goals', '.', 'two', 'such', 'annual', 'contests', 'are', 'the', 'loebner', 'prize', 'and', 'the', 'chatterbox', 'challenge', '(', 'the', 'latter', 'has', 'been', 'offline', 'since', '2015', ',', 'however', ',', 'materials', 'can', 'still', 'be', 'found', 'from', 'web', 'archives', ')', '.', 'limitations', 'of', 'chatbots', 'chatbots', 'may', 'use', 'neural', 'networks', 'as', 'a', 'language', 'model', '.', 'for', 'example', ',', 'generative', 'pre-trained', 'transformers', '(', 'gpt', ')', ',', 'which', 'use', 'the', 'transformer', 'architecture', ',', 'have', 'become', 'common', 'to', 'build', 'sophisticated', 'chatbots', '.', 'the', '``', 'pre-training', \"''\", 'in', 'its', 'name', 'refers', 'to', 'the', 'initial', 'training', 'process', 'on', 'a', 'large', 'text', 'corpus', ',', 'which', 'provides', 'a', 'solid', 'foundation', 'for', 'the', 'model', 'to', 'perform', 'well', 'on', 'downstream', 'tasks', 'with', 'limited', 'amounts', 'of', 'task-specific', 'data', '.', 'an', 'example', 'of', 'a', 'gpt', 'chatbot', 'is', 'chatgpt', '.', 'despite', 'criticism', 'of', 'its', 'accuracy', ',', 'chatgpt', 'has', 'gained', 'attention', 'for', 'its', 'detailed', 'responses', 'and', 'historical', 'knowledge', '.', 'another', 'example', 'is', 'biogpt', ',', 'developed', 'by', 'microsoft', ',', 'which', 'focuses', 'on', 'answering', 'biomedical', 'questions', '.', 'chatbots', 'and', 'jobs', 'dbpedia', 'created', 'a', 'chatbot', 'during', 'the', 'gsoc', 'of', '2017.', 'it', 'can', 'communicate', 'through', 'facebook', 'messenger', '.', 'see', 'also', 'many', 'companies', \"'\", 'chatbots', 'run', 'on', 'messaging', 'apps', 'or', 'simply', 'via', 'sms', '.', 'they', 'are', 'used', 'for', 'b2c', 'customer', 'service', ',', 'sales', 'and', 'marketing', '.', 'references', 'in', '2016', ',', 'facebook', 'messenger', 'allowed', 'developers', 'to', 'place', 'chatbots', 'on', 'their', 'platform', '.', 'there', 'were', '30,000', 'bots', 'created', 'for', 'messenger', 'in', 'the', 'first', 'six', 'months', ',', 'rising', 'to', '100,000', 'by', 'september', '2017.', 'further', 'reading', 'since', 'september', '2017', ',', 'this', 'has', 'also', 'been', 'as', 'part', 'of', 'a', 'pilot', 'program', 'on', 'whatsapp', '.', 'airlines', 'klm', 'and', 'aeroméxico', 'both', 'announced', 'their', 'participation', 'in', 'the', 'testing', ';', 'both', 'airlines', 'had', 'previously', 'launched', 'customer', 'services', 'on', 'the', 'facebook', 'messenger', 'platform', '.']\n"
          ]
        }
      ],
      "source": [
        "#your code here\n",
        "words = nltk.word_tokenize(raw_data)\n",
        "print(words)"
      ]
    },
    {
      "cell_type": "markdown",
      "metadata": {
        "id": "KwNcPdL_05p4"
      },
      "source": [
        "Now we have our tokens!\n",
        "\n",
        "It is useful to inspect our tokens to make sure they look as expected, and to make sure that we have enough information to train our chatbot. Each sentence token can be considered one piece of knowledge as they provide a single piece of information about your knowledge base. The size of your knowledge base will determine how capable your chatbot will be.\n",
        "\n",
        "The code to print the lengths of your sentence and word tokens are below."
      ]
    },
    {
      "cell_type": "code",
      "execution_count": 82,
      "metadata": {
        "colab": {
          "base_uri": "https://localhost:8080/"
        },
        "id": "balHaEcq05p5",
        "outputId": "cb54f663-a716-4882-b20f-b1264a9c0b11"
      },
      "outputs": [
        {
          "output_type": "stream",
          "name": "stdout",
          "text": [
            "56 1451\n"
          ]
        }
      ],
      "source": [
        "# Use this to check the size of your knowledge base. There should be at least 150 sentence tokens, and if possible, up to 1000\n",
        "# to provide enough context for your chatbot.\n",
        "\n",
        "#your code here\n",
        "print(len(tokens), len(words))"
      ]
    },
    {
      "cell_type": "markdown",
      "metadata": {
        "id": "3CQQnzUq05p5"
      },
      "source": [
        "Great job! we now have an idea of the amount of information passed to our chatbot. If you find that you do not have enough sentence tokens, this is the time to go back out and search for more information!  \n",
        "  \n",
        "### Lemmatization\n",
        "\n",
        "We will lemmatize our word tokens using the WordNetLemmatizer that we have downloaded."
      ]
    },
    {
      "cell_type": "code",
      "execution_count": 83,
      "metadata": {
        "id": "5oZD3F3y05p5"
      },
      "outputs": [],
      "source": [
        "lemmer = nltk.stem.WordNetLemmatizer() #Initiate lemmer class. WordNet is a semantically-oriented dictionary of English included in NLTK.\n",
        "def LemTokens(tokens):\n",
        "    return [lemmer.lemmatize(token) for token in tokens]"
      ]
    },
    {
      "cell_type": "markdown",
      "metadata": {
        "id": "_17ka7Zl05p5"
      },
      "source": [
        "### Normalization\n",
        "\n",
        "We also write functions to remove punctuation since that will not be useful for our knowledge base."
      ]
    },
    {
      "cell_type": "code",
      "execution_count": 84,
      "metadata": {
        "id": "WpvomD1v05p6"
      },
      "outputs": [],
      "source": [
        "remove_punct_dict = dict((ord(punct), None) for punct in string.punctuation)\n",
        "def LemNormalize(text):\n",
        "    return LemTokens(nltk.word_tokenize(text.lower().translate(remove_punct_dict))) #see previous section 1.2.5 lemmatization"
      ]
    },
    {
      "cell_type": "markdown",
      "metadata": {
        "id": "obgr1M4G05p6"
      },
      "source": [
        "Time to see how these functions work! call the function on the following sentence and print the output. What has our function done to the test sentence?"
      ]
    },
    {
      "cell_type": "code",
      "execution_count": 85,
      "metadata": {
        "colab": {
          "base_uri": "https://localhost:8080/"
        },
        "id": "mdzVEMoC05p6",
        "outputId": "97d6f218-5006-4c36-af81-0939cffb2039"
      },
      "outputs": [
        {
          "output_type": "execute_result",
          "data": {
            "text/plain": [
              "['Today',\n",
              " 'wa',\n",
              " 'a',\n",
              " 'wonderful',\n",
              " 'day',\n",
              " '.',\n",
              " 'The',\n",
              " 'sun',\n",
              " 'wa',\n",
              " 'shining',\n",
              " 'so',\n",
              " 'brightly',\n",
              " 'and',\n",
              " 'the',\n",
              " 'bird',\n",
              " 'were',\n",
              " 'chirping',\n",
              " 'loudly',\n",
              " '!']"
            ]
          },
          "metadata": {},
          "execution_count": 85
        }
      ],
      "source": [
        "test_sentence='Today was a wonderful day. The sun was shining so brightly and the birds were chirping loudly!'\n",
        "test_word_tokens = nltk.word_tokenize(test_sentence)# converts documents to list of words\n",
        "\n",
        "lemmer = nltk.stem.WordNetLemmatizer()\n",
        "def LemTokens(tokens):\n",
        "    return [lemmer.lemmatize(token) for token in tokens]\n",
        "\n",
        "LemTokens(test_word_tokens)"
      ]
    },
    {
      "cell_type": "markdown",
      "metadata": {
        "id": "5Iw2mU5605p6"
      },
      "source": [
        "## 2. Matching topics with cosine similarity\n",
        "\n",
        "Congratulations, you have now converted your knowledge database from text into sentences and tokens! Do you remember what is the next step after this? Computers are good at processing numbers, and therefore, we will next convert our tokens into numbers!\n",
        "\n",
        "To do so, we will revisit the bag of words and tf-idf from acquire stage and experience 2.\n",
        "\n",
        "How does having our document vector help us to create our chatbot?  \n",
        "\n",
        "**How would computer finds similarity?**\n",
        "\n",
        "Suppose you want to create a chatbot that can read your input, 'considers' what your input is talking about, and then respond with something that makes the most sense. One of the most common ways is by taking the question, and looking for information within the dataset that is very similar to our question. For example, if the questions contains the phrase 'computer failure', we will assume that the answer lies in sentences that contains words similar to 'computer failure' like 'computer crash', or 'hardware failure'.\n",
        "\n",
        "**What is [cosine similarity](https://en.wikipedia.org/wiki/Cosine_similarity)?**\n",
        "\n",
        "Remember that we will convert our dataset into document vectors? cosine similarity allows us to find similar vectors, and these vectors will be assumed to be similar in meaning.\n",
        "\n",
        "**Let us work through an example below!**\n",
        "\n",
        "**Dataset**\n",
        "\n",
        "Here, we have 3 sentences. The first 2 are our mini knowledge base, while the third one is our sample question. We will process them into document vectors, and then use cosine similarity to see which one of the knowledge base can give us better answer to the question!"
      ]
    },
    {
      "cell_type": "code",
      "execution_count": 86,
      "metadata": {
        "id": "HBD2-jyB05p7"
      },
      "outputs": [],
      "source": [
        "# Let us take two sentences to be the knowledge base, and one more which is a question.\n",
        "Sentence_1='John is my father'\n",
        "Sentence_2='Jane is my mother'\n",
        "Question='who is my father'"
      ]
    },
    {
      "cell_type": "markdown",
      "metadata": {
        "id": "zV5hrj1F05p7"
      },
      "source": [
        "### Vocabulary\n",
        "\n",
        "The vocabulary is a list of all the words that exist in our sentence and questions.   \n",
        "\n",
        "**Task: List down the vocabulary included in the dataset**"
      ]
    },
    {
      "cell_type": "code",
      "execution_count": 87,
      "metadata": {
        "id": "TJ0kttKL05p7"
      },
      "outputs": [],
      "source": [
        "Vocabulary = ['John', 'is', 'my', 'father', 'Jane', 'mother', 'who']"
      ]
    },
    {
      "cell_type": "markdown",
      "metadata": {
        "id": "H1n0n3E805p7"
      },
      "source": [
        "### Bag of words\n",
        "\n",
        "How would we put this into a bag of words?\n",
        "\n",
        "**Task: Construct an array to represent the information from the two sentences above using a bag of words technique**\n",
        "\n",
        "Hint 1: The array should be of size (3,7), and each number within the array is either 0 or 1 to indicate the presence of that word in the row.  \n",
        "Hint 2: An array is constructed using the function array_name = np.array([[row 1],[row 2],[row 3]])"
      ]
    },
    {
      "cell_type": "code",
      "execution_count": 36,
      "metadata": {
        "colab": {
          "base_uri": "https://localhost:8080/"
        },
        "id": "yCWtsmul05p7",
        "outputId": "cc07efe3-3cef-4dd4-a959-c301a73a1843"
      },
      "outputs": [
        {
          "output_type": "stream",
          "name": "stdout",
          "text": [
            "ware application or web interface that aims to mimic human conversation through text or voice interactions. modern chatbots are typically online and use artificial intelligence (ai) systems that are capable of maintaining a conversation with a user in natural language and simulating the way a human would behave as a conversational partner. such technologies often utilize aspects of deep learning and natural language processing, but more simplistic chatbots have been around for decades prior. development recently, this field has gained widespread attention due to the popularity of openai's chatgpt (using gpt-3 or gpt-4), released in 2022, followed by alternatives such as microsoft's bing chat (which uses openai's gpt-4) and google's bard. such examples reflect the recent practice of such products being built based upon broad foundational large language models that get fine-tuned so as to target specific tasks or applications (i.e. simulating human conversation, in the case of chatbots). chatbots can also be designed or customized to further target even more specific situations and/or particular subject-matter domains. application a major area where chatbots have long been used is in customer service and support, such as with various sorts of virtual assistants. companies spanning various industries have begun using the latest generative artificial intelligence technologies to power more advanced developments in such areas. messaging apps in 1950, alan turing's famous article \"computing machinery and intelligence\" was published, which proposed what is now called the turing test as a criterion of intelligence. this criterion depends on the ability of a computer program to impersonate a human in a real-time written conversation with a human judge to the extent that the judge is unable to distinguish reliably—on the basis of the conversational content alone—between the program and a real human. the notoriety of turing's proposed test stimulated great interest in joseph weizenbaum's program eliza, published in 1966, which seemed to be able to fool users into believing that they were conversing with a real human. however weizenbaum himself did not claim that eliza was genuinely intelligent, and the introduction to his paper presented it more as a debunking exercise: as part of company apps and websites in artificial intelligence, machines are made to behave in wondrous ways, often sufficient to dazzle even the most experienced observer. but once a particular program is unmasked, once its inner workings are explained, its magic crumbles away; it stands revealed as a mere collection of procedures. the observer says to himself \"i could have written that\". with that thought, he moves the program in question from the shelf marked \"intelligent\", to that reserved for curios. the object of this paper is to cause just such a re-evaluation of the program about to be \"explained\". few programs ever needed it more. chatbot sequences eliza's key method of operation (copied by chatbot designers ever since) involves the recognition of clue words or phrases in the input, and the output of the corresponding pre-prepared or pre-programmed responses that can move the conversation forward in an apparently meaningful way (e.g. by responding to any input that contains the word 'mother' with 'tell me more about your family'). thus an illusion of understanding is generated, even though the processing involved has been merely superficial. eliza showed that such an illusion is surprisingly easy to generate because human judges are so ready to give the benefit of the doubt when conversational responses are capable of being interpreted as \"intelligent\". company internal platforms interface designers have come to appreciate that humans' readiness to interpret computer output as genuinely conversational—even when it is actually based on rather simple pattern-matching—can be exploited for useful purposes. most people prefer to engage with programs that are human-like, and this gives chatbot-style techniques a potentially useful role in interactive systems that need to elicit information from users, as long as that information is relatively straightforward and falls into predictable categories. thus, for example, online help systems can usefully employ chatbot techniques to identify the area of help that users require, potentially providing a \"friendlier\" interface than a more formal search or menu system. this sort of usage holds the prospect of moving chatbot technology from weizenbaum's \"shelf ... reserved for curios\" to that marked \"genuinely useful computational methods\". customer service among the most notable early chatbots are eliza (1966) and parry (1972). more recent notable programs include a.l.i.c.e., jabberwacky and d.u.d.e (agence nationale de la recherche and cnrs 2006). while eliza and parry were used exclusively to simulate typed conversation, many chatbots now include other functional features, such as games and web searching abilities. in 1984, a book called the policeman's beard is half constructed was published, allegedly written by the chatbot racter (though the program as released would not have been capable of doing so). healthcare from 1978 to some time after 1983, the cyrus project led by janet kolodner constructed a chatbot simulating cyrus vance (57th united states secretary of state). it used case-based reasoning, and updated its database daily by parsing wire news from united press international. the program was unable to process the news items subsequent to the surprise resignation of cyrus vance in april 1980, and the team constructed another chatbot simulating his successor, edmund muskie. politics one pertinent field of ai research is natural-language processing. usually, weak ai fields employ specialized software or programming languages created specifically for the narrow function required. for example, a.l.i.c.e. uses a markup language called aiml, which is specific to its function as a conversational agent, and has since been adopted by various other developers of, so-called, alicebots. nevertheless, a.l.i.c.e. is still purely based on pattern matching techniques without any reasoning capabilities, the same technique eliza was using back in 1966. this is not strong ai, which would require sapience and logical reasoning abilities. toys jabberwacky learns new responses and context based on real-time user interactions, rather than being driven from a static database. some more recent chatbots also combine real-time learning with evolutionary algorithms that optimize their ability to communicate based on each conversation held. still, there is currently no general purpose conversational artificial intelligence, and some software developers focus on the practical aspect, information retrieval. malicious use chatbot competitions focus on the turing test or more specific goals. two such annual contests are the loebner prize and the chatterbox challenge (the latter has been offline since 2015, however, materials can still be found from web archives). limitations of chatbots chatbots may use neural networks as a language model. for example, generative pre-trained transformers (gpt), which use the transformer architecture, have become common to build sophisticated chatbots. the \"pre-training\" in its name refers to the initial training process on a large text corpus, which provides a solid foundation for the model to perform well on downstream tasks with limited amounts of task-specific data. an example of a gpt chatbot is chatgpt. despite criticism of its accuracy, chatgpt has gained attention for its detailed responses and historical knowledge. another example is biogpt, developed by microsoft, which focuses on answering biomedical questions. chatbots and jobs dbpedia created a chatbot during the gsoc of 2017. it can communicate through facebook messenger. see also many companies' chatbots run on messaging apps or simply via sms. they are used for b2c customer service, sales and marketing. references in 2016, facebook messenger allowed developers to place chatbots on their platform. there were 30,000 bots created for messenger in the first six months, rising to 100,000 by september 2017. further reading since september 2017, this has also been as part of a pilot program on whatsapp. airlines klm and aeroméxico both announced their participation in the testing; both airlines had previously launched customer services on the facebook messenger platform.\n"
          ]
        }
      ],
      "source": [
        "# bag_of_words = # your code here\n",
        "vocab = text.lower()\n",
        "print(vocab)"
      ]
    },
    {
      "cell_type": "markdown",
      "metadata": {
        "id": "y4GWTBpu05p8"
      },
      "source": [
        "In your bag of words, the first 2 rows encode all your knowledge that is contained in sentence 1 and sentence 2. The third row encodes your question.  \n",
        "To find the piece of knowledge closest to your question, we simply look for the sentence with the highest cosine similarity to your question.  \n",
        "\n",
        "**Finding cosine similarity**\n",
        "\n",
        "Remember at the beginning of the exercise when we imported all our libraries? One of the libraries was called `from sklearn.metrics.pairwise import cosine_similarity`. The cosine_similarity function allows us to compare sentences. Imagine each sentence as a vector, which is a line pointing in some direction. Cosine similarity calculates the angles between each line and the more similar two lines are, the smaller their angle, and the higher their cosine similarity.  \n",
        "  \n",
        "Let us calculate the cosine similarities between each piece of information in our knowledge base, and the question. Remember the first row of our array corresponds to sentence 1, and the second row corresponds to sentence 2. Let us see which sentence has a higher cosine similarity to the question!\n",
        "\n",
        "**Task: Use indexing function to select only the top 2 rows of bag of words**"
      ]
    },
    {
      "cell_type": "code",
      "execution_count": null,
      "metadata": {
        "id": "4Gr5FUq905p8",
        "outputId": "acf8ad46-6a74-4c5c-cdfd-ee2b62c19e52"
      },
      "outputs": [
        {
          "data": {
            "text/plain": [
              "array([[1, 1, 1, 1, 0, 0, 0],\n",
              "       [0, 1, 1, 0, 1, 1, 0]])"
            ]
          },
          "execution_count": 17,
          "metadata": {},
          "output_type": "execute_result"
        }
      ],
      "source": [
        "bag_of_words[#your code herfe]"
      ]
    },
    {
      "cell_type": "markdown",
      "metadata": {
        "id": "idGJqPvQ05p8"
      },
      "source": [
        "Great, you have your database selected, now we want to list the question which is at the last row of the variable bag_of_words:"
      ]
    },
    {
      "cell_type": "code",
      "execution_count": null,
      "metadata": {
        "id": "tmSj-OBY05p8"
      },
      "outputs": [],
      "source": [
        "print (bag_of_words[-1,:].reshape(1, -1))"
      ]
    },
    {
      "cell_type": "code",
      "execution_count": null,
      "metadata": {
        "scrolled": true,
        "id": "K7A2yTYW05p9",
        "outputId": "17f91a7e-0483-4caf-c8fa-d113513bd653"
      },
      "outputs": [
        {
          "name": "stdout",
          "output_type": "stream",
          "text": [
            "[[0 1 1 1 0 0 1]]\n",
            "[0 1 1 1 0 0 1]\n"
          ]
        }
      ],
      "source": [
        "print (bag_of_words[-1,:])"
      ]
    },
    {
      "cell_type": "markdown",
      "metadata": {
        "id": "WlA1tmu_05p9"
      },
      "source": [
        "What is the difference between the 2 output above? Try using the lines for the cosine simililarity exercise below"
      ]
    },
    {
      "cell_type": "markdown",
      "metadata": {
        "id": "S-hQXaSx05p9"
      },
      "source": [
        "We are now ready to apply the cosine similarity"
      ]
    },
    {
      "cell_type": "code",
      "execution_count": 1,
      "metadata": {
        "colab": {
          "base_uri": "https://localhost:8080/",
          "height": 144
        },
        "id": "5VTF1DaU05p9",
        "outputId": "8f091381-f182-4141-a1f6-88261ccda4ce"
      },
      "outputs": [
        {
          "output_type": "error",
          "ename": "SyntaxError",
          "evalue": "ignored",
          "traceback": [
            "\u001b[0;36m  File \u001b[0;32m\"<ipython-input-1-b53befe4d25c>\"\u001b[0;36m, line \u001b[0;32m6\u001b[0m\n\u001b[0;31m    cosine_similarity(bag_of_words[:2,:], # your code here)\u001b[0m\n\u001b[0m                                                           ^\u001b[0m\n\u001b[0;31mSyntaxError\u001b[0m\u001b[0;31m:\u001b[0m incomplete input\n"
          ]
        }
      ],
      "source": [
        "# Remember our database\n",
        "# Sentence_1='John is my father'\n",
        "# Sentence_2='Jane is my mother'\n",
        "# Question='who is my father'\n",
        "\n",
        "d # your code here)"
      ]
    },
    {
      "cell_type": "markdown",
      "metadata": {
        "id": "uzrIfdSo05p-"
      },
      "source": [
        "### Now, analyze the result!\n",
        "\n",
        "Which sentence had a higher cosine similarity, and was it the answer you expected?\n",
        "\n",
        "If you got your chatbot to return the sentence with the highest cosine similarity score as the answer, would it have answered the question correctly? That is basically how a chatbot answers questions!  \n",
        "  \n",
        "**Task: Now, can you think of a question which would cause sentence 2 to have a higher cosine similarity? Show us the score!**"
      ]
    },
    {
      "cell_type": "code",
      "execution_count": null,
      "metadata": {
        "id": "wNsu4Ecj05p-",
        "outputId": "cf8065f1-1c6e-46fe-d89f-8d647cf2586e"
      },
      "outputs": [
        {
          "data": {
            "text/plain": [
              "array([[0.5 ],\n",
              "       [0.75]])"
            ]
          },
          "execution_count": 20,
          "metadata": {},
          "output_type": "execute_result"
        }
      ],
      "source": [
        "# Your code here\n",
        "# Suggest an update to the initial sentences and the resulting bag of words.\n",
        "\n",
        "cosine_similarity(bag_of_words[:2,:], bag_of_words[-1,:].reshape(1, -1))"
      ]
    },
    {
      "cell_type": "markdown",
      "metadata": {
        "id": "3cbRzNhU05p-"
      },
      "source": [
        "Congratulations! Now that your chatbot has brains, let us give it a mouth!"
      ]
    },
    {
      "cell_type": "markdown",
      "metadata": {
        "id": "LfE-a8Uv05p-"
      },
      "source": [
        "## 3. Get your chatbot to say its first words\n",
        "\n",
        "### Greetings\n",
        "At the start of every conversation, your chatbot may expect a greeting. These greetings are not a question, but your chatbot should have a reply to the greeting too. We can input some common greetings you expect to receive, and get your chatbot to reply with a random selection of greeting responses.  \n",
        "   \n",
        "Tip: Your chatbot may throw up some warnings. Do not worry about those as long as your chatbot is giving you reasonable answers."
      ]
    },
    {
      "cell_type": "markdown",
      "metadata": {
        "id": "jZnMhbKD05p_"
      },
      "source": [
        "### Create list of inputs and responses\n",
        "\n",
        "Let's first create the list of greetings your chatbot will have"
      ]
    },
    {
      "cell_type": "code",
      "execution_count": 53,
      "metadata": {
        "id": "W7Lrwysd05p_"
      },
      "outputs": [],
      "source": [
        "GREETING_INPUTS = [\"hello\", \"hi\", \"greetings\", \"sup\", \"what's up\",\"hey\", \"hey there\"]\n",
        "GREETING_RESPONSES = [\"hi\", \"hey\", \"*nods*\", \"hi there\", \"hello\", \"I am glad! You are talking to me\"]"
      ]
    },
    {
      "cell_type": "markdown",
      "metadata": {
        "id": "98ANyh8j05qA"
      },
      "source": [
        "**Task: Add some greeting inputs and responses to personalize your chatbot**"
      ]
    },
    {
      "cell_type": "code",
      "execution_count": 31,
      "metadata": {
        "colab": {
          "base_uri": "https://localhost:8080/"
        },
        "id": "0Ib-Wi_M05qA",
        "outputId": "d24e7e4a-b9b4-435f-f1ac-e7ec7e9bd451"
      },
      "outputs": [
        {
          "output_type": "stream",
          "name": "stdout",
          "text": [
            "['hello', 'hi', 'greetings', 'sup', \"what's up\", 'hey', 'hey there', 'howdy']\n",
            "['hi', 'hey', '*nods*', 'hi there', 'hello', 'I am glad! You are talking to me', 'howdy back']\n"
          ]
        }
      ],
      "source": [
        "# Your code here\n",
        "GREETING_INPUTS.append('howdy')\n",
        "GREETING_RESPONSES.append('howdy back')\n",
        "print(GREETING_INPUTS)\n",
        "print(GREETING_RESPONSES)"
      ]
    },
    {
      "cell_type": "markdown",
      "metadata": {
        "id": "Dxbx6jab05qA"
      },
      "source": [
        "### Create function to receive and return greetings"
      ]
    },
    {
      "cell_type": "code",
      "execution_count": 64,
      "metadata": {
        "id": "1mhk2mKp05qA"
      },
      "outputs": [],
      "source": [
        "def greeting(sentence):\n",
        "    for word in sentence.split(): # Looks at each word in your sentence\n",
        "        if word.lower() in GREETING_INPUTS: # checks if the word matches a GREETING_INPUT\n",
        "            return random.choice(GREETING_RESPONSES) # replies with a GREETING_RESPONSE"
      ]
    },
    {
      "cell_type": "markdown",
      "metadata": {
        "id": "oIFxDnqf05qB"
      },
      "source": [
        "Let's test this out! type different types of greetings into the chatbot and see how it responds. Run the greeting a few different times. Do you get the same answer each time?  \n",
        "Hint: pressing ctrl-enter allows you to run the highlighted cell. Holding ctrl and pressing enter multiple times allows you to run the same cell repeatedly."
      ]
    },
    {
      "cell_type": "code",
      "execution_count": 91,
      "metadata": {
        "colab": {
          "base_uri": "https://localhost:8080/",
          "height": 36
        },
        "id": "F0ou-WaN05qB",
        "outputId": "a136e501-4e9c-44c2-c63b-9ff3ed69017f"
      },
      "outputs": [
        {
          "output_type": "execute_result",
          "data": {
            "text/plain": [
              "'I am glad! You are talking to me'"
            ],
            "application/vnd.google.colaboratory.intrinsic+json": {
              "type": "string"
            }
          },
          "metadata": {},
          "execution_count": 91
        }
      ],
      "source": [
        "# Your code here\n",
        "greeting('hi')"
      ]
    },
    {
      "cell_type": "markdown",
      "metadata": {
        "id": "4IUZ9l3K05qB"
      },
      "source": [
        "### Create function to receive questions and return answers\n",
        "\n",
        "Now let us define a function to calculate a response when someone asks the robot a question.\n",
        "\n",
        "The response function:\n",
        "1. Takes in a question\n",
        "2. Uses cosine similarity to find the closest sentence to the question\n",
        "3. Returns that sentence as an answer\n",
        "\n",
        "To prevent the chatbot from returning completely useless answers, we will only return an answer if it has a cosine similarity greater than 0. Otherise, the chatbot will simply say that it does not understand the question.\n",
        "\n",
        "**Note:** The Chatbot is using TFIDF to vectorize our dataset. To learn more about TFIDF click [here](https://www.geeksforgeeks.org/understanding-tf-idf-term-frequency-inverse-document-frequency/)"
      ]
    },
    {
      "cell_type": "code",
      "execution_count": 99,
      "metadata": {
        "id": "GJuXNS3b05qB"
      },
      "outputs": [],
      "source": [
        "def response(user_response):\n",
        "\n",
        "    robo_response='' # initialize a variable to contain string\n",
        "    tokens.append(user_response) #add user response to sent_tokens\n",
        "    TfidfVec = TfidfVectorizer(tokenizer=LemNormalize, stop_words='english')\n",
        "    tfidf = TfidfVec.fit_transform(tokens) #get tfidf value\n",
        "    vals = cosine_similarity(tfidf[-1], tfidf) #get cosine similarity value\n",
        "    idx=vals.argsort()[0][-2]\n",
        "    flat = vals.flatten()\n",
        "    flat.sort() #sort in ascending order\n",
        "    req_tfidf = flat[-2]\n",
        "\n",
        "    if(req_tfidf==0):\n",
        "        robo_response=robo_response+\"I am sorry! I don't understand you\"\n",
        "        return robo_response\n",
        "    else:\n",
        "        robo_response = robo_response+tokens[idx]\n",
        "        return robo_response"
      ]
    },
    {
      "cell_type": "markdown",
      "metadata": {
        "id": "-fiOtv7505qC"
      },
      "source": [
        "### Testing the response function\n",
        "\n",
        "Test the response function. Write some questions into the response() function and inspect the results. Are they close to the answers?\n",
        "\n",
        "If you constantly get the response 'I'm sorry! I don't understand you', you might need to add more information into your knowledge base."
      ]
    },
    {
      "cell_type": "code",
      "execution_count": 100,
      "metadata": {
        "scrolled": true,
        "colab": {
          "base_uri": "https://localhost:8080/",
          "height": 129
        },
        "id": "TAlKEzsN05qC",
        "outputId": "09353e0a-fc60-4dd5-83a5-5a3b3b6cb912"
      },
      "outputs": [
        {
          "output_type": "stream",
          "name": "stderr",
          "text": [
            "/usr/local/lib/python3.10/dist-packages/sklearn/feature_extraction/text.py:528: UserWarning: The parameter 'token_pattern' will not be used since 'tokenizer' is not None'\n",
            "  warnings.warn(\n",
            "/usr/local/lib/python3.10/dist-packages/sklearn/feature_extraction/text.py:409: UserWarning: Your stop_words may be inconsistent with your preprocessing. Tokenizing the stop words generated tokens ['ha', 'le', 'u', 'wa'] not in stop_words.\n",
            "  warnings.warn(\n"
          ]
        },
        {
          "output_type": "execute_result",
          "data": {
            "text/plain": [
              "'limitations of chatbots chatbots may use neural networks as a language model.'"
            ],
            "application/vnd.google.colaboratory.intrinsic+json": {
              "type": "string"
            }
          },
          "metadata": {},
          "execution_count": 100
        }
      ],
      "source": [
        "# Your code here\n",
        "response('What do chatbots do?')"
      ]
    },
    {
      "cell_type": "markdown",
      "metadata": {
        "id": "DBKCgZ9T05qC"
      },
      "source": [
        "### Adding more information into knowledge base\n",
        "\n",
        "You can add more information into your knowledge base either by hand, for specific answers you have, or by searching for and adding more data into the text file!"
      ]
    },
    {
      "cell_type": "markdown",
      "metadata": {
        "id": "I5HuZG1p05qD"
      },
      "source": [
        "## 4. Test your clever chatbot!\n",
        "\n",
        "### Testing your chatbot\n",
        "Now it is time to test your chatbot. This chatbot will be run entirely inside your jupyter notebook. You can train your chatbot to do specific tasks on commands.\n",
        "\n",
        "For instance:\n",
        "1. Saying 'bye' will cause the chatbot to shutdown.\n",
        "2. Giving a response that is one of the greeting phrases will cause the chatbot to give a greeting in return.   "
      ]
    },
    {
      "cell_type": "markdown",
      "metadata": {
        "id": "Q9yiY1BT05qD"
      },
      "source": [
        "You can add more features to your chatbot based on a list of keywords that triggers a certain behavior. For example, you can get your chatbot to tell the time, to tell a joke, or even print pictures.\n",
        "  \n",
        "Your basic chatbot is written below. You can play with it to see how well it can understand questions in your knowledge base. It will not be able to answer questions very well because chatbots require many thousands of sentences which takes many days to train. It should still be able to answer simple questions!  \n",
        "\n",
        "**Adding time features to your chatbot**\n",
        "\n",
        "You will now add more features to your chatbot to improve its capabilities! For a start, add a feature to your chatbot that will allow it to tell you the time if the user inputs 'time'.  \n",
        "Hint: Use a similar template to the greeting function above. You can get the current time by importing datetime and calling datetime.datetime.now()."
      ]
    },
    {
      "cell_type": "code",
      "execution_count": 101,
      "metadata": {
        "colab": {
          "base_uri": "https://localhost:8080/",
          "height": 36
        },
        "id": "XlIDF2rE05qD",
        "outputId": "4923cb87-76a8-4afd-a9c9-da23fe0bb06f"
      },
      "outputs": [
        {
          "output_type": "execute_result",
          "data": {
            "text/plain": [
              "'2023-10-31 00:58:58'"
            ],
            "application/vnd.google.colaboratory.intrinsic+json": {
              "type": "string"
            }
          },
          "metadata": {},
          "execution_count": 101
        }
      ],
      "source": [
        "import datetime\n",
        "\n",
        "def tell_time(sentence):\n",
        "    for word in sentence.split():\n",
        "        # your code here\n",
        "            currentdt = datetime.datetime.now()\n",
        "            return currentdt.strftime(\"%Y-%m-%d %H:%M:%S\")\n",
        "\n",
        "tell_time('time')"
      ]
    },
    {
      "cell_type": "markdown",
      "metadata": {
        "id": "AnI7l3Bb05qD"
      },
      "source": [
        "### Test your chatbot now!"
      ]
    },
    {
      "cell_type": "code",
      "execution_count": null,
      "metadata": {
        "colab": {
          "base_uri": "https://localhost:8080/"
        },
        "id": "HJTOjSFx05qD",
        "outputId": "5bb4d1d8-f17d-4f2f-92e5-2f445201ffb9"
      },
      "outputs": [
        {
          "metadata": {
            "tags": null
          },
          "name": "stdout",
          "output_type": "stream",
          "text": [
            "ROBO: My name is Robo. I will answer your queries about Chatbots. If you want to exit, type Bye!\n",
            "ROBO: how old is ai?\n",
            "ROBO: I am sorry! I don't understand you\n",
            "ROBO: What do chatbots do?\n",
            "ROBO: an example of a gpt chatbot is chatgpt.\n"
          ]
        }
      ],
      "source": [
        "flag=True\n",
        "print(\"ROBO: My name is Robo. I will answer your queries about Chatbots. If you want to exit, type Bye!\")\n",
        "while(flag==True):\n",
        "    user_response = input()\n",
        "    user_response=user_response.lower()\n",
        "    if(user_response!='bye'):\n",
        "        if(user_response=='thanks' or user_response=='thank you' ):\n",
        "            flag=False\n",
        "            print(\"ROBO: You are welcome..\")\n",
        "        else:\n",
        "            if(greeting(user_response)!=None):\n",
        "                print(\"ROBO: \"+greeting(user_response))\n",
        "                # Uncomment the statement below once you have written your tell_time fuction.\n",
        "#             if(tell_time(user_response)!=None):\n",
        "#                 print(\"ROBO: \"+tell_time(user_response))\n",
        "            else:\n",
        "                print(\"ROBO: \",end=\"\")\n",
        "                print(response(user_response))\n",
        "                tokens.remove(user_response)\n",
        "    else:\n",
        "        flag=False\n",
        "        print(\"ROBO: Bye! take care..\")"
      ]
    },
    {
      "cell_type": "markdown",
      "metadata": {
        "id": "arikG2Ho05qE"
      },
      "source": [
        "Now you have a very basic chatbot that can be trained on data you have chosen. Improve your chatbot in the following ways:\n",
        "1. increase the number of greeting inputs and greeting responses\n",
        "2. increase the number of words to say goodbye i.e. see you!, quit, exit\n",
        "3. train your chatbot on a different topic, or add to your chatbot's knowledge base by adding more data"
      ]
    },
    {
      "cell_type": "code",
      "execution_count": null,
      "metadata": {
        "id": "kiZRafq705qE"
      },
      "outputs": [],
      "source": [
        "\n"
      ]
    }
  ],
  "metadata": {
    "kernelspec": {
      "display_name": "Python 3 (ipykernel)",
      "language": "python",
      "name": "python3"
    },
    "language_info": {
      "codemirror_mode": {
        "name": "ipython",
        "version": 3
      },
      "file_extension": ".py",
      "mimetype": "text/x-python",
      "name": "python",
      "nbconvert_exporter": "python",
      "pygments_lexer": "ipython3",
      "version": "3.9.12"
    },
    "colab": {
      "provenance": []
    }
  },
  "nbformat": 4,
  "nbformat_minor": 0
}